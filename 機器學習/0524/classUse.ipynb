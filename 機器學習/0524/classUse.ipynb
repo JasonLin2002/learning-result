{
 "cells": [
  {
   "cell_type": "code",
   "execution_count": null,
   "metadata": {},
   "outputs": [],
   "source": [
    "# load dataset\n",
    "import pandas as pd\n",
    "\n",
    "loan = pd.read_csv('./loan_data.csv')\n",
    "loan.describe()"
   ]
  }
 ],
 "metadata": {
  "kernelspec": {
   "display_name": "MachineLearn",
   "language": "python",
   "name": "python3"
  },
  "language_info": {
   "name": "python",
   "version": "3.11.8"
  }
 },
 "nbformat": 4,
 "nbformat_minor": 2
}

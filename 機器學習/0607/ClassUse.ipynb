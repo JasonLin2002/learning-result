{
 "cells": [
  {
   "cell_type": "code",
   "execution_count": 1,
   "metadata": {
    "metadata": {}
   },
   "outputs": [
    {
     "data": {
      "text/plain": [
       "(['sepal length (cm)',\n",
       "  'sepal width (cm)',\n",
       "  'petal length (cm)',\n",
       "  'petal width (cm)'],\n",
       " array(['setosa', 'versicolor', 'virginica'], dtype='<U10'))"
      ]
     },
     "execution_count": 1,
     "metadata": {},
     "output_type": "execute_result"
    }
   ],
   "source": [
    "from sklearn import datasets  # 從sklearn匯入datasets\n",
    "\n",
    "iris = datasets.load_iris()  # 載入iris資料集\n",
    "iris.feature_names, iris.target_names  # 顯示資料集的特徵名稱和目標名稱"
   ]
  },
  {
   "cell_type": "code",
   "execution_count": 2,
   "metadata": {
    "metadata": {}
   },
   "outputs": [
    {
     "data": {
      "text/plain": [
       "((120, 4), (30, 4), (120,), (30,))"
      ]
     },
     "execution_count": 2,
     "metadata": {},
     "output_type": "execute_result"
    }
   ],
   "source": [
    "from sklearn import datasets  # 從sklearn匯入datasets\n",
    "from sklearn.model_selection import train_test_split  # 從sklearn.model_selection匯入train_test_split\n",
    "\n",
    "iris = datasets.load_iris()  # 載入iris資料集\n",
    "X_train, X_test, y_train, y_test = train_test_split(iris.data, iris.target, test_size=0.2, random_state=42)  # 分割資料集為訓練集和測試集\n",
    "X_train.shape, X_test.shape, y_train.shape, y_test.shape  # 顯示訓練集和測試集的形狀"
   ]
  },
  {
   "cell_type": "code",
   "execution_count": 3,
   "metadata": {
    "metadata": {}
   },
   "outputs": [
    {
     "data": {
      "text/plain": [
       "{'copy': True, 'with_mean': True, 'with_std': True}"
      ]
     },
     "execution_count": 3,
     "metadata": {},
     "output_type": "execute_result"
    }
   ],
   "source": [
    "from sklearn import datasets  # 從sklearn匯入datasets\n",
    "from sklearn.model_selection import train_test_split  # 從sklearn.model_selection匯入train_test_split\n",
    "from sklearn.preprocessing import StandardScaler  # 從sklearn.preprocessing匯入StandardScaler\n",
    "\n",
    "iris = datasets.load_iris()  # 載入iris資料集\n",
    "X_train, X_test, y_train, y_test = train_test_split(iris.data, iris.target, test_size=0.2, random_state=42)  # 分割資料集為訓練集和測試集\n",
    "sc = StandardScaler()  # 創建StandardScaler物件\n",
    "sc.get_params()  # 獲取StandardScaler的參數"
   ]
  }
 ],
 "metadata": {
  "kernelspec": {
   "display_name": "MachineLearn",
   "language": "python",
   "name": "python3"
  },
  "language_info": {
   "codemirror_mode": {
    "name": "ipython",
    "version": 3
   },
   "file_extension": ".py",
   "mimetype": "text/x-python",
   "name": "python",
   "nbconvert_exporter": "python",
   "pygments_lexer": "ipython3",
   "version": "3.11.9"
  }
 },
 "nbformat": 4,
 "nbformat_minor": 2
}

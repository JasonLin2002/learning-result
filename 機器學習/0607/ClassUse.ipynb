{
 "cells": [
  {
   "cell_type": "code",
   "execution_count": 1,
   "metadata": {
    "metadata": {}
   },
   "outputs": [
    {
     "data": {
      "text/plain": [
       "(['sepal length (cm)',\n",
       "  'sepal width (cm)',\n",
       "  'petal length (cm)',\n",
       "  'petal width (cm)'],\n",
       " array(['setosa', 'versicolor', 'virginica'], dtype='<U10'))"
      ]
     },
     "execution_count": 1,
     "metadata": {},
     "output_type": "execute_result"
    }
   ],
   "source": [
    "from sklearn import datasets  # 從sklearn匯入datasets\n",
    "\n",
    "iris = datasets.load_iris()  # 載入iris資料集\n",
    "iris.feature_names, iris.target_names  # 顯示資料集的特徵名稱和目標名稱"
   ]
  },
  {
   "cell_type": "code",
   "execution_count": 2,
   "metadata": {
    "metadata": {}
   },
   "outputs": [
    {
     "data": {
      "text/plain": [
       "((120, 4), (30, 4), (120,), (30,))"
      ]
     },
     "execution_count": 2,
     "metadata": {},
     "output_type": "execute_result"
    }
   ],
   "source": [
    "from sklearn import datasets  # 從sklearn匯入datasets\n",
    "from sklearn.model_selection import train_test_split  # 從sklearn.model_selection匯入train_test_split\n",
    "\n",
    "iris = datasets.load_iris()  # 載入iris資料集\n",
    "X_train, X_test, y_train, y_test = train_test_split(iris.data, iris.target, test_size=0.2, random_state=42)  # 分割資料集為訓練集和測試集\n",
    "X_train.shape, X_test.shape, y_train.shape, y_test.shape  # 顯示訓練集和測試集的形狀"
   ]
  },
  {
   "cell_type": "code",
   "execution_count": 3,
   "metadata": {
    "metadata": {}
   },
   "outputs": [
    {
     "data": {
      "text/plain": [
       "{'copy': True, 'with_mean': True, 'with_std': True}"
      ]
     },
     "execution_count": 3,
     "metadata": {},
     "output_type": "execute_result"
    }
   ],
   "source": [
    "from sklearn import datasets  # 從sklearn匯入datasets\n",
    "from sklearn.model_selection import train_test_split  # 從sklearn.model_selection匯入train_test_split\n",
    "from sklearn.preprocessing import StandardScaler  # 從sklearn.preprocessing匯入StandardScaler\n",
    "\n",
    "iris = datasets.load_iris()  # 載入iris資料集\n",
    "X_train, X_test, y_train, y_test = train_test_split(iris.data, iris.target, test_size=0.2, random_state=42)  # 分割資料集為訓練集和測試集\n",
    "sc = StandardScaler()  # 創建StandardScaler物件\n",
    "sc.get_params()  # 獲取StandardScaler的參數"
   ]
  },
  {
   "cell_type": "code",
   "execution_count": 4,
   "metadata": {
    "metadata": {}
   },
   "outputs": [
    {
     "data": {
      "text/plain": [
       "(array([[-1.47393679,  1.20365799, -1.56253475, -1.31260282],\n",
       "        [-0.13307079,  2.99237573, -1.27600637, -1.04563275],\n",
       "        [ 1.08589829,  0.08570939,  0.38585821,  0.28921757],\n",
       "        [-1.23014297,  0.75647855, -1.2187007 , -1.31260282],\n",
       "        [-1.7177306 ,  0.30929911, -1.39061772, -1.31260282]]),\n",
       " array([[ 0.35451684, -0.58505976,  0.55777524,  0.02224751],\n",
       "        [-0.13307079,  1.65083742, -1.16139502, -1.17911778],\n",
       "        [ 2.30486738, -1.0322392 ,  1.8185001 ,  1.49058286],\n",
       "        [ 0.23261993, -0.36147005,  0.44316389,  0.4227026 ],\n",
       "        [ 1.2077952 , -0.58505976,  0.61508092,  0.28921757]]))"
      ]
     },
     "execution_count": 4,
     "metadata": {},
     "output_type": "execute_result"
    }
   ],
   "source": [
    "from sklearn import datasets  # 從sklearn匯入datasets\n",
    "from sklearn.model_selection import train_test_split  # 從sklearn.model_selection匯入train_test_split\n",
    "from sklearn.preprocessing import StandardScaler  # 從sklearn.preprocessing匯入StandardScaler\n",
    "\n",
    "iris = datasets.load_iris()  # 載入iris資料集\n",
    "X_train, X_test, y_train, y_test = train_test_split(iris.data, iris.target, test_size=0.2, random_state=42)  # 分割資料集為訓練集和測試集\n",
    "sc = StandardScaler()  # 創建StandardScaler物件\n",
    "sc.fit(X_train)  # 用訓練資料來擬合標準化模型\n",
    "X_train_std = sc.transform(X_train)  # 將訓練資料進行標準化\n",
    "X_test_std = sc.transform(X_test)  # 將測試資料進行標準化\n",
    "X_train_std[:5], X_test_std[:5]  # 顯示標準化後的前五筆訓練資料和測試資料"
   ]
  },
  {
   "cell_type": "code",
   "execution_count": 5,
   "metadata": {
    "metadata": {}
   },
   "outputs": [
    {
     "data": {
      "text/plain": [
       "{'algorithm': 'auto',\n",
       " 'leaf_size': 30,\n",
       " 'metric': 'minkowski',\n",
       " 'metric_params': None,\n",
       " 'n_jobs': None,\n",
       " 'n_neighbors': 5,\n",
       " 'p': 2,\n",
       " 'weights': 'uniform'}"
      ]
     },
     "execution_count": 5,
     "metadata": {},
     "output_type": "execute_result"
    }
   ],
   "source": [
    "from sklearn import datasets  # 從sklearn匯入datasets\n",
    "from sklearn.model_selection import train_test_split  # 從sklearn.model_selection匯入train_test_split\n",
    "from sklearn.preprocessing import StandardScaler  # 從sklearn.preprocessing匯入StandardScaler\n",
    "from sklearn.neighbors import KNeighborsClassifier  # 從sklearn.neighbors匯入KNeighborsClassifier\n",
    "\n",
    "iris = datasets.load_iris()  # 載入iris資料集\n",
    "X_train, X_test, y_train, y_test = train_test_split(iris.data, iris.target, test_size=0.2, random_state=42)  # 分割資料集為訓練集和測試集\n",
    "sc = StandardScaler()  # 創建StandardScaler物件\n",
    "sc.fit(X_train)  # 用訓練資料來擬合標準化模型\n",
    "X_train_std = sc.transform(X_train)  # 將訓練資料進行標準化\n",
    "X_test_std = sc.transform(X_test)  # 將測試資料進行標準化\n",
    "\n",
    "knn = KNeighborsClassifier(n_neighbors=5, p=2, metric='minkowski', algorithm='auto')  # 創建KNeighborsClassifier物件\n",
    "knn.get_params()  # 獲取KNeighborsClassifier的參數"
   ]
  },
  {
   "cell_type": "code",
   "execution_count": 6,
   "metadata": {
    "metadata": {}
   },
   "outputs": [
    {
     "name": "stdout",
     "output_type": "stream",
     "text": [
      "Train accuracy: 0.95\n",
      "Test accuracy: 1.00\n"
     ]
    }
   ],
   "source": [
    "from sklearn import datasets  # 從sklearn匯入datasets\n",
    "from sklearn.model_selection import train_test_split  # 從sklearn.model_selection匯入train_test_split\n",
    "from sklearn.preprocessing import StandardScaler  # 從sklearn.preprocessing匯入StandardScaler\n",
    "from sklearn.neighbors import KNeighborsClassifier  # 從sklearn.neighbors匯入KNeighborsClassifier\n",
    "\n",
    "iris = datasets.load_iris()  # 載入iris資料集\n",
    "X_train, X_test, y_train, y_test = train_test_split(iris.data, iris.target, test_size=0.3, random_state=42)  # 分割資料集為訓練集和測試集\n",
    "sc = StandardScaler()  # 創建StandardScaler物件\n",
    "sc.fit(X_train)  # 用訓練資料來擬合標準化模型\n",
    "X_train_std = sc.transform(X_train)  # 將訓練資料進行標準化\n",
    "X_test_std = sc.transform(X_test)  # 將測試資料進行標準化\n",
    "\n",
    "knn = KNeighborsClassifier(n_neighbors=5, p=2, metric='minkowski', algorithm='auto')  # 創建KNeighborsClassifier物件\n",
    "knn.fit(X_train_std, y_train)  # 用標準化後的訓練資料來訓練KNN模型\n",
    "\n",
    "print('Train accuracy: %.2f' % knn.score(X_train_std, y_train))  # 輸出訓練集準確度\n",
    "print('Test accuracy: %.2f' % knn.score(X_test_std, y_test))  # 輸出測試集準確度"
   ]
  },
  {
   "cell_type": "code",
   "execution_count": 7,
   "metadata": {
    "metadata": {}
   },
   "outputs": [
    {
     "name": "stdout",
     "output_type": "stream",
     "text": [
      "最佳的k值為: 14\n",
      "訓練集準確率: 0.93\n",
      "測試集準確率: 1.00\n",
      "              precision    recall  f1-score   support\n",
      "\n",
      "           0       1.00      1.00      1.00        19\n",
      "           1       1.00      1.00      1.00        13\n",
      "           2       1.00      1.00      1.00        13\n",
      "\n",
      "    accuracy                           1.00        45\n",
      "   macro avg       1.00      1.00      1.00        45\n",
      "weighted avg       1.00      1.00      1.00        45\n",
      "\n",
      "[[19  0  0]\n",
      " [ 0 13  0]\n",
      " [ 0  0 13]]\n"
     ]
    }
   ],
   "source": [
    "# 從sklearn中匯入所需模組\n",
    "from sklearn import datasets\n",
    "from sklearn.model_selection import train_test_split, cross_val_score\n",
    "from sklearn.preprocessing import StandardScaler\n",
    "from sklearn.neighbors import KNeighborsClassifier\n",
    "import numpy as np\n",
    "\n",
    "# 載入iris數據集\n",
    "iris = datasets.load_iris()\n",
    "X_train, X_test, y_train, y_test = train_test_split(iris.data, iris.target, test_size=0.3, random_state=42)\n",
    "\n",
    "# 標準化數據\n",
    "sc = StandardScaler()\n",
    "sc.fit(X_train)  # 使用訓練數據計算標準化參數\n",
    "X_train_std = sc.transform(X_train)  # 標準化訓練數據\n",
    "X_test_std = sc.transform(X_test)  # 標準化測試數據\n",
    "\n",
    "# 定義KNN模型\n",
    "knn = KNeighborsClassifier(n_neighbors=5, p=2, metric='minkowski', algorithm='auto')\n",
    "\n",
    "# 使用交叉驗證選擇最佳的k值\n",
    "k_range = range(1, 31)\n",
    "k_scores = []\n",
    "for k in k_range:\n",
    "    knn = KNeighborsClassifier(n_neighbors=k)\n",
    "    scores = cross_val_score(knn, X_train_std, y_train, cv=10, scoring='accuracy')  # 10折交叉驗證\n",
    "    k_scores.append(scores.mean())\n",
    "\n",
    "# 找到最佳的k值\n",
    "best_k = k_range[np.argmax(k_scores)]\n",
    "print(f'最佳的k值為: {best_k}')\n",
    "\n",
    "# 使用最佳的k值訓練KNN模型\n",
    "knn = KNeighborsClassifier(n_neighbors=best_k)\n",
    "knn.fit(X_train_std, y_train)\n",
    "\n",
    "# 評估模型性能\n",
    "train_accuracy = knn.score(X_train_std, y_train)  # 訓練集準確率\n",
    "test_accuracy = knn.score(X_test_std, y_test)  # 測試集準確率\n",
    "print(f'訓練集準確率: {train_accuracy:.2f}')\n",
    "print(f'測試集準確率: {test_accuracy:.2f}')\n",
    "\n",
    "# 顯示其他性能度量標準\n",
    "from sklearn.metrics import classification_report, confusion_matrix\n",
    "\n",
    "y_pred = knn.predict(X_test_std)\n",
    "print(classification_report(y_test, y_pred))\n",
    "print(confusion_matrix(y_test, y_pred))"
   ]
  },
  {
   "cell_type": "code",
   "execution_count": 8,
   "metadata": {
    "metadata": {}
   },
   "outputs": [
    {
     "name": "stdout",
     "output_type": "stream",
     "text": [
      "Train accuracy: 0.95\n",
      "Test accuracy: 1.00\n",
      "              precision    recall  f1-score   support\n",
      "\n",
      "           0       1.00      1.00      1.00        19\n",
      "           1       1.00      1.00      1.00        13\n",
      "           2       1.00      1.00      1.00        13\n",
      "\n",
      "    accuracy                           1.00        45\n",
      "   macro avg       1.00      1.00      1.00        45\n",
      "weighted avg       1.00      1.00      1.00        45\n",
      "\n",
      "[[19  0  0]\n",
      " [ 0 13  0]\n",
      " [ 0  0 13]]\n"
     ]
    },
    {
     "data": {
      "text/plain": [
       "<sklearn.metrics._plot.confusion_matrix.ConfusionMatrixDisplay at 0x1a59beed590>"
      ]
     },
     "execution_count": 8,
     "metadata": {},
     "output_type": "execute_result"
    },
    {
     "data": {
      "image/png": "[encoded data removed]",
      "text/plain": [
       "<Figure size 640x480 with 2 Axes>"
      ]
     },
     "metadata": {},
     "output_type": "display_data"
    }
   ],
   "source": [
    "from sklearn import datasets  # 從sklearn匯入datasets\n",
    "from sklearn.model_selection import train_test_split  # 從sklearn.model_selection匯入train_test_split\n",
    "from sklearn.preprocessing import StandardScaler  # 從sklearn.preprocessing匯入StandardScaler\n",
    "from sklearn.neighbors import KNeighborsClassifier  # 從sklearn.neighbors匯入KNeighborsClassifier\n",
    "from sklearn.metrics import confusion_matrix, classification_report, ConfusionMatrixDisplay  # 從sklearn.metrics匯入confusion_matrix、classification_report和ConfusionMatrixDisplay\n",
    "\n",
    "iris = datasets.load_iris()  # 載入iris資料集\n",
    "X_train, X_test, y_train, y_test = train_test_split(iris.data, iris.target, test_size=0.3, random_state=42)  # 分割資料集為訓練集和測試集\n",
    "sc = StandardScaler()  # 創建StandardScaler物件\n",
    "sc.fit(X_train)  # 用訓練資料來擬合標準化模型\n",
    "X_train_std = sc.transform(X_train)  # 將訓練資料進行標準化\n",
    "X_test_std = sc.transform(X_test)  # 將測試資料進行標準化\n",
    "\n",
    "knn = KNeighborsClassifier(n_neighbors=5, p=2, metric='minkowski', algorithm='auto')  # 創建KNeighborsClassifier物件\n",
    "knn.fit(X_train_std, y_train)  # 用標準化後的訓練資料來訓練KNN模型\n",
    "\n",
    "print('Train accuracy: %.2f' % knn.score(X_train_std, y_train))  # 輸出訓練集準確度\n",
    "print('Test accuracy: %.2f' % knn.score(X_test_std, y_test))  # 輸出測試集準確度\n",
    "\n",
    "pred = knn.predict(X_test_std)  # 用標準化後的測試資料進行預測\n",
    "print(classification_report(y_test, pred))  # 輸出分類報告\n",
    "cm = confusion_matrix(y_test, pred)  # 計算混淆矩陣\n",
    "print(cm)  # 輸出混淆矩陣\n",
    "ConfusionMatrixDisplay(cm, display_labels=iris.target_names).plot()  # 顯示混淆矩陣"
   ]
  },
  {
   "cell_type": "code",
   "execution_count": 9,
   "metadata": {
    "metadata": {}
   },
   "outputs": [
    {
     "name": "stdout",
     "output_type": "stream",
     "text": [
      "Fitting 10 folds for each of 432 candidates, totalling 4320 fits\n",
      "Train accuracy: 1.00\n",
      "Test accuracy: 1.00\n",
      "              precision    recall  f1-score   support\n",
      "\n",
      "           0       1.00      1.00      1.00        19\n",
      "           1       1.00      1.00      1.00        13\n",
      "           2       1.00      1.00      1.00        13\n",
      "\n",
      "    accuracy                           1.00        45\n",
      "   macro avg       1.00      1.00      1.00        45\n",
      "weighted avg       1.00      1.00      1.00        45\n",
      "\n",
      "[[19  0  0]\n",
      " [ 0 13  0]\n",
      " [ 0  0 13]]\n",
      "kneighborsclassifier__algorithm auto\n",
      "kneighborsclassifier__metric minkowski\n",
      "kneighborsclassifier__n_neighbors 7\n",
      "kneighborsclassifier__p 1\n",
      "kneighborsclassifier__weights distance\n"
     ]
    },
    {
     "data": {
      "text/plain": [
       "<sklearn.metrics._plot.confusion_matrix.ConfusionMatrixDisplay at 0x1a59ce97bd0>"
      ]
     },
     "execution_count": 9,
     "metadata": {},
     "output_type": "execute_result"
    },
    {
     "data": {
      "image/png": "[encoded data removed]",
      "text/plain": [
       "<Figure size 640x480 with 2 Axes>"
      ]
     },
     "metadata": {},
     "output_type": "display_data"
    }
   ],
   "source": [
    "from sklearn import datasets  # 從sklearn匯入datasets\n",
    "from sklearn.model_selection import train_test_split, GridSearchCV  # 從sklearn.model_selection匯入train_test_split和GridSearchCV\n",
    "from sklearn.preprocessing import StandardScaler  # 從sklearn.preprocessing匯入StandardScaler\n",
    "from sklearn.neighbors import KNeighborsClassifier  # 從sklearn.neighbors匯入KNeighborsClassifier\n",
    "from sklearn.metrics import confusion_matrix, classification_report, ConfusionMatrixDisplay  # 從sklearn.metrics匯入confusion_matrix、classification_report和ConfusionMatrixDisplay\n",
    "from sklearn.pipeline import make_pipeline  # 從sklearn.pipeline匯入make_pipeline\n",
    "\n",
    "iris = datasets.load_iris()  # 載入iris資料集\n",
    "X_train, X_test, y_train, y_test = train_test_split(iris.data, iris.target, test_size=0.3, random_state=42)  # 分割資料集為訓練集和測試集\n",
    "\n",
    "pipeline = make_pipeline(StandardScaler(), KNeighborsClassifier())  # 建立包含StandardScaler和KNeighborsClassifier的管道\n",
    "\n",
    "param_grid = {  # 設定網格搜索的參數\n",
    "    'kneighborsclassifier__n_neighbors': [2, 3, 4, 5, 6, 7, 8, 9, 10],\n",
    "    'kneighborsclassifier__p': [1, 2, 3],\n",
    "    'kneighborsclassifier__weights': ['uniform', 'distance'],\n",
    "    'kneighborsclassifier__metric': ['minkowski', 'manhattan'],\n",
    "    'kneighborsclassifier__algorithm': ['auto', 'ball_tree', 'kd_tree', 'brute']\n",
    "}\n",
    "\n",
    "gs = GridSearchCV(pipeline, param_grid, scoring='accuracy', cv=10, verbose=1, n_jobs=-1)  # 建立網格搜索物件\n",
    "\n",
    "sc = StandardScaler()  # 創建StandardScaler物件\n",
    "sc.fit(X_train)  # 用訓練資料來擬合標準化模型\n",
    "X_train_std = sc.transform(X_train)  # 將訓練資料進行標準化\n",
    "X_test_std = sc.transform(X_test)  # 將測試資料進行標準化\n",
    "\n",
    "gs.fit(X_train_std, y_train)  # 用標準化後的訓練資料來進行網格搜索\n",
    "print('Train accuracy: %.2f' % gs.score(X_train_std, y_train))  # 輸出訓練集準確度\n",
    "print('Test accuracy: %.2f' % gs.score(X_test_std, y_test))  # 輸出測試集準確度\n",
    "\n",
    "pred = gs.predict(X_test_std)  # 用標準化後的測試資料進行預測\n",
    "print(classification_report(y_test, pred))  # 輸出分類報告\n",
    "cm = confusion_matrix(y_test, pred)  # 計算混淆矩陣\n",
    "print(cm)  # 輸出混淆矩陣\n",
    "\n",
    "for item in gs.best_params_:  # 顯示最佳參數\n",
    "    print(item, gs.best_params_[item])\n",
    "\n",
    "ConfusionMatrixDisplay(cm, display_labels=iris.target_names).plot()  # 顯示混淆矩陣"
   ]
  }
 ],
 "metadata": {
  "kernelspec": {
   "display_name": "MachineLearn",
   "language": "python",
   "name": "python3"
  },
  "language_info": {
   "codemirror_mode": {
    "name": "ipython",
    "version": 3
   },
   "file_extension": ".py",
   "mimetype": "text/x-python",
   "name": "python",
   "nbconvert_exporter": "python",
   "pygments_lexer": "ipython3",
   "version": "3.11.9"
  }
 },
 "nbformat": 4,
 "nbformat_minor": 2
}

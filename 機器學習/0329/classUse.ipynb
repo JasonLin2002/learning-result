{
 "cells": [
  {
   "cell_type": "code",
   "execution_count": 4,
   "metadata": {},
   "outputs": [
    {
     "name": "stdout",
     "output_type": "stream",
     "text": [
      "na count: Make        1\n",
      "Colour      1\n",
      "Odometer    4\n",
      "Doors       1\n",
      "Price       2\n",
      "dtype: int64\n",
      "     Make Colour  Odometer  Doors    Price\n",
      "0  Toyota  White  150043.0    4.0   $4,000\n",
      "1   Honda    Red   87899.0    4.0   $5,000\n",
      "2  Toyota   Blue       NaN    3.0   $7,000\n",
      "3     BMW  Black   11179.0    5.0  $22,000\n",
      "4  Nissan  White  213095.0    4.0   $3,500\n",
      "5  Toyota  Green       NaN    4.0   $4,500\n",
      "6   Honda    NaN       NaN    4.0   $7,500\n",
      "7   Honda   Blue       NaN    4.0      NaN\n",
      "8  Toyota  White   60000.0    NaN      NaN\n",
      "9     NaN  White   31600.0    4.0   $9,700\n",
      "--------------- \n",
      "      Make Colour  Odometer  Doors    Price\n",
      "0  Toyota  White  150043.0    4.0   $4,000\n",
      "1   Honda    Red   87899.0    4.0   $5,000\n",
      "3     BMW  Black   11179.0    5.0  $22,000\n",
      "4  Nissan  White  213095.0    4.0   $3,500\n"
     ]
    }
   ],
   "source": [
    "import pandas as pd\n",
    "\n",
    "carSalesDF = pd.read_csv('./car-sales-missing-data.csv')\n",
    "print(f\"na count: {carSalesDF.isna().sum()}\")\n",
    "print(carSalesDF)\n",
    "carSalesDF.dropna(inplace=True)\n",
    "print(\"-\" * 15, \"\\n\", carSalesDF)\n"
   ]
  },
  {
   "cell_type": "code",
   "execution_count": 6,
   "metadata": {},
   "outputs": [
    {
     "name": "stdout",
     "output_type": "stream",
     "text": [
      "     Make Colour  Odometer (KM)  Doors       Price\n",
      "0  Toyota  White         150043      4   $4,000.00\n",
      "1   Honda    Red          87899      4   $5,000.00\n",
      "2  Toyota   Blue          32549      3   $7,000.00\n",
      "3     BMW  Black          11179      5  $22,000.00\n",
      "4  Nissan  White         213095      4   $3,500.00\n",
      "5  Toyota  Green          99213      4   $4,500.00\n",
      "6   Honda   Blue          45698      4   $7,500.00\n",
      "7   Honda   Blue          54738      4   $7,000.00\n",
      "8  Toyota  White          60000      4   $6,250.00\n",
      "9  Nissan  White          31600      4   $9,700.00\n",
      "--------------- \n",
      "      Make Colour  Odometer (KM)  Doors       Price  seats\n",
      "0  Toyota  White         150043      4   $4,000.00    5.0\n",
      "1   Honda    Red          87899      4   $5,000.00    5.0\n",
      "2  Toyota   Blue          32549      3   $7,000.00    5.0\n",
      "3     BMW  Black          11179      5  $22,000.00    5.0\n",
      "4  Nissan  White         213095      4   $3,500.00    5.0\n",
      "5  Toyota  Green          99213      4   $4,500.00    NaN\n",
      "6   Honda   Blue          45698      4   $7,500.00    NaN\n",
      "7   Honda   Blue          54738      4   $7,000.00    NaN\n",
      "8  Toyota  White          60000      4   $6,250.00    NaN\n",
      "9  Nissan  White          31600      4   $9,700.00    NaN\n"
     ]
    }
   ],
   "source": [
    "import pandas as pd\n",
    "\n",
    "carSalesDF = pd.read_csv('./car-sales.csv')\n",
    "print(carSalesDF)\n",
    "carSalesDF['seats'] = pd.Series([5, 5, 5, 5, 5])\n",
    "print(\"-\" * 15, \"\\n\", carSalesDF)"
   ]
  },
  {
   "cell_type": "code",
   "execution_count": 7,
   "metadata": {},
   "outputs": [
    {
     "ename": "ValueError",
     "evalue": "Length of values (5) does not match length of index (10)",
     "output_type": "error",
     "traceback": [
      "\u001b[1;31m---------------------------------------------------------------------------\u001b[0m",
      "\u001b[1;31mValueError\u001b[0m                                Traceback (most recent call last)",
      "Cell \u001b[1;32mIn[7], line 10\u001b[0m\n\u001b[0;32m      8\u001b[0m carSalesDF\u001b[38;5;241m.\u001b[39mfillna({\u001b[38;5;124m'\u001b[39m\u001b[38;5;124mseats\u001b[39m\u001b[38;5;124m'\u001b[39m: \u001b[38;5;241m5\u001b[39m}, inplace\u001b[38;5;241m=\u001b[39m\u001b[38;5;28;01mTrue\u001b[39;00m)\n\u001b[0;32m      9\u001b[0m fuel_per_100KM \u001b[38;5;241m=\u001b[39m [\u001b[38;5;241m7.5\u001b[39m, \u001b[38;5;241m9.2\u001b[39m, \u001b[38;5;241m5.0\u001b[39m, \u001b[38;5;241m9.6\u001b[39m, \u001b[38;5;241m8.7\u001b[39m]\n\u001b[1;32m---> 10\u001b[0m carSalesDF[\u001b[38;5;124m'\u001b[39m\u001b[38;5;124mFuel per 100KM\u001b[39m\u001b[38;5;124m'\u001b[39m] \u001b[38;5;241m=\u001b[39m fuel_per_100KM\n\u001b[0;32m     11\u001b[0m \u001b[38;5;28mprint\u001b[39m(\u001b[38;5;124m\"\u001b[39m\u001b[38;5;124m-\u001b[39m\u001b[38;5;124m\"\u001b[39m \u001b[38;5;241m*\u001b[39m \u001b[38;5;241m15\u001b[39m, \u001b[38;5;124m\"\u001b[39m\u001b[38;5;130;01m\\n\u001b[39;00m\u001b[38;5;124m\"\u001b[39m, carSalesDF)\n",
      "File \u001b[1;32mc:\\Users\\User\\anaconda3\\Lib\\site-packages\\pandas\\core\\frame.py:3950\u001b[0m, in \u001b[0;36mDataFrame.__setitem__\u001b[1;34m(self, key, value)\u001b[0m\n\u001b[0;32m   3947\u001b[0m     \u001b[38;5;28mself\u001b[39m\u001b[38;5;241m.\u001b[39m_setitem_array([key], value)\n\u001b[0;32m   3948\u001b[0m \u001b[38;5;28;01melse\u001b[39;00m:\n\u001b[0;32m   3949\u001b[0m     \u001b[38;5;66;03m# set column\u001b[39;00m\n\u001b[1;32m-> 3950\u001b[0m     \u001b[38;5;28mself\u001b[39m\u001b[38;5;241m.\u001b[39m_set_item(key, value)\n",
      "File \u001b[1;32mc:\\Users\\User\\anaconda3\\Lib\\site-packages\\pandas\\core\\frame.py:4143\u001b[0m, in \u001b[0;36mDataFrame._set_item\u001b[1;34m(self, key, value)\u001b[0m\n\u001b[0;32m   4133\u001b[0m \u001b[38;5;28;01mdef\u001b[39;00m \u001b[38;5;21m_set_item\u001b[39m(\u001b[38;5;28mself\u001b[39m, key, value) \u001b[38;5;241m-\u001b[39m\u001b[38;5;241m>\u001b[39m \u001b[38;5;28;01mNone\u001b[39;00m:\n\u001b[0;32m   4134\u001b[0m \u001b[38;5;250m    \u001b[39m\u001b[38;5;124;03m\"\"\"\u001b[39;00m\n\u001b[0;32m   4135\u001b[0m \u001b[38;5;124;03m    Add series to DataFrame in specified column.\u001b[39;00m\n\u001b[0;32m   4136\u001b[0m \n\u001b[1;32m   (...)\u001b[0m\n\u001b[0;32m   4141\u001b[0m \u001b[38;5;124;03m    ensure homogeneity.\u001b[39;00m\n\u001b[0;32m   4142\u001b[0m \u001b[38;5;124;03m    \"\"\"\u001b[39;00m\n\u001b[1;32m-> 4143\u001b[0m     value \u001b[38;5;241m=\u001b[39m \u001b[38;5;28mself\u001b[39m\u001b[38;5;241m.\u001b[39m_sanitize_column(value)\n\u001b[0;32m   4145\u001b[0m     \u001b[38;5;28;01mif\u001b[39;00m (\n\u001b[0;32m   4146\u001b[0m         key \u001b[38;5;129;01min\u001b[39;00m \u001b[38;5;28mself\u001b[39m\u001b[38;5;241m.\u001b[39mcolumns\n\u001b[0;32m   4147\u001b[0m         \u001b[38;5;129;01mand\u001b[39;00m value\u001b[38;5;241m.\u001b[39mndim \u001b[38;5;241m==\u001b[39m \u001b[38;5;241m1\u001b[39m\n\u001b[0;32m   4148\u001b[0m         \u001b[38;5;129;01mand\u001b[39;00m \u001b[38;5;129;01mnot\u001b[39;00m is_extension_array_dtype(value)\n\u001b[0;32m   4149\u001b[0m     ):\n\u001b[0;32m   4150\u001b[0m         \u001b[38;5;66;03m# broadcast across multiple columns if necessary\u001b[39;00m\n\u001b[0;32m   4151\u001b[0m         \u001b[38;5;28;01mif\u001b[39;00m \u001b[38;5;129;01mnot\u001b[39;00m \u001b[38;5;28mself\u001b[39m\u001b[38;5;241m.\u001b[39mcolumns\u001b[38;5;241m.\u001b[39mis_unique \u001b[38;5;129;01mor\u001b[39;00m \u001b[38;5;28misinstance\u001b[39m(\u001b[38;5;28mself\u001b[39m\u001b[38;5;241m.\u001b[39mcolumns, MultiIndex):\n",
      "File \u001b[1;32mc:\\Users\\User\\anaconda3\\Lib\\site-packages\\pandas\\core\\frame.py:4870\u001b[0m, in \u001b[0;36mDataFrame._sanitize_column\u001b[1;34m(self, value)\u001b[0m\n\u001b[0;32m   4867\u001b[0m     \u001b[38;5;28;01mreturn\u001b[39;00m _reindex_for_setitem(Series(value), \u001b[38;5;28mself\u001b[39m\u001b[38;5;241m.\u001b[39mindex)\n\u001b[0;32m   4869\u001b[0m \u001b[38;5;28;01mif\u001b[39;00m is_list_like(value):\n\u001b[1;32m-> 4870\u001b[0m     com\u001b[38;5;241m.\u001b[39mrequire_length_match(value, \u001b[38;5;28mself\u001b[39m\u001b[38;5;241m.\u001b[39mindex)\n\u001b[0;32m   4871\u001b[0m \u001b[38;5;28;01mreturn\u001b[39;00m sanitize_array(value, \u001b[38;5;28mself\u001b[39m\u001b[38;5;241m.\u001b[39mindex, copy\u001b[38;5;241m=\u001b[39m\u001b[38;5;28;01mTrue\u001b[39;00m, allow_2d\u001b[38;5;241m=\u001b[39m\u001b[38;5;28;01mTrue\u001b[39;00m)\n",
      "File \u001b[1;32mc:\\Users\\User\\anaconda3\\Lib\\site-packages\\pandas\\core\\common.py:576\u001b[0m, in \u001b[0;36mrequire_length_match\u001b[1;34m(data, index)\u001b[0m\n\u001b[0;32m    572\u001b[0m \u001b[38;5;250m\u001b[39m\u001b[38;5;124;03m\"\"\"\u001b[39;00m\n\u001b[0;32m    573\u001b[0m \u001b[38;5;124;03mCheck the length of data matches the length of the index.\u001b[39;00m\n\u001b[0;32m    574\u001b[0m \u001b[38;5;124;03m\"\"\"\u001b[39;00m\n\u001b[0;32m    575\u001b[0m \u001b[38;5;28;01mif\u001b[39;00m \u001b[38;5;28mlen\u001b[39m(data) \u001b[38;5;241m!=\u001b[39m \u001b[38;5;28mlen\u001b[39m(index):\n\u001b[1;32m--> 576\u001b[0m     \u001b[38;5;28;01mraise\u001b[39;00m \u001b[38;5;167;01mValueError\u001b[39;00m(\n\u001b[0;32m    577\u001b[0m         \u001b[38;5;124m\"\u001b[39m\u001b[38;5;124mLength of values \u001b[39m\u001b[38;5;124m\"\u001b[39m\n\u001b[0;32m    578\u001b[0m         \u001b[38;5;124mf\u001b[39m\u001b[38;5;124m\"\u001b[39m\u001b[38;5;124m(\u001b[39m\u001b[38;5;132;01m{\u001b[39;00m\u001b[38;5;28mlen\u001b[39m(data)\u001b[38;5;132;01m}\u001b[39;00m\u001b[38;5;124m) \u001b[39m\u001b[38;5;124m\"\u001b[39m\n\u001b[0;32m    579\u001b[0m         \u001b[38;5;124m\"\u001b[39m\u001b[38;5;124mdoes not match length of index \u001b[39m\u001b[38;5;124m\"\u001b[39m\n\u001b[0;32m    580\u001b[0m         \u001b[38;5;124mf\u001b[39m\u001b[38;5;124m\"\u001b[39m\u001b[38;5;124m(\u001b[39m\u001b[38;5;132;01m{\u001b[39;00m\u001b[38;5;28mlen\u001b[39m(index)\u001b[38;5;132;01m}\u001b[39;00m\u001b[38;5;124m)\u001b[39m\u001b[38;5;124m\"\u001b[39m\n\u001b[0;32m    581\u001b[0m     )\n",
      "\u001b[1;31mValueError\u001b[0m: Length of values (5) does not match length of index (10)"
     ]
    }
   ],
   "source": [
    "import pandas as pd\n",
    "import re\n",
    "\n",
    "carSalesDF = pd.read_csv('./car-sales.csv')\n",
    "carSalesDF[\"Price\"] = carSalesDF[\"Price\"].apply(lambda x: re.sub(r'[\\$\\,\\.]', '', str(x)))\n",
    "carSalesDF['Make'] = carSalesDF['Make'].str.lower()\n",
    "carSalesDF['seats'] = pd.Series([5, 5, 5, 5, 5])\n",
    "carSalesDF.fillna({'seats': 5}, inplace=True)\n",
    "fuel_per_100KM = [7.5, 9.2, 5.0, 9.6, 8.7]\n",
    "carSalesDF['Fuel per 100KM'] = fuel_per_100KM\n",
    "print(\"-\" * 15, \"\\n\", carSalesDF)"
   ]
  },
  {
   "cell_type": "code",
   "execution_count": 9,
   "metadata": {},
   "outputs": [
    {
     "name": "stdout",
     "output_type": "stream",
     "text": [
      "--------------- \n",
      "      Make Colour  Odometer (KM)  Doors    Price  seats  Fuel per 100KM\n",
      "0  toyota  White         150043      4   400000    5.0             7.5\n",
      "1   honda    Red          87899      4   500000    5.0             9.2\n",
      "2  toyota   Blue          32549      3   700000    5.0             5.0\n",
      "3     bmw  Black          11179      5  2200000    5.0             9.6\n",
      "4  nissan  White         213095      4   350000    5.0             8.7\n",
      "5  toyota  Green          99213      4   450000    5.0             4.7\n",
      "6   honda   Blue          45698      4   750000    5.0             8.7\n",
      "7   honda   Blue          54738      4   700000    5.0             3.0\n",
      "8  toyota  White          60000      4   625000    5.0             4.5\n",
      "9  nissan  White          31600      4   970000    5.0             7.3\n"
     ]
    }
   ],
   "source": [
    "import pandas as pd\n",
    "import re\n",
    "\n",
    "carSalesDF = pd.read_csv('./car-sales.csv')\n",
    "carSalesDF[\"Price\"] = carSalesDF[\"Price\"].apply(lambda x: re.sub(r'[\\$\\,\\.]', '', str(x)))\n",
    "carSalesDF['Make'] = carSalesDF['Make'].str.lower()\n",
    "carSalesDF['seats'] = pd.Series([5, 5, 5, 5, 5])\n",
    "carSalesDF.fillna({'seats': 5}, inplace=True)\n",
    "fuel_per_100KM = [7.5, 9.2, 5.0, 9.6, 8.7, 4.7, 8.7, 3.0, 4.5, 7.3]\n",
    "carSalesDF['Fuel per 100KM'] = fuel_per_100KM\n",
    "print(\"-\" * 15, \"\\n\", carSalesDF)"
   ]
  },
  {
   "cell_type": "code",
   "execution_count": 10,
   "metadata": {},
   "outputs": [
    {
     "name": "stdout",
     "output_type": "stream",
     "text": [
      "     Make Colour  Odometer (KM)  Doors    Price  seats  Fuel per 100KM  Total fuel used\n",
      "0  toyota  White         150043      4   400000    5.0             7.5        11253.225\n",
      "1   honda    Red          87899      4   500000    5.0             9.2         8086.708\n",
      "2  toyota   Blue          32549      3   700000    5.0             5.0         1627.450\n",
      "3     bmw  Black          11179      5  2200000    5.0             9.6         1073.184\n",
      "4  nissan  White         213095      4   350000    5.0             8.7        18539.265\n",
      "5  toyota  Green          99213      4   450000    5.0             4.7         4663.011\n",
      "6   honda   Blue          45698      4   750000    5.0             8.7         3975.726\n",
      "7   honda   Blue          54738      4   700000    5.0             3.0         1642.140\n",
      "8  toyota  White          60000      4   625000    5.0             4.5         2700.000\n",
      "9  nissan  White          31600      4   970000    5.0             7.3         2306.800\n"
     ]
    }
   ],
   "source": [
    "import pandas as pd\n",
    "import re\n",
    "\n",
    "pd.set_option('display.width', 1000)\n",
    "carSalesDF = pd.read_csv('./car-sales.csv')\n",
    "carSalesDF[\"Price\"] = carSalesDF[\"Price\"].apply(lambda x: re.sub(r'[\\$\\,\\.]', '', str(x)))\n",
    "carSalesDF['Make'] = carSalesDF['Make'].str.lower()\n",
    "carSalesDF['seats'] = pd.Series([5, 5, 5, 5, 5])\n",
    "carSalesDF.fillna({'seats': 5}, inplace=True)\n",
    "fuel_per_100KM = [7.5, 9.2, 5.0, 9.6, 8.7, 4.7, 8.7, 3.0, 4.5, 7.3]\n",
    "carSalesDF['Fuel per 100KM'] = fuel_per_100KM\n",
    "carSalesDF['Total fuel used'] = carSalesDF['Fuel per 100KM'] / 100 * carSalesDF['Odometer (KM)']\n",
    "print(carSalesDF)\n"
   ]
  },
  {
   "cell_type": "code",
   "execution_count": 11,
   "metadata": {},
   "outputs": [
    {
     "name": "stdout",
     "output_type": "stream",
     "text": [
      "     Make Colour  Odometer (KM)  Doors    Price  seats  Fuel per 100KM  Total fuel used(L)  Number of wheels\n",
      "0  toyota  White         150043      4   400000    5.0             7.5           11253.225                 4\n",
      "1   honda    Red          87899      4   500000    5.0             9.2            8086.708                 4\n",
      "2  toyota   Blue          32549      3   700000    5.0             5.0            1627.450                 4\n",
      "3     bmw  Black          11179      5  2200000    5.0             9.6            1073.184                 4\n",
      "4  nissan  White         213095      4   350000    5.0             8.7           18539.265                 4\n",
      "5  toyota  Green          99213      4   450000    5.0             4.7            4663.011                 4\n",
      "6   honda   Blue          45698      4   750000    5.0             8.7            3975.726                 4\n",
      "7   honda   Blue          54738      4   700000    5.0             3.0            1642.140                 4\n",
      "8  toyota  White          60000      4   625000    5.0             4.5            2700.000                 4\n",
      "9  nissan  White          31600      4   970000    5.0             7.3            2306.800                 4\n"
     ]
    }
   ],
   "source": [
    "import pandas as pd\n",
    "import re\n",
    "\n",
    "pd.set_option('display.width', 1000)\n",
    "carSalesDF = pd.read_csv('./car-sales.csv')\n",
    "carSalesDF[\"Price\"] = carSalesDF[\"Price\"].apply(lambda x: re.sub(r'[\\$\\,\\.]', '', str(x)))\n",
    "carSalesDF['Make'] = carSalesDF['Make'].str.lower()\n",
    "carSalesDF['seats'] = pd.Series([5, 5, 5, 5, 5])\n",
    "carSalesDF.fillna({'seats': 5}, inplace=True)\n",
    "fuel_per_100KM = [7.5, 9.2, 5.0, 9.6, 8.7, 4.7, 8.7, 3.0, 4.5, 7.3]\n",
    "carSalesDF['Fuel per 100KM'] = fuel_per_100KM\n",
    "carSalesDF['Total fuel used(L)'] = carSalesDF['Fuel per 100KM'] / 100 * carSalesDF['Odometer (KM)']\n",
    "carSalesDF['Number of wheels'] = 4\n",
    "print(carSalesDF)\n"
   ]
  },
  {
   "cell_type": "code",
   "execution_count": 2,
   "metadata": {},
   "outputs": [
    {
     "name": "stdout",
     "output_type": "stream",
     "text": [
      "Make                   object\n",
      "Colour                 object\n",
      "Odometer (KM)           int64\n",
      "Doors                   int64\n",
      "Price                  object\n",
      "seats                 float64\n",
      "Fuel per 100KM        float64\n",
      "Total fuel used(L)    float64\n",
      "Number of wheels        int64\n",
      "Passed road safety       bool\n",
      "dtype: object\n",
      "     Make Colour  Odometer (KM)  Doors    Price  seats  Fuel per 100KM  Total fuel used(L)  Number of wheels  Passed road safety\n",
      "0  toyota  White         150043      4   400000    5.0             7.5           11253.225                 4                True\n",
      "1   honda    Red          87899      4   500000    5.0             9.2            8086.708                 4                True\n",
      "2  toyota   Blue          32549      3   700000    5.0             5.0            1627.450                 4                True\n",
      "3     bmw  Black          11179      5  2200000    5.0             9.6            1073.184                 4                True\n",
      "4  nissan  White         213095      4   350000    5.0             8.7           18539.265                 4                True\n",
      "5  toyota  Green          99213      4   450000    5.0             4.7            4663.011                 4                True\n",
      "6   honda   Blue          45698      4   750000    5.0             8.7            3975.726                 4                True\n",
      "7   honda   Blue          54738      4   700000    5.0             3.0            1642.140                 4                True\n",
      "8  toyota  White          60000      4   625000    5.0             4.5            2700.000                 4                True\n",
      "9  nissan  White          31600      4   970000    5.0             7.3            2306.800                 4                True\n"
     ]
    }
   ],
   "source": [
    "import pandas as pd\n",
    "import re\n",
    "\n",
    "pd.set_option('display.width', 1000)\n",
    "carSalesDF = pd.read_csv('./car-sales.csv')\n",
    "carSalesDF[\"Price\"] = carSalesDF[\"Price\"].apply(lambda x: re.sub(r'[\\$\\,\\.]', '', str(x)))\n",
    "carSalesDF['Make'] = carSalesDF['Make'].str.lower()\n",
    "carSalesDF['seats'] = pd.Series([5, 5, 5, 5, 5])\n",
    "carSalesDF.fillna({'seats': 5}, inplace=True)\n",
    "fuel_per_100KM = [7.5, 9.2, 5.0, 9.6, 8.7, 4.7, 8.7, 3.0, 4.5, 7.3]\n",
    "carSalesDF['Fuel per 100KM'] = fuel_per_100KM\n",
    "carSalesDF['Total fuel used(L)'] = carSalesDF['Fuel per 100KM'] / 100 * carSalesDF['Odometer (KM)']\n",
    "carSalesDF['Number of wheels'] = 4\n",
    "carSalesDF['Passed road safety'] = True\n",
    "print(carSalesDF.dtypes)\n",
    "print(carSalesDF)"
   ]
  },
  {
   "cell_type": "code",
   "execution_count": 4,
   "metadata": {},
   "outputs": [],
   "source": [
    "import pandas as pd\n",
    "# ...\n",
    "carSalesDF.to_csv('./car-sales-data-new.csv', index=False)"
   ]
  },
  {
   "cell_type": "code",
   "execution_count": 5,
   "metadata": {},
   "outputs": [
    {
     "name": "stdout",
     "output_type": "stream",
     "text": [
      "     Make Colour  Odometer (KM)  Doors    Price  seats  Fuel per 100KM  Total fuel used(L)  Number of wheels  Passed road safety\n",
      "0  toyota  White         150043      4   400000    5.0             7.5           11253.225                 4                True\n",
      "1   honda    Red          87899      4   500000    5.0             9.2            8086.708                 4                True\n",
      "2  toyota   Blue          32549      3   700000    5.0             5.0            1627.450                 4                True\n",
      "3     bmw  Black          11179      5  2200000    5.0             9.6            1073.184                 4                True\n",
      "4  nissan  White         213095      4   350000    5.0             8.7           18539.265                 4                True\n",
      "5  toyota  Green          99213      4   450000    5.0             4.7            4663.011                 4                True\n",
      "6   honda   Blue          45698      4   750000    5.0             8.7            3975.726                 4                True\n",
      "7   honda   Blue          54738      4   700000    5.0             3.0            1642.140                 4                True\n",
      "8  toyota  White          60000      4   625000    5.0             4.5            2700.000                 4                True\n",
      "9  nissan  White          31600      4   970000    5.0             7.3            2306.800                 4                True\n"
     ]
    },
    {
     "data": {
      "text/html": [
       "<div>\n",
       "<style scoped>\n",
       "    .dataframe tbody tr th:only-of-type {\n",
       "        vertical-align: middle;\n",
       "    }\n",
       "\n",
       "    .dataframe tbody tr th {\n",
       "        vertical-align: top;\n",
       "    }\n",
       "\n",
       "    .dataframe thead th {\n",
       "        text-align: right;\n",
       "    }\n",
       "</style>\n",
       "<table border=\"1\" class=\"dataframe\">\n",
       "  <thead>\n",
       "    <tr style=\"text-align: right;\">\n",
       "      <th></th>\n",
       "      <th>Make</th>\n",
       "      <th>Colour</th>\n",
       "      <th>Odometer (KM)</th>\n",
       "      <th>Doors</th>\n",
       "      <th>Price</th>\n",
       "      <th>seats</th>\n",
       "      <th>Fuel per 100KM</th>\n",
       "      <th>Total fuel used(L)</th>\n",
       "      <th>Number of wheels</th>\n",
       "      <th>Passed road safety</th>\n",
       "    </tr>\n",
       "  </thead>\n",
       "  <tbody>\n",
       "    <tr>\n",
       "      <th>1</th>\n",
       "      <td>honda</td>\n",
       "      <td>Red</td>\n",
       "      <td>87899</td>\n",
       "      <td>4</td>\n",
       "      <td>500000</td>\n",
       "      <td>5.0</td>\n",
       "      <td>9.2</td>\n",
       "      <td>8086.708</td>\n",
       "      <td>4</td>\n",
       "      <td>True</td>\n",
       "    </tr>\n",
       "    <tr>\n",
       "      <th>0</th>\n",
       "      <td>toyota</td>\n",
       "      <td>White</td>\n",
       "      <td>150043</td>\n",
       "      <td>4</td>\n",
       "      <td>400000</td>\n",
       "      <td>5.0</td>\n",
       "      <td>7.5</td>\n",
       "      <td>11253.225</td>\n",
       "      <td>4</td>\n",
       "      <td>True</td>\n",
       "    </tr>\n",
       "    <tr>\n",
       "      <th>3</th>\n",
       "      <td>bmw</td>\n",
       "      <td>Black</td>\n",
       "      <td>11179</td>\n",
       "      <td>5</td>\n",
       "      <td>2200000</td>\n",
       "      <td>5.0</td>\n",
       "      <td>9.6</td>\n",
       "      <td>1073.184</td>\n",
       "      <td>4</td>\n",
       "      <td>True</td>\n",
       "    </tr>\n",
       "    <tr>\n",
       "      <th>7</th>\n",
       "      <td>honda</td>\n",
       "      <td>Blue</td>\n",
       "      <td>54738</td>\n",
       "      <td>4</td>\n",
       "      <td>700000</td>\n",
       "      <td>5.0</td>\n",
       "      <td>3.0</td>\n",
       "      <td>1642.140</td>\n",
       "      <td>4</td>\n",
       "      <td>True</td>\n",
       "    </tr>\n",
       "    <tr>\n",
       "      <th>9</th>\n",
       "      <td>nissan</td>\n",
       "      <td>White</td>\n",
       "      <td>31600</td>\n",
       "      <td>4</td>\n",
       "      <td>970000</td>\n",
       "      <td>5.0</td>\n",
       "      <td>7.3</td>\n",
       "      <td>2306.800</td>\n",
       "      <td>4</td>\n",
       "      <td>True</td>\n",
       "    </tr>\n",
       "  </tbody>\n",
       "</table>\n",
       "</div>"
      ],
      "text/plain": [
       "     Make Colour  Odometer (KM)  Doors    Price  seats  Fuel per 100KM  Total fuel used(L)  Number of wheels  Passed road safety\n",
       "1   honda    Red          87899      4   500000    5.0             9.2            8086.708                 4                True\n",
       "0  toyota  White         150043      4   400000    5.0             7.5           11253.225                 4                True\n",
       "3     bmw  Black          11179      5  2200000    5.0             9.6            1073.184                 4                True\n",
       "7   honda   Blue          54738      4   700000    5.0             3.0            1642.140                 4                True\n",
       "9  nissan  White          31600      4   970000    5.0             7.3            2306.800                 4                True"
      ]
     },
     "execution_count": 5,
     "metadata": {},
     "output_type": "execute_result"
    }
   ],
   "source": [
    "import pandas as pd\n",
    "\n",
    "pd.set_option('display.width', 1000)\n",
    "print(carSalesDF)\n",
    "\n",
    "carSalesDF = pd.read_csv('./car-sales-data-new.csv')\n",
    "carSalesDF.sample(frac=0.5)\n"
   ]
  }
 ],
 "metadata": {
  "kernelspec": {
   "display_name": "base",
   "language": "python",
   "name": "python3"
  },
  "language_info": {
   "codemirror_mode": {
    "name": "ipython",
    "version": 3
   },
   "file_extension": ".py",
   "mimetype": "text/x-python",
   "name": "python",
   "nbconvert_exporter": "python",
   "pygments_lexer": "ipython3",
   "version": "undefined.undefined.undefined"
  }
 },
 "nbformat": 4,
 "nbformat_minor": 2
}

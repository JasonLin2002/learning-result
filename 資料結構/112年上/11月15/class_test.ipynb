{
 "cells": [
  {
   "cell_type": "code",
   "execution_count": 1,
   "metadata": {},
   "outputs": [
    {
     "name": "stdout",
     "output_type": "stream",
     "text": [
      "Infix Expression 1: 3*((7+1)/4)+(17-5)\n",
      "Postfix Expression 1: +\n",
      "\n",
      "Infix Expression 2: 8/2*3+(8-(16*18))\n",
      "Postfix Expression 2: \n",
      "\n",
      "Infix Expression 3: 5+(8/2)-(8*(20+(2-1)*8))\n",
      "Postfix Expression 3: -\n"
     ]
    }
   ],
   "source": [
    "def infix_to_postfix(infix_expression):\n",
    "    def precedence(operator):\n",
    "        precedence_dict = {'+': 1, '-': 1, '*': 2, '/': 2, '^': 3}\n",
    "        return precedence_dict.get(operator, 0)\n",
    "\n",
    "    def is_higher_precedence(op1, op2):\n",
    "        return precedence(op1) >= precedence(op2)\n",
    "\n",
    "    def infix_to_postfix_internal(infix_exp):\n",
    "        stack = []\n",
    "        postfix_exp = []\n",
    "        operators = set('+-*/')\n",
    "\n",
    "        for token in infix_exp:\n",
    "            if token.isalnum():\n",
    "                postfix_exp.append(token)\n",
    "            elif token == '(':\n",
    "                stack.append(token)\n",
    "            elif token == ')':\n",
    "                while stack and stack[-1] != '(':\n",
    "                    postfix_exp.append(stack.pop())\n",
    "                stack.pop()  # Pop '('\n",
    "            elif token in operators:\n",
    "                while stack and stack[-1] in operators and is_higher_precedence(stack[-1], token):\n",
    "                    postfix_exp.append(stack.pop())\n",
    "                stack.append(token)\n",
    "\n",
    "        while stack:\n",
    "            postfix_exp.append(stack.pop())\n",
    "\n",
    "        return postfix_exp\n",
    "\n",
    "    infix_tokens = infix_expression.replace(' ', '').replace('(', ' ( ').replace(')', ' ) ').split()\n",
    "    postfix_result = infix_to_postfix_internal(infix_tokens)\n",
    "    return ' '.join(postfix_result)\n",
    "\n",
    "infix_expr_1 = \"3*((7+1)/4)+(17-5)\"\n",
    "infix_expr_2 = \"8/2*3+(8-(16*18))\"\n",
    "infix_expr_3 = \"5+(8/2)-(8*(20+(2-1)*8))\"\n",
    "\n",
    "postfix_result_1 = infix_to_postfix(infix_expr_1)\n",
    "postfix_result_2 = infix_to_postfix(infix_expr_2)\n",
    "postfix_result_3 = infix_to_postfix(infix_expr_3)\n",
    "\n",
    "print(\"Infix Expression 1:\", infix_expr_1)\n",
    "print(\"Postfix Expression 1:\", postfix_result_1)\n",
    "\n",
    "print(\"\\nInfix Expression 2:\", infix_expr_2)\n",
    "print(\"Postfix Expression 2:\", postfix_result_2)\n",
    "\n",
    "print(\"\\nInfix Expression 3:\", infix_expr_3)\n",
    "print(\"Postfix Expression 3:\", postfix_result_3)\n"
   ]
  }
 ],
 "metadata": {
  "kernelspec": {
   "display_name": "Python 3",
   "language": "python",
   "name": "python3"
  },
  "language_info": {
   "codemirror_mode": {
    "name": "ipython",
    "version": 3
   },
   "file_extension": ".py",
   "mimetype": "text/x-python",
   "name": "python",
   "nbconvert_exporter": "python",
   "pygments_lexer": "ipython3",
   "version": "3.10.6 (tags/v3.10.6:9c7b4bd, Aug  1 2022, 21:53:49) [MSC v.1932 64 bit (AMD64)]"
  },
  "orig_nbformat": 4,
  "vscode": {
   "interpreter": {
    "hash": "f9f867c76b7971dad3b218056e1c03cd2c86e3d69cf13140757d5de8c1cc55da"
   }
  }
 },
 "nbformat": 4,
 "nbformat_minor": 2
}

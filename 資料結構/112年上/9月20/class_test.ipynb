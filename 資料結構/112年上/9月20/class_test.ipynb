{
 "cells": [
  {
   "cell_type": "code",
   "execution_count": 10,
   "metadata": {},
   "outputs": [
    {
     "name": "stdout",
     "output_type": "stream",
     "text": [
      "[0, 1, 2, 3, 4, 5, 6, 7, 8, 9]\n",
      "[9, 8, 7, 6, 5, 4, 3, 2, 1, 0]\n"
     ]
    }
   ],
   "source": [
    "class InsertionSort:\n",
    "    def __init__(self, number):\n",
    "        self.number = number\n",
    "\n",
    "    def sort(self):\n",
    "        n = len(self.number)\n",
    "        for i in range(1, n):\n",
    "            key = self.number[i]\n",
    "            j = i - 1\n",
    "            while j >= 0 and self.number[j] > key:\n",
    "                self.number[j + 1] = self.number[j]\n",
    "                j -= 1\n",
    "            self.number[j + 1] = key\n",
    "    \n",
    "    def inv(self):\n",
    "        n = len(self.number)\n",
    "        for i in range(1, n):\n",
    "            key = self.number[i]\n",
    "            j = i - 1\n",
    "            while j >= 0 and self.number[j] < key:  \n",
    "                self.number[j + 1] = self.number[j]\n",
    "                j -= 1\n",
    "            self.number[j + 1] = key\n",
    "\n",
    "if __name__ == \"__main__\":\n",
    "    number = [2,5,3,8,9,1,0,4,6,7]\n",
    "    Insert = InsertionSort(number)\n",
    "    Insert.sort()\n",
    "    print(Insert.number)\n",
    "    Insert.inv()\n",
    "    print(Insert.number)\n"
   ]
  },
  {
   "cell_type": "code",
   "execution_count": 1,
   "metadata": {},
   "outputs": [
    {
     "name": "stdout",
     "output_type": "stream",
     "text": [
      "[68, 92, 97, 50, 78, 35, 26, 21, 20, 33]\n",
      "[20, 21, 26, 33, 35, 50, 68, 78, 92, 97]\n",
      "[97, 92, 78, 68, 50, 35, 33, 26, 21, 20]\n"
     ]
    }
   ],
   "source": [
    "import random\n",
    "\n",
    "class Bubble_Sort:\n",
    "    def __init__(self, l1):\n",
    "        self.sorted_list = l1\n",
    "    \n",
    "    \n",
    "    \n",
    "    def bubble_sort(self)->list:\n",
    "        n = self.sorted_list\n",
    "        for i in range(len(n)-1):\n",
    "            flag = 0\n",
    "            for j in range(len(n)-i-1):\n",
    "                if (n[j] > n[j+1]):\n",
    "                    n[j], n[j+1] = n[j+1], n[j]\n",
    "                    flag = 1\n",
    "            if (flag == 0):\n",
    "                break\n",
    "        return n\n",
    "    \n",
    "    \n",
    "    \n",
    "    def inv(self)->list:\n",
    "        n = self.sorted_list\n",
    "        for i in range(len(n)-1):\n",
    "            flag = 0\n",
    "            for j in range(len(n)-i-1):\n",
    "                if (n[j] <= n[j+1]):\n",
    "                    n[j], n[j+1] = n[j+1], n[j]\n",
    "                    flag = 1\n",
    "            if (flag == 0):\n",
    "                break\n",
    "        return n\n",
    "\n",
    "\n",
    "\n",
    "if __name__ == \"__main__\":\n",
    "    l1 = [random.randint(0, 100) for i in range(10)]\n",
    "    print(l1)\n",
    "    \n",
    "    b1 = Bubble_Sort(l1)\n",
    "    print(b1.bubble_sort())\n",
    "    print(b1.inv())"
   ]
  }
 ],
 "metadata": {
  "kernelspec": {
   "display_name": "Python 3",
   "language": "python",
   "name": "python3"
  },
  "language_info": {
   "codemirror_mode": {
    "name": "ipython",
    "version": 3
   },
   "file_extension": ".py",
   "mimetype": "text/x-python",
   "name": "python",
   "nbconvert_exporter": "python",
   "pygments_lexer": "ipython3",
   "version": "3.9.10 (tags/v3.9.10:f2f3f53, Jan 17 2022, 15:14:21) [MSC v.1929 64 bit (AMD64)]"
  },
  "orig_nbformat": 4,
  "vscode": {
   "interpreter": {
    "hash": "c5d269574d350b051d2fab1614ebbbf2fa09728239c894b53d63951c9539b734"
   }
  }
 },
 "nbformat": 4,
 "nbformat_minor": 2
}

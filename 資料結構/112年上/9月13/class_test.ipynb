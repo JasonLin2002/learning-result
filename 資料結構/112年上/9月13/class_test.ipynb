{
 "cells": [
  {
   "cell_type": "code",
   "execution_count": 5,
   "metadata": {},
   "outputs": [
    {
     "name": "stdout",
     "output_type": "stream",
     "text": [
      "由小排到大: [6, 7, 8, 9, 10, 11, 12]\n",
      "由大排到小: [12, 11, 10, 9, 8, 7, 6]\n"
     ]
    }
   ],
   "source": [
    "input_str = input(\"輸入數字：\")\n",
    "Number = [int(x) for x in input_str.split()]\n",
    "\n",
    "def insertion_sort(Number):\n",
    "    n = len(Number)\n",
    "    for i in range(1, n):\n",
    "        key = Number[i]\n",
    "        j = i - 1\n",
    "        while j >= 0 and Number[j] > key:\n",
    "            Number[j + 1] = Number[j]\n",
    "            j -= 1\n",
    "        Number[j + 1] = key\n",
    "\n",
    "def insertion_sort_descending(Number):\n",
    "    n = len(Number)\n",
    "    for i in range(1, n):\n",
    "        key = Number[i]\n",
    "        j = i - 1\n",
    "        while j >= 0 and Number[j] < key:  \n",
    "            Number[j + 1] = Number[j]\n",
    "            j = j - 1\n",
    "        Number[j + 1] = key\n",
    "\n",
    "insertion_sort(Number)\n",
    "print(\"由小排到大:\", Number)\n",
    "\n",
    "insertion_sort_descending(Number)\n",
    "print(\"由大排到小:\", Number)"
   ]
  },
  {
   "cell_type": "code",
   "execution_count": null,
   "metadata": {},
   "outputs": [],
   "source": [
    "class Course:\n",
    "    def __init__(self, name:str, teacher:str, location:str, time:str):\n",
    "        self.name = name\n",
    "        self.teacher = teacher\n",
    "        self.location = location\n",
    "        self.time = time\n",
    "    \n",
    "    def showInfo(self):\n",
    "        print(\"課程資訊:\")\n",
    "        print(\"---\"*5)\n",
    "        print(\"課程名稱: \", self.name)\n",
    "        print(\"教師: \", self.teacher)\n",
    "        print(\"地點 :\", self.location)\n",
    "        print(\"時間: \", self.time)\n",
    "        print(\"---\"*5)\n",
    "\n",
    "class Student:\n",
    "    def __init__(self, name:str, id:str, gender:str, grade:int):\n",
    "        self.name = name\n",
    "        self.id = id\n",
    "        self.gender = gender\n",
    "        self.grade = grade\n",
    "        self.course = []\n",
    "    \n",
    "    def addCourse(self, course:Course):\n",
    "        self.course.append(course)\n",
    "    \n",
    "    def showInfo(self):\n",
    "        print(\"---\"*5)\n",
    "        print(\"姓名: \", self.name)\n",
    "        print(\"學號 :\", self.id)\n",
    "        print(\"性別: \", self.gender)\n",
    "        print(\"年級: \", self.grade)\n",
    "        print(\"課程: \")\n",
    "        for i in range(len(self.course)):\n",
    "            print(\"{} \" .format(i)+self.course[i].name)\n",
    "        if len(self.course) == 0:\n",
    "            print(\"無課程\")\n",
    "        print(\"---\"*5)\n",
    "\n",
    "if __name__ == \"__main__\":\n",
    "    course1 = Course(\"線性代數\", \"t1\", \"202教室\", \"週一 03-04\")\n",
    "    course1.showInfo()\n",
    "    \n",
    "    course2 = Course(\"資料結構\", \"t2\", \"201教室\", \"週二 06-07\")\n",
    "    course2.showInfo()\n",
    "\n",
    "    course3 = Course(\"微積分\", \"t3\", \"103教室\", \"週三 01-02\")\n",
    "    course3.showInfo()\n",
    "    \n",
    "    course4 = Course(\"物件導向程式設計\", \"t4\", \"301教室\", \"週四 06-08\")\n",
    "    course4.showInfo()\n",
    "    \n",
    "    course5 = Course(\"網際網路概論\", \"t5\", \"203教室\", \"週五 01-02\")\n",
    "    course5.showInfo()\n",
    "    \n",
    "    student1 = Student(\"傑克\", \"000001\", \"男性\", 1)\n",
    "    student1.addCourse(course1)\n",
    "    student1.addCourse(course3)\n",
    "    student1.addCourse(course5)\n",
    "    student1.showInfo()\n",
    "    \n",
    "    student2 = Student(\"差學生\", \"00002\", \"男性\", 4)\n",
    "    student2.showInfo()\n",
    "    \n",
    "    student3 = Student(\"好學生\", \"00003\", \"女性\", 2)\n",
    "    student3.addCourse(course1)\n",
    "    student3.addCourse(course2)\n",
    "    student3.addCourse(course3)\n",
    "    student3.addCourse(course4)\n",
    "    student3.addCourse(course5)\n",
    "    student3.showInfo()\n"
   ]
  }
 ],
 "metadata": {
  "kernelspec": {
   "display_name": "Python 3",
   "language": "python",
   "name": "python3"
  },
  "language_info": {
   "codemirror_mode": {
    "name": "ipython",
    "version": 3
   },
   "file_extension": ".py",
   "mimetype": "text/x-python",
   "name": "python",
   "nbconvert_exporter": "python",
   "pygments_lexer": "ipython3",
   "version": "3.9.10 (tags/v3.9.10:f2f3f53, Jan 17 2022, 15:14:21) [MSC v.1929 64 bit (AMD64)]"
  },
  "orig_nbformat": 4,
  "vscode": {
   "interpreter": {
    "hash": "c5d269574d350b051d2fab1614ebbbf2fa09728239c894b53d63951c9539b734"
   }
  }
 },
 "nbformat": 4,
 "nbformat_minor": 2
}

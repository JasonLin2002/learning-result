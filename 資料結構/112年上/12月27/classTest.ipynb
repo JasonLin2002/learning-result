{
 "cells": [
  {
   "cell_type": "code",
   "execution_count": 1,
   "metadata": {},
   "outputs": [
    {
     "name": "stdout",
     "output_type": "stream",
     "text": [
      "True\n"
     ]
    }
   ],
   "source": [
    "def partition_equal_sum(A):\n",
    "\n",
    "  n = len(A)\n",
    "  sum_A = sum(A)\n",
    "  dp = [[False for _ in range(sum_A + 1)] for _ in range(n + 1)]\n",
    "\n",
    "  for i in range(n + 1):\n",
    "    for j in range(sum_A + 1):\n",
    "      if j == 0:\n",
    "        dp[i][j] = True\n",
    "      elif i == 0:\n",
    "        dp[i][j] = False\n",
    "      elif i >= j:\n",
    "        dp[i][j] = dp[i][j - 1]\n",
    "      else:\n",
    "        dp[i][j] = dp[i][j - 1] or dp[i - A[i - 1]][j - 1]\n",
    "\n",
    "  return dp[n][sum_A]\n",
    "\n",
    "\n",
    "A = [5, 4, 9]\n",
    "print(partition_equal_sum(A))"
   ]
  },
  {
   "cell_type": "code",
   "execution_count": 1,
   "metadata": {},
   "outputs": [
    {
     "name": "stdout",
     "output_type": "stream",
     "text": [
      "123\n",
      "132\n",
      "213\n",
      "231\n",
      "312\n",
      "321\n",
      "6\n"
     ]
    }
   ],
   "source": [
    "visited = [0]\n",
    "output = \"\"\n",
    "count = 0\n",
    "\n",
    "def setNum(n:int, num:int=0):\n",
    "    global output\n",
    "    global count\n",
    "    if (num != 0):\n",
    "        visited.append(num)\n",
    "        output = output + str(num)\n",
    "    is_leaf = True\n",
    "    for i in range(1, n+1):\n",
    "        if (i not in visited):\n",
    "            is_leaf = False\n",
    "            setNum(n, i)\n",
    "    if (is_leaf):\n",
    "        count += 1\n",
    "        print(output)\n",
    "    output = output[:-1]\n",
    "    visited.remove(num)\n",
    "\n",
    "\n",
    "\n",
    "setNum(3, 0)\n",
    "\n",
    "print(count)"
   ]
  }
 ],
 "metadata": {
  "kernelspec": {
   "display_name": "Python 3",
   "language": "python",
   "name": "python3"
  },
  "language_info": {
   "codemirror_mode": {
    "name": "ipython",
    "version": 3
   },
   "file_extension": ".py",
   "mimetype": "text/x-python",
   "name": "python",
   "nbconvert_exporter": "python",
   "pygments_lexer": "ipython3",
   "version": "3.10.6 (tags/v3.10.6:9c7b4bd, Aug  1 2022, 21:53:49) [MSC v.1932 64 bit (AMD64)]"
  },
  "orig_nbformat": 4,
  "vscode": {
   "interpreter": {
    "hash": "f9f867c76b7971dad3b218056e1c03cd2c86e3d69cf13140757d5de8c1cc55da"
   }
  }
 },
 "nbformat": 4,
 "nbformat_minor": 2
}

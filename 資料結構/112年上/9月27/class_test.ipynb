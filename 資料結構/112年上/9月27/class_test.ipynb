{
 "cells": [
  {
   "cell_type": "code",
   "execution_count": 7,
   "metadata": {},
   "outputs": [
    {
     "name": "stdout",
     "output_type": "stream",
     "text": [
      "小到大: [0, 12, 45, 58, 66, 68, 68, 73, 84, 91]\n",
      "大到小: [91, 84, 73, 68, 68, 66, 58, 45, 12, 0]\n"
     ]
    }
   ],
   "source": [
    "class MergeSort:\n",
    "    @staticmethod\n",
    "    def merge_sort_asc(A, p, r):\n",
    "        if p < r:\n",
    "            q = (p + r) // 2\n",
    "            MergeSort.merge_sort_asc(A, p, q)\n",
    "            MergeSort.merge_sort_asc(A, q + 1, r)\n",
    "            MergeSort.merge(A, p, q, r)\n",
    "\n",
    "    @staticmethod\n",
    "    def merge_sort_desc(A, p, r):\n",
    "        if p < r:\n",
    "            q = (p + r) // 2\n",
    "            MergeSort.merge_sort_desc(A, p, q)\n",
    "            MergeSort.merge_sort_desc(A, q + 1, r)\n",
    "            MergeSort.merge_desc(A, p, q, r)\n",
    "\n",
    "    @staticmethod\n",
    "    def merge(A, p, q, r):\n",
    "        n_L = q - p + 1\n",
    "        n_R = r - q\n",
    "        L = [0] * n_L\n",
    "        R = [0] * n_R\n",
    "\n",
    "        for i in range(n_L):\n",
    "            L[i] = A[p + i]\n",
    "        for j in range(n_R):\n",
    "            R[j] = A[q + j + 1]\n",
    "\n",
    "        i = j = 0\n",
    "        k = p\n",
    "\n",
    "        while i < n_L and j < n_R:\n",
    "            if L[i] <= R[j]:\n",
    "                A[k] = L[i]\n",
    "                i += 1\n",
    "            else:\n",
    "                A[k] = R[j]\n",
    "                j += 1\n",
    "            k += 1\n",
    "\n",
    "        while i < n_L:\n",
    "            A[k] = L[i]\n",
    "            i += 1\n",
    "            k += 1\n",
    "\n",
    "        while j < n_R:\n",
    "            A[k] = R[j]\n",
    "            j += 1\n",
    "            k += 1\n",
    "\n",
    "    @staticmethod\n",
    "    def merge_desc(A, p, q, r):\n",
    "        n_L = q - p + 1\n",
    "        n_R = r - q\n",
    "        L = [0] * n_L\n",
    "        R = [0] * n_R\n",
    "\n",
    "        for i in range(n_L):\n",
    "            L[i] = A[p + i]\n",
    "        for j in range(n_R):\n",
    "            R[j] = A[q + j + 1]\n",
    "\n",
    "        i = j = 0\n",
    "        k = p\n",
    "\n",
    "        while i < n_L and j < n_R:\n",
    "            if L[i] >= R[j]:\n",
    "                A[k] = L[i]\n",
    "                i += 1\n",
    "            else:\n",
    "                A[k] = R[j]\n",
    "                j += 1\n",
    "            k += 1\n",
    "\n",
    "        while i < n_L:\n",
    "            A[k] = L[i]\n",
    "            i += 1\n",
    "            k += 1\n",
    "\n",
    "        while j < n_R:\n",
    "            A[k] = R[j]\n",
    "            j += 1\n",
    "            k += 1\n",
    "\n",
    "import random\n",
    "number = [random.randint(0, 100) for i in range(10)]\n",
    "\n",
    "MergeSort.merge_sort_asc(number, 0, len(number) - 1)\n",
    "print(\"小到大:\", number)\n",
    "\n",
    "MergeSort.merge_sort_desc(number, 0, len(number) - 1)\n",
    "print(\"大到小:\", number)\n"
   ]
  },
  {
   "cell_type": "code",
   "execution_count": 4,
   "metadata": {},
   "outputs": [
    {
     "name": "stdout",
     "output_type": "stream",
     "text": [
      "4條直線將平面分成最多的區域數是: 11\n"
     ]
    }
   ],
   "source": [
    "def count_regions(n):\n",
    "    if n == 0:\n",
    "        return 1\n",
    "    else:\n",
    "        previous_count = count_regions(n - 1)\n",
    "        return previous_count + n\n",
    "\n",
    "n = 4  \n",
    "result = count_regions(n)\n",
    "print(f\"{n}條直線將平面分成最多的區域數是: {result}\")"
   ]
  },
  {
   "cell_type": "code",
   "execution_count": 5,
   "metadata": {},
   "outputs": [
    {
     "name": "stdout",
     "output_type": "stream",
     "text": [
      "[0, 0, 0, 0, 0, 0, 0, 0, 0, 0, 0, 0, 0, 0, 0, 0, 0, 0, 0, 0, 0]\n",
      "[0, 0, 0, 0, 0, 0, 0, 0, 1, 0, 1, 1, 1, 1, 1, 1, 0, 0, 0, 0, 0]\n",
      "[0, 0, 0, 0, 0, 0, 0, 1, 0, 1, 1, 0, 0, 0, 0, 0, 1, 0, 0, 0, 0]\n",
      "[0, 0, 0, 0, 0, 0, 1, 0, 0, 0, 1, 0, 0, 0, 0, 0, 0, 1, 0, 0, 0]\n",
      "[0, 0, 0, 0, 0, 1, 0, 0, 0, 0, 1, 0, 0, 0, 0, 0, 0, 1, 0, 0, 0]\n",
      "[0, 0, 0, 0, 0, 1, 0, 0, 0, 0, 1, 0, 0, 0, 0, 0, 0, 1, 0, 0, 0]\n",
      "[0, 0, 0, 0, 0, 1, 0, 0, 0, 0, 1, 0, 0, 0, 0, 0, 1, 0, 0, 0, 0]\n",
      "[0, 0, 0, 0, 0, 1, 0, 0, 0, 0, 1, 0, 0, 0, 0, 0, 1, 0, 0, 0, 0]\n",
      "[0, 0, 0, 0, 0, 0, 1, 1, 1, 1, 1, 1, 1, 1, 1, 1, 0, 0, 0, 0, 0]\n"
     ]
    }
   ],
   "source": [
    "def connected_component(list_2D:list, x:int, y:int):\n",
    "    if (list_2D[x][y] != 1):\n",
    "        list_2D[x][y] = 1\n",
    "        if (0 <= x-1 < len(list_2D[0])):\n",
    "            connected_component(list_2D, x-1, y)\n",
    "        \n",
    "        if (0 <= x+1 < len(list_2D[0])):\n",
    "            connected_component(list_2D, x+1, y)\n",
    "        \n",
    "        if (0 <= y-1 < len(list_2D)):\n",
    "            connected_component(list_2D, x, y-1)\n",
    "\n",
    "        if (0 <= y+1 < len(list_2D)):\n",
    "            connected_component(list_2D, x, y+1)\n",
    "\n",
    "\n",
    "def print_2D_array(list_2D:list):\n",
    "    for i in list_2D:\n",
    "        print(i)\n",
    "\n",
    "\n",
    "t = [\n",
    "    [0,0,0,0,0,0,0,0,0,0,0,0,0,0,0,0,0,0,0,0,0],\n",
    "    [0,0,0,0,0,0,0,0,1,0,1,1,1,1,1,1,0,0,0,0,0],\n",
    "    [0,0,0,0,0,0,0,1,0,1,0,0,0,0,0,0,1,0,0,0,0],\n",
    "    [0,0,0,0,0,0,1,0,0,0,0,0,0,0,0,0,0,1,0,0,0],\n",
    "    [0,0,0,0,0,1,0,0,0,0,0,0,0,0,0,0,0,1,0,0,0],\n",
    "    [0,0,0,0,0,1,0,0,0,0,0,0,0,0,0,0,0,1,0,0,0],\n",
    "    [0,0,0,0,0,1,0,0,0,0,0,0,0,0,0,0,1,0,0,0,0],\n",
    "    [0,0,0,0,0,1,0,0,0,0,0,0,0,0,0,0,1,0,0,0,0],\n",
    "    [0,0,0,0,0,0,1,1,1,1,1,1,1,1,1,1,0,0,0,0,0]\n",
    "]\n",
    "\n",
    "connected_component(t, 3, 10)\n",
    "\n",
    "print_2D_array(t)\n"
   ]
  }
 ],
 "metadata": {
  "kernelspec": {
   "display_name": "Python 3",
   "language": "python",
   "name": "python3"
  },
  "language_info": {
   "codemirror_mode": {
    "name": "ipython",
    "version": 3
   },
   "file_extension": ".py",
   "mimetype": "text/x-python",
   "name": "python",
   "nbconvert_exporter": "python",
   "pygments_lexer": "ipython3",
   "version": "3.10.6"
  },
  "orig_nbformat": 4,
  "vscode": {
   "interpreter": {
    "hash": "f9f867c76b7971dad3b218056e1c03cd2c86e3d69cf13140757d5de8c1cc55da"
   }
  }
 },
 "nbformat": 4,
 "nbformat_minor": 2
}

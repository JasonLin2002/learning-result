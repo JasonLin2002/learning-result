{
 "cells": [
  {
   "cell_type": "code",
   "execution_count": 1,
   "metadata": {},
   "outputs": [
    {
     "name": "stdout",
     "output_type": "stream",
     "text": [
      "[49, 59, 5, 39, 21, 43, 3, 98, 8, 1]\n",
      "[43, 59, 5, 39, 21, 49, 3, 98, 8, 1]\n",
      "[43, 3, 5, 39, 21, 49, 59, 98, 8, 1]\n",
      "[43, 3, 5, 39, 21, 49, 59, 98, 8, 1]\n",
      "[43, 3, 5, 8, 21, 49, 59, 98, 39, 1]\n",
      "[43, 3, 5, 8, 1, 49, 59, 98, 39, 21]\n",
      "[5, 3, 43, 8, 1, 49, 59, 98, 39, 21]\n",
      "[5, 3, 43, 8, 1, 49, 59, 98, 39, 21]\n",
      "[1, 3, 5, 8, 43, 49, 59, 98, 39, 21]\n",
      "[1, 3, 5, 8, 43, 49, 59, 98, 39, 21]\n",
      "[1, 3, 5, 8, 43, 49, 59, 98, 39, 21]\n",
      "[1, 3, 5, 8, 43, 49, 59, 98, 39, 21]\n",
      "[1, 3, 5, 8, 39, 49, 43, 98, 59, 21]\n",
      "[1, 3, 5, 8, 39, 21, 43, 49, 59, 98]\n",
      "[1, 3, 5, 8, 39, 21, 43, 49, 59, 98]\n",
      "[1, 3, 5, 8, 39, 21, 43, 49, 59, 98]\n",
      "[1, 3, 5, 8, 39, 21, 43, 49, 59, 98]\n",
      "[1, 3, 5, 8, 39, 21, 43, 49, 59, 98]\n",
      "[1, 3, 5, 8, 21, 39, 43, 49, 59, 98]\n",
      "[1, 3, 5, 8, 21, 39, 43, 49, 59, 98]\n",
      "[1, 3, 5, 8, 21, 39, 43, 49, 59, 98]\n",
      "[1, 3, 5, 8, 21, 39, 43, 49, 59, 98]\n",
      "[1, 3, 5, 8, 21, 39, 43, 49, 59, 98]\n"
     ]
    }
   ],
   "source": [
    "import random\n",
    "\n",
    "\n",
    "\n",
    "def shell_sort(l1:list):\n",
    "    gap = len(l1)//2\n",
    "    while (gap > 0):\n",
    "        for i in range(gap, len(l1)):\n",
    "            while (i > gap-1 and l1[i] < l1[i-gap]):\n",
    "                l1[i], l1[i-gap] = l1[i-gap], l1[i]\n",
    "                i -= gap\n",
    "            print(l1)\n",
    "        gap //= 2\n",
    "        \n",
    "        \n",
    "        \n",
    "l1 = [random.randint(0, 100) for i in range(10)]\n",
    "print(l1)\n",
    "\n",
    "shell_sort(l1)"
   ]
  },
  {
   "cell_type": "code",
   "execution_count": 2,
   "metadata": {},
   "outputs": [
    {
     "name": "stdout",
     "output_type": "stream",
     "text": [
      "[100, 50, 25, 13, 56, 48, 46, 2, 97, 74]\n",
      "100 [100, 50, 25, 13, 56, 48, 46, 2, 97, 74]\n",
      "[74, 50, 25, 13, 56, 48, 46, 2, 97] 100 []\n",
      "74 [74, 50, 25, 13, 56, 48, 46, 2, 97]\n",
      "[2, 50, 25, 13, 56, 48, 46] 74 [97]\n",
      "2 [2, 50, 25, 13, 56, 48, 46]\n",
      "[] 2 [50, 25, 13, 56, 48, 46]\n",
      "50 [50, 25, 13, 56, 48, 46]\n",
      "[48, 25, 13, 46] 50 [56]\n",
      "48 [48, 25, 13, 46]\n",
      "[46, 25, 13] 48 []\n",
      "46 [46, 25, 13]\n",
      "[13, 25] 46 []\n",
      "13 [13, 25]\n",
      "[] 13 [25]\n",
      "[2, 13, 25, 46, 48, 50, 56, 74, 97, 100]\n"
     ]
    }
   ],
   "source": [
    "import random\n",
    "\n",
    "l1 = [random.randint(0, 100) for i in range(10)]\n",
    "print(l1)\n",
    "\n",
    "\n",
    "\n",
    "def partition(n:list, start, end):\n",
    "    pivot = n[start]\n",
    "    left = start\n",
    "    right = end\n",
    "    print(pivot, n[start: end+1])\n",
    "    while True:\n",
    "        while n[right]>pivot and right>left:\n",
    "            right -= 1\n",
    "        while n[left]<=pivot and right>left:\n",
    "            left += 1\n",
    "        if right>left:\n",
    "            n[left], n[right] = n[right], n[left]\n",
    "        else:\n",
    "            n[start], n[right] = n[right], n[start]\n",
    "            break\n",
    "    print(n[start: right], n[right], n[right+1: end+1])\n",
    "    return right\n",
    "\n",
    "\n",
    "\n",
    "def quick_sort3(n:list, start:int, end:int):\n",
    "    if start < end:\n",
    "        pivot_index = partition(n, start, end)\n",
    "        quick_sort3(n, start, pivot_index-1)\n",
    "        quick_sort3(n, pivot_index+1, end)\n",
    "    \n",
    "    \n",
    "\n",
    "\n",
    "quick_sort3(l1, 0, len(l1)-1)\n",
    "print(l1)"
   ]
  },
  {
   "cell_type": "code",
   "execution_count": 3,
   "metadata": {},
   "outputs": [
    {
     "name": "stdout",
     "output_type": "stream",
     "text": [
      "[5, 16, 47, 53, 80, 92, 40, 4, 6, 66]\n",
      "5 [16, 47, 53, 80, 92, 40, 4, 6, 66]\n",
      "[4] 5 [47, 53, 80, 92, 40, 16, 6, 66]\n",
      "---\n",
      "47 [53, 80, 92, 40, 16, 6, 66]\n",
      "[40, 6, 16] 47 [92, 80, 53, 66]\n",
      "---\n",
      "40 [6, 16]\n",
      "[16, 6] 40 []\n",
      "---\n",
      "16 [6]\n",
      "[6] 16 []\n",
      "---\n",
      "92 [80, 53, 66]\n",
      "[66, 80, 53] 92 []\n",
      "---\n",
      "66 [80, 53]\n",
      "[53] 66 [80]\n",
      "---\n",
      "[4, 5, 6, 16, 40, 47, 53, 66, 80, 92]\n"
     ]
    }
   ],
   "source": [
    "import random\n",
    "\n",
    "l1 = [random.randint(0, 100) for i in range(10)]\n",
    "print(l1)\n",
    "\n",
    "\n",
    "\n",
    "def partition(n:list, start, end):\n",
    "    pivot = n[start]\n",
    "    left = start\n",
    "    right = end\n",
    "    print(n[start], n[start+1: end+1])\n",
    "    while True:\n",
    "        while n[right]>pivot and right>left:\n",
    "            right -= 1\n",
    "        while n[left]<=pivot and right>left:\n",
    "            left += 1\n",
    "        if right>left:\n",
    "            n[left], n[right] = n[right], n[left]\n",
    "        else:\n",
    "            n[start], n[right] = n[right], n[start]\n",
    "            break\n",
    "    print(n[start: right], n[right], n[right+1: end+1], end=\"\\n---\\n\")\n",
    "    return right\n",
    "\n",
    "\n",
    "\n",
    "def quick_sort3(n:list, start:int, end:int):\n",
    "    if start < end:\n",
    "        pivot_index = partition(n, start, end)\n",
    "        quick_sort3(n, start, pivot_index-1)\n",
    "        quick_sort3(n, pivot_index+1, end)\n",
    "    \n",
    "    \n",
    "\n",
    "\n",
    "quick_sort3(l1, 0, len(l1)-1)\n",
    "print(l1)"
   ]
  },
  {
   "cell_type": "code",
   "execution_count": 4,
   "metadata": {},
   "outputs": [
    {
     "data": {
      "text/plain": [
       "[5, 6, 8, 11, 15, 48, 54, 81, 89]"
      ]
     },
     "execution_count": 4,
     "metadata": {},
     "output_type": "execute_result"
    }
   ],
   "source": [
    "def shell_sort(arr):\n",
    "    # Start with a big gap, then reduce the gap\n",
    "    n = len(arr)\n",
    "    gap = n // 2\n",
    "\n",
    "    # Do a gapped insertion sort for this gap size.\n",
    "    # The first gap elements arr[0..gap-1] are already in gapped order\n",
    "    # keep adding one more element until the entire array is gap sorted\n",
    "    while gap > 0:\n",
    "\n",
    "        for i in range(gap, n):\n",
    "\n",
    "            # add arr[i] to the elements that have been gap sorted\n",
    "            # save arr[i] in temp and make a hole at position i\n",
    "            temp = arr[i]\n",
    "\n",
    "            # shift earlier gap-sorted elements up until the correct location for arr[i] is found\n",
    "            j = i\n",
    "            while j >= gap and arr[j - gap] > temp:\n",
    "                arr[j] = arr[j - gap]\n",
    "                j -= gap\n",
    "\n",
    "            # put temp (the original arr[i]) in its correct location\n",
    "            arr[j] = temp\n",
    "\n",
    "        gap //= 2\n",
    "\n",
    "    return arr\n",
    "\n",
    "# Assuming this is the array from the image\n",
    "array = [8, 15, 6, 81, 48, 5, 54, 89, 11]\n",
    "\n",
    "# Sorting the array using shell sort\n",
    "sorted_array = shell_sort(array.copy())\n",
    "sorted_array\n"
   ]
  },
  {
   "cell_type": "code",
   "execution_count": 1,
   "metadata": {},
   "outputs": [
    {
     "data": {
      "text/plain": [
       "[3, 4, 8, 9, 12, 17, 31, 33, 42, 51]"
      ]
     },
     "execution_count": 1,
     "metadata": {},
     "output_type": "execute_result"
    }
   ],
   "source": [
    "def quick_sort(arr):\n",
    "    \"\"\"\n",
    "    The Quick Sort function that implements the sorting algorithm using recursion.\n",
    "    \"\"\"\n",
    "    # Base case: if the list is empty or contains a single element, it is already sorted.\n",
    "    if len(arr) <= 1:\n",
    "        return arr\n",
    "\n",
    "    # Recursive case: sort the list.\n",
    "    else:\n",
    "        # Select the pivot element, here we are choosing the last element as the pivot.\n",
    "        pivot = arr[-1]\n",
    "        # Initialize the lists for elements smaller and greater than the pivot.\n",
    "        smaller, greater = [], []\n",
    "\n",
    "        # Partition the array based on the pivot value.\n",
    "        for x in arr[:-1]:\n",
    "            if x <= pivot:\n",
    "                smaller.append(x)\n",
    "            else:\n",
    "                greater.append(x)\n",
    "\n",
    "        # Recursively apply the quick_sort to sort the sub-arrays and combine the results.\n",
    "        return quick_sort(smaller) + [pivot] + quick_sort(greater)\n",
    "\n",
    "# Example array\n",
    "example_arr = [33, 31, 4, 8, 12, 17, 51, 42, 3, 9]\n",
    "\n",
    "# Applying Quick Sort to the example array\n",
    "sorted_arr = quick_sort(example_arr)\n",
    "sorted_arr\n"
   ]
  }
 ],
 "metadata": {
  "kernelspec": {
   "display_name": "Python 3",
   "language": "python",
   "name": "python3"
  },
  "language_info": {
   "codemirror_mode": {
    "name": "ipython",
    "version": 3
   },
   "file_extension": ".py",
   "mimetype": "text/x-python",
   "name": "python",
   "nbconvert_exporter": "python",
   "pygments_lexer": "ipython3",
   "version": "3.9.10 (tags/v3.9.10:f2f3f53, Jan 17 2022, 15:14:21) [MSC v.1929 64 bit (AMD64)]"
  },
  "orig_nbformat": 4,
  "vscode": {
   "interpreter": {
    "hash": "c5d269574d350b051d2fab1614ebbbf2fa09728239c894b53d63951c9539b734"
   }
  }
 },
 "nbformat": 4,
 "nbformat_minor": 2
}

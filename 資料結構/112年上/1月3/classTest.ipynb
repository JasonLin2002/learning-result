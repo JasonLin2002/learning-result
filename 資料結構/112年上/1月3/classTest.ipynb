{
 "cells": [
  {
   "cell_type": "code",
   "execution_count": 3,
   "metadata": {},
   "outputs": [
    {
     "name": "stdout",
     "output_type": "stream",
     "text": [
      "Total need 2 coins\n"
     ]
    }
   ],
   "source": [
    "def change(coins, amount):\n",
    "  \n",
    "  if amount == 0:\n",
    "    return 0\n",
    "  else:\n",
    "    min_coins = float(\"inf\")\n",
    "    for coin in coins:\n",
    "      if amount >= coin:\n",
    "        sub_coins = change(coins, amount - coin)\n",
    "        min_coins = min(min_coins, sub_coins + 1)\n",
    "    return min_coins\n",
    "\n",
    "\n",
    "if __name__ == \"__main__\":\n",
    "  coins = [1, 10]\n",
    "  amount = 11\n",
    "  print(f'Total need {change(coins, amount)} coins')"
   ]
  },
  {
   "cell_type": "code",
   "execution_count": 4,
   "metadata": {},
   "outputs": [
    {
     "name": "stdout",
     "output_type": "stream",
     "text": [
      "[(1, 4), (5, 7), (8, 11), (12, 14)]\n"
     ]
    }
   ],
   "source": [
    "def activity_selection(activities):\n",
    "\n",
    "  activities.sort(key=lambda activity: activity[1])\n",
    "  selected_activities = []\n",
    "  for activity in activities:\n",
    "    if not selected_activities or activity[0] >= selected_activities[-1][1]:\n",
    "      selected_activities.append(activity)\n",
    "  return selected_activities\n",
    "\n",
    "\n",
    "if __name__ == \"__main__\":\n",
    "  activities = [(1, 4), (3, 5), (0, 6), (5, 7), (3, 8), (5, 9), (6, 10), (8, 11), (8, 12), (2, 13), (12, 14)]\n",
    "  print(activity_selection(activities))"
   ]
  },
  {
   "cell_type": "code",
   "execution_count": 5,
   "metadata": {},
   "outputs": [
    {
     "name": "stdout",
     "output_type": "stream",
     "text": [
      "節點著色分配: ['BLUE', 'GREEN', 'BLUE', 'RED', 'RED', 'GREEN']\n"
     ]
    }
   ],
   "source": [
    "def greedy_coloring(edges, num_nodes, colors):\n",
    "    color_assignment = [-1] * num_nodes\n",
    "    \n",
    "    color_assignment[0] = 0\n",
    "    \n",
    "    available = [False] * num_nodes\n",
    "    \n",
    "    for u in range(1, num_nodes):\n",
    "        for v in edges[u]:\n",
    "            if color_assignment[v] != -1:\n",
    "                available[color_assignment[v]] = True\n",
    "                \n",
    "        cr = 0\n",
    "        while cr < num_nodes:\n",
    "            if not available[cr]:\n",
    "                break\n",
    "            cr += 1\n",
    "        \n",
    "        color_assignment[u] = cr\n",
    "        \n",
    "        for v in edges[u]:\n",
    "            if color_assignment[v] != -1:\n",
    "                available[color_assignment[v]] = False\n",
    "                \n",
    "    return [colors[color] for color in color_assignment]\n",
    "\n",
    "def convert_to_adj_list(edges, num_nodes):\n",
    "    adj_list = {i: [] for i in range(num_nodes)}\n",
    "    for (u, v) in edges:\n",
    "        adj_list[u].append(v)\n",
    "        adj_list[v].append(u)\n",
    "    return adj_list\n",
    "\n",
    "colors = ['BLUE', 'GREEN', 'RED', 'YELLOW', 'ORANGE', 'PINK', 'BLACK', 'BROWN', 'WHITE', 'PURPLE', 'VOILET']\n",
    "edges = [(0, 1), (0, 4), (0, 5), (4, 5), (1, 4), (1, 3), (2, 3), (2, 4)]\n",
    "num_nodes = 6\n",
    "\n",
    "adj_list = convert_to_adj_list(edges, num_nodes)\n",
    "\n",
    "coloring = greedy_coloring(adj_list, num_nodes, colors)\n",
    "print(\"節點著色分配:\", coloring)"
   ]
  }
 ],
 "metadata": {
  "kernelspec": {
   "display_name": "Python 3",
   "language": "python",
   "name": "python3"
  },
  "language_info": {
   "codemirror_mode": {
    "name": "ipython",
    "version": 3
   },
   "file_extension": ".py",
   "mimetype": "text/x-python",
   "name": "python",
   "nbconvert_exporter": "python",
   "pygments_lexer": "ipython3",
   "version": "3.11.7"
  },
  "orig_nbformat": 4,
  "vscode": {
   "interpreter": {
    "hash": "c5d269574d350b051d2fab1614ebbbf2fa09728239c894b53d63951c9539b734"
   }
  }
 },
 "nbformat": 4,
 "nbformat_minor": 2
}

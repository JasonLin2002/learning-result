{
 "cells": [
  {
   "cell_type": "code",
   "execution_count": 1,
   "metadata": {},
   "outputs": [
    {
     "name": "stdout",
     "output_type": "stream",
     "text": [
      "In-order: [1, 3, 4, 5, 6, 7, 9, 11, 13, 29, 31]\n",
      "Pre-order: [11, 6, 5, 3, 1, 4, 9, 7, 13, 31, 29]\n",
      "Post-order: [1, 4, 3, 5, 7, 9, 6, 29, 31, 13, 11]\n",
      "Level of 9: 2\n",
      "Level of 29: 3\n",
      "99 not found in the tree.\n"
     ]
    }
   ],
   "source": [
    "class TreeNode:\n",
    "    def __init__(self, data):\n",
    "        self.data = data\n",
    "        self.left = None\n",
    "        self.right = None\n",
    "\n",
    "class BinarySearchTree:\n",
    "    def __init__(self):\n",
    "        self.root = None\n",
    "\n",
    "    def addNode(self, data):\n",
    "        self.root = self._addNode(self.root, data)\n",
    "\n",
    "    def _addNode(self, root, data):\n",
    "        if root is None:\n",
    "            return TreeNode(data)\n",
    "        if data < root.data:\n",
    "            root.left = self._addNode(root.left, data)\n",
    "        elif data > root.data:\n",
    "            root.right = self._addNode(root.right, data)\n",
    "        return root\n",
    "\n",
    "    def in_order(self):\n",
    "        result = []\n",
    "        self._in_order(self.root, result)\n",
    "        print(\"In-order:\", result)\n",
    "\n",
    "    def _in_order(self, root, result):\n",
    "        if root:\n",
    "            self._in_order(root.left, result)\n",
    "            result.append(root.data)\n",
    "            self._in_order(root.right, result)\n",
    "\n",
    "    def pre_order(self):\n",
    "        result = []\n",
    "        self._pre_order(self.root, result)\n",
    "        print(\"Pre-order:\", result)\n",
    "\n",
    "    def _pre_order(self, root, result):\n",
    "        if root:\n",
    "            result.append(root.data)\n",
    "            self._pre_order(root.left, result)\n",
    "            self._pre_order(root.right, result)\n",
    "\n",
    "    def post_order(self):\n",
    "        result = []\n",
    "        self._post_order(self.root, result)\n",
    "        print(\"Post-order:\", result)\n",
    "\n",
    "    def _post_order(self, root, result):\n",
    "        if root:\n",
    "            self._post_order(root.left, result)\n",
    "            self._post_order(root.right, result)\n",
    "            result.append(root.data)\n",
    "\n",
    "    def findLevel(self, data):\n",
    "        level = self._findLevel(self.root, data, 0)\n",
    "        if level is not None:\n",
    "            print(f\"Level of {data}: {level}\")\n",
    "        else:\n",
    "            print(f\"{data} not found in the tree.\")\n",
    "\n",
    "    def _findLevel(self, root, data, level):\n",
    "        if root is None:\n",
    "            return None\n",
    "        if data == root.data:\n",
    "            return level\n",
    "        elif data < root.data:\n",
    "            return self._findLevel(root.left, data, level + 1)\n",
    "        else:\n",
    "            return self._findLevel(root.right, data, level + 1)\n",
    "\n",
    "bst = BinarySearchTree()\n",
    "data_list = [11, 6, 13, 5, 9, 31, 3, 7, 29, 1, 4]\n",
    "for data in data_list:\n",
    "    bst.addNode(data)\n",
    "\n",
    "bst.in_order()\n",
    "bst.pre_order()\n",
    "bst.post_order()\n",
    "\n",
    "# 尋找特定數值的Level\n",
    "bst.findLevel(9)\n",
    "bst.findLevel(29)\n"
   ]
  },
  {
   "cell_type": "code",
   "execution_count": 2,
   "metadata": {},
   "outputs": [
    {
     "name": "stdout",
     "output_type": "stream",
     "text": [
      "Post-order: 8 7 11 10 6 15 22 21 24 20 12 "
     ]
    }
   ],
   "source": [
    "class TreeNode:\n",
    "    def __init__(self, data):\n",
    "        self.data = data\n",
    "        self.left = None\n",
    "        self.right = None\n",
    "\n",
    "def build_tree(preorder, inorder):\n",
    "    if not preorder or not inorder:\n",
    "        return None\n",
    "\n",
    "    root_value = preorder[0]\n",
    "    root = TreeNode(root_value)\n",
    "\n",
    "    root_index = inorder.index(root_value)\n",
    "\n",
    "    root.left = build_tree(preorder[1:1 + root_index], inorder[:root_index])\n",
    "    root.right = build_tree(preorder[1 + root_index:], inorder[root_index + 1:])\n",
    "\n",
    "    return root\n",
    "\n",
    "def post_order(root):\n",
    "    if root:\n",
    "        post_order(root.left)\n",
    "        post_order(root.right)\n",
    "        print(root.data, end=' ')\n",
    "\n",
    "preorder = [12, 6, 10, 7, 8, 11, 20, 15, 24, 21, 22]\n",
    "inorder = [6, 7, 8, 10, 11, 12, 15, 20, 21, 22, 24]\n",
    "\n",
    "root = build_tree(preorder, inorder)\n",
    "\n",
    "print(\"Post-order:\", end=' ')\n",
    "post_order(root)\n"
   ]
  }
 ],
 "metadata": {
  "kernelspec": {
   "display_name": "Python 3",
   "language": "python",
   "name": "python3"
  },
  "language_info": {
   "codemirror_mode": {
    "name": "ipython",
    "version": 3
   },
   "file_extension": ".py",
   "mimetype": "text/x-python",
   "name": "python",
   "nbconvert_exporter": "python",
   "pygments_lexer": "ipython3",
   "version": "3.10.6"
  },
  "orig_nbformat": 4,
  "vscode": {
   "interpreter": {
    "hash": "f9f867c76b7971dad3b218056e1c03cd2c86e3d69cf13140757d5de8c1cc55da"
   }
  }
 },
 "nbformat": 4,
 "nbformat_minor": 2
}

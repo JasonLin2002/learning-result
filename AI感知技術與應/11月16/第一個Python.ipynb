{
 "cells": [
  {
   "cell_type": "code",
   "execution_count": 4,
   "metadata": {},
   "outputs": [
    {
     "name": "stdout",
     "output_type": "stream",
     "text": [
      "Hello world !\n",
      "----------\n",
      "你的名字是什麼?\n",
      "你好, Jason\n",
      "你的名字長度為:5\n",
      "----------\n",
      "你今年幾歲?\n",
      "你明年是21歲\n"
     ]
    }
   ],
   "source": [
    "#開始撰寫第一個python\n",
    "print( 'Hello world !')\n",
    "print('-'*10)\n",
    "print('你的名字是什麼?')\n",
    "myName = input()\n",
    "print('你好, ' + myName)\n",
    "print('你的名字長度為:' + str(len(myName)))\n",
    "print('-'*10)\n",
    "print('你今年幾歲?')\n",
    "myAge = input()\n",
    "print('你明年是' + str(int(myAge)+1)+'歲')"
   ]
  }
 ],
 "metadata": {
  "kernelspec": {
   "display_name": "Python 3",
   "language": "python",
   "name": "python3"
  },
  "language_info": {
   "codemirror_mode": {
    "name": "ipython",
    "version": 3
   },
   "file_extension": ".py",
   "mimetype": "text/x-python",
   "name": "python",
   "nbconvert_exporter": "python",
   "pygments_lexer": "ipython3",
   "version": "3.9.10"
  },
  "orig_nbformat": 4,
  "vscode": {
   "interpreter": {
    "hash": "c5d269574d350b051d2fab1614ebbbf2fa09728239c894b53d63951c9539b734"
   }
  }
 },
 "nbformat": 4,
 "nbformat_minor": 2
}

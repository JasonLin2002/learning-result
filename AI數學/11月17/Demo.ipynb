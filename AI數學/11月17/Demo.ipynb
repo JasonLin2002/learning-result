{
 "cells": [
  {
   "cell_type": "code",
   "execution_count": 19,
   "metadata": {},
   "outputs": [
    {
     "name": "stdout",
     "output_type": "stream",
     "text": [
      "矩陣A為\n",
      "[[9 2 1]\n",
      " [4 9 7]\n",
      " [6 3 5]]\n",
      "矩陣B為\n",
      "[[ 2  3 10]\n",
      " [ 9  4  2]\n",
      " [ 1  3  2]]\n",
      "矩陣A+B為\n",
      "[[11  5 11]\n",
      " [13 13  9]\n",
      " [ 7  6  7]]\n",
      "矩陣A-B為\n",
      "[[ 7 -1 -9]\n",
      " [-5  5  5]\n",
      " [ 5  0  3]]\n",
      "矩陣A*B為\n",
      "[[18  6 10]\n",
      " [36 36 14]\n",
      " [ 6  9 10]]\n",
      "A的轉置矩陣為\n",
      "[[9 4 6]\n",
      " [2 9 3]\n",
      " [1 7 5]]\n"
     ]
    }
   ],
   "source": [
    "import numpy as np\n",
    "import random\n",
    "y=[]\n",
    "for i in range(0,11):\n",
    "    x=random.randint(0,10)\n",
    "    y.append(x)\n",
    "\n",
    "a=np.array([[y[1],y[2],y[3]],\n",
    "            [y[4],y[5],y[6]],\n",
    "            [y[7],y[8],y[9]]])\n",
    "\n",
    "z=[]\n",
    "for i in range(0,11):\n",
    "    x=random.randint(0,10)\n",
    "    z.append(x)\n",
    "\n",
    "b=np.array([[z[1],z[2],z[3]],\n",
    "            [z[4],z[5],z[6]],\n",
    "            [z[7],z[8],z[9]]])\n",
    "\n",
    "\n",
    "\n",
    "print('矩陣A為',a,sep='\\n')\n",
    "print('矩陣B為',b,sep='\\n')\n",
    "print('矩陣A+B為',a+b,sep='\\n')\n",
    "print('矩陣A-B為',a-b,sep='\\n')\n",
    "print('矩陣A*B為',a*b,sep='\\n')\n",
    "print('A的轉置矩陣為',a.transpose(),sep='\\n')\n",
    "\n",
    "\n",
    "\n"
   ]
  }
 ],
 "metadata": {
  "kernelspec": {
   "display_name": "Python 3.9.13 ('base')",
   "language": "python",
   "name": "python3"
  },
  "language_info": {
   "codemirror_mode": {
    "name": "ipython",
    "version": 3
   },
   "file_extension": ".py",
   "mimetype": "text/x-python",
   "name": "python",
   "nbconvert_exporter": "python",
   "pygments_lexer": "ipython3",
   "version": "3.9.13"
  },
  "orig_nbformat": 4,
  "vscode": {
   "interpreter": {
    "hash": "ad2bdc8ecc057115af97d19610ffacc2b4e99fae6737bb82f5d7fb13d2f2c186"
   }
  }
 },
 "nbformat": 4,
 "nbformat_minor": 2
}

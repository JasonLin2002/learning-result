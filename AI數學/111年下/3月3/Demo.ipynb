{
 "cells": [
  {
   "cell_type": "code",
   "execution_count": 18,
   "metadata": {},
   "outputs": [
    {
     "data": {
      "text/plain": [
       "<tf.Tensor: shape=(), dtype=float32, numpy=3.2035408>"
      ]
     },
     "execution_count": 18,
     "metadata": {},
     "output_type": "execute_result"
    }
   ],
   "source": [
    "import tensorflow as tf\n",
    "\n",
    "x= tf.Variable( float(input()) )\n",
    "with tf.GradientTape() as t:\n",
    "    t.watch(x)\n",
    "    y = tf.constant(eval(input(\"請輸入y: \")))\n",
    "t.gradient(y,x)"
   ]
  },
  {
   "cell_type": "code",
   "execution_count": 16,
   "metadata": {},
   "outputs": [
    {
     "data": {
      "text/plain": [
       "<tf.Tensor: shape=(), dtype=float32, numpy=3.2035408>"
      ]
     },
     "execution_count": 16,
     "metadata": {},
     "output_type": "execute_result"
    }
   ],
   "source": [
    "import tensorflow as tf\n",
    "\n",
    "x = tf.Variable(float(input()))\n",
    "with tf.GradientTape() as t:\n",
    "    t.watch(x)\n",
    "    y = eval(input())\n",
    "    #(4*x**3-2)/(7*x+8)\n",
    "    #(3*x**2-1)/(2*x+5)\n",
    "    #(10*x**2+4)**3\n",
    "    #(3*x**2+17*x)**5\n",
    "    #11**x-8*x**(-2)\n",
    "    #6*(tf.exp(x))+x**(99)\n",
    "    #17*x**2+(7)*(tf.exp(x))*tf.math.log(x)\n",
    "    #4*x-7*(tf.math.log(x))/tf.math.log(3.0)\n",
    "t.gradient(y,x)"
   ]
  }
 ],
 "metadata": {
  "kernelspec": {
   "display_name": "Python 3",
   "language": "python",
   "name": "python3"
  },
  "language_info": {
   "codemirror_mode": {
    "name": "ipython",
    "version": 3
   },
   "file_extension": ".py",
   "mimetype": "text/x-python",
   "name": "python",
   "nbconvert_exporter": "python",
   "pygments_lexer": "ipython3",
   "version": "3.9.10"
  },
  "orig_nbformat": 4,
  "vscode": {
   "interpreter": {
    "hash": "c5d269574d350b051d2fab1614ebbbf2fa09728239c894b53d63951c9539b734"
   }
  }
 },
 "nbformat": 4,
 "nbformat_minor": 2
}

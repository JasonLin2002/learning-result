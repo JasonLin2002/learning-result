{
 "cells": [
  {
   "cell_type": "code",
   "execution_count": 6,
   "metadata": {},
   "outputs": [
    {
     "name": "stderr",
     "output_type": "stream",
     "text": [
      "C:\\Users\\jk121\\AppData\\Local\\Temp\\ipykernel_45792\\2835176354.py:7: DtypeWarning: Columns (1) have mixed types. Specify dtype option on import or set low_memory=False.\n",
      "  data = pd.read_csv( 'Age_County_Gender_day_19Cov.csv')\n"
     ]
    },
    {
     "ename": "TypeError",
     "evalue": "can't multiply sequence by non-int of type 'float'",
     "output_type": "error",
     "traceback": [
      "\u001b[1;31m---------------------------------------------------------------------------\u001b[0m",
      "\u001b[1;31mTypeError\u001b[0m                                 Traceback (most recent call last)",
      "Cell \u001b[1;32mIn [6], line 18\u001b[0m\n\u001b[0;32m     16\u001b[0m history\u001b[39m=\u001b[39m np\u001b[39m.\u001b[39mzeros((\u001b[39m0\u001b[39m, \u001b[39m2\u001b[39m))\n\u001b[0;32m     17\u001b[0m \u001b[39mfor\u001b[39;00m k \u001b[39min\u001b[39;00m \u001b[39mrange\u001b[39m (iters):\n\u001b[1;32m---> 18\u001b[0m     yp \u001b[39m=\u001b[39m pred(x, w)\n\u001b[0;32m     19\u001b[0m     yd \u001b[39m=\u001b[39m yp \u001b[39m-\u001b[39m yt [:,\u001b[39m0\u001b[39m]\n\u001b[0;32m     20\u001b[0m     w \u001b[39m=\u001b[39m w \u001b[39m-\u001b[39m alpha\u001b[39m*\u001b[39m( x\u001b[39m.\u001b[39mT \u001b[39m@\u001b[39m yd) \u001b[39m/\u001b[39m M\n",
      "Cell \u001b[1;32mIn [6], line 6\u001b[0m, in \u001b[0;36mpred\u001b[1;34m(x, w)\u001b[0m\n\u001b[0;32m      5\u001b[0m \u001b[39mdef\u001b[39;00m \u001b[39mpred\u001b[39m(x, w):\n\u001b[1;32m----> 6\u001b[0m     \u001b[39mreturn\u001b[39;00m np\u001b[39m.\u001b[39;49mmatmul (x, w)\n",
      "\u001b[1;31mTypeError\u001b[0m: can't multiply sequence by non-int of type 'float'"
     ]
    }
   ],
   "source": [
    "import numpy as np\n",
    "import pandas as pd \n",
    "import matplotlib.pyplot as plt\n",
    "list=['確定病名','發病日','縣市','鄉鎮','性別','是否為境外移入','年齡層','確定病例數']\n",
    "def pred(x, w):\n",
    "    return np.matmul (x, w)\n",
    "data = pd.read_csv( 'Age_County_Gender_day_19Cov.csv')\n",
    "x_data = np.array (data[['發病日']])\n",
    "yt = np.array (data[['確定病例數']])\n",
    "x = np.insert(x_data, 0, 1.0, axis=1)\n",
    "M = x.shape[ 0 ]\n",
    "D= x.shape[ 1 ]\n",
    "iters = 50000\n",
    "alpha = 0.0\n",
    "w = np.ones( D )\n",
    "history= np.zeros((0, 2))\n",
    "for k in range (iters):\n",
    "    yp = pred(x, w)\n",
    "    yd = yp - yt [:,0]\n",
    "    w = w - alpha*( x.T @ yd) / M\n",
    "    if k % 100 == 0:\n",
    "        loss = np.mean (yd ** 2) / 2\n",
    "        history = np.vstack ((history, np.array([k, loss])))\n",
    "        print( f'iter {k} \\t loss: {loss}')\n",
    "xall = x[:, 1].ravel ()\n",
    "x1 = np.array([[1, xall.min()], [1, xall.max()]])\n",
    "yl = pred (x1, w)\n",
    "plt.figure( figsize=(6, 6))\n",
    "plt.scatter (x[:,1], yt, s=10, c='b')\n",
    "plt.xlabel('發病日', fontsize=14)\n",
    "plt.ylabel('PRICE', fontsize=14)\n",
    "plt.plot(x1[:, 1], yl, c='k')\n",
    "plt.show()\n",
    "plt.plot(history [1:,0], history [1:, 1])\n",
    "plt.show()"
   ]
  },
  {
   "cell_type": "code",
   "execution_count": 4,
   "metadata": {},
   "outputs": [],
   "source": [
    "import numpy as np\n",
    "import pandas as pd \n",
    "import matplotlib.pyplot as plt\n",
    "list=[\"crim\",\"zn\",\"indus\",\"chas\",\"nox\",\"rm\",\"age\",\"dis\",\"rad\",\"tax\",\"ptratio\",\"black\",\"lstat\"]\n",
    "def pred(x, w):\n",
    "    return np.matmul (x, w)\n",
    "data = pd.read_csv( 'Age_County_Gender_day_19Cov.csv')\n",
    "x_data = np.array (data[['年齡層']])\n",
    "yt = np.array (data [ ['確定病例數']])"
   ]
  }
 ],
 "metadata": {
  "kernelspec": {
   "display_name": "Python 3",
   "language": "python",
   "name": "python3"
  },
  "language_info": {
   "codemirror_mode": {
    "name": "ipython",
    "version": 3
   },
   "file_extension": ".py",
   "mimetype": "text/x-python",
   "name": "python",
   "nbconvert_exporter": "python",
   "pygments_lexer": "ipython3",
   "version": "3.9.10"
  },
  "orig_nbformat": 4,
  "vscode": {
   "interpreter": {
    "hash": "c5d269574d350b051d2fab1614ebbbf2fa09728239c894b53d63951c9539b734"
   }
  }
 },
 "nbformat": 4,
 "nbformat_minor": 2
}

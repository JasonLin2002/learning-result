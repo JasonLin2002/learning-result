{
 "cells": [
  {
   "cell_type": "code",
   "execution_count": 33,
   "metadata": {},
   "outputs": [
    {
     "name": "stdout",
     "output_type": "stream",
     "text": [
      "A\n",
      " [[-1  2]\n",
      " [ 3 -2]\n",
      " [ 5  7]]\n"
     ]
    }
   ],
   "source": [
    "import numpy as np\n",
    "A = np.array([[-1,2], [3,-2], [5,7]])\n",
    "print('A\\n', A)"
   ]
  },
  {
   "cell_type": "code",
   "execution_count": 34,
   "metadata": {},
   "outputs": [
    {
     "name": "stdout",
     "output_type": "stream",
     "text": [
      "U\n",
      " [[ 0.12708324  0.47409506  0.87125411]\n",
      " [ 0.00164602 -0.87847553  0.47778451]\n",
      " [ 0.99189069 -0.0592843  -0.11241989]]\n",
      "D\n",
      " [8.66918448 4.10429538]\n",
      "VT\n",
      " [[ 0.55798885  0.82984845]\n",
      " [-0.82984845  0.55798885]]\n"
     ]
    }
   ],
   "source": [
    "U, D, VT = np.linalg.svd( A )\n",
    "print('U\\n', U)\n",
    "print('D\\n', D)\n",
    "print('VT\\n', VT)"
   ]
  },
  {
   "cell_type": "code",
   "execution_count": 35,
   "metadata": {},
   "outputs": [
    {
     "name": "stdout",
     "output_type": "stream",
     "text": [
      "D+\n",
      " [[0.1153511  0.        ]\n",
      " [0.         0.24364718]\n",
      " [0.         0.        ]]\n"
     ]
    }
   ],
   "source": [
    "D_Plus = np.linalg.inv(np.diag(D))\n",
    "D_Plus = np.concatenate((D_Plus,\n",
    "                         np.array([[0,0]]).T),\n",
    "                         axis = 1).T\n",
    "print('D+\\n', D_Plus)"
   ]
  },
  {
   "cell_type": "code",
   "execution_count": 36,
   "metadata": {},
   "outputs": [
    {
     "name": "stdout",
     "output_type": "stream",
     "text": [
      "A_Plus\n",
      " [[-0.08767773  0.17772512  0.07582938]\n",
      " [ 0.07661927 -0.1192733   0.08688784]]\n"
     ]
    }
   ],
   "source": [
    "A_Plus = np.dot(U, np.dot(D_Plus, VT)).T\n",
    "print('A_Plus\\n', A_Plus)"
   ]
  },
  {
   "cell_type": "code",
   "execution_count": 37,
   "metadata": {},
   "outputs": [
    {
     "name": "stdout",
     "output_type": "stream",
     "text": [
      "[[ 1.00000000e+00 -1.94289029e-16]\n",
      " [-9.71445147e-17  1.00000000e+00]]\n"
     ]
    }
   ],
   "source": [
    "print(np.dot(A_Plus, A))"
   ]
  },
  {
   "cell_type": "code",
   "execution_count": 38,
   "metadata": {},
   "outputs": [
    {
     "name": "stdout",
     "output_type": "stream",
     "text": [
      "A\n",
      " [[-1  2]\n",
      " [ 3 -2]\n",
      " [ 5  7]]\n",
      "Moore Penrose Pseudoinverse of A\n",
      " [[-0.08767773  0.17772512  0.07582938]\n",
      " [ 0.07661927 -0.1192733   0.08688784]]\n"
     ]
    }
   ],
   "source": [
    "print('A\\n', A )\n",
    "print('Moore Penrose Pseudoinverse of A\\n',\n",
    "      np.linalg.pinv( A ))"
   ]
  },
  {
   "cell_type": "code",
   "execution_count": 39,
   "metadata": {},
   "outputs": [
    {
     "data": {
      "text/plain": [
       "tensor([[-1.,  2.],\n",
       "        [ 3., -2.],\n",
       "        [ 5.,  7.]])"
      ]
     },
     "execution_count": 39,
     "metadata": {},
     "output_type": "execute_result"
    }
   ],
   "source": [
    "import torch\n",
    "A = torch.tensor([[-1,2],[3,-2],[5,7.]])\n",
    "A"
   ]
  },
  {
   "cell_type": "code",
   "execution_count": 40,
   "metadata": {},
   "outputs": [
    {
     "data": {
      "text/plain": [
       "tensor([[-0.0877,  0.1777,  0.0758],\n",
       "        [ 0.0766, -0.1193,  0.0869]])"
      ]
     },
     "execution_count": 40,
     "metadata": {},
     "output_type": "execute_result"
    }
   ],
   "source": [
    "A_plus = torch.pinverse( A )\n",
    "A_plus"
   ]
  }
 ],
 "metadata": {
  "kernelspec": {
   "display_name": "Python 3",
   "language": "python",
   "name": "python3"
  },
  "language_info": {
   "codemirror_mode": {
    "name": "ipython",
    "version": 3
   },
   "file_extension": ".py",
   "mimetype": "text/x-python",
   "name": "python",
   "nbconvert_exporter": "python",
   "pygments_lexer": "ipython3",
   "version": "3.9.10 (tags/v3.9.10:f2f3f53, Jan 17 2022, 15:14:21) [MSC v.1929 64 bit (AMD64)]"
  },
  "orig_nbformat": 4,
  "vscode": {
   "interpreter": {
    "hash": "c5d269574d350b051d2fab1614ebbbf2fa09728239c894b53d63951c9539b734"
   }
  }
 },
 "nbformat": 4,
 "nbformat_minor": 2
}

{
 "cells": [
  {
   "cell_type": "code",
   "execution_count": 5,
   "metadata": {},
   "outputs": [
    {
     "name": "stdout",
     "output_type": "stream",
     "text": [
      "[0.70192251]\n"
     ]
    }
   ],
   "source": [
    "import pandas as pd\n",
    "import numpy as np\n",
    "\n",
    "data=pd.read_csv('Boston.csv')\n",
    "x=np.array(data[['rm']])\n",
    "a=0\n",
    "for i in x:\n",
    "    a+=i\n",
    "a1=a/len(x)\n",
    "b=0\n",
    "for i in x:\n",
    "    b+=(i-a1)**2\n",
    "x_var=b/len(x)\n",
    "x_sd=np.sqrt(x_var)\n",
    "print(x_sd)"
   ]
  },
  {
   "cell_type": "code",
   "execution_count": 2,
   "metadata": {},
   "outputs": [
    {
     "name": "stdout",
     "output_type": "stream",
     "text": [
      "0.49269521612976297\n",
      "0.49269521612976297\n"
     ]
    }
   ],
   "source": [
    "import pandas as pd\n",
    "#from matplotlib import pyplot as plt\n",
    "import numpy as np\n",
    "\n",
    "data=pd.read_csv('Boston.csv')\n",
    "data['lstat']=data['lstat'].fillna(data['lstat'].mean())\n",
    "x_data=np.array(data[['rm']])\n",
    "yt=np.array(data[['medv']])\n",
    "xxx=(x_data-np.mean(x_data))**2\n",
    "print(np.sum(xxx)/len(x_data))\n",
    "print(np.var(x_data))"
   ]
  },
  {
   "cell_type": "code",
   "execution_count": 9,
   "metadata": {},
   "outputs": [
    {
     "name": "stdout",
     "output_type": "stream",
     "text": [
      "95.0\n"
     ]
    }
   ],
   "source": [
    "import numpy as np\n",
    "x=[98,99,96,91,99,91,94,93,99,90]\n",
    "print(np.mean(x))"
   ]
  },
  {
   "cell_type": "code",
   "execution_count": 11,
   "metadata": {},
   "outputs": [
    {
     "name": "stdout",
     "output_type": "stream",
     "text": [
      "[[1.       0.509375]\n",
      " [0.509375 1.      ]]\n"
     ]
    }
   ],
   "source": [
    "import numpy as np\n",
    "x=np.array([85,73,52,88,98,81,92,87,96,88])\n",
    "y=np.array([8,6,2,2,9,7,9,8,5,4])\n",
    "Corrcoef=np.corrcoef(x,y)\n",
    "print(Corrcoef)"
   ]
  },
  {
   "cell_type": "code",
   "execution_count": 15,
   "metadata": {},
   "outputs": [
    {
     "name": "stdout",
     "output_type": "stream",
     "text": [
      "[[1.         0.95750662]\n",
      " [0.95750662 1.        ]]\n"
     ]
    }
   ],
   "source": [
    "import numpy as np\n",
    "x=np.array([14.2,16.4,11.9,15.2,18.5,22.1,19.4,25.1,23.4,18.1,22.6,17.2])\n",
    "y=np.array([215,325,185,332,406,522,412,614,544,421,445,408])\n",
    "Corrcoef=np.corrcoef(x,y)\n",
    "print(Corrcoef)"
   ]
  },
  {
   "cell_type": "code",
   "execution_count": 16,
   "metadata": {},
   "outputs": [
    {
     "name": "stdout",
     "output_type": "stream",
     "text": [
      "0.9575066230015952\n"
     ]
    }
   ],
   "source": [
    "import numpy as np\n",
    "x=np.array([14.2,16.4,11.9,15.2,18.5,22.1,19.4,25.1,23.4,18.1,22.6,17.2])\n",
    "y=np.array([215,325,185,332,406,522,412,614,544,421,445,408])\n",
    "a=np.sum((x-np.mean(x))*((y-np.mean(y))))\n",
    "b=np.sqrt(np.sum((x-np.mean(x))**2))\n",
    "c=np.sqrt(np.sum((y-np.mean(y))**2))\n",
    "PC=a/(b*c)\n",
    "print(PC)"
   ]
  }
 ],
 "metadata": {
  "kernelspec": {
   "display_name": "base",
   "language": "python",
   "name": "python3"
  },
  "language_info": {
   "codemirror_mode": {
    "name": "ipython",
    "version": 3
   },
   "file_extension": ".py",
   "mimetype": "text/x-python",
   "name": "python",
   "nbconvert_exporter": "python",
   "pygments_lexer": "ipython3",
   "version": "3.9.7"
  },
  "orig_nbformat": 4,
  "vscode": {
   "interpreter": {
    "hash": "f08154012ddadd8e950e6e9e035c7a7b32c136e7647e9b7c77e02eb723a8bedb"
   }
  }
 },
 "nbformat": 4,
 "nbformat_minor": 2
}

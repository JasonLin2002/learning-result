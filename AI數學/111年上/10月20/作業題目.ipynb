{
 "cells": [
  {
   "cell_type": "code",
   "execution_count": 1,
   "metadata": {},
   "outputs": [
    {
     "name": "stdout",
     "output_type": "stream",
     "text": [
      "Length: 11\n",
      "Max: 1309830\n",
      "Min: 1\n",
      "Sum: 2100665\n"
     ]
    }
   ],
   "source": [
    "a=[]\n",
    "x=eval(input())\n",
    "\n",
    "while(x!=-9999):\n",
    "    a.append(x)\n",
    "    x=eval(input())\n",
    "\n",
    "print('Length:',len(a))\n",
    "print('Max:',max(a))\n",
    "print('Min:',min(a))\n",
    "print('Sum:',sum(a))\n"
   ]
  },
  {
   "cell_type": "code",
   "execution_count": 9,
   "metadata": {},
   "outputs": [
    {
     "name": "stdout",
     "output_type": "stream",
     "text": [
      "{'葡萄', '草莓', '芭樂', '水梨', '芒果'}\n",
      "{'西瓜', '芭樂', '番茄', '水梨', '楊桃'}\n",
      "{'火龍果', '奇異果', '葡萄', '西瓜', '芭樂', '草莓', '番茄', '水梨', '芒果', '楊桃', '哈密瓜'}\n",
      "{'葡萄', '西瓜', '草莓', '番茄', '芭樂', '水梨', '芒果', '楊桃'}\n",
      "{'水梨', '芭樂'}\n",
      "{'火龍果', '奇異果', '西瓜', '番茄', '楊桃', '哈密瓜'}\n",
      "{'火龍果', '奇異果', '葡萄', '草莓', '芒果', '哈密瓜'}\n",
      "{'草莓', '芒果', '葡萄'}\n",
      "{'楊桃', '西瓜', '番茄'}\n"
     ]
    }
   ],
   "source": [
    "a=set()\n",
    "b=set()\n",
    "list={'芒果','草莓','水梨','芭樂','楊桃','番茄','火龍果','奇異果','哈密瓜','葡萄','西瓜'}\n",
    "while True:\n",
    "  enter=input()\n",
    "  if enter != \"結束\":\n",
    "        a.add(enter)\n",
    "  else:\n",
    "        break\n",
    "\n",
    "\n",
    "while True:\n",
    "  enter=input()\n",
    "  if enter != \"結束\":\n",
    "        b.add(enter)\n",
    "  else:\n",
    "        break\n",
    "\n",
    "print(a)\n",
    "print(b)\n",
    "print(list)\n",
    "print(a|b)\n",
    "print(a&b)\n",
    "print(list-a)\n",
    "print(list-b)\n",
    "print(list-a-b)\n",
    "print(b-a)"
   ]
  },
  {
   "cell_type": "code",
   "execution_count": 15,
   "metadata": {},
   "outputs": [
    {
     "name": "stdout",
     "output_type": "stream",
     "text": [
      "55\n"
     ]
    }
   ],
   "source": [
    "x=int(input())\n",
    "sum=0\n",
    "for i in range (1,x):\n",
    "    sum=sum+i\n",
    "print(sum)"
   ]
  },
  {
   "cell_type": "code",
   "execution_count": 16,
   "metadata": {},
   "outputs": [
    {
     "name": "stdout",
     "output_type": "stream",
     "text": [
      "32\n"
     ]
    }
   ],
   "source": [
    "x=int(input())\n",
    "y=int(input())\n",
    "print(pow(x,y))"
   ]
  }
 ],
 "metadata": {
  "kernelspec": {
   "display_name": "Python 3.10.6 64-bit",
   "language": "python",
   "name": "python3"
  },
  "language_info": {
   "codemirror_mode": {
    "name": "ipython",
    "version": 3
   },
   "file_extension": ".py",
   "mimetype": "text/x-python",
   "name": "python",
   "nbconvert_exporter": "python",
   "pygments_lexer": "ipython3",
   "version": "3.10.6"
  },
  "orig_nbformat": 4,
  "vscode": {
   "interpreter": {
    "hash": "f9f867c76b7971dad3b218056e1c03cd2c86e3d69cf13140757d5de8c1cc55da"
   }
  }
 },
 "nbformat": 4,
 "nbformat_minor": 2
}

{
 "cells": [
  {
   "cell_type": "code",
   "execution_count": 1,
   "metadata": {},
   "outputs": [
    {
     "data": {
      "text/plain": [
       "array([[25,  5,  3],\n",
       "       [ 2, 26,  7]])"
      ]
     },
     "execution_count": 1,
     "metadata": {},
     "output_type": "execute_result"
    }
   ],
   "source": [
    "import numpy as np\n",
    "\n",
    "x=np.array([[25,2],[5,26],[3,7]])\n",
    "\n",
    "np.transpose(x) #轉置矩陣"
   ]
  },
  {
   "cell_type": "code",
   "execution_count": 2,
   "metadata": {},
   "outputs": [
    {
     "data": {
      "text/plain": [
       "array([[  0,  -1,  -2],\n",
       "       [  3,   4,   5],\n",
       "       [-12, -14, -16]])"
      ]
     },
     "execution_count": 2,
     "metadata": {},
     "output_type": "execute_result"
    }
   ],
   "source": [
    "import numpy as np\n",
    "\n",
    "x=np.array([[0,1,2],[3,4,5],[6,7,8]])\n",
    "y=np.array([[-1],[1],[-2]])\n",
    "\n",
    "x*y"
   ]
  },
  {
   "cell_type": "code",
   "execution_count": 3,
   "metadata": {},
   "outputs": [
    {
     "ename": "ValueError",
     "evalue": "operands could not be broadcast together with shapes (3,3) (3,2) ",
     "output_type": "error",
     "traceback": [
      "\u001b[1;31m---------------------------------------------------------------------------\u001b[0m",
      "\u001b[1;31mValueError\u001b[0m                                Traceback (most recent call last)",
      "Cell \u001b[1;32mIn [3], line 6\u001b[0m\n\u001b[0;32m      3\u001b[0m x\u001b[39m=\u001b[39mnp\u001b[39m.\u001b[39marray([[\u001b[39m0\u001b[39m,\u001b[39m1\u001b[39m,\u001b[39m2\u001b[39m],[\u001b[39m3\u001b[39m,\u001b[39m4\u001b[39m,\u001b[39m5\u001b[39m],[\u001b[39m6\u001b[39m,\u001b[39m7\u001b[39m,\u001b[39m8\u001b[39m]])\n\u001b[0;32m      4\u001b[0m y\u001b[39m=\u001b[39mnp\u001b[39m.\u001b[39marray([[\u001b[39m-\u001b[39m\u001b[39m1\u001b[39m,\u001b[39m0\u001b[39m],[\u001b[39m1\u001b[39m,\u001b[39m1\u001b[39m],[\u001b[39m-\u001b[39m\u001b[39m2\u001b[39m,\u001b[39m2\u001b[39m]])\n\u001b[1;32m----> 6\u001b[0m x\u001b[39m*\u001b[39;49my\n",
      "\u001b[1;31mValueError\u001b[0m: operands could not be broadcast together with shapes (3,3) (3,2) "
     ]
    }
   ],
   "source": [
    "import numpy as np\n",
    "\n",
    "x=np.array([[0,1,2],[3,4,5],[6,7,8]])\n",
    "y=np.array([[-1,0],[1,1],[-2,2]])\n",
    "\n",
    "x*y"
   ]
  },
  {
   "cell_type": "code",
   "execution_count": 4,
   "metadata": {},
   "outputs": [
    {
     "data": {
      "text/plain": [
       "tensor([[  0,  -1,  -2],\n",
       "        [  3,   4,   5],\n",
       "        [-12, -14, -16]])"
      ]
     },
     "execution_count": 4,
     "metadata": {},
     "output_type": "execute_result"
    }
   ],
   "source": [
    "import torch\n",
    "\n",
    "x=torch.tensor([[0,1,2],[3,4,5],[6,7,8]])\n",
    "y=torch.tensor([[-1],[1],[-2]])\n",
    "\n",
    "x*y"
   ]
  },
  {
   "cell_type": "code",
   "execution_count": 1,
   "metadata": {},
   "outputs": [
    {
     "data": {
      "image/png": "[encoded data removed]",
      "text/plain": [
       "<Figure size 640x480 with 1 Axes>"
      ]
     },
     "metadata": {},
     "output_type": "display_data"
    }
   ],
   "source": [
    "import pandas as pd\n",
    "from matplotlib import pyplot as plt\n",
    "import numpy as np\n",
    "\n",
    "data=pd.read_csv('HousingData.csv')\n",
    "data['lstat']=data['lstat'].fillna(data['lstat'].mean())\n",
    "x_data=np.array(data[['rm']])\n",
    "yt=np.array(data[['medv']])\n",
    "x=np.insert(x_data,0,1.0,axis=1)\n",
    "plt.scatter(x[:,1],yt,s=10,c='b')\n",
    "plt.xlabel('ROOM',fontsize=14)\n",
    "plt.ylabel('PRICE',fontsize=14)\n",
    "plt.show()"
   ]
  },
  {
   "cell_type": "code",
   "execution_count": null,
   "metadata": {},
   "outputs": [],
   "source": [
    "import tensorflow as tf\n",
    "tf . Variable ( [[1, 2], [3, 4.]]) # tf. norm () also requires floats"
   ]
  },
  {
   "cell_type": "code",
   "execution_count": 9,
   "metadata": {},
   "outputs": [
    {
     "name": "stdout",
     "output_type": "stream",
     "text": [
      "X=\n",
      " [[ 4  2]\n",
      " [-5 -3]]\n",
      "X inverse=\n",
      " [[ 1.5  1. ]\n",
      " [-2.5 -2. ]]\n",
      "y=\n",
      " [ 4 -7]\n",
      "w=\n",
      " [-1.  4.]\n",
      "test=\n",
      " [ 4. -7.]\n"
     ]
    }
   ],
   "source": [
    "import numpy as np\n",
    "X=np.array([[4,2],[-5,-3]])\n",
    "X_inv=np.linalg.inv(X)\n",
    "y=np.array([4,-7])\n",
    "w=np.dot(X_inv,y)\n",
    "print(f'X=\\n {X}')\n",
    "print(f'X inverse=\\n {X_inv}')\n",
    "print(f'y=\\n {y}')\n",
    "print(f'w=\\n {w}')\n",
    "print(f'test=\\n {np.dot(X,w)}')"
   ]
  },
  {
   "cell_type": "code",
   "execution_count": 25,
   "metadata": {},
   "outputs": [
    {
     "data": {
      "text/plain": [
       "11.180339887498949"
      ]
     },
     "execution_count": 25,
     "metadata": {},
     "output_type": "execute_result"
    }
   ],
   "source": [
    "import numpy as np\n",
    "\n",
    "\n",
    "\n",
    "x=[[5,10,0]]\n",
    "\n",
    "np.array(x)\n",
    "np.linalg.norm(x)\n",
    "\n",
    "\n"
   ]
  },
  {
   "cell_type": "code",
   "execution_count": 28,
   "metadata": {},
   "outputs": [
    {
     "data": {
      "text/plain": [
       "tensor(11.1803)"
      ]
     },
     "execution_count": 28,
     "metadata": {},
     "output_type": "execute_result"
    }
   ],
   "source": [
    "import torch\n",
    "\n",
    "x=[[5,10,0.]]\n",
    "\n",
    "x_pt=torch.tensor(x)\n",
    "torch.norm(x_pt)"
   ]
  },
  {
   "cell_type": "code",
   "execution_count": 27,
   "metadata": {},
   "outputs": [
    {
     "data": {
      "text/plain": [
       "<tf.Tensor: shape=(), dtype=float32, numpy=11.18034>"
      ]
     },
     "execution_count": 27,
     "metadata": {},
     "output_type": "execute_result"
    }
   ],
   "source": [
    "import tensorflow as tf\n",
    "\n",
    "x=[[5,10,0.]]\n",
    "\n",
    "x_tf=tf.Variable(x)\n",
    "tf.norm(x_tf)"
   ]
  }
 ],
 "metadata": {
  "kernelspec": {
   "display_name": "Python 3",
   "language": "python",
   "name": "python3"
  },
  "language_info": {
   "codemirror_mode": {
    "name": "ipython",
    "version": 3
   },
   "file_extension": ".py",
   "mimetype": "text/x-python",
   "name": "python",
   "nbconvert_exporter": "python",
   "pygments_lexer": "ipython3",
   "version": "3.9.10 (tags/v3.9.10:f2f3f53, Jan 17 2022, 15:14:21) [MSC v.1929 64 bit (AMD64)]"
  },
  "orig_nbformat": 4,
  "vscode": {
   "interpreter": {
    "hash": "c5d269574d350b051d2fab1614ebbbf2fa09728239c894b53d63951c9539b734"
   }
  }
 },
 "nbformat": 4,
 "nbformat_minor": 2
}

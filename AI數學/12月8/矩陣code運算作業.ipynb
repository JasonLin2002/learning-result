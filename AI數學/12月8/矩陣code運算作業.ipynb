{
 "cells": [
  {
   "cell_type": "code",
   "execution_count": 2,
   "metadata": {},
   "outputs": [
    {
     "data": {
      "text/plain": [
       "array([4, 5, 2])"
      ]
     },
     "execution_count": 2,
     "metadata": {},
     "output_type": "execute_result"
    }
   ],
   "source": [
    "import numpy as np\n",
    "a=np.array([[6,-5,2],[2,1,-4],[3,-3,1]])\n",
    "b=np.array([3,5, -1])\n",
    "\n",
    "x=np.linalg.solve(a, b)\n",
    "x=np.array([round(x[0]),round(x[1]),round(x[2])])\n",
    "x"
   ]
  },
  {
   "cell_type": "code",
   "execution_count": 3,
   "metadata": {},
   "outputs": [
    {
     "data": {
      "text/plain": [
       "array([ 6, -1, -3])"
      ]
     },
     "execution_count": 3,
     "metadata": {},
     "output_type": "execute_result"
    }
   ],
   "source": [
    "import numpy as np\n",
    "a=np.array([[2,-5,3],[3,-1,4],[1,3,2]])\n",
    "b=np.array([8,7,-3])\n",
    "x=np.linalg.solve(a,b)\n",
    "x=[round(x[0]),round(x[1]),round(x[2])]\n",
    "x=np.array([round(x[0]),round(x[1]),round(x[2])])\n",
    "x"
   ]
  },
  {
   "cell_type": "code",
   "execution_count": 4,
   "metadata": {},
   "outputs": [
    {
     "data": {
      "text/plain": [
       "array([ 7, 12, -2])"
      ]
     },
     "execution_count": 4,
     "metadata": {},
     "output_type": "execute_result"
    }
   ],
   "source": [
    "import numpy as np\n",
    "a=np.array([[5,-3,2],[2,-1,-1],[3,-2,2]])\n",
    "b=np.array([-5,4,-7])\n",
    "x=np.linalg.solve(a,b)\n",
    "x=np.array([round(x[0]),round(x[1]),round(x[2])])\n",
    "x"
   ]
  },
  {
   "cell_type": "code",
   "execution_count": 5,
   "metadata": {},
   "outputs": [
    {
     "data": {
      "text/plain": [
       "array([ 0.59375,  0.28125, -0.84375])"
      ]
     },
     "execution_count": 5,
     "metadata": {},
     "output_type": "execute_result"
    }
   ],
   "source": [
    "import numpy as np\n",
    "a=np.array([[4,-3,3],[1,2,-1],[-2,-1,3]])\n",
    "b=np.array([-1,2,-4])\n",
    "x=np.linalg.solve(a,b)\n",
    "x"
   ]
  },
  {
   "cell_type": "code",
   "execution_count": 7,
   "metadata": {},
   "outputs": [
    {
     "name": "stdout",
     "output_type": "stream",
     "text": [
      "矩陣不存在逆矩陣\n"
     ]
    }
   ],
   "source": [
    "try:\n",
    "    import numpy as np\n",
    "    a=np.array([[1,-1,2],[2,1,-2],[4,-1,2]])\n",
    "    b=np.array([3,1,0])\n",
    "    x=np.linalg.solve(a,b)\n",
    "    x=np.array([round(x[0]),round(x[1]),round(x[2])])\n",
    "    x\n",
    "\n",
    "except:\n",
    "    print('矩陣不存在逆矩陣')"
   ]
  }
 ],
 "metadata": {
  "kernelspec": {
   "display_name": "Python 3.10.6 64-bit",
   "language": "python",
   "name": "python3"
  },
  "language_info": {
   "codemirror_mode": {
    "name": "ipython",
    "version": 3
   },
   "file_extension": ".py",
   "mimetype": "text/x-python",
   "name": "python",
   "nbconvert_exporter": "python",
   "pygments_lexer": "ipython3",
   "version": "3.10.6"
  },
  "orig_nbformat": 4,
  "vscode": {
   "interpreter": {
    "hash": "f9f867c76b7971dad3b218056e1c03cd2c86e3d69cf13140757d5de8c1cc55da"
   }
  }
 },
 "nbformat": 4,
 "nbformat_minor": 2
}

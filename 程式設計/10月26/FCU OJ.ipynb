{
 "cells": [
  {
   "cell_type": "markdown",
   "metadata": {},
   "source": [
    "罰寫\n",
    "Description\n",
    "\n",
    "小明他說髒話時被老師聽到了，結果被罰在黑板上寫n遍「I don'tsay swear words!」。\n",
    "\n",
    "\n",
    "Input\n",
    "輸入只有一行，其中含有一個正整數n，代表小明被罰寫的次數。\n",
    "\n",
    "\n",
    "Output\n",
    "輸出n行「I don't say swear words!」，最後必須有換行字元。"
   ]
  },
  {
   "cell_type": "code",
   "execution_count": 11,
   "metadata": {},
   "outputs": [
    {
     "name": "stdout",
     "output_type": "stream",
     "text": [
      "I don't say swear words!\n",
      "I don't say swear words!\n",
      "I don't say swear words!\n",
      "I don't say swear words!\n",
      "I don't say swear words!\n",
      "I don't say swear words!\n",
      "I don't say swear words!\n",
      "I don't say swear words!\n"
     ]
    }
   ],
   "source": [
    "x=int(input())\n",
    "for i in range (x):\n",
    "\tprint(\"I don't say swear words!\")"
   ]
  },
  {
   "cell_type": "markdown",
   "metadata": {},
   "source": [
    "星座\n",
    "Description\n",
    "\n",
    "小明想要知道班上同學們的星座分布，小明目前只知道全班的生日，請幫小明寫一程式，輸入日期輸出該日期所代表的星座。\n",
    "\n",
    "星座                  日期\n",
    "\n",
    "水瓶座(Aquarius)1/21 ~ 2/19\n",
    "\n",
    "雙魚座(Pisces)2/20~ 3/20\n",
    "\n",
    "牡羊座(Aries)3/21~ 4/20\n",
    "\n",
    "金牛座(Taurus)4/21 ~ 5/21\n",
    "\n",
    "雙子座(Gemini)5/22 ~ 6/21\n",
    "\n",
    "巨蟹座(Cancer)6/22 ~ 7/22\n",
    "\n",
    "獅子座(Leo)7/23~ 8/21\n",
    "\n",
    "處女座(Virgo)8/22~ 9/23\n",
    "\n",
    "天秤座(Libra)9/24~ 10/23\n",
    "\n",
    "天蠍座(Scorpio)10/24 ~ 11/22\n",
    "\n",
    "射手座(Sagittarius)11/23 ~ 12/22\n",
    "\n",
    "摩羯座(Capricorn)12/23 ~ 1/20\n",
    "\n",
    "\n",
    "Input\n",
    "輸入兩個正整數(int)，分別為月與日。\n",
    "\n",
    "\n",
    "Output\n",
    "輸出日期對應星座的英文，最後必須有換行字元。"
   ]
  },
  {
   "cell_type": "code",
   "execution_count": null,
   "metadata": {},
   "outputs": [],
   "source": [
    "month=int(input())\n",
    "day=int(input())\n",
    "if (month == 1 and day > 20)or(month == 2 and day < 19):\n",
    "     print(\"Aquarius\")\n",
    "elif (month == 2 and day > 18)or(month == 3 and day < 21):\n",
    "     print(\"Pisces\")\n",
    "elif (month == 3 and day > 20)or(month == 4 and day < 21):\n",
    "      print(\"Aries\")\n",
    "elif (month == 4 and day > 20)or(month == 5 and day < 22):\n",
    "     print(\"Taurus\")\n",
    "elif (month == 5 and day > 21)or(month == 6 and day < 22):\n",
    "     print(\"Gemini\")\n",
    "elif (month == 6 and day > 21)or(month == 7 and day < 23):\n",
    "    print(\"Cancer\")\n",
    "elif (month == 7 and day > 22)or(month == 8 and day < 24):\n",
    "    print(\"Leo\")\n",
    "elif (month == 8 and day > 23)or(month == 9 and day < 24):\n",
    "    print(\"Virgo\")\n",
    "elif (month == 9 and day > 23)or(month == 10 and day < 24):\n",
    "     print(\"Libra\")\n",
    "elif (month == 10 and day > 23)or(month == 11 and day < 23):\n",
    "    print(\"Scorpio\")\n",
    "elif (month == 11 and day > 22)or(month == 12 and day < 22):\n",
    "    print(\"Sagittarius\")\n",
    "elif (month == 12 and day > 21)or(month == 1 and day < 21):\n",
    "    print(\"Capricorn\")"
   ]
  },
  {
   "cell_type": "markdown",
   "metadata": {},
   "source": [
    "交通工具\n",
    "Description\n",
    "\n",
    "小明要從家裡去參加國中同學會，小明家到同學會的路程為n公里，如果距離在1公里以下，小明會選擇走路(Walk)過去，距離在2到9公里會選擇騎機車(Scooter)，距離在10公里以上會選擇開車(Car)。\n",
    "\n",
    "\n",
    "Input\n",
    "輸入一正整數n，為幾公里。\n",
    "\n",
    "\n",
    "Output\n",
    "輸出小明使用的交通工具，最後必須有換行字元。"
   ]
  },
  {
   "cell_type": "code",
   "execution_count": null,
   "metadata": {},
   "outputs": [],
   "source": [
    "x=int(input())\n",
    "if x<=1:\n",
    "\tprint('Walk')\n",
    "elif 2<=x<=9:\n",
    "\tprint('Scooter')\n",
    "elif x>=10:\n",
    "\tprint('Car')"
   ]
  },
  {
   "cell_type": "markdown",
   "metadata": {},
   "source": [
    "計算連續整數(for)\n",
    "Description\n",
    "\n",
    "注意:此題限制只能使用for迴圈解題。\n",
    "\n",
    "數學老師出了許多的連續整數相加的題目給學生練習，小明覺得寫這寫練習太花時間，於是寫一個程式幫忙計算。\n",
    "\n",
    "連續整數相加例子:\n",
    "\n",
    "1.2+3+4+5+6+7+8+9+10\n",
    "\n",
    "2.98+99+100+101+……+150+151+152\n",
    "\n",
    "\n",
    "Input\n",
    "輸入兩個正整數分別為連續整數的開始數字與結束數字。\n",
    "\n",
    "\n",
    "Output\n",
    "輸出連續整數相加結果，最後必須有換行字元。"
   ]
  },
  {
   "cell_type": "code",
   "execution_count": 15,
   "metadata": {},
   "outputs": [
    {
     "name": "stdout",
     "output_type": "stream",
     "text": [
      "6\n"
     ]
    }
   ],
   "source": [
    "x=int(input())\n",
    "y=int(input())\n",
    "sum=0\n",
    "for i in range(x,y+1):\n",
    "\tsum+=i\n",
    "print(sum)"
   ]
  },
  {
   "cell_type": "markdown",
   "metadata": {},
   "source": [
    "成績加分\n",
    "Description\n",
    "\n",
    "老師在計算班級平均成績時發現平均成績太低，所以將每個學生的成績進行加分，加分的規則是90分以上加5分(超過100分當100分計算)，60分以上加8分，不到60分則是加12分。\n",
    "\n",
    "\n",
    "Input\n",
    "輸入學生成績(int)。\n",
    "\n",
    "\n",
    "Output\n",
    "輸出學生經過加分後的新成績。"
   ]
  },
  {
   "cell_type": "code",
   "execution_count": 17,
   "metadata": {},
   "outputs": [
    {
     "name": "stdout",
     "output_type": "stream",
     "text": [
      "100\n"
     ]
    }
   ],
   "source": [
    "x=int(input())\n",
    "if x>=90:\n",
    "    if x>=95:\n",
    "        print(100)\n",
    "    else:\n",
    "        print(x+5)\n",
    "elif x>=60:\n",
    "    print(x+8)\n",
    "elif x<60:\n",
    "\tprint(x+12)"
   ]
  },
  {
   "cell_type": "markdown",
   "metadata": {},
   "source": [
    "計算MVP數值\n",
    "Description\n",
    "\n",
    "寫一程式，讓使用者可以輸入籃球員的平均得分、籃板、助攻、抄截以及失誤等數值。並依照(得分*2+助攻*1+籃板*2+抄截*2)-(失誤*2)的公式取得此籃球員的MVP數值，根據MVP數值將球員分成四個等級，大於46分以上為A級球員，45~33分為B級球員，32~24分為C級球員，低於24分為D級球員。\n",
    "\n",
    "\n",
    "Input\n",
    "輸入5個正整數(int)，依序分別代表:平均得分、籃板、助攻、抄截以及失誤。\n",
    "\n",
    "\n",
    "Output\n",
    "輸出該球員的等級，最後必須有換行字元。"
   ]
  },
  {
   "cell_type": "code",
   "execution_count": 3,
   "metadata": {},
   "outputs": [
    {
     "name": "stdout",
     "output_type": "stream",
     "text": [
      "a\n"
     ]
    }
   ],
   "source": [
    "x=(int(input())*2)+(int(input()))+(int(input())*2)+(int(input())*2)-(int(input())*2)\n",
    "if x>=46:\n",
    "    print('A')\n",
    "elif 33<=x<=45:\n",
    "    print('B')\n",
    "elif 24<=x<=32:\n",
    "    print('C')\n",
    "else:\n",
    "    print('D')"
   ]
  },
  {
   "cell_type": "markdown",
   "metadata": {},
   "source": [
    "倍數\n",
    "Description\n",
    "\n",
    "寫一程式輸出在a <= x <= b範圍內，符合n的倍數的整數x。\n",
    "\n",
    "\n",
    "Input\n",
    "輸入三個整數(int)，分別為範圍a,、b，以及n。\n",
    "\n",
    "\n",
    "Output\n",
    "輸出在a,b範圍內所有n的倍數，最後必須有換行字元。"
   ]
  },
  {
   "cell_type": "code",
   "execution_count": 5,
   "metadata": {},
   "outputs": [
    {
     "name": "stdout",
     "output_type": "stream",
     "text": [
      "3\n",
      "6\n",
      "9\n",
      "12\n",
      "15\n",
      "18\n"
     ]
    }
   ],
   "source": [
    "x=int(input())\n",
    "y=int(input())\n",
    "z=int(input())\n",
    "for i in range(x,y+1):\n",
    "    if i % z == 0:\n",
    "        print(i)"
   ]
  },
  {
   "cell_type": "markdown",
   "metadata": {},
   "source": [
    "四則運算(二)\n",
    "Description\n",
    "\n",
    "小明在寫數學作業，請寫出一程式幫助小明計算數學，輸入兩個整數以及一個運算符號(+,-,*,/,%)，並根據運算符號將兩整數進行運算後輸出其結果(除號”/”所使用的運算為// )。\n",
    "\n",
    "例:\n",
    "\n",
    "2,3,+-> 2+3=5\n",
    "\n",
    "\n",
    "Input\n",
    "輸入兩個整數(int)，以及一個運算符號(+, -, *, /, %)。\n",
    "\n",
    "\n",
    "Output\n",
    "輸出格式為[第一個整數] [運算符號] [第二個整數] = [運算結果]，最後必須有換行字元。"
   ]
  },
  {
   "cell_type": "code",
   "execution_count": null,
   "metadata": {},
   "outputs": [],
   "source": [
    "x=int(input())\n",
    "y=int(input())\n",
    "z=input()\n",
    "if z==\"+\":\n",
    "    print(x,\"+\",y,\"=\",x+y)\n",
    "elif z==\"-\":\n",
    "    print(x,\"-\",y,\"=\",x-y)\n",
    "elif z==\"*\":\n",
    "    print(x,\"*\",y,\"=\",x*y)\n",
    "elif z==\"/\":\n",
    "    print(x,\"/\",y,\"=\",x//y)\n",
    "else:\n",
    "    print(x,\"%\",y,\"=\",x%y)"
   ]
  },
  {
   "cell_type": "markdown",
   "metadata": {},
   "source": [
    "判斷三角形\n",
    "Description\n",
    "\n",
    "給你一個三角形的邊長，請你判斷它是銳角 (acute)、直角 (right)、或是鈍角 (obtuse) 三角形。\n",
    "\n",
    "\n",
    "Input\n",
    "輸入三個正整數 a, b, c (0 < a, b, c ≤ 32767)，代表三角形的邊長。\n",
    "\n",
    "\n",
    "Output\n",
    "依三角形的類別輸出「acute triangle」、「right triangle」、或「obtuse triangle」如果無法組成三角形則輸出「not triangle」，最後必須有換行字元。"
   ]
  },
  {
   "cell_type": "code",
   "execution_count": null,
   "metadata": {},
   "outputs": [],
   "source": [
    "A=int(input())                 \n",
    "B=int(input())\n",
    "C=int(input())   \n",
    "\n",
    "\n",
    "if A+B <= C:                \n",
    "    print('not triangle')\n",
    "\n",
    "elif A**2+B**2 < C**2:     \n",
    "    print('obtuse triangle')\n",
    "elif A**2+B**2 == C**2:     \n",
    "    print('right triangle')\n",
    "elif A**2+B**2 > C**2:      \n",
    "    print('acute triangle')"
   ]
  },
  {
   "cell_type": "markdown",
   "metadata": {},
   "source": [
    "You Cannot Pass?!\n",
    "Description\n",
    "\n",
    "你考了n科筆試題目，每科的滿分都是100分。老師說，如果平均大於59你就過關了。\n",
    "\n",
    "\n",
    "Input\n",
    "輸入科目數n (int)，之後輸入n個正整數(int)為科目的成績。\n",
    "\n",
    "\n",
    "Output\n",
    "若你被當了，請輸出「NO」，否則輸出「YES」，最後必須有換行字元。"
   ]
  },
  {
   "cell_type": "code",
   "execution_count": 14,
   "metadata": {},
   "outputs": [
    {
     "name": "stdout",
     "output_type": "stream",
     "text": [
      "68.0\n",
      "YES\n"
     ]
    }
   ],
   "source": [
    "n=int(input())\n",
    "sum=0\n",
    "for i in range(n) :\n",
    "    sum =sum+int(input())\n",
    "    x=sum/n\n",
    "if x > 59:\n",
    "    print(\"YES\")\n",
    "else:\n",
    "    print(\"NO\")"
   ]
  }
 ],
 "metadata": {
  "kernelspec": {
   "display_name": "Python 3.9.10 64-bit",
   "language": "python",
   "name": "python3"
  },
  "language_info": {
   "codemirror_mode": {
    "name": "ipython",
    "version": 3
   },
   "file_extension": ".py",
   "mimetype": "text/x-python",
   "name": "python",
   "nbconvert_exporter": "python",
   "pygments_lexer": "ipython3",
   "version": "3.9.10"
  },
  "orig_nbformat": 4,
  "vscode": {
   "interpreter": {
    "hash": "c5d269574d350b051d2fab1614ebbbf2fa09728239c894b53d63951c9539b734"
   }
  }
 },
 "nbformat": 4,
 "nbformat_minor": 2
}

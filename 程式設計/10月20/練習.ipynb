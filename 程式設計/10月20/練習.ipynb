{
 "cells": [
  {
   "cell_type": "code",
   "execution_count": null,
   "metadata": {},
   "outputs": [],
   "source": [
    "x=int(input())\n",
    "if x==1:\n",
    "    print('Hello Snow!')\n",
    "elif x==2:\n",
    "    print('Hello Snow!')\n",
    "elif x==3:\n",
    "    print('Hello Snow!')\n",
    "elif x==4:\n",
    "    print('Hello Snow!')\n",
    "elif x==5:\n",
    "    print('Hello Snow!')\n",
    "elif x==6:\n",
    "    print('Hello Snow!')\n",
    "elif x==7:\n",
    "    print('Hello Snow!')\n",
    "elif x==8:\n",
    "    print('Hello Snow!')\n",
    "elif x==9:\n",
    "    print('Hello Snow!')\n",
    "elif x==10:\n",
    "    print('Hello Snow!')\n",
    "elif x==11:\n",
    "    print('Hello Snow!')\n",
    "elif x==12:\n",
    "    print('Hello Snow!')"
   ]
  },
  {
   "cell_type": "code",
   "execution_count": null,
   "metadata": {},
   "outputs": [],
   "source": [
    "try:\n",
    "    x=int(input('How old are you?'))\n",
    "    if 0<=x<100:\n",
    "        if x<=15:\n",
    "            y=input(\"Is you parent has license?(y/n)\")\n",
    "            if y==\"y\":\n",
    "                print('You can go to fish.')\n",
    "            else:\n",
    "                print(\"You can't go to fish.\")\n",
    "        else:\n",
    "            y=input(\"Do you have license?(y/n)\")\n",
    "            if y==\"y\":\n",
    "                print('You can go to fish.')\n",
    "            else:\n",
    "                print(\"You can't go to fish.\")\n",
    "except ValueError:\n",
    "    print('error input')\n"
   ]
  },
  {
   "cell_type": "code",
   "execution_count": 5,
   "metadata": {},
   "outputs": [
    {
     "name": "stdout",
     "output_type": "stream",
     "text": [
      "Error input\n"
     ]
    }
   ],
   "source": [
    "try:\n",
    "    x=int(input())\n",
    "    if 0<=x<=100:\n",
    "        if x>=60:\n",
    "            print('及格')\n",
    "        else:\n",
    "            print('不及格')\n",
    "except ValueError:\n",
    "    print('Error input')\n",
    "        "
   ]
  },
  {
   "cell_type": "markdown",
   "metadata": {},
   "source": [
    "計算1到n的階乘的和:"
   ]
  },
  {
   "cell_type": "code",
   "execution_count": 7,
   "metadata": {},
   "outputs": [
    {
     "name": "stdout",
     "output_type": "stream",
     "text": [
      "24\n"
     ]
    }
   ],
   "source": [
    "x=int(input())\n",
    "sum=1\n",
    "for i in range(1,x+1):\n",
    "    sum*=i\n",
    "print(sum)"
   ]
  },
  {
   "cell_type": "code",
   "execution_count": 14,
   "metadata": {},
   "outputs": [
    {
     "name": "stdout",
     "output_type": "stream",
     "text": [
      "8\n"
     ]
    }
   ],
   "source": [
    "x,y=map(int,input().split())\n",
    "sum=1\n",
    "for i in range(1,y+1):\n",
    "    sum*=x\n",
    "print(sum)\n"
   ]
  }
 ],
 "metadata": {
  "kernelspec": {
   "display_name": "Python 3.10.6 64-bit",
   "language": "python",
   "name": "python3"
  },
  "language_info": {
   "codemirror_mode": {
    "name": "ipython",
    "version": 3
   },
   "file_extension": ".py",
   "mimetype": "text/x-python",
   "name": "python",
   "nbconvert_exporter": "python",
   "pygments_lexer": "ipython3",
   "version": "3.10.6"
  },
  "orig_nbformat": 4,
  "vscode": {
   "interpreter": {
    "hash": "f9f867c76b7971dad3b218056e1c03cd2c86e3d69cf13140757d5de8c1cc55da"
   }
  }
 },
 "nbformat": 4,
 "nbformat_minor": 2
}

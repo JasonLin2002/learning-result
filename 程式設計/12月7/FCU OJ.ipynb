{
 "cells": [
  {
   "cell_type": "code",
   "execution_count": 2,
   "metadata": {},
   "outputs": [
    {
     "name": "stdout",
     "output_type": "stream",
     "text": [
      "10\n"
     ]
    }
   ],
   "source": [
    "def is_prime(n):\n",
    "    for i in range(2, n):\n",
    "        if n % i == 0:\n",
    "            return False\n",
    "    return True\n",
    "\n",
    "n = int(input())\n",
    "\n",
    "a=0\n",
    "\n",
    "for i in range(2, n + 1):\n",
    "    i_is_prime = is_prime(i)\n",
    "    if i_is_prime:\n",
    "        a+=i\n",
    "print(a)"
   ]
  },
  {
   "cell_type": "code",
   "execution_count": 17,
   "metadata": {},
   "outputs": [
    {
     "name": "stdout",
     "output_type": "stream",
     "text": [
      "78.68\n"
     ]
    }
   ],
   "source": [
    "x=eval(input())\n",
    "def fun(x):\n",
    "    a=0\n",
    "    for i in range (len(x)):\n",
    "        for j in range (5):\n",
    "            a+=int(x[i][j])\n",
    "    b=a/len(x)/5\n",
    "    return '{:.2f}'.format(b)\n",
    "print(fun(x))\n"
   ]
  },
  {
   "cell_type": "code",
   "execution_count": 25,
   "metadata": {},
   "outputs": [
    {
     "name": "stdout",
     "output_type": "stream",
     "text": [
      "Ideal\n"
     ]
    }
   ],
   "source": [
    "y=int(input())\n",
    "x=int(input())\n",
    "\n",
    "def fun(x,y):\n",
    "    if x<60 and y<90:\n",
    "        return('Low')\n",
    "    elif x<80 and y<120:\n",
    "        return('Ideal')\n",
    "    elif x<90 and y<140:\n",
    "        return('Pre-high')\n",
    "    elif x<100 and y<190:\n",
    "        return('High')\n",
    "\n",
    "print(fun(x,y))\n"
   ]
  },
  {
   "cell_type": "code",
   "execution_count": 28,
   "metadata": {},
   "outputs": [
    {
     "name": "stdout",
     "output_type": "stream",
     "text": [
      "21.4\n",
      "16.4\n"
     ]
    }
   ],
   "source": [
    "x=int(input())\n",
    "y=float(input())\n",
    "z=int(input())\n",
    "\n",
    "def fun1():\n",
    "    return '{:.2f}'.format(x+x*y)\n",
    "def fun2():\n",
    "    return '{:.2f}'.format(x+x*y-z)\n",
    "print(fun1())\n",
    "print(fun2())"
   ]
  },
  {
   "cell_type": "code",
   "execution_count": 31,
   "metadata": {},
   "outputs": [
    {
     "name": "stdout",
     "output_type": "stream",
     "text": [
      "   * **** **** *  *\n",
      "   * *  *    * *  *\n",
      "   * *  * **** ****\n",
      "   * *  * *       *\n",
      "   * **** ****    *\n"
     ]
    }
   ],
   "source": [
    "enum=[\n",
    "    [\n",
    "        '****',\n",
    "        '*  *',\n",
    "        '*  *',\n",
    "        '*  *',\n",
    "        '****',\n",
    "    ],\n",
    "    [\n",
    "        '   *',\n",
    "        '   *',\n",
    "        '   *',\n",
    "        '   *',\n",
    "        '   *',\n",
    "    ],\n",
    "    [\n",
    "        '****',\n",
    "        '   *',\n",
    "        '****',\n",
    "        '*   ',\n",
    "        '****',\n",
    "    ],\n",
    "    [\n",
    "        '****',\n",
    "        '   *',\n",
    "        '****',\n",
    "        '   *',\n",
    "        '****',\n",
    "    ],\n",
    "    [\n",
    "        '*  *',\n",
    "        '*  *',\n",
    "        '****',\n",
    "        '   *',\n",
    "        '   *',\n",
    "    ],\n",
    "    [\n",
    "        '****',\n",
    "        '*   ',\n",
    "        '****',\n",
    "        '   *',\n",
    "        '****',\n",
    "    ],\n",
    "    [\n",
    "        '****',\n",
    "        '*   ',\n",
    "        '****',\n",
    "        '*  *',\n",
    "        '****',\n",
    "    ],\n",
    "    [\n",
    "        '****',\n",
    "        '   *',\n",
    "        '   *',\n",
    "        '   *',\n",
    "        '   *',\n",
    "    ],\n",
    "    [\n",
    "        '****',\n",
    "        '*  *',\n",
    "        '****',\n",
    "        '*  *',\n",
    "        '****',\n",
    "    ],\n",
    "    [\n",
    "        '****',\n",
    "        '*  *',\n",
    "        '****',\n",
    "        '   *',\n",
    "        '****',\n",
    "    ],\n",
    "]\n",
    "def concat(enum1: list, enum2: list):\n",
    "    output = list()\n",
    "    for i in range(len(enum1)):\n",
    "        output.append(enum1[i] +' '+enum2[i])\n",
    "    return output\n",
    "_input = [int(_) for _ in input()]\n",
    "result = enum[_input.pop(0)]\n",
    "for num in _input :\n",
    "    result = concat(result, enum[num])\n",
    "print('\\n'.join(result))"
   ]
  },
  {
   "cell_type": "code",
   "execution_count": 37,
   "metadata": {},
   "outputs": [
    {
     "name": "stdout",
     "output_type": "stream",
     "text": [
      "100.8\n"
     ]
    }
   ],
   "source": [
    "a=int(input())\n",
    "b=float(input())\n",
    "c=input()\n",
    "d=input()\n",
    "\n",
    "def fun():\n",
    "    e=round(a*b)\n",
    "    if d=='True':\n",
    "        if c=='True':\n",
    "            x=((a+e)-(a+e)//100*20)*0.9\n",
    "        else:\n",
    "            x=((a+e)-(a+e)//100*20)\n",
    "    else:\n",
    "        if c=='True':\n",
    "            x=(a+e)*0.9\n",
    "        else:\n",
    "            x=(a+e)\n",
    "    return x\n",
    "\n",
    "print(fun())"
   ]
  },
  {
   "cell_type": "code",
   "execution_count": 55,
   "metadata": {},
   "outputs": [
    {
     "name": "stdout",
     "output_type": "stream",
     "text": [
      "         \n",
      "        *\n",
      "       ***\n",
      "      *****\n",
      "     *******\n",
      "    *********\n",
      "   ***********\n",
      "  *************\n",
      " ***************\n",
      "*****************\n"
     ]
    }
   ],
   "source": [
    "n=int(input())\n",
    "x=int(input())\n",
    "def fun_菱形():\n",
    "    for i in range(n+1):\n",
    "        print(' '*(n-i)+'*'*(2*i-1))\n",
    "    for i in range(n-1,0,-1):\n",
    "        print(' '*(n-i)+'*'*(2*i-1))\n",
    "def fun_三角形():\n",
    "    for i in range(n+1):\n",
    "        print(' '*(n-i)+'*'*(2*i-1))\n",
    "def fun_正方形():\n",
    "    print(\"*\"*n)\n",
    "    for i in range(n-2):\n",
    "        print(\"*\",\" \"*(n-4),\"*\")\n",
    "    print(\"*\"*n)\n",
    "if x==1:\n",
    "    fun_三角形()\n",
    "elif x==2:\n",
    "    fun_菱形()\n",
    "elif x==3:\n",
    "    fun_正方形()\n"
   ]
  },
  {
   "cell_type": "code",
   "execution_count": null,
   "metadata": {},
   "outputs": [],
   "source": [
    "a=input()\n",
    "\n",
    "def fun1():\n",
    "    b=a.replace(\" \", \"\")\n",
    "    return b\n",
    "def fun2():\n",
    "    c=len(a.split())\n",
    "    return c\n"
   ]
  },
  {
   "cell_type": "code",
   "execution_count": 60,
   "metadata": {},
   "outputs": [
    {
     "name": "stdout",
     "output_type": "stream",
     "text": [
      "['a', 'sentence', 'with', 'a', 'few', 'words']\n"
     ]
    }
   ],
   "source": [
    "line = \"a sentence with a few words\"\n",
    "line.split()\n",
    "print(str(line.split()))"
   ]
  }
 ],
 "metadata": {
  "kernelspec": {
   "display_name": "Python 3.9.10 64-bit",
   "language": "python",
   "name": "python3"
  },
  "language_info": {
   "codemirror_mode": {
    "name": "ipython",
    "version": 3
   },
   "file_extension": ".py",
   "mimetype": "text/x-python",
   "name": "python",
   "nbconvert_exporter": "python",
   "pygments_lexer": "ipython3",
   "version": "3.9.10"
  },
  "orig_nbformat": 4,
  "vscode": {
   "interpreter": {
    "hash": "c5d269574d350b051d2fab1614ebbbf2fa09728239c894b53d63951c9539b734"
   }
  }
 },
 "nbformat": 4,
 "nbformat_minor": 2
}

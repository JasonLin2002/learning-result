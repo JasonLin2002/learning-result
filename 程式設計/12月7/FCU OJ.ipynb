{
 "cells": [
  {
   "cell_type": "code",
   "execution_count": 2,
   "metadata": {},
   "outputs": [
    {
     "name": "stdout",
     "output_type": "stream",
     "text": [
      "10\n"
     ]
    }
   ],
   "source": [
    "def is_prime(n):\n",
    "    for i in range(2, n):\n",
    "        if n % i == 0:\n",
    "            return False\n",
    "    return True\n",
    "\n",
    "n = int(input())\n",
    "\n",
    "a=0\n",
    "\n",
    "for i in range(2, n + 1):\n",
    "    i_is_prime = is_prime(i)\n",
    "    if i_is_prime:\n",
    "        a+=i\n",
    "print(a)"
   ]
  },
  {
   "cell_type": "code",
   "execution_count": 17,
   "metadata": {},
   "outputs": [
    {
     "name": "stdout",
     "output_type": "stream",
     "text": [
      "78.68\n"
     ]
    }
   ],
   "source": [
    "x=eval(input())\n",
    "def fun(x):\n",
    "    a=0\n",
    "    for i in range (len(x)):\n",
    "        for j in range (5):\n",
    "            a+=int(x[i][j])\n",
    "    b=a/len(x)/5\n",
    "    return '{:.2f}'.format(b)\n",
    "print(fun(x))\n"
   ]
  },
  {
   "cell_type": "code",
   "execution_count": 25,
   "metadata": {},
   "outputs": [
    {
     "name": "stdout",
     "output_type": "stream",
     "text": [
      "Ideal\n"
     ]
    }
   ],
   "source": [
    "y=int(input())\n",
    "x=int(input())\n",
    "\n",
    "def fun(x,y):\n",
    "    if x<60 and y<90:\n",
    "        return('Low')\n",
    "    elif x<80 and y<120:\n",
    "        return('Ideal')\n",
    "    elif x<90 and y<140:\n",
    "        return('Pre-high')\n",
    "    elif x<100 and y<190:\n",
    "        return('High')\n",
    "\n",
    "print(fun(x,y))\n"
   ]
  },
  {
   "cell_type": "code",
   "execution_count": 28,
   "metadata": {},
   "outputs": [
    {
     "name": "stdout",
     "output_type": "stream",
     "text": [
      "21.4\n",
      "16.4\n"
     ]
    }
   ],
   "source": [
    "x=int(input())\n",
    "y=float(input())\n",
    "z=int(input())\n",
    "\n",
    "def fun1():\n",
    "    return '{:.2f}'.format(x+x*y)\n",
    "def fun2():\n",
    "    return '{:.2f}'.format(x+x*y-z)\n",
    "print(fun1())\n",
    "print(fun2())"
   ]
  },
  {
   "cell_type": "code",
   "execution_count": 31,
   "metadata": {},
   "outputs": [
    {
     "name": "stdout",
     "output_type": "stream",
     "text": [
      "   * **** **** *  *\n",
      "   * *  *    * *  *\n",
      "   * *  * **** ****\n",
      "   * *  * *       *\n",
      "   * **** ****    *\n"
     ]
    }
   ],
   "source": [
    "enum=[\n",
    "    [\n",
    "        '****',\n",
    "        '*  *',\n",
    "        '*  *',\n",
    "        '*  *',\n",
    "        '****',\n",
    "    ],\n",
    "    [\n",
    "        '   *',\n",
    "        '   *',\n",
    "        '   *',\n",
    "        '   *',\n",
    "        '   *',\n",
    "    ],\n",
    "    [\n",
    "        '****',\n",
    "        '   *',\n",
    "        '****',\n",
    "        '*   ',\n",
    "        '****',\n",
    "    ],\n",
    "    [\n",
    "        '****',\n",
    "        '   *',\n",
    "        '****',\n",
    "        '   *',\n",
    "        '****',\n",
    "    ],\n",
    "    [\n",
    "        '*  *',\n",
    "        '*  *',\n",
    "        '****',\n",
    "        '   *',\n",
    "        '   *',\n",
    "    ],\n",
    "    [\n",
    "        '****',\n",
    "        '*   ',\n",
    "        '****',\n",
    "        '   *',\n",
    "        '****',\n",
    "    ],\n",
    "    [\n",
    "        '****',\n",
    "        '*   ',\n",
    "        '****',\n",
    "        '*  *',\n",
    "        '****',\n",
    "    ],\n",
    "    [\n",
    "        '****',\n",
    "        '   *',\n",
    "        '   *',\n",
    "        '   *',\n",
    "        '   *',\n",
    "    ],\n",
    "    [\n",
    "        '****',\n",
    "        '*  *',\n",
    "        '****',\n",
    "        '*  *',\n",
    "        '****',\n",
    "    ],\n",
    "    [\n",
    "        '****',\n",
    "        '*  *',\n",
    "        '****',\n",
    "        '   *',\n",
    "        '****',\n",
    "    ],\n",
    "]\n",
    "def concat(enum1: list, enum2: list):\n",
    "    output = list()\n",
    "    for i in range(len(enum1)):\n",
    "        output.append(enum1[i] +' '+enum2[i])\n",
    "    return output\n",
    "_input = [int(_) for _ in input()]\n",
    "result = enum[_input.pop(0)]\n",
    "for num in _input :\n",
    "    result = concat(result, enum[num])\n",
    "print('\\n'.join(result))"
   ]
  },
  {
   "cell_type": "code",
   "execution_count": 2,
   "metadata": {},
   "outputs": [
    {
     "name": "stdout",
     "output_type": "stream",
     "text": [
      "99\n"
     ]
    }
   ],
   "source": [
    "a=int(input())\n",
    "b=float(input())\n",
    "c=input()\n",
    "d=input()\n",
    "\n",
    "def fun():\n",
    "    if d=='True':\n",
    "        if c=='True':\n",
    "            x=(a-20)*0.9\n",
    "        else:\n",
    "            x=(a-20)\n",
    "    else:\n",
    "        if c=='True':\n",
    "            x=a*0.9\n",
    "        else:\n",
    "            x=a\n",
    "    return int(x+round(x*b))\n",
    "\n",
    "print(fun())"
   ]
  },
  {
   "cell_type": "code",
   "execution_count": 7,
   "metadata": {},
   "outputs": [
    {
     "name": "stdout",
     "output_type": "stream",
     "text": [
      "*****\n",
      "*   *\n",
      "*   *\n",
      "*   *\n",
      "*****\n"
     ]
    }
   ],
   "source": [
    "n=int(input())\n",
    "x=int(input())\n",
    "def fun_菱形(n):\n",
    "    for i in range(n+1):\n",
    "        print(' '*(n-i)+'*'*(2*i-1))\n",
    "    for i in range(n-1,0,-1):\n",
    "        print(' '*(n-i)+'*'*(2*i-1))\n",
    "def fun_三角形(n):\n",
    "    for i in range(n+1):\n",
    "        print(' '*(n-i)+'*'*(2*i-1))\n",
    "def fun_正方形(n):\n",
    "    print(\"*\"*n)\n",
    "    for i in range(n-2):\n",
    "        print(\"*\",\" \"*(n-4),\"*\")\n",
    "    print(\"*\"*n)\n",
    "if __name__==\"__main__\":\n",
    "    if x==1:\n",
    "        fun_三角形(n)\n",
    "    elif x==2:\n",
    "        fun_菱形(n)\n",
    "    elif x==3:\n",
    "        fun_正方形(n)\n"
   ]
  },
  {
   "cell_type": "code",
   "execution_count": null,
   "metadata": {},
   "outputs": [],
   "source": [
    "a=input()\n",
    "\n",
    "def fun1():\n",
    "    b=a.replace(\" \", \"\")\n",
    "    return b\n",
    "def fun2():\n",
    "    c=len(a.split())\n",
    "    return c\n"
   ]
  },
  {
   "cell_type": "code",
   "execution_count": 60,
   "metadata": {},
   "outputs": [
    {
     "name": "stdout",
     "output_type": "stream",
     "text": [
      "['a', 'sentence', 'with', 'a', 'few', 'words']\n"
     ]
    }
   ],
   "source": [
    "line = \"a sentence with a few words\"\n",
    "line.split()\n",
    "print(str(line.split()))"
   ]
  },
  {
   "cell_type": "code",
   "execution_count": 3,
   "metadata": {},
   "outputs": [
    {
     "ename": "NameError",
     "evalue": "name '__name_' is not defined",
     "output_type": "error",
     "traceback": [
      "\u001b[1;31m---------------------------------------------------------------------------\u001b[0m",
      "\u001b[1;31mNameError\u001b[0m                                 Traceback (most recent call last)",
      "Cell \u001b[1;32mIn [3], line 10\u001b[0m\n\u001b[0;32m      8\u001b[0m             \u001b[39mbreak\u001b[39;00m\n\u001b[0;32m      9\u001b[0m     \u001b[39mreturn\u001b[39;00m flag\n\u001b[1;32m---> 10\u001b[0m \u001b[39mif\u001b[39;00m __name_\u001b[39m==\u001b[39m\u001b[39m'\u001b[39m\u001b[39m__main__\u001b[39m\u001b[39m'\u001b[39m:\n\u001b[0;32m     11\u001b[0m     a\u001b[39m=\u001b[39m\u001b[39minput\u001b[39m()\n\u001b[0;32m     12\u001b[0m     b\u001b[39m=\u001b[39m\u001b[39minput\u001b[39m()\n",
      "\u001b[1;31mNameError\u001b[0m: name '__name_' is not defined"
     ]
    }
   ],
   "source": [
    "def fun(a,b):\n",
    "    for i in a:\n",
    "        flag=False\n",
    "        for j in b:\n",
    "            if i == j:\n",
    "                flag = True\n",
    "        if flag ==False:\n",
    "            break\n",
    "    return flag\n",
    "if __name__=='__main__':\n",
    "    a=input()\n",
    "    b=input()\n",
    "    print(fun(a,b))"
   ]
  }
 ],
 "metadata": {
  "kernelspec": {
   "display_name": "Python 3.9.10 64-bit",
   "language": "python",
   "name": "python3"
  },
  "language_info": {
   "codemirror_mode": {
    "name": "ipython",
    "version": 3
   },
   "file_extension": ".py",
   "mimetype": "text/x-python",
   "name": "python",
   "nbconvert_exporter": "python",
   "pygments_lexer": "ipython3",
   "version": "3.9.10 (tags/v3.9.10:f2f3f53, Jan 17 2022, 15:14:21) [MSC v.1929 64 bit (AMD64)]"
  },
  "orig_nbformat": 4,
  "vscode": {
   "interpreter": {
    "hash": "c5d269574d350b051d2fab1614ebbbf2fa09728239c894b53d63951c9539b734"
   }
  }
 },
 "nbformat": 4,
 "nbformat_minor": 2
}

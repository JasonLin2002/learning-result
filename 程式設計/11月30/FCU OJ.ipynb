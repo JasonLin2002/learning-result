{
 "cells": [
  {
   "cell_type": "code",
   "execution_count": null,
   "metadata": {},
   "outputs": [],
   "source": [
    "x=input()\n",
    "y=int(input())\n",
    "dict1={'January':[1,31,1],'February':[1,28,1]}"
   ]
  },
  {
   "cell_type": "code",
   "execution_count": 5,
   "metadata": {},
   "outputs": [
    {
     "ename": "TypeError",
     "evalue": "unsupported operand type(s) for -: 'list' and 'list'",
     "output_type": "error",
     "traceback": [
      "\u001b[1;31m---------------------------------------------------------------------------\u001b[0m",
      "\u001b[1;31mTypeError\u001b[0m                                 Traceback (most recent call last)",
      "Cell \u001b[1;32mIn [5], line 6\u001b[0m\n\u001b[0;32m      4\u001b[0m x \u001b[39m=\u001b[39m [ \u001b[39mmap\u001b[39m(\u001b[39mstr\u001b[39m,\u001b[39minput\u001b[39m()\u001b[39m.\u001b[39msplit()) \u001b[39mfor\u001b[39;00m i \u001b[39min\u001b[39;00m \u001b[39mrange\u001b[39m(n)]\n\u001b[0;32m      5\u001b[0m y \u001b[39m=\u001b[39m [ \u001b[39mmap\u001b[39m(\u001b[39mstr\u001b[39m,\u001b[39minput\u001b[39m()\u001b[39m.\u001b[39msplit()) \u001b[39mfor\u001b[39;00m i \u001b[39min\u001b[39;00m \u001b[39mrange\u001b[39m(n)]\n\u001b[1;32m----> 6\u001b[0m a\u001b[39m=\u001b[39m\u001b[39mlist\u001b[39;49m(x)\u001b[39m-\u001b[39;49m\u001b[39mlist\u001b[39;49m(y)\n\u001b[0;32m      7\u001b[0m \u001b[39mprint\u001b[39m(a)\n",
      "\u001b[1;31mTypeError\u001b[0m: unsupported operand type(s) for -: 'list' and 'list'"
     ]
    }
   ],
   "source": [
    "x={}\n",
    "y={}\n",
    "n = 3\n",
    "x = [ map(str,input().split()) for i in range(n)]\n",
    "y = [ map(str,input().split()) for i in range(n)]\n",
    "a=list(x)-list(y)\n",
    "print(a)"
   ]
  },
  {
   "cell_type": "code",
   "execution_count": 16,
   "metadata": {},
   "outputs": [
    {
     "ename": "TypeError",
     "evalue": "'>' not supported between instances of 'str' and 'int'",
     "output_type": "error",
     "traceback": [
      "\u001b[1;31m---------------------------------------------------------------------------\u001b[0m",
      "\u001b[1;31mTypeError\u001b[0m                                 Traceback (most recent call last)",
      "Cell \u001b[1;32mIn [16], line 4\u001b[0m\n\u001b[0;32m      2\u001b[0m x\u001b[39m=\u001b[39m\u001b[39mdict\u001b[39m(\u001b[39meval\u001b[39m(\u001b[39minput\u001b[39m()))\n\u001b[0;32m      3\u001b[0m y\u001b[39m=\u001b[39m\u001b[39mdict\u001b[39m(\u001b[39meval\u001b[39m(\u001b[39minput\u001b[39m()))\n\u001b[1;32m----> 4\u001b[0m re_1 \u001b[39m=\u001b[39m \u001b[39mint\u001b[39m(Counter(x)\u001b[39m+\u001b[39;49mCounter(y))\n\u001b[0;32m      5\u001b[0m \u001b[39mprint\u001b[39m(\u001b[39mlen\u001b[39m(x)\u001b[39m-\u001b[39m\u001b[39mlen\u001b[39m(re_1))\n",
      "File \u001b[1;32mc:\\Users\\jk121\\AppData\\Local\\Programs\\Python\\Python39\\lib\\collections\\__init__.py:761\u001b[0m, in \u001b[0;36mCounter.__add__\u001b[1;34m(self, other)\u001b[0m\n\u001b[0;32m    759\u001b[0m \u001b[39mfor\u001b[39;00m elem, count \u001b[39min\u001b[39;00m \u001b[39mself\u001b[39m\u001b[39m.\u001b[39mitems():\n\u001b[0;32m    760\u001b[0m     newcount \u001b[39m=\u001b[39m count \u001b[39m+\u001b[39m other[elem]\n\u001b[1;32m--> 761\u001b[0m     \u001b[39mif\u001b[39;00m newcount \u001b[39m>\u001b[39;49m \u001b[39m0\u001b[39;49m:\n\u001b[0;32m    762\u001b[0m         result[elem] \u001b[39m=\u001b[39m newcount\n\u001b[0;32m    763\u001b[0m \u001b[39mfor\u001b[39;00m elem, count \u001b[39min\u001b[39;00m other\u001b[39m.\u001b[39mitems():\n",
      "\u001b[1;31mTypeError\u001b[0m: '>' not supported between instances of 'str' and 'int'"
     ]
    }
   ],
   "source": [
    "from collections import Counter\n",
    "x=dict(eval(input()))\n",
    "y=dict(eval(input()))\n",
    "re_1 = int(Counter(x)+Counter(y))\n",
    "print(len(x)-len(re_1))"
   ]
  },
  {
   "cell_type": "code",
   "execution_count": 23,
   "metadata": {},
   "outputs": [
    {
     "name": "stdout",
     "output_type": "stream",
     "text": [
      "Counter({'C': 1, 'E': 1})\n"
     ]
    }
   ],
   "source": [
    "from collections import Counter\n",
    "\n",
    "x=dict(eval(input()))\n",
    "y=dict(eval(input()))\n",
    "z=Counter(x.values())-Counter(y.values())\n",
    "print(z)"
   ]
  },
  {
   "cell_type": "code",
   "execution_count": 22,
   "metadata": {},
   "outputs": [
    {
     "name": "stdout",
     "output_type": "stream",
     "text": [
      "dict_values(['A', 'B', 'A', 'D', 'B'])\n"
     ]
    }
   ],
   "source": [
    "x=dict(eval(input()))\n",
    "\n",
    "print(x.values())"
   ]
  },
  {
   "cell_type": "code",
   "execution_count": null,
   "metadata": {},
   "outputs": [],
   "source": [
    "a=eval(input())\n",
    "b=eval(input())\n",
    "c=0\n",
    "if len(a)!=len(b):\n",
    "    print('-1')\n",
    "elif len(a)==len(b):\n",
    "    for i in a:\n",
    "        if a[i]==b[i]:\n",
    "            c=c+1\n",
    "    print(c)"
   ]
  },
  {
   "cell_type": "code",
   "execution_count": null,
   "metadata": {},
   "outputs": [],
   "source": [
    "a=eval(input())\n",
    "for i in a:\n",
    "    if (type(a[i])==type(0) or type(a[i])==type(0.1)) and a[i]>=0 and a[i]<=100:\n",
    "        print('{} {}'.format(i,a[i]))"
   ]
  },
  {
   "cell_type": "code",
   "execution_count": null,
   "metadata": {},
   "outputs": [],
   "source": [
    "a=eval(input())\n",
    "b=0\n",
    "c_dict={\"users\":[],'avg_age':0}\n",
    "for i in a:\n",
    "    b=b+i[1]\n",
    "    c_dict['users'].append(i[0])\n",
    "c_dict['avg_age']='{:.2f}'.format(b/len(a))\n",
    "print(c_dict)"
   ]
  },
  {
   "cell_type": "code",
   "execution_count": 9,
   "metadata": {},
   "outputs": [
    {
     "ename": "ValueError",
     "evalue": "invalid literal for int() with base 10: 'adwd'",
     "output_type": "error",
     "traceback": [
      "\u001b[1;31m---------------------------------------------------------------------------\u001b[0m",
      "\u001b[1;31mValueError\u001b[0m                                Traceback (most recent call last)",
      "Cell \u001b[1;32mIn [9], line 12\u001b[0m\n\u001b[0;32m     10\u001b[0m     \u001b[39mreturn\u001b[39;00m season\n\u001b[0;32m     11\u001b[0m m\u001b[39m=\u001b[39m\u001b[39minput\u001b[39m()\n\u001b[1;32m---> 12\u001b[0m d\u001b[39m=\u001b[39m\u001b[39mint\u001b[39;49m(\u001b[39minput\u001b[39;49m())\n\u001b[0;32m     13\u001b[0m \u001b[39mprint\u001b[39m(fun(m,d))\n",
      "\u001b[1;31mValueError\u001b[0m: invalid literal for int() with base 10: 'adwd'"
     ]
    }
   ],
   "source": [
    "def fun(m,d):\n",
    "    if (m=='January' or 'February')or(m=='December' and d>=21)or(m=='March' and d<20):\n",
    "        season=\"Winter\"\n",
    "    elif (m=='April' or 'May')or(m=='March' and d>=20)or(m=='June' and d<21):\n",
    "        season=\"Spring\"\n",
    "    elif (m=='July' or 'August')or(m=='June' and d>=21)or(m=='September' and d<22):\n",
    "        season=\"Summer\"\n",
    "    elif (m=='October' or 'November')or(m=='September' and d>=22)or(m=='December' and d<21):\n",
    "        season=\"Fall\"\n",
    "    return season\n",
    "m=input()\n",
    "d=int(input())\n",
    "print(fun(m,d))"
   ]
  },
  {
   "cell_type": "code",
   "execution_count": 12,
   "metadata": {},
   "outputs": [
    {
     "name": "stdout",
     "output_type": "stream",
     "text": [
      "David Joyner\n",
      "Dr. David Andrew Joyner\n",
      "D Joyner\n"
     ]
    }
   ],
   "source": [
    "x=eval(input())\n",
    "print(x['first'],x['last'])\n",
    "print(x[\"title\"],x[\"first\"],x[\"middle\"],x['last'])\n",
    "print(x['first'][0],x['last'])"
   ]
  },
  {
   "cell_type": "code",
   "execution_count": 20,
   "metadata": {},
   "outputs": [
    {
     "name": "stdout",
     "output_type": "stream",
     "text": [
      "133.887\n"
     ]
    }
   ],
   "source": [
    "x=eval(input())\n",
    "a=0\n",
    "b=0\n",
    "for i in range (len(x)):\n",
    "    a+=x[i][\"population\"]\n",
    "    b+=x[i][\"area\"]\n",
    "print(round(a/b,3))"
   ]
  },
  {
   "cell_type": "code",
   "execution_count": 21,
   "metadata": {},
   "outputs": [
    {
     "name": "stdout",
     "output_type": "stream",
     "text": [
      "{'key1': 'value1', 'key2': 'value2', 'key3': 'value3'}\n"
     ]
    }
   ],
   "source": [
    "str = \"key1=value1;key2=value2;key3=value3\"\n",
    "\n",
    "d = dict(x.split(\"=\") for x in str.split(\";\"))\n",
    "print(d)"
   ]
  },
  {
   "cell_type": "code",
   "execution_count": 27,
   "metadata": {},
   "outputs": [
    {
     "ename": "ValueError",
     "evalue": "dictionary update sequence element #0 has length 1; 2 is required",
     "output_type": "error",
     "traceback": [
      "\u001b[1;31m---------------------------------------------------------------------------\u001b[0m",
      "\u001b[1;31mValueError\u001b[0m                                Traceback (most recent call last)",
      "Cell \u001b[1;32mIn [27], line 2\u001b[0m\n\u001b[0;32m      1\u001b[0m \u001b[39mstr\u001b[39m\u001b[39m=\u001b[39m\u001b[39minput\u001b[39m()\n\u001b[1;32m----> 2\u001b[0m d \u001b[39m=\u001b[39m \u001b[39mdict\u001b[39;49m(x\u001b[39m.\u001b[39;49msplit(\u001b[39m\"\u001b[39;49m\u001b[39m=\u001b[39;49m\u001b[39m\"\u001b[39;49m) \u001b[39mfor\u001b[39;49;00m x \u001b[39min\u001b[39;49;00m \u001b[39mstr\u001b[39;49m\u001b[39m.\u001b[39;49msplit(\u001b[39m\"\u001b[39;49m\u001b[39m;\u001b[39;49m\u001b[39m\"\u001b[39;49m))\n\u001b[0;32m      3\u001b[0m \u001b[39mprint\u001b[39m(d)\n",
      "\u001b[1;31mValueError\u001b[0m: dictionary update sequence element #0 has length 1; 2 is required"
     ]
    }
   ],
   "source": [
    "str=input()\n",
    "d = dict(x.split(\"=\") for x in str.split(\";\"))\n",
    "print(d)"
   ]
  }
 ],
 "metadata": {
  "kernelspec": {
   "display_name": "Python 3.9.10 64-bit",
   "language": "python",
   "name": "python3"
  },
  "language_info": {
   "codemirror_mode": {
    "name": "ipython",
    "version": 3
   },
   "file_extension": ".py",
   "mimetype": "text/x-python",
   "name": "python",
   "nbconvert_exporter": "python",
   "pygments_lexer": "ipython3",
   "version": "3.9.10"
  },
  "orig_nbformat": 4,
  "vscode": {
   "interpreter": {
    "hash": "c5d269574d350b051d2fab1614ebbbf2fa09728239c894b53d63951c9539b734"
   }
  }
 },
 "nbformat": 4,
 "nbformat_minor": 2
}

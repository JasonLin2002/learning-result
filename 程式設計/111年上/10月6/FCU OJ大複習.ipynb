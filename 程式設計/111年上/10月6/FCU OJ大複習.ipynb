{
 "cells": [
  {
   "cell_type": "markdown",
   "metadata": {},
   "source": [
    "問好\n",
    "Description\n",
    "\n",
    "輸入一個人名，輸出hello,人名!，請以格式化字串的方式實作。\n",
    "\n",
    "\n",
    "Input\n",
    "輸入一個字串人名。\n",
    "\n",
    "\n",
    "Output\n",
    "輸出hello + \", \" +人名+”!”於一行，最後必須有換行字元。"
   ]
  },
  {
   "cell_type": "code",
   "execution_count": null,
   "metadata": {},
   "outputs": [],
   "source": [
    "人名=input()\n",
    "print(\"hello\"+\",\"+人名+\"!\")"
   ]
  },
  {
   "cell_type": "markdown",
   "metadata": {},
   "source": [
    "字串替換\n",
    "Description\n",
    "\n",
    "小明在打期末心得報告時發現文章中的”home”打成了”hime”，於是想將文章中的”hime”換成”home”，請撰寫一程式將字串中的單字進行替換。\n",
    "\n",
    "\n",
    "Input\n",
    "輸入三個字串，句子，被替換的單字與替換的單字。\n",
    "\n",
    "\n",
    "Output\n",
    "輸出替換後的句子，最後必須有換行字元。"
   ]
  },
  {
   "cell_type": "code",
   "execution_count": null,
   "metadata": {},
   "outputs": [],
   "source": [
    "print(input().replace(input(),input()))"
   ]
  },
  {
   "cell_type": "markdown",
   "metadata": {},
   "source": [
    "字串奇數位偶數位總和\n",
    "Description\n",
    "\n",
    "讓使用者輸入一正整數n，並將奇數位組成正整數a，偶數位為正整數b，並將正整數a與b相加。\n",
    "\n",
    "例子:123456，奇數位:135，偶數位246，135+246=381。\n",
    "\n",
    "\n",
    "Input\n",
    "輸入一正整數n。\n",
    "\n",
    "\n",
    "Output\n",
    "輸出奇數位與偶數位總和，最後必須有換行字元。"
   ]
  },
  {
   "cell_type": "code",
   "execution_count": 1,
   "metadata": {},
   "outputs": [
    {
     "name": "stdout",
     "output_type": "stream",
     "text": [
      "381\n"
     ]
    }
   ],
   "source": [
    "x=input()\n",
    "print(int(x[0::2])+int(x[1::2]))"
   ]
  },
  {
   "cell_type": "markdown",
   "metadata": {},
   "source": [
    "Description\n",
    "\n",
    "請撰寫一程式計算梯形面積。\n",
    "\n",
    "梯形面積公式為：（上底+下底）×高÷ 2。\n",
    "\n",
    "Clipboard Image.png\n",
    "\n",
    "\n",
    "Input\n",
    "依序分別輸入梯形的上底、下底及高的整數。\n",
    "\n",
    "\n",
    "Output\n",
    "輸出梯形面積，四捨五入制小數第一位，最後必須有換行字元。"
   ]
  },
  {
   "cell_type": "code",
   "execution_count": 3,
   "metadata": {},
   "outputs": [
    {
     "name": "stdout",
     "output_type": "stream",
     "text": [
      "17040.0\n"
     ]
    }
   ],
   "source": [
    "print(round((int(input())+int(input()))*int(input())/2,1))"
   ]
  },
  {
   "cell_type": "markdown",
   "metadata": {},
   "source": [
    "簡易平均數\n",
    "Description\n",
    "\n",
    "請寫一個程式，輸入兩個數字a、b，並求出它們的平均數。\n",
    "\n",
    "\n",
    "Input\n",
    "輸入兩個整數a、b。\n",
    "\n",
    "\n",
    "Output\n",
    "對於輸入，輸出該兩整數的平均數(整數)，無條件捨棄小數位，最後必須有換行字元。"
   ]
  },
  {
   "cell_type": "code",
   "execution_count": null,
   "metadata": {},
   "outputs": [],
   "source": [
    "print(int((int(input())+int(input()))/2))"
   ]
  },
  {
   "cell_type": "markdown",
   "metadata": {},
   "source": [
    "計算油錢\n",
    "Description\n",
    "\n",
    "小明到加油站加油，而92無鉛汽油價錢為每公升29.3元，請寫一程式幫小明計算油錢。\n",
    "\n",
    "\n",
    "Input\n",
    "輸入加的公升數(int)\n",
    "\n",
    "\n",
    "Output\n",
    "輸出油價(float)至小數點後一位"
   ]
  },
  {
   "cell_type": "code",
   "execution_count": null,
   "metadata": {},
   "outputs": [],
   "source": [
    "print(round(int(input())*29.3,1))"
   ]
  },
  {
   "cell_type": "markdown",
   "metadata": {},
   "source": [
    "停車費\n",
    "Description\n",
    "\n",
    "某停車場計費規則如下，車子每停滿一個小時收20元，故停了兩個小時需繳40元，請寫一程式輸入開始停車時間與離開時間(假設無跨日)，並計算出停車費。\n",
    "\n",
    "\n",
    "Input\n",
    "輸入(24小時制)開始停車時間(小時)、開始停車時間(分鐘)與離開時間(小時)、離開時間(分鐘)，開始時間比離開時間早。\n",
    "\n",
    "\n",
    "Output\n",
    "輸出停車費(int)。"
   ]
  },
  {
   "cell_type": "code",
   "execution_count": null,
   "metadata": {},
   "outputs": [],
   "source": [
    "a=int(input())\n",
    "b=int(input())\n",
    "c=int(input())\n",
    "d=int(input())\n",
    "print(((c*60+d)-(a*60+b))//60*20)"
   ]
  },
  {
   "cell_type": "markdown",
   "metadata": {},
   "source": [
    "貨幣轉換\n",
    "Description\n",
    "\n",
    "小明想去日本旅遊，於是需要將台幣轉換成日幣，請寫一程式幫助小明計算貨幣，\n",
    "\n",
    "(1新臺幣=4.58日圓)\n",
    "\n",
    "\n",
    "Input\n",
    "輸入將需要轉換的新台幣(int)\n",
    "\n",
    "\n",
    "Output\n",
    "輸出日幣(float)，四捨五入到小數第一位。"
   ]
  },
  {
   "cell_type": "code",
   "execution_count": null,
   "metadata": {},
   "outputs": [],
   "source": [
    "print(round(int(input())*4.58,1))"
   ]
  },
  {
   "cell_type": "markdown",
   "metadata": {},
   "source": [
    "圓柱體表面積計算\n",
    "Description\n",
    "\n",
    "請寫一程式讓使用者輸入圓形的半徑(float)，與高(float)，程式輸出該圓柱體的表面積。\n",
    "\n",
    "\n",
    "Input\n",
    "輸入圓形的半徑(float)，與高(float)。\n",
    "\n",
    "\n",
    "Output\n",
    "輸出該圓柱體的表面積，四捨五入至小數第一位。"
   ]
  },
  {
   "cell_type": "code",
   "execution_count": null,
   "metadata": {},
   "outputs": [],
   "source": [
    "a=float(input())\n",
    "b=float(input())\n",
    "print(round(a*a*3.14*2+2*a*3.14*b,1))"
   ]
  },
  {
   "cell_type": "markdown",
   "metadata": {},
   "source": [
    "跑腿\n",
    "Description\n",
    "\n",
    "小明幫家人購買晚餐所需要的食材:雞蛋a個、金針菇b個、高麗菜c個，請寫一個程式計算小明需要支付多少錢。\n",
    "\n",
    "雞蛋:$3/個\n",
    "\n",
    "金針菇:$15/個\n",
    "\n",
    "高麗菜:$45/個\n",
    "\n",
    "\n",
    "Input\n",
    "輸入雞蛋a(int)個、金針菇b(int)個、高麗菜c(int)個\n",
    "\n",
    "\n",
    "Output\n",
    "輸出小明需要支付多少錢(int)"
   ]
  },
  {
   "cell_type": "code",
   "execution_count": null,
   "metadata": {},
   "outputs": [],
   "source": [
    "print(int(input())*3+int(input())*15+int(input())*45)"
   ]
  },
  {
   "cell_type": "markdown",
   "metadata": {},
   "source": [
    "位元運算\n",
    "Description\n",
    "\n",
    "請寫一程式讓使用者輸入正整數a(int)，左移兩個位元後加10 ，並輸出計算結果(int)。\n",
    "\n",
    "例:6的二進位為110，像左移兩個位元後11000十進位為24，24+10=34。\n",
    "\n",
    "\n",
    "Input\n",
    "輸入正整數a(int)。\n",
    "\n",
    "\n",
    "Output\n",
    "輸出計算結果(int)。"
   ]
  },
  {
   "cell_type": "code",
   "execution_count": 6,
   "metadata": {},
   "outputs": [
    {
     "name": "stdout",
     "output_type": "stream",
     "text": [
      "34\n"
     ]
    }
   ],
   "source": [
    "print((int(input())<<2)+10)"
   ]
  },
  {
   "cell_type": "markdown",
   "metadata": {},
   "source": [
    "總分及平均成績\n",
    "Description\n",
    "\n",
    "輸⼊國⽂、英⽂、數學、社會和自然成績，計算其總分數及平均成績。\n",
    "\n",
    "\n",
    "Input\n",
    "輸⼊國⽂(int)、英⽂(int)、數學(int)、社會(int)和自然(int)成績。\n",
    "\n",
    "\n",
    "Output\n",
    "輸出總分數(int)及平均成績(無條件捨棄小數位int)，最後必須有換⾏字元。"
   ]
  },
  {
   "cell_type": "code",
   "execution_count": 9,
   "metadata": {},
   "outputs": [
    {
     "name": "stdout",
     "output_type": "stream",
     "text": [
      "350\n",
      "70.0\n"
     ]
    }
   ],
   "source": [
    "a=int(input())\n",
    "b=int(input())\n",
    "c=int(input())\n",
    "d=int(input())\n",
    "e=int(input())\n",
    "print(a+b+c+d+e,int((a+b+c+d+e)/5),sep=\"\\n\")"
   ]
  },
  {
   "cell_type": "markdown",
   "metadata": {},
   "source": [
    "單位換算：⾝⾼及體重\n",
    "Description\n",
    "\n",
    "寫⼀程式，讓使⽤者輸⼊⾝⾼(cm)及體重(kg)，作單位換算輸出⾝⾼(英吋)及體重\n",
    "\n",
    "(磅)。(1 磅=0.454 公⽄，1 吋=2.54 公分)\n",
    "\n",
    "\n",
    "Input\n",
    "分別輸⼊⾝⾼(cm)(int)及體重(kg)(int)。\n",
    "\n",
    "\n",
    "Output\n",
    "作單位換算輸出⾝⾼(英吋)(float)及體重(磅)(float)，輸出皆為小數點後兩位，最後必須有換⾏字元。"
   ]
  },
  {
   "cell_type": "code",
   "execution_count": 10,
   "metadata": {},
   "outputs": [
    {
     "name": "stdout",
     "output_type": "stream",
     "text": [
      "70.87\n",
      "187.22\n"
     ]
    }
   ],
   "source": [
    "print(round(int(input())/2.54,2),round(int(input())/0.454,2),sep=\"\\n\")"
   ]
  },
  {
   "cell_type": "markdown",
   "metadata": {},
   "source": [
    "數字加密\n",
    "Description\n",
    "\n",
    "讀取⼀四位數，並且依下列⽅式進⾏加密\n",
    "\n",
    "1. 以該位數加8後，除以 10 取餘數取代該位數\n",
    "\n",
    "2. 將第⼀個位數的數字與第三個位數的數字對調\n",
    "\n",
    "3. 將第⼆個位數的數字與第四個位數的數字對調\n",
    "\n",
    "\n",
    "Input\n",
    "輸⼊⼀個四位數的數字(int)。\n",
    "\n",
    "\n",
    "Output\n",
    "輸出加密後的數，最後必須有換⾏字元。"
   ]
  },
  {
   "cell_type": "code",
   "execution_count": 1,
   "metadata": {},
   "outputs": [
    {
     "name": "stdout",
     "output_type": "stream",
     "text": [
      "1290\n"
     ]
    }
   ],
   "source": [
    "x=int(input())\n",
    "\n",
    "x4=(x%10+8)%10\n",
    "x=x//10\n",
    "\n",
    "x3=(x%10+8)%10\n",
    "x=x//10\n",
    "\n",
    "x2=(x%10+8)%10\n",
    "x=x//10\n",
    "\n",
    "x1=(x%10+8)%10\n",
    "\n",
    "print(x3,x4,x1,x2,sep=\"\")"
   ]
  },
  {
   "cell_type": "markdown",
   "metadata": {},
   "source": [
    "單位換算：公升轉加侖\n",
    "Description\n",
    "\n",
    "請寫⼀程式可以將美加侖換算成公升。\n",
    "\n",
    "依度量衡標準1 美加侖 =3.78541178公升\n",
    "\n",
    "\n",
    "Input\n",
    "輸⼊欲轉換之加崙數(float)。\n",
    "\n",
    "\n",
    "Output\n",
    "輸出公升(float)，四捨五⼊取到⼩數點以下第⼀位，最後必須有換⾏字元。"
   ]
  },
  {
   "cell_type": "code",
   "execution_count": null,
   "metadata": {},
   "outputs": [],
   "source": [
    "print(round(float(input())*3.78541178,1))"
   ]
  },
  {
   "cell_type": "markdown",
   "metadata": {},
   "source": [
    "硬幣問題\n",
    "Description\n",
    "\n",
    "小明買了X元的商品，要付錢發現他只有兩種硬幣，幣值分別為5元和1元。\n",
    "\n",
    "他希望用最少的硬幣湊到「剛好」X元，請告訴小明最少需要用多少硬幣。\n",
    "\n",
    "\n",
    "Input\n",
    "輸入一個整數X表示小明要用5, 1兩種幣值的硬幣湊出X元。\n",
    "\n",
    "\n",
    "Output\n",
    "請輸出最少需要的硬幣數量，最後必須有換行字元。"
   ]
  },
  {
   "cell_type": "code",
   "execution_count": null,
   "metadata": {},
   "outputs": [],
   "source": [
    "x=int(input())\n",
    "print(x//5+x%5)"
   ]
  },
  {
   "cell_type": "markdown",
   "metadata": {},
   "source": [
    "字串擷取\n",
    "Description\n",
    "\n",
    "撰寫一個程式，使用者輸入一個字串，印出偶數位字串。\n",
    "\n",
    "\n",
    "Input\n",
    "輸入一個字串。\n",
    "\n",
    "\n",
    "Output\n",
    "輸出偶數位字串，最後必須有換行字元。"
   ]
  },
  {
   "cell_type": "code",
   "execution_count": null,
   "metadata": {},
   "outputs": [],
   "source": [
    "print(input()[1::2])"
   ]
  },
  {
   "cell_type": "markdown",
   "metadata": {},
   "source": [
    "三數取最大值\n",
    "Description\n",
    "\n",
    "試撰寫一個程式，由輸入三個整數，取三數中的最大值。\n",
    "\n",
    "\n",
    "Input\n",
    "輸入三個正整數。\n",
    "\n",
    "\n",
    "Output\n",
    "輸出整數，最後必須有換行字元。"
   ]
  },
  {
   "cell_type": "code",
   "execution_count": 4,
   "metadata": {},
   "outputs": [
    {
     "name": "stdout",
     "output_type": "stream",
     "text": [
      "90\n"
     ]
    }
   ],
   "source": [
    "print(max(int(input()),int(input()),int(input())))"
   ]
  },
  {
   "cell_type": "markdown",
   "metadata": {},
   "source": [
    "成績\n",
    "Description\n",
    "\n",
    "小明想撰寫一個程式用來計算他的修課成績。\n",
    "\n",
    "已知修課成績計算如下:\n",
    "\n",
    "修課成績=期中考*0.3+期末考*0.4+作業*0.3。\n",
    "\n",
    "\n",
    "Input\n",
    "輸入三個正整數，分別為期中考成績、期末考成績、作業成績。\n",
    "\n",
    "\n",
    "Output\n",
    "輸出小明的修課成績，四捨五入到小數第一位，最後必須有換行字元。"
   ]
  },
  {
   "cell_type": "code",
   "execution_count": null,
   "metadata": {},
   "outputs": [],
   "source": [
    "print(round(int(input())*0.3+int(input())*0.4+int(input())*0.3,1))"
   ]
  },
  {
   "cell_type": "markdown",
   "metadata": {},
   "source": [
    "字串搜尋\n",
    "Description\n",
    "\n",
    "試寫一個程式，在字串中搜尋指定的字串，並印出指定字串所在的起始index，像是在字串abcdef尋找cde字串，從c開始到e結束，index為c的2，所以印出2。\n",
    "\n",
    "\n",
    "Input\n",
    "輸入一個字串，與一個要搜尋的字串。\n",
    "\n",
    "\n",
    "Output\n",
    "有搜尋到輸出要搜尋的字串index，沒搜尋到則是輸出-1，最後必須有換行字元。"
   ]
  },
  {
   "cell_type": "code",
   "execution_count": null,
   "metadata": {},
   "outputs": [],
   "source": [
    "print(input().find(input()))"
   ]
  },
  {
   "cell_type": "markdown",
   "metadata": {},
   "source": [
    "正負奇偶\n",
    "Description\n",
    "\n",
    "判斷輸入的整數的正負與奇偶，當整數為正數且為奇數則印”Oddly positive”，當整數為正數且為偶數則印”Evenly positive”，當整數為負數且為奇數則印”Oddly negative”，當整數為負數且為偶數則印”Evenly negative”。\n",
    "\n",
    "\n",
    "Input\n",
    "輸入一整數(int)。\n",
    "\n",
    "\n",
    "Output\n",
    "輸出該整數對應的結果字串，最後必須有換行字元。"
   ]
  },
  {
   "cell_type": "code",
   "execution_count": 5,
   "metadata": {},
   "outputs": [
    {
     "name": "stdout",
     "output_type": "stream",
     "text": [
      "Oddly negative\n"
     ]
    }
   ],
   "source": [
    "x=int(input())\n",
    "if x%2!=0 and x>0:\n",
    "    print('Oddly positive')\n",
    "elif x%2==0 and x>0:\n",
    "    print('Evenly positive')\n",
    "elif x%2!=0 and x<0:\n",
    "    print('Oddly negative')\n",
    "else:\n",
    "    print('Evenly negative')"
   ]
  },
  {
   "cell_type": "markdown",
   "metadata": {},
   "source": [
    "帳號登入\n",
    "Description\n",
    "\n",
    "請撰寫一程式，模擬一登入系統，該登入系統認證密碼與使用者輸入密碼相同則通過輸出\"Login successful.\"，錯誤則失敗輸出\"Incorrect password.\"，而嘗試超過三次失敗則暫時無法登入輸出\"Tries exceeded.\"。\n",
    "\n",
    "\n",
    "Input\n",
    "輸入認證密碼(string)、使用者輸入密碼(string)、嘗試次數(int)。\n",
    "\n",
    "\n",
    "Output\n",
    "密碼相同輸出\"Login successful.\"，不同輸出\"Incorrect password.\"，嘗試次數超過則輸出\"Tries exceeded.\"，最後必須有換行字元。"
   ]
  },
  {
   "cell_type": "code",
   "execution_count": null,
   "metadata": {},
   "outputs": [],
   "source": [
    "x=input()\n",
    "y=input()\n",
    "z=int(input())\n",
    "if z>3:\n",
    "    print('Tries exceeded.')\n",
    "else:\n",
    "    if x==y:\n",
    "        print('Login successful.')\n",
    "    else:\n",
    "        print('Incorrect password.')"
   ]
  },
  {
   "cell_type": "markdown",
   "metadata": {},
   "source": [
    "生肖\n",
    "Description\n",
    "\n",
    "十二生肖分為 Rat(鼠)、Ox(牛)、Tiger (虎)、Rabbit (兔)、Dragon (龍)、Snake (蛇)、Horse (馬)、Goat (羊)、Monkey (猴)、Rooster (雞)、Dog (狗)、Pig (豬)，十二生肖每十二年為一個週期，小明想算他的生肖是哪個動物，已知 1904 年為龍年。\n",
    "\n",
    "請撰寫一程式輸入西元年，輸出對應的生肖。\n",
    "\n",
    "\n",
    "Input\n",
    "輸入1904年後的西元年(int)。\n",
    "\n",
    "\n",
    "Output\n",
    "輸出該年對應的生肖(英文)，最後必須有換行字元。"
   ]
  },
  {
   "cell_type": "code",
   "execution_count": 2,
   "metadata": {},
   "outputs": [
    {
     "name": "stdout",
     "output_type": "stream",
     "text": [
      "Horse\n"
     ]
    }
   ],
   "source": [
    "print(['Monkey','Rooster','Dog','Pig','Rat','Ox','Tiger','Rabbit','Dragon','Snake','Horse','Goat'][int(input())%12])"
   ]
  },
  {
   "cell_type": "markdown",
   "metadata": {},
   "source": [
    "超速罰單\n",
    "Description\n",
    "\n",
    "小明睡過頭為了不要遲到於是超速行駛，結果被測速照相照到，於是小明需要繳一筆罰單錢，請撰寫一程式幫小明計算他的超速罰單花費。\n",
    "\n",
    "罰單規則如下:\n",
    "\n",
    "1.超速罰1000元並且每超出速限1 km/h則多罰100元。\n",
    "\n",
    "2.如果超速在學校區域附近則罰金2倍。\n",
    "\n",
    "\n",
    "Input\n",
    "輸入超速時數(km/h)、速度限制(km/h)、與是否在學校區域附近(True or False)。\n",
    "\n",
    "\n",
    "Output\n",
    "輸出最終罰單所需罰金”[罰金數]”，如果未超速則罰金為\"0\"，最後必須有換行字元。"
   ]
  },
  {
   "cell_type": "code",
   "execution_count": 6,
   "metadata": {},
   "outputs": [
    {
     "name": "stdout",
     "output_type": "stream",
     "text": [
      "0\n"
     ]
    }
   ],
   "source": [
    "x=int(input())\n",
    "y=int(input())\n",
    "z=input()\n",
    "if x>y and z=='True':\n",
    "    print(((x-y)*100+1000)*2)\n",
    "elif x>y and z==\"False\":\n",
    "    print(((x-y)*100+1000))\n",
    "else:\n",
    "    print(0)"
   ]
  },
  {
   "cell_type": "markdown",
   "metadata": {},
   "source": [
    "四則運算(二)\n",
    "Description\n",
    "\n",
    "小明在寫數學作業，請寫出一程式幫助小明計算數學，輸入兩個整數以及一個運算符號(+,-,*,/,%)，並根據運算符號將兩整數進行運算後輸出其結果(除號”/”所使用的運算為// )。\n",
    "\n",
    "例:\n",
    "\n",
    "2,3,+-> 2+3=5\n",
    "\n",
    "\n",
    "Input\n",
    "輸入兩個整數(int)，以及一個運算符號(+, -, *, /, %)。\n",
    "\n",
    "\n",
    "Output\n",
    "輸出格式為[第一個整數] [運算符號] [第二個整數] = [運算結果]，最後必須有換行字元。"
   ]
  },
  {
   "cell_type": "code",
   "execution_count": 4,
   "metadata": {},
   "outputs": [
    {
     "name": "stdout",
     "output_type": "stream",
     "text": [
      "10 % 3 = 1\n"
     ]
    }
   ],
   "source": [
    "import operator\n",
    "\n",
    "x=int(input())\n",
    "y=int(input())\n",
    "z=input()\n",
    "ops = { \"+\": operator.add, \"-\": operator.sub,'*':operator.mul,'/':operator.floordiv ,'%':operator.mod}\n",
    "print(x,z,y,\"=\",ops[z](x,y))"
   ]
  },
  {
   "cell_type": "markdown",
   "metadata": {},
   "source": [
    "計算MVP數值\n",
    "Description\n",
    "\n",
    "寫一程式，讓使用者可以輸入籃球員的平均得分、籃板、助攻、抄截以及失誤等數值。並依照(得分*2+助攻*1+籃板*2+抄截*2)-(失誤*2)的公式取得此籃球員的MVP數值，根據MVP數值將球員分成四個等級，大於46分以上為A級球員，45~33分為B級球員，32~24分為C級球員，低於24分為D級球員。\n",
    "\n",
    "\n",
    "Input\n",
    "輸入5個正整數(int)，依序分別代表:平均得分、籃板、助攻、抄截以及失誤。\n",
    "\n",
    "\n",
    "Output\n",
    "輸出該球員的等級，最後必須有換行字元。"
   ]
  },
  {
   "cell_type": "code",
   "execution_count": 6,
   "metadata": {},
   "outputs": [
    {
     "name": "stdout",
     "output_type": "stream",
     "text": [
      "A\n"
     ]
    }
   ],
   "source": [
    "x=(int(input())*2)+(int(input()))+(int(input())*2)+(int(input())*2)-(int(input())*2)\n",
    "if x>=46:\n",
    "    print('A')\n",
    "elif 33<=x<=45:\n",
    "    print('B')\n",
    "elif 24<=x<=32:\n",
    "    print('C')\n",
    "else:\n",
    "    print('D')"
   ]
  },
  {
   "cell_type": "markdown",
   "metadata": {},
   "source": [
    "判斷三角形\n",
    "Description\n",
    "\n",
    "給你一個三角形的邊長，請你判斷它是銳角 (acute)、直角 (right)、或是鈍角 (obtuse) 三角形。\n",
    "\n",
    "\n",
    "Input\n",
    "輸入三個正整數 a, b, c (0 < a, b, c ≤ 32767)，代表三角形的邊長。\n",
    "\n",
    "\n",
    "Output\n",
    "依三角形的類別輸出「acute triangle」、「right triangle」、或「obtuse triangle」如果無法組成三角形則輸出「not triangle」，最後必須有換行字元。"
   ]
  },
  {
   "cell_type": "code",
   "execution_count": null,
   "metadata": {},
   "outputs": [],
   "source": [
    "A=int(input())                 \n",
    "B=int(input())\n",
    "C=int(input())   \n",
    "\n",
    "\n",
    "if A+B <= C:                \n",
    "    print('not triangle')\n",
    "\n",
    "elif A**2+B**2 < C**2:     \n",
    "    print('obtuse triangle')\n",
    "elif A**2+B**2 == C**2:     \n",
    "    print('right triangle')\n",
    "elif A**2+B**2 > C**2:      \n",
    "    print('acute triangle')"
   ]
  },
  {
   "cell_type": "markdown",
   "metadata": {},
   "source": [
    "成績加分\n",
    "Description\n",
    "\n",
    "老師在計算班級平均成績時發現平均成績太低，所以將每個學生的成績進行加分，加分的規則是90分以上加5分(超過100分當100分計算)，60分以上加8分，不到60分則是加12分。\n",
    "\n",
    "\n",
    "Input\n",
    "輸入學生成績(int)。\n",
    "\n",
    "\n",
    "Output\n",
    "輸出學生經過加分後的新成績。"
   ]
  },
  {
   "cell_type": "code",
   "execution_count": null,
   "metadata": {},
   "outputs": [],
   "source": [
    "x=int(input())\n",
    "if x>=90:\n",
    "    if x>=95:\n",
    "        print(100)\n",
    "    else:\n",
    "        print(x+5)\n",
    "elif x>=60:\n",
    "    print(x+8)\n",
    "else:\n",
    "    print(x+12)"
   ]
  },
  {
   "cell_type": "markdown",
   "metadata": {},
   "source": [
    "交通工具\n",
    "Description\n",
    "\n",
    "小明要從家裡去參加國中同學會，小明家到同學會的路程為n公里，如果距離在1公里以下，小明會選擇走路(Walk)過去，距離在2到9公里會選擇騎機車(Scooter)，距離在10公里以上會選擇開車(Car)。\n",
    "\n",
    "\n",
    "Input\n",
    "輸入一正整數n，為幾公里。\n",
    "\n",
    "\n",
    "Output\n",
    "輸出小明使用的交通工具，最後必須有換行字元。"
   ]
  },
  {
   "cell_type": "code",
   "execution_count": null,
   "metadata": {},
   "outputs": [],
   "source": [
    "x=int(input())\n",
    "if x<=1:\n",
    "    print('Walk')\n",
    "elif 2<=x<=9:\n",
    "    print('Scooter')\n",
    "elif x>=10:\n",
    "    print('Car')"
   ]
  },
  {
   "cell_type": "markdown",
   "metadata": {},
   "source": [
    "星座\n",
    "Description\n",
    "\n",
    "小明想要知道班上同學們的星座分布，小明目前只知道全班的生日，請幫小明寫一程式，輸入日期輸出該日期所代表的星座。\n",
    "\n",
    "星座                  日期\n",
    "\n",
    "水瓶座(Aquarius)1/21 ~ 2/19\n",
    "\n",
    "雙魚座(Pisces)2/20~ 3/20\n",
    "\n",
    "牡羊座(Aries)3/21~ 4/20\n",
    "\n",
    "金牛座(Taurus)4/21 ~ 5/21\n",
    "\n",
    "雙子座(Gemini)5/22 ~ 6/21\n",
    "\n",
    "巨蟹座(Cancer)6/22 ~ 7/22\n",
    "\n",
    "獅子座(Leo)7/23~ 8/21\n",
    "\n",
    "處女座(Virgo)8/22~ 9/23\n",
    "\n",
    "天秤座(Libra)9/24~ 10/23\n",
    "\n",
    "天蠍座(Scorpio)10/24 ~ 11/22\n",
    "\n",
    "射手座(Sagittarius)11/23 ~ 12/22\n",
    "\n",
    "摩羯座(Capricorn)12/23 ~ 1/20\n",
    "\n",
    "\n",
    "Input\n",
    "輸入兩個正整數(int)，分別為月與日。\n",
    "\n",
    "\n",
    "Output\n",
    "輸出日期對應星座的英文，最後必須有換行字元。"
   ]
  },
  {
   "cell_type": "code",
   "execution_count": null,
   "metadata": {},
   "outputs": [],
   "source": [
    "month=int(input())\n",
    "day=int(input())\n",
    "if (month == 1 and day > 20)or(month == 2 and day < 19):\n",
    "     print(\"Aquarius\")\n",
    "elif (month == 2 and day > 18)or(month == 3 and day < 21):\n",
    "     print(\"Pisces\")\n",
    "elif (month == 3 and day > 20)or(month == 4 and day < 21):\n",
    "      print(\"Aries\")\n",
    "elif (month == 4 and day > 20)or(month == 5 and day < 22):\n",
    "     print(\"Taurus\")\n",
    "elif (month == 5 and day > 21)or(month == 6 and day < 22):\n",
    "     print(\"Gemini\")\n",
    "elif (month == 6 and day > 21)or(month == 7 and day < 23):\n",
    "    print(\"Cancer\")\n",
    "elif (month == 7 and day > 22)or(month == 8 and day < 24):\n",
    "    print(\"Leo\")\n",
    "elif (month == 8 and day > 23)or(month == 9 and day < 24):\n",
    "    print(\"Virgo\")\n",
    "elif (month == 9 and day > 23)or(month == 10 and day < 24):\n",
    "     print(\"Libra\")\n",
    "elif (month == 10 and day > 23)or(month == 11 and day < 23):\n",
    "    print(\"Scorpio\")\n",
    "elif (month == 11 and day > 22)or(month == 12 and day < 22):\n",
    "    print(\"Sagittarius\")\n",
    "elif (month == 12 and day > 21)or(month == 1 and day < 21):\n",
    "    print(\"Capricorn\")"
   ]
  },
  {
   "cell_type": "markdown",
   "metadata": {},
   "source": [
    "七言對聯\n",
    "Description\n",
    "\n",
    "中文依照發音方式可以分為平聲與仄聲，假設我們把平聲標記為1而仄聲標記為0\n",
    "\n",
    "一個七言對聯包含兩個句子，每個句子包含恰好七個字。\n",
    "\n",
    "七言對聯有三個限制：\n",
    "\n",
    "A:二四不同二六同：每一句第二、四個字必須不同平仄，而第二、六個字必須相同平仄。\n",
    "\n",
    "例: 1011001\n",
    "\n",
    "B:仄起平收：第一句的結尾必須為仄聲，第二句的結尾必須為平聲。\n",
    "\n",
    "例:\n",
    "\n",
    "第一句:1011010，第二句:0110111\n",
    "\n",
    "C:上下相對：第一、二句的第二、四、六個字平仄必須不同。\n",
    "\n",
    "例:\n",
    "\n",
    "第一句:1011010，第二句:0110101\n",
    "\n",
    "\n",
    "Input\n",
    "輸入有2行(string)，每行有7個數字，數字不是0就是1。\n",
    "\n",
    "\n",
    "Output\n",
    "請輸出它違反了哪幾條規則，若以上規則皆無違反，請輸出None，最後必須有換行字元。"
   ]
  },
  {
   "cell_type": "code",
   "execution_count": null,
   "metadata": {},
   "outputs": [],
   "source": [
    "x=input()\n",
    "y=input()\n",
    "z=True\n",
    "if x[1]==x[3] or x[1]!=x[5]:\n",
    "    print(\"A\",end=\"\")\n",
    "    z=False\n",
    "elif y[1]==y[3] or y[1]!=y[5]:\n",
    "    print(\"A\",end=\"\")\n",
    "    z=False\n",
    "if x[6]==\"1\" or y[6]==\"0\":\n",
    "    print(\"B\",end=\"\")\n",
    "    z=False\n",
    "if x[1]==y[1] or x[3]==y[3] or x[5]==y[5]:\n",
    "    print(\"C\",end=\"\")\n",
    "    z=False\n",
    "if z:\n",
    "    print(\"None\")"
   ]
  },
  {
   "cell_type": "markdown",
   "metadata": {},
   "source": [
    "在學校嗎?\n",
    "Description\n",
    "\n",
    "某高中規定同學必須在7:30以前到校早自習，最後一堂課則在18:00下課。給你現在的時間，請判斷現在是不是必須在學校的時間。\n",
    "\n",
    "\n",
    "Input\n",
    "輸入小時(int)與分鐘(int)代表現在的時間(24小時制)。\n",
    "\n",
    "\n",
    "Output\n",
    "如果現在是上學時間，請輸出「At School」，否則請輸出「Off School」，最後必須有換行字元。"
   ]
  },
  {
   "cell_type": "code",
   "execution_count": null,
   "metadata": {},
   "outputs": [],
   "source": [
    "x=int(input())\n",
    "y=int(input())\n",
    "if 450<=x*60+y<=1080:\n",
    "    print('At School')\n",
    "else:\n",
    "    print('Off School')"
   ]
  },
  {
   "cell_type": "markdown",
   "metadata": {},
   "source": [
    "宵夜去哪吃\n",
    "Description\n",
    "\n",
    "小明晚上上補習班的課打算吃個飯，於是想找家還有在營業的店吃，而小明現在想吃的店有四家，\n",
    "\n",
    "依照優先度分別為，咖哩屋(Curry)、麵食館(Noodle)、滷味店(Braiseddish)、麥當勞(McDonald's)，\n",
    "\n",
    "請寫一個程式幫小明選擇晚餐去哪吃。\n",
    "\n",
    "這四家店的關店時間:\n",
    "\n",
    "咖哩屋(Curry):下午 11:00\n",
    "\n",
    "麵食館(Noodle):上午 2:00\n",
    "\n",
    "滷味店(Braised dish):上午 3:00\n",
    "\n",
    "麥當勞(McDonald's):24 小時不打烊\n",
    "\n",
    "\n",
    "Input\n",
    "輸入兩整數分別為小時(int)與分鐘(int)，輸入範圍在下午 10:00 到上午 5:00 (12 小時制)。\n",
    "\n",
    "\n",
    "Output\n",
    "輸出店家名(英文)，當有複數店家營業則優先選擇優先度高的店家，最後必須要有換行字元。"
   ]
  },
  {
   "cell_type": "code",
   "execution_count": null,
   "metadata": {},
   "outputs": [],
   "source": [
    "a=int(input())\n",
    "b=int(input())\n",
    "if 600<=a*60+b<660:\n",
    "    print('Curry')\n",
    "elif 660<=a*60+b<=780 or 0<=a*60+b<120:\n",
    "    print('Noodle')\n",
    "elif 120<=a*60+b<180:\n",
    "    print('Braised dish')\n",
    "else:\n",
    "    print(\"McDonald's\")"
   ]
  },
  {
   "cell_type": "markdown",
   "metadata": {},
   "source": [
    "電影分級\n",
    "Description\n",
    "\n",
    "美國的電影分級制度，分為五種G、PG、PG-13、R、NC-17，今天有一對父母要帶小孩看電影，請依據電影分級與小孩年齡，撰寫程式判斷小孩是否能看此電影。\n",
    "\n",
    "電影分級規則如下:\n",
    "\n",
    "G:為所有小孩皆可以觀賞。\n",
    "\n",
    "PG:小孩須年滿8歲以上才可觀賞。\n",
    "\n",
    "PG-13:小孩須滿13歲以上才可觀賞。\n",
    "\n",
    "R:小孩須滿17歲以上才可觀賞。\n",
    "\n",
    "NC-17:為禁片，不可觀賞。\n",
    "\n",
    "\n",
    "Input\n",
    "輸入一字串為電影分級，一整數(int)為小孩年齡。\n",
    "\n",
    "\n",
    "Output\n",
    "小孩年齡不符合規範則輸出”You may not see that movie!”，符合規範則輸出”You may see that movie!”，最後必須要有換行字元。"
   ]
  },
  {
   "cell_type": "code",
   "execution_count": null,
   "metadata": {},
   "outputs": [],
   "source": [
    "x=input()\n",
    "y=int(input())\n",
    "if x==\"G\":\n",
    "    print(\"You may see that movie!\")\n",
    "elif x==\"PG\":\n",
    "    if y>=8:\n",
    "        print('You may see that movie!')\n",
    "    else:\n",
    "        print('You may not see that movie!')\n",
    "elif x==\"PG-13\":\n",
    "    if y>=13:\n",
    "        print('You may see that movie!')\n",
    "    else:\n",
    "        print('You may not see that movie!')\n",
    "elif x==\"R\":\n",
    "    if y>=17:\n",
    "        print('You may see that movie!')\n",
    "    else:\n",
    "        print('You may not see that movie!')\n",
    "elif x==\"NC-17\":\n",
    "    print('You may not see that movie!')"
   ]
  },
  {
   "cell_type": "markdown",
   "metadata": {},
   "source": [
    "\n",
    "買咖啡\n",
    "Description\n",
    "\n",
    "小明熬夜加班，想去買杯咖啡提提神，而到了咖啡店有五種咖啡可以選擇，但小明身上只有n元，請撰寫一程式幫小明判斷他選擇的咖啡，是否支付得起。\n",
    "\n",
    "咖啡價目表如下:\n",
    "\n",
    "Octane:$60\n",
    "\n",
    "Galloway:$50\n",
    "\n",
    "Starbucks:$40\n",
    "\n",
    "Revelator:$30\n",
    "\n",
    "Dunkin:$20\n",
    "\n",
    "\n",
    "Input\n",
    "輸入一字串為咖啡名稱，一整數(int)為小明身上的錢。\n",
    "\n",
    "\n",
    "Output\n",
    "如果支付得起則輸出”With [小明身上的錢] dollars,I can buy coffee at [咖啡名稱]”，如果支付不起則輸出”With [小明身上的錢] dollars,I cannot buy coffee at [咖啡名稱]”，最後必須有換行字元。"
   ]
  },
  {
   "cell_type": "code",
   "execution_count": null,
   "metadata": {},
   "outputs": [],
   "source": [
    "x=input()\n",
    "y=int(input())\n",
    "\n",
    "if x==\"Octane\":\n",
    "    if y>=60:\n",
    "        print('With',y,\"dollars, I can buy coffee at\",x,sep=\" \")\n",
    "    else:\n",
    "        print('With',y,\"dollars, I cannot buy coffee at\",x,sep=\" \")\n",
    "elif x==\"Galloway\":\n",
    "    if y>=50:\n",
    "        print('With',y,\"dollars, I can buy coffee at\",x,sep=\" \")\n",
    "    else:\n",
    "        print('With',y,\"dollars, I cannot buy coffee at\",x,sep=\" \")\n",
    "elif x==\"Starbucks\":\n",
    "    if y>=40:\n",
    "        print('With',y,\"dollars, I can buy coffee at\",x,sep=\" \")\n",
    "    else:\n",
    "        print('With',y,\"dollars, I cannot buy coffee at\",x,sep=\" \")\n",
    "elif x==\"Revelator\":\n",
    "    if y>=30:\n",
    "        print('With',y,\"dollars, I can buy coffee at\",x,sep=\" \")\n",
    "    else:\n",
    "        print('With',y,\"dollars, I cannot buy coffee at\",x,sep=\" \")\n",
    "elif x==\"Dunkin\":\n",
    "    if y>=20:\n",
    "        print('With',y,\"dollars, I can buy coffee at\",x,sep=\" \")\n",
    "    else:\n",
    "        print('With',y,\"dollars, I cannot buy coffee at\",x,sep=\" \")"
   ]
  },
  {
   "cell_type": "markdown",
   "metadata": {},
   "source": [
    "籃球比賽\n",
    "Description\n",
    "\n",
    "兩籃球隊比賽後顯示哪隊獲勝的跑馬燈壞了，請撰寫一程式根據兩隊比賽分數，判斷哪隊獲勝或平手。\n",
    "\n",
    "\n",
    "Input\n",
    "輸入兩隊隊名(string)與其隊的比賽分數(int)。\n",
    "\n",
    "\n",
    "Output\n",
    "輸出格式為\"[贏隊] beat [輸隊] by [贏幾分]\"，如果為平手則輸出\"[隊伍1] played [隊伍2] and it was a tie\"，最後必須有換行字元。"
   ]
  },
  {
   "cell_type": "code",
   "execution_count": null,
   "metadata": {},
   "outputs": [],
   "source": [
    "x=input()\n",
    "a=int(input())\n",
    "y=input()\n",
    "b=int(input())\n",
    "if a>b:\n",
    "    print(x,\"beat\",y,\"by\",a-b,sep=\" \")\n",
    "elif a<b:\n",
    "    print(y,\"beat\",x,\"by\",b-a,sep=\" \")\n",
    "else:\n",
    "    print(x,\"played\",y,\"and it was a tie\",sep=\" \")"
   ]
  },
  {
   "cell_type": "markdown",
   "metadata": {},
   "source": [
    "罰寫\n",
    "Description\n",
    "\n",
    "小明他說髒話時被老師聽到了，結果被罰在黑板上寫n遍「I don'tsay swear words!」。\n",
    "\n",
    "\n",
    "Input\n",
    "輸入只有一行，其中含有一個正整數n，代表小明被罰寫的次數。\n",
    "\n",
    "\n",
    "Output\n",
    "輸出n行「I don't say swear words!」，最後必須有換行字元。"
   ]
  },
  {
   "cell_type": "code",
   "execution_count": null,
   "metadata": {},
   "outputs": [],
   "source": [
    "for i in range(int(input())):\n",
    "\tprint(\"I don't say swear words!\")"
   ]
  },
  {
   "cell_type": "code",
   "execution_count": 10,
   "metadata": {},
   "outputs": [
    {
     "name": "stdout",
     "output_type": "stream",
     "text": [
      "40\n"
     ]
    }
   ],
   "source": [
    "n=int(input())\n",
    "r=int(input())\n",
    "\n",
    "a=1\n",
    "b=1\n",
    "c=1\n",
    "for i in range(1,n+1):\n",
    "    a*=i\n",
    "for i in range(1,r+1):\n",
    "    b*=i\n",
    "for i in range(1,(n-r)+1):\n",
    "    c*=i\n",
    "print(int(a/b*c))"
   ]
  },
  {
   "cell_type": "code",
   "execution_count": 1,
   "metadata": {},
   "outputs": [
    {
     "ename": "ValueError",
     "evalue": "invalid literal for int() with base 2: '15'",
     "output_type": "error",
     "traceback": [
      "\u001b[1;31m---------------------------------------------------------------------------\u001b[0m",
      "\u001b[1;31mValueError\u001b[0m                                Traceback (most recent call last)",
      "Cell \u001b[1;32mIn [1], line 1\u001b[0m\n\u001b[1;32m----> 1\u001b[0m \u001b[39mprint\u001b[39m(\u001b[39mint\u001b[39;49m(\u001b[39minput\u001b[39;49m(),\u001b[39m2\u001b[39;49m))\n",
      "\u001b[1;31mValueError\u001b[0m: invalid literal for int() with base 2: '15'"
     ]
    }
   ],
   "source": [
    "\n",
    "print(int(input(),2))"
   ]
  },
  {
   "cell_type": "code",
   "execution_count": 3,
   "metadata": {},
   "outputs": [
    {
     "ename": "TypeError",
     "evalue": "slice indices must be integers or None or have an __index__ method",
     "output_type": "error",
     "traceback": [
      "\u001b[1;31m---------------------------------------------------------------------------\u001b[0m",
      "\u001b[1;31mTypeError\u001b[0m                                 Traceback (most recent call last)",
      "Cell \u001b[1;32mIn [3], line 2\u001b[0m\n\u001b[0;32m      1\u001b[0m x\u001b[39m=\u001b[39m\u001b[39minput\u001b[39m()\n\u001b[1;32m----> 2\u001b[0m \u001b[39mif\u001b[39;00m x[\u001b[39m0\u001b[39;49m:\u001b[39mint\u001b[39;49m(\u001b[39mlen\u001b[39;49m(x))\u001b[39m/\u001b[39;49m\u001b[39m2\u001b[39;49m\u001b[39m+\u001b[39;49m\u001b[39m1\u001b[39;49m:\u001b[39m1\u001b[39;49m]\u001b[39m==\u001b[39mx[\u001b[39mint\u001b[39m(\u001b[39mlen\u001b[39m(x)):\u001b[39mint\u001b[39m(\u001b[39mlen\u001b[39m(x))\u001b[39m/\u001b[39m\u001b[39m2\u001b[39m:\u001b[39m-\u001b[39m\u001b[39m1\u001b[39m]:\n\u001b[0;32m      3\u001b[0m     \u001b[39mprint\u001b[39m(\u001b[39m'\u001b[39m\u001b[39mYES\u001b[39m\u001b[39m'\u001b[39m)\n",
      "\u001b[1;31mTypeError\u001b[0m: slice indices must be integers or None or have an __index__ method"
     ]
    }
   ],
   "source": [
    "x=input()\n",
    "if x[0:int(len(x))/2+1:1]==x[int(len(x)):int(len(x))/2:-1]:\n",
    "    print('YES')"
   ]
  }
 ],
 "metadata": {
  "kernelspec": {
   "display_name": "Python 3.9.10 64-bit",
   "language": "python",
   "name": "python3"
  },
  "language_info": {
   "codemirror_mode": {
    "name": "ipython",
    "version": 3
   },
   "file_extension": ".py",
   "mimetype": "text/x-python",
   "name": "python",
   "nbconvert_exporter": "python",
   "pygments_lexer": "ipython3",
   "version": "3.9.10"
  },
  "orig_nbformat": 4,
  "vscode": {
   "interpreter": {
    "hash": "c5d269574d350b051d2fab1614ebbbf2fa09728239c894b53d63951c9539b734"
   }
  }
 },
 "nbformat": 4,
 "nbformat_minor": 2
}

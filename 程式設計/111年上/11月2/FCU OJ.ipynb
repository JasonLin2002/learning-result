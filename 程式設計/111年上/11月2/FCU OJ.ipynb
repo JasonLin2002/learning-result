{
 "cells": [
  {
   "cell_type": "markdown",
   "metadata": {},
   "source": [
    "C n取r\n",
    "Description\n",
    "\n",
    "image.png\n",
    "\n",
    "\n",
    "Input\n",
    "輸入兩正整數n與r。\n",
    "\n",
    "\n",
    "Output\n",
    "輸出計算結果，最後必須有換行字元。"
   ]
  },
  {
   "cell_type": "code",
   "execution_count": 1,
   "metadata": {},
   "outputs": [
    {
     "name": "stdout",
     "output_type": "stream",
     "text": [
      "10\n"
     ]
    }
   ],
   "source": [
    "import math\n",
    "\n",
    "n=int(input())\n",
    "r=int(input())\n",
    "print (math . factorial (n)//(math. factorial(r) *math. factorial(n-r) ) )"
   ]
  },
  {
   "cell_type": "markdown",
   "metadata": {},
   "source": [
    "帳本(while)\n",
    "Description\n",
    "\n",
    "小明想要用帳本記錄自己的收入與支出情況，請撰寫一程式，可重複輸入金額數目正數為收入，負數為支出，輸出目前金額，當目前金額為0時則輸出”no money”，之後結束程式，當輸入為”stop”時，結束程式。\n",
    "\n",
    "假設小明初始金額為1000元。\n",
    "\n",
    "\n",
    "Input\n",
    "輸入整數為收入支出金額或”stop”。\n",
    "\n",
    "\n",
    "Output\n",
    "輸出目前金額，當目前金額為0時則輸出”no money”，最後必須有換行字元。"
   ]
  },
  {
   "cell_type": "code",
   "execution_count": 20,
   "metadata": {},
   "outputs": [
    {
     "name": "stdout",
     "output_type": "stream",
     "text": [
      "7000\n",
      "no money\n"
     ]
    }
   ],
   "source": [
    "sum=1000\n",
    "while True:\n",
    "    x=input()\n",
    "    if x=='stop':\n",
    "        break\n",
    "    else:\n",
    "        sum+=int(x)\n",
    "        if sum<=0:\n",
    "            print('no money')\n",
    "            break\n",
    "        else:\n",
    "            print(sum)"
   ]
  },
  {
   "cell_type": "markdown",
   "metadata": {},
   "source": [
    "文字圖形三角形(二)\n",
    "Description\n",
    "\n",
    "撰寫一程式，輸入三角形的高，輸出下圖中的三角形圖形。\n",
    "\n",
    "Clipboard Image.png\n",
    "\n",
    "\n",
    "Input\n",
    "輸入三角形的高(int)。\n",
    "\n",
    "\n",
    "Output\n",
    "輸出由”*”組成的三角形，”*”之間並無空格，最後必須有換行字元。"
   ]
  },
  {
   "cell_type": "code",
   "execution_count": 30,
   "metadata": {},
   "outputs": [
    {
     "name": "stdout",
     "output_type": "stream",
     "text": [
      "    *\n",
      "   ***\n",
      "  *****\n",
      " *******\n",
      "*********\n"
     ]
    }
   ],
   "source": [
    "n = int(input())\n",
    "for i in range(n):\n",
    "\tprint(' '*(n-1-i) +'*'*(i+1) + '*'*i)"
   ]
  },
  {
   "cell_type": "markdown",
   "metadata": {},
   "source": [
    "文字圖形三角形(一)\n",
    "Description\n",
    "\n",
    "撰寫一程式，輸入三角形的高度(h)，印出下圖格式的三角形。\n",
    "\n",
    "Clipboard Image.png\n",
    "\n",
    "\n",
    "Input\n",
    "輸入三角形的高度(int)。\n",
    "\n",
    "\n",
    "Output\n",
    "輸出由數字組成的三角形，最後必須有換行字元。"
   ]
  },
  {
   "cell_type": "code",
   "execution_count": 63,
   "metadata": {},
   "outputs": [
    {
     "name": "stdout",
     "output_type": "stream",
     "text": [
      "1\n",
      "12\n",
      "123\n",
      "1234\n",
      "12345\n",
      "1234\n",
      "123\n",
      "12\n",
      "1\n"
     ]
    }
   ],
   "source": [
    "x=int(input())\n",
    "\n",
    "for i in range(1,x+1):\n",
    "    for j in range(1,i+1):\n",
    "        print(j,end=\"\")\n",
    "    print()\n",
    "\n",
    "for a in range(x,1,-1):\n",
    "    for b in range(1,a):\n",
    "        print(b,end=\"\")\n",
    "    print()\n"
   ]
  },
  {
   "cell_type": "markdown",
   "metadata": {},
   "source": [
    "文字圖形平行四邊形\n",
    "Description\n",
    "\n",
    "撰寫一程式，輸入平行四邊形的高(h)，輸出下圖中的平行四邊形圖形。\n",
    "\n",
    "Clipboard Image.png\n",
    "\n",
    "\n",
    "Input\n",
    "輸入平行四邊形的高(int)。\n",
    "\n",
    "\n",
    "Output\n",
    "輸出由”*”組成的平行四邊形，最後必須有換行字元。"
   ]
  },
  {
   "cell_type": "code",
   "execution_count": 64,
   "metadata": {},
   "outputs": [
    {
     "name": "stdout",
     "output_type": "stream",
     "text": [
      "*\n",
      "**\n",
      "***\n",
      "****\n",
      "*****\n",
      " ****\n",
      "  ***\n",
      "   **\n",
      "    *\n"
     ]
    }
   ],
   "source": [
    "n=int(input())\n",
    "c=\"*\"\n",
    "for i in range(1,n+1): \n",
    "    print(c*i)\n",
    "for i in range(n-1,0,-1): \n",
    "    print((n-1-i)*' ',c*i)"
   ]
  },
  {
   "cell_type": "markdown",
   "metadata": {},
   "source": [
    "文字圖形矩形\n",
    "Description\n",
    "\n",
    "撰寫一程式，輸入矩形的寬(w)與高(h)，輸出下圖中的矩形圖形。\n",
    "\n",
    "Clipboard Image.png\n",
    "\n",
    "\n",
    "Input\n",
    "輸入矩形的寬(int)與高(int)。\n",
    "\n",
    "\n",
    "Output\n",
    "輸出由”*”組成的矩形，中間由空格填補，最後必須有換行字元。"
   ]
  },
  {
   "cell_type": "code",
   "execution_count": 1,
   "metadata": {},
   "outputs": [
    {
     "name": "stdout",
     "output_type": "stream",
     "text": [
      "*****\n",
      "*   *\n",
      "*   *\n",
      "*   *\n",
      "*   *\n",
      "*****\n"
     ]
    }
   ],
   "source": [
    "W=int(input())\n",
    "H=int(input())\n",
    "print(\"*\"*W)\n",
    "for H in range (H-2):\n",
    "    print(\"*\",\" \"*(W-4),\"*\")\n",
    "print(\"*\"*W)"
   ]
  },
  {
   "cell_type": "markdown",
   "metadata": {},
   "source": [
    "找貓\n",
    "Description\n",
    "\n",
    "請撰寫一程式，輸入一段文字並在其中尋找”cat”出現過幾次，並且可以多次輸入文字，並輸出每次輸入的”cat”出現次數，直到輸入為-1時停止。\n",
    "\n",
    "\n",
    "Input\n",
    "輸述一串文字(string)。\n",
    "\n",
    "\n",
    "Output\n",
    "輸出”cat”出現過的次數，最後必須有換行字元。"
   ]
  },
  {
   "cell_type": "code",
   "execution_count": 75,
   "metadata": {},
   "outputs": [
    {
     "name": "stdout",
     "output_type": "stream",
     "text": [
      "1\n"
     ]
    }
   ],
   "source": [
    "x=0\n",
    "while x!=1:\n",
    "    y=input()\n",
    "    if y=='-1':\n",
    "        x=1\n",
    "    else:\n",
    "        print(y.count('cat'))"
   ]
  },
  {
   "cell_type": "markdown",
   "metadata": {},
   "source": [
    "找貓(不用[.count])\n",
    "Description\n",
    "\n",
    "請撰寫一程式，輸入一段文字並在其中尋找”cat”出現過幾次，並且可以多次輸入文字，並輸出每次輸入的”cat”出現次數，直到輸入為-1時停止。\n",
    "\n",
    "\n",
    "Input\n",
    "輸述一串文字(string)。\n",
    "\n",
    "\n",
    "Output\n",
    "輸出”cat”出現過的次數，最後必須有換行字元。"
   ]
  },
  {
   "cell_type": "code",
   "execution_count": 2,
   "metadata": {},
   "outputs": [
    {
     "name": "stdout",
     "output_type": "stream",
     "text": [
      "1\n"
     ]
    }
   ],
   "source": [
    "while True:\n",
    "    x=input()\n",
    "    if x=='-1':\n",
    "        break\n",
    "    else:\n",
    "        y=0\n",
    "        for i in range(0,len(x)-2):\n",
    "            if x[i:i+3]=='cat':\n",
    "                y+=1\n",
    "        print(y)"
   ]
  },
  {
   "cell_type": "markdown",
   "metadata": {},
   "source": [
    "猜拳\n",
    "Description\n",
    "\n",
    "A與B兩人在猜拳，請撰寫一程式紀錄兩人猜贏對方的次數，兩人各自出剪刀(scissors)、石頭(rock)、布(paper)，當兩人之中只要有一人提出”stop”，則停止並結算各自獲勝次數。\n",
    "\n",
    "\n",
    "Input\n",
    "輸入一行A與B的出拳scissors、rock、paper或stop，用一個空格隔開，前者為A的出拳，後者為B的出拳。\n",
    "\n",
    "\n",
    "Output\n",
    "當其中一方提出stop，輸出”A Win: [A勝利數] , BWin: [B勝利數]”，最後必須有換行字元。"
   ]
  },
  {
   "cell_type": "code",
   "execution_count": 81,
   "metadata": {},
   "outputs": [
    {
     "name": "stdout",
     "output_type": "stream",
     "text": [
      "A Win: 1 B Win: 2\n"
     ]
    }
   ],
   "source": [
    "x=0\n",
    "y=0\n",
    "while True:\n",
    "    a,b=input().split()\n",
    "    if a=='stop' or b=='stop':\n",
    "        print('A Win:',y,', B win:',x)\n",
    "        break\n",
    "    else:\n",
    "        if a=='rock':\n",
    "            if b=='scissors':\n",
    "                y+=1\n",
    "            elif b=='paper':\n",
    "                x+=1\n",
    "        elif a=='scissors':\n",
    "            if b=='rock':\n",
    "                x+=1\n",
    "            elif b=='paper':\n",
    "                y+=1\n",
    "        elif a=='paper':\n",
    "            if b=='scissors':\n",
    "                x+=1\n",
    "            elif b=='paper':\n",
    "                y+=1"
   ]
  },
  {
   "cell_type": "markdown",
   "metadata": {},
   "source": [
    "行駛油量(While)\n",
    "Description\n",
    "\n",
    "小明想紀錄觀察他的機車在行駛時的汽油消耗量，請撰寫一程式輸入行駛的公里數(km)，輸出消耗油量(l)，可多次輸入，輸入-1時輸出剩餘油量並結束程式，當油量消耗完畢也會輸出”no oil”，並結束程式。\n",
    "\n",
    "假設小明的機車油量為3公升，而一公升可以行駛60公里。\n",
    "\n",
    "\n",
    "Input\n",
    "輸入行駛的公里數(int)，或是-1。\n",
    "\n",
    "\n",
    "Output\n",
    "輸入行駛公里數時輸出行駛該公里消耗多少油量，而當油量消耗完畢則輸出”no oil”，當輸入為-1時輸出機車剩餘油量，最後必須有換行字元。"
   ]
  },
  {
   "cell_type": "code",
   "execution_count": null,
   "metadata": {},
   "outputs": [],
   "source": [
    "b=3\n",
    "while True:\n",
    "    a=int(input())\n",
    "    if a==-1: \n",
    "        print (round(b,2))\n",
    "        break\n",
    "    else:\n",
    "        b-=a/60\n",
    "    if b<=0:\n",
    "        print(\"no oil\")\n",
    "        break\n",
    "    print(round(a/60,2))"
   ]
  },
  {
   "cell_type": "markdown",
   "metadata": {},
   "source": [
    "節拍\n",
    "Description\n",
    "\n",
    "小明唱歌很爛總是抓不到節奏，於是撰寫一個程式幫他數節拍，輸入一輪幾個小節，與每小節共幾拍，輸出節拍。\n",
    "\n",
    "例:\n",
    "\n",
    "4拍3小節\n",
    "\n",
    "1,2,3,4\n",
    "\n",
    "2,2,3,4\n",
    "\n",
    "3,2,3,4\n",
    "\n",
    "4,2,3,4\n",
    "\n",
    "\n",
    "Input\n",
    "輸入拍數(int)與小節數(int)。\n",
    "\n",
    "\n",
    "Output\n",
    "輸出節拍並每個拍子間用逗號連接，小節間須換行，最後必須有換行字元。"
   ]
  },
  {
   "cell_type": "code",
   "execution_count": 94,
   "metadata": {},
   "outputs": [
    {
     "name": "stdout",
     "output_type": "stream",
     "text": [
      "1,2,3,4,5,6\n",
      "2,2,3,4,5,6\n",
      "3,2,3,4,5,6\n",
      "4,2,3,4,5,6\n",
      "5,2,3,4,5,6\n"
     ]
    }
   ],
   "source": [
    "a=int(input())\n",
    "b=int(input())\n",
    "for i in range(1,b+1):\n",
    "    print(i, end='')\n",
    "    for j in range(1,a):\n",
    "        print(',',j+1,sep='',end='')\n",
    "    print()"
   ]
  }
 ],
 "metadata": {
  "kernelspec": {
   "display_name": "Python 3.9.13 ('base')",
   "language": "python",
   "name": "python3"
  },
  "language_info": {
   "codemirror_mode": {
    "name": "ipython",
    "version": 3
   },
   "file_extension": ".py",
   "mimetype": "text/x-python",
   "name": "python",
   "nbconvert_exporter": "python",
   "pygments_lexer": "ipython3",
   "version": "3.9.13"
  },
  "orig_nbformat": 4,
  "vscode": {
   "interpreter": {
    "hash": "ad2bdc8ecc057115af97d19610ffacc2b4e99fae6737bb82f5d7fb13d2f2c186"
   }
  }
 },
 "nbformat": 4,
 "nbformat_minor": 2
}

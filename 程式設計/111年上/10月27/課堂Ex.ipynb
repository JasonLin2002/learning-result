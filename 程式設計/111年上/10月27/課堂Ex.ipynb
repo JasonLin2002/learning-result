{
 "cells": [
  {
   "cell_type": "markdown",
   "metadata": {},
   "source": [
    "質數判斷:"
   ]
  },
  {
   "cell_type": "code",
   "execution_count": 12,
   "metadata": {},
   "outputs": [
    {
     "name": "stdout",
     "output_type": "stream",
     "text": [
      "NO\n"
     ]
    }
   ],
   "source": [
    "n=int(input())\n",
    "m=n//2+1\n",
    "v1=0\n",
    "for i in range (2,m):\n",
    "    if n%i==0:\n",
    "        v1+=1\n",
    "        break\n",
    "if v1==0:\n",
    "    print('YES')\n",
    "else:\n",
    "    print('NO')"
   ]
  },
  {
   "cell_type": "code",
   "execution_count": 14,
   "metadata": {},
   "outputs": [
    {
     "name": "stdout",
     "output_type": "stream",
     "text": [
      "42\n"
     ]
    }
   ],
   "source": [
    "x=int(input())\n",
    "y=0\n",
    "for i in range(3,x+1):\n",
    "    if x%3==0:\n",
    "        y+=i\n",
    "print(y)"
   ]
  },
  {
   "cell_type": "code",
   "execution_count": 1,
   "metadata": {},
   "outputs": [
    {
     "name": "stdout",
     "output_type": "stream",
     "text": [
      "1\t2\t3\t4\t5\t6\t7\t8\t\n",
      "1\t4\t9\t16\t25\t36\t49\t64\t\n",
      "1\t8\t27\t64\t125\t216\t343\t512\t\n",
      "1\t16\t81\t256\t625\t1296\t2401\t4096\t\n",
      "1\t32\t243\t1024\t3125\t7776\t16807\t32768\t\n",
      "1\t64\t729\t4096\t15625\t46656\t117649\t262144\t\n"
     ]
    }
   ],
   "source": [
    "n=int(input())\n",
    "m=int(input())\n",
    "for i in range(1,m+1):\n",
    "    for j in range(1,n+1):\n",
    "        print(j**i,end=\"\\t\")\n",
    "    print()"
   ]
  },
  {
   "cell_type": "code",
   "execution_count": 6,
   "metadata": {},
   "outputs": [
    {
     "name": "stdout",
     "output_type": "stream",
     "text": [
      "$\t$\t$\t$\t$\t$\t$\t$\t\n",
      "$\t$\t$\t$\t$\t$\t$\t$\t\n",
      "$\t$\t$\t$\t$\t$\t$\t$\t\n",
      "$\t$\t$\t$\t$\t$\t$\t$\t\n",
      "$\t$\t$\t$\t$\t$\t$\t$\t\n",
      "$\t$\t$\t$\t$\t$\t$\t$\t\n",
      "$\t$\t$\t$\t$\t$\t$\t$\t\n",
      "$\t$\t$\t$\t$\t$\t$\t$\t\n"
     ]
    }
   ],
   "source": [
    "n=int(input())\n",
    "c=input()\n",
    "for i in range(n):\n",
    "    for j in range(n):\n",
    "        print(c,end=\"\\t\")\n",
    "    print()"
   ]
  },
  {
   "cell_type": "code",
   "execution_count": 5,
   "metadata": {},
   "outputs": [
    {
     "name": "stdout",
     "output_type": "stream",
     "text": [
      "\n",
      "*\n",
      "**\n",
      "***\n",
      "****\n",
      "*****\n",
      "******\n",
      "*******\n",
      "********\n"
     ]
    }
   ],
   "source": [
    "n=int(input())\n",
    "c=input()\n",
    "for i in range(n):\n",
    "    for j in range(i):\n",
    "        print(c,end=\"\")\n",
    "    print()"
   ]
  },
  {
   "cell_type": "code",
   "execution_count": 11,
   "metadata": {},
   "outputs": [
    {
     "name": "stdout",
     "output_type": "stream",
     "text": [
      "55\n"
     ]
    }
   ],
   "source": [
    "x=int(input())\n",
    "y=int(input())\n",
    "sum=0\n",
    "while x<=y:\n",
    "    sum+=x\n",
    "    x+=1\n",
    "print(sum)"
   ]
  },
  {
   "cell_type": "code",
   "execution_count": 13,
   "metadata": {},
   "outputs": [
    {
     "name": "stdout",
     "output_type": "stream",
     "text": [
      "3\n"
     ]
    }
   ],
   "source": [
    "x=int(input())\n",
    "i=0\n",
    "n=1\n",
    "while n<x:\n",
    "    i+=1\n",
    "    n*=i\n",
    "print(i)"
   ]
  },
  {
   "cell_type": "code",
   "execution_count": 22,
   "metadata": {},
   "outputs": [
    {
     "name": "stdout",
     "output_type": "stream",
     "text": [
      "太大，猜小一點: 55\n",
      "太大，猜小一點: 44\n",
      "太小，猜大一點: 33\n",
      "太大，猜小一點: 35\n",
      "你猜了4次後終於答對了\n"
     ]
    }
   ],
   "source": [
    "import random\n",
    "a = random.randint(1,99)                         \n",
    "n=0\n",
    "while True:\n",
    "    b = int(input('輸入 1～99 的數字：')) \n",
    "    if b>a:\n",
    "        print('太大，猜小一點:',b)\n",
    "    elif b<a:\n",
    "        print('太小，猜大一點:',b)\n",
    "    \n",
    "    else:\n",
    "        print('你猜了',n,\"次後終於答對了\",sep=\"\")\n",
    "        break;\n",
    "    n=n+1"
   ]
  }
 ],
 "metadata": {
  "kernelspec": {
   "display_name": "Python 3.10.6 64-bit",
   "language": "python",
   "name": "python3"
  },
  "language_info": {
   "codemirror_mode": {
    "name": "ipython",
    "version": 3
   },
   "file_extension": ".py",
   "mimetype": "text/x-python",
   "name": "python",
   "nbconvert_exporter": "python",
   "pygments_lexer": "ipython3",
   "version": "3.10.6"
  },
  "orig_nbformat": 4,
  "vscode": {
   "interpreter": {
    "hash": "f9f867c76b7971dad3b218056e1c03cd2c86e3d69cf13140757d5de8c1cc55da"
   }
  }
 },
 "nbformat": 4,
 "nbformat_minor": 2
}

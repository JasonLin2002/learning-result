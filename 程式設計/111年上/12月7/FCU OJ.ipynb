{
 "cells": [
  {
   "attachments": {},
   "cell_type": "markdown",
   "metadata": {},
   "source": [
    "函式:質數總和\n",
    "Description\n",
    "\n",
    "請撰寫一程式輸入整數n，計算到1到n的質數總和，在該程式內請寫出名為is_prime的函式，其參數可輸入一正整數(int)，並判斷該正整數是否為質數，如果是質數回傳True(boolean)，反之則回傳False(boolean)，請利用函式is_prime來計算質數總和。\n",
    "\n",
    "\n",
    "Input\n",
    "輸入一正整數n(int)。\n",
    "\n",
    "\n",
    "Output\n",
    "輸出質數總和(int)，最後必須有換行字元。"
   ]
  },
  {
   "cell_type": "code",
   "execution_count": 2,
   "metadata": {},
   "outputs": [
    {
     "name": "stdout",
     "output_type": "stream",
     "text": [
      "10\n"
     ]
    }
   ],
   "source": [
    "def is_prime(n):\n",
    "    for i in range(2, n):\n",
    "        if n % i == 0:\n",
    "            return False\n",
    "    return True\n",
    "\n",
    "n = int(input())\n",
    "\n",
    "a=0\n",
    "\n",
    "for i in range(2, n + 1):\n",
    "    i_is_prime = is_prime(i)\n",
    "    if i_is_prime:\n",
    "        a+=i\n",
    "print(a)"
   ]
  },
  {
   "attachments": {},
   "cell_type": "markdown",
   "metadata": {},
   "source": [
    "函式:平均成績\n",
    "Description\n",
    "\n",
    "小名助教想要知道班上學生的平均成績，而每個學生都有五科成績分別為國文、英文數學、社會、自然，五科成績計算平均後，再將全班每位學生的平均成績計算平均得到全班的平均成績，請撰寫一程式名為average，該函式可輸入兩個參數分別為成績清單(list)與成績個數(int)，並計算並回傳(return)平均成績(float)，請利用函式average計算出全班平均成績。\n",
    "\n",
    "\n",
    "Input\n",
    "輸入一成績清單(list)，裡面每個list為各個學生的五科成績。\n",
    "\n",
    "\n",
    "Output\n",
    "輸出全班平均成績，四捨五入到小數第二位，最後必須有換行字元。"
   ]
  },
  {
   "cell_type": "code",
   "execution_count": 1,
   "metadata": {},
   "outputs": [
    {
     "ename": "SyntaxError",
     "evalue": "invalid syntax (<string>, line 0)",
     "output_type": "error",
     "traceback": [
      "Traceback \u001b[1;36m(most recent call last)\u001b[0m:\n",
      "\u001b[0m  File \u001b[0;32mc:\\Users\\jk121\\.virtualenvs\\learning-result-IeBDJMId\\Lib\\site-packages\\IPython\\core\\interactiveshell.py:3553\u001b[0m in \u001b[0;35mrun_code\u001b[0m\n    exec(code_obj, self.user_global_ns, self.user_ns)\u001b[0m\n",
      "\u001b[1;36m  Cell \u001b[1;32mIn[1], line 1\u001b[1;36m\n\u001b[1;33m    x=eval(input())\u001b[1;36m\n",
      "\u001b[1;36m  File \u001b[1;32m<string>\u001b[1;36m\u001b[0m\n\u001b[1;33m    \u001b[0m\n\u001b[1;37m    ^\u001b[0m\n\u001b[1;31mSyntaxError\u001b[0m\u001b[1;31m:\u001b[0m invalid syntax\n"
     ]
    }
   ],
   "source": [
    "x=eval(input())\n",
    "def fun(x):\n",
    "    a=0\n",
    "    for i in range (len(x)):\n",
    "        for j in range (5):\n",
    "            a+=int(x[i][j])\n",
    "    b=a/len(x)/5\n",
    "    return '{:.2f}'.format(b)\n",
    "print(fun(x))\n"
   ]
  },
  {
   "attachments": {},
   "cell_type": "markdown",
   "metadata": {},
   "source": [
    "函式:血壓\n",
    "Description\n",
    "\n",
    "請撰寫一函式名為check_blood_pressure，該函式有兩個參數分別為收縮壓(int)與舒張壓(int)，並依照下圖(圖一)，將血壓分為四種分別為Low、Ideal、Pre-high、High，最後回傳並輸出血壓種類。\n",
    "\n",
    "Clipboard Image.png\n",
    "\n",
    "\n",
    "Input\n",
    "每組輸入兩個正整數分別為收縮壓(int)與舒張壓(int)。\n",
    "\n",
    "\n",
    "Output\n",
    "輸出血壓種類(string)，最後必須有換行字元。"
   ]
  },
  {
   "cell_type": "code",
   "execution_count": 25,
   "metadata": {},
   "outputs": [
    {
     "name": "stdout",
     "output_type": "stream",
     "text": [
      "Ideal\n"
     ]
    }
   ],
   "source": [
    "y=int(input())\n",
    "x=int(input())\n",
    "\n",
    "def fun(x,y):\n",
    "    if x<60 and y<90:\n",
    "        return('Low')\n",
    "    elif x<80 and y<120:\n",
    "        return('Ideal')\n",
    "    elif x<90 and y<140:\n",
    "        return('Pre-high')\n",
    "    elif x<100 and y<190:\n",
    "        return('High')\n",
    "\n",
    "print(fun(x,y))\n"
   ]
  },
  {
   "attachments": {},
   "cell_type": "markdown",
   "metadata": {},
   "source": [
    "函式:商品價格\n",
    "Description\n",
    "\n",
    "試撰寫一函式名為find_final_price，該函式可輸入三個參數分別為商品原始價格(int)、銷售稅率(float)、優惠代碼(int)，優惠代碼預設值為0，計算商品價格，計算方式為原始價格+銷售稅(原始價格*銷售稅) -優惠代碼，最後回傳商品最終價格(int)。\n",
    "\n",
    "\n",
    "Input\n",
    "輸入三個參數分別為商品原始價格(int)、銷售稅率(float)、優惠代碼(int)。\n",
    "\n",
    "\n",
    "Output\n",
    "輸出只輸入商品原始價格(int)、銷售稅率(float)的find_final_price計算結果，以及輸入商品原始價格(int)、銷售稅率(float)、優惠代碼(int)的find_final_price計算結果，最後必須有換行字元。"
   ]
  },
  {
   "cell_type": "code",
   "execution_count": 28,
   "metadata": {},
   "outputs": [
    {
     "name": "stdout",
     "output_type": "stream",
     "text": [
      "21.4\n",
      "16.4\n"
     ]
    }
   ],
   "source": [
    "x=int(input())\n",
    "y=float(input())\n",
    "z=int(input())\n",
    "\n",
    "def fun1():\n",
    "    return '{:.2f}'.format(x+x*y)\n",
    "def fun2():\n",
    "    return '{:.2f}'.format(x+x*y-z)\n",
    "print(fun1())\n",
    "print(fun2())"
   ]
  },
  {
   "attachments": {},
   "cell_type": "markdown",
   "metadata": {},
   "source": [
    "函式:數字顯示器\n",
    "Description\n",
    "\n",
    "請撰寫一函式名為seven_segment_display，該函式輸入數字字串並輸出由”*”所組成的數字，如下圖所示。\n",
    "\n",
    "例:\n",
    "\n",
    "輸入:1234\n",
    "\n",
    "Clipboard Image.png\n",
    "\n",
    "\n",
    "Input\n",
    "輸入一個數字字串。\n",
    "\n",
    "\n",
    "Output\n",
    "輸出由”*”所組成的數字，最後必須有換行字元。"
   ]
  },
  {
   "cell_type": "code",
   "execution_count": 31,
   "metadata": {},
   "outputs": [
    {
     "name": "stdout",
     "output_type": "stream",
     "text": [
      "   * **** **** *  *\n",
      "   * *  *    * *  *\n",
      "   * *  * **** ****\n",
      "   * *  * *       *\n",
      "   * **** ****    *\n"
     ]
    }
   ],
   "source": [
    "enum=[\n",
    "    [\n",
    "        '****',\n",
    "        '*  *',\n",
    "        '*  *',\n",
    "        '*  *',\n",
    "        '****',\n",
    "    ],\n",
    "    [\n",
    "        '   *',\n",
    "        '   *',\n",
    "        '   *',\n",
    "        '   *',\n",
    "        '   *',\n",
    "    ],\n",
    "    [\n",
    "        '****',\n",
    "        '   *',\n",
    "        '****',\n",
    "        '*   ',\n",
    "        '****',\n",
    "    ],\n",
    "    [\n",
    "        '****',\n",
    "        '   *',\n",
    "        '****',\n",
    "        '   *',\n",
    "        '****',\n",
    "    ],\n",
    "    [\n",
    "        '*  *',\n",
    "        '*  *',\n",
    "        '****',\n",
    "        '   *',\n",
    "        '   *',\n",
    "    ],\n",
    "    [\n",
    "        '****',\n",
    "        '*   ',\n",
    "        '****',\n",
    "        '   *',\n",
    "        '****',\n",
    "    ],\n",
    "    [\n",
    "        '****',\n",
    "        '*   ',\n",
    "        '****',\n",
    "        '*  *',\n",
    "        '****',\n",
    "    ],\n",
    "    [\n",
    "        '****',\n",
    "        '   *',\n",
    "        '   *',\n",
    "        '   *',\n",
    "        '   *',\n",
    "    ],\n",
    "    [\n",
    "        '****',\n",
    "        '*  *',\n",
    "        '****',\n",
    "        '*  *',\n",
    "        '****',\n",
    "    ],\n",
    "    [\n",
    "        '****',\n",
    "        '*  *',\n",
    "        '****',\n",
    "        '   *',\n",
    "        '****',\n",
    "    ],\n",
    "]\n",
    "def concat(enum1: list, enum2: list):\n",
    "    output = list()\n",
    "    for i in range(len(enum1)):\n",
    "        output.append(enum1[i] +' '+enum2[i])\n",
    "    return output\n",
    "_input = [int(_) for _ in input()]\n",
    "result = enum[_input.pop(0)]\n",
    "for num in _input :\n",
    "    result = concat(result, enum[num])\n",
    "print('\\n'.join(result))"
   ]
  },
  {
   "attachments": {},
   "cell_type": "markdown",
   "metadata": {},
   "source": [
    "函式:餐廳收費\n",
    "Description\n",
    "\n",
    "小明到一家燒烤店聚餐吃飯，該餐廳的收費方式為當有優惠卷且消費滿100元可折抵20元，如果為該店家的會員有九折優惠，在該餐廳消費都會加收服務費(顧客消費(int)*服務費率(float)，四捨五入制整數位)，請撰寫一函式名為howMuch，計算並回傳(return)小明在該餐廳的消費(int)，該函式輸入四個參數，分別為原始花費(int)、服務費率(float)、是否為會員(boolean)、是否有優惠卷(boolean)，計算的優先順序為優惠卷之後是否有會員優惠，最後算服務費並回傳花費(int)。\n",
    "\n",
    "\n",
    "Input\n",
    "輸入四個參數，分別為原始花費(int)、服務費率(float)、是否為會員(boolean)、是否有優惠卷(boolean)。\n",
    "\n",
    "\n",
    "Output\n",
    "輸出輸出小明吃飯花費(int)，最後必須有換行字元。"
   ]
  },
  {
   "cell_type": "code",
   "execution_count": 2,
   "metadata": {},
   "outputs": [
    {
     "name": "stdout",
     "output_type": "stream",
     "text": [
      "99\n"
     ]
    }
   ],
   "source": [
    "a=int(input())\n",
    "b=float(input())\n",
    "c=input()\n",
    "d=input()\n",
    "\n",
    "def fun():\n",
    "    if d=='True':\n",
    "        if c=='True':\n",
    "            x=(a-20)*0.9\n",
    "        else:\n",
    "            x=(a-20)\n",
    "    else:\n",
    "        if c=='True':\n",
    "            x=a*0.9\n",
    "        else:\n",
    "            x=a\n",
    "    return int(x+round(x*b))\n",
    "\n",
    "print(fun())"
   ]
  },
  {
   "attachments": {},
   "cell_type": "markdown",
   "metadata": {},
   "source": [
    "函式:文字圖形\n",
    "Description\n",
    "\n",
    "請撰寫一函式名為graphics，該函式可輸入兩的參數分別為圖形高度(int)與圖形代號(int)，根據圖形種類來印出不同的文字圖形，當圖形代號為1時輸出正三角形，圖形代號為2輸出菱形，圖形代號為3輸出空心正方形。\n",
    "\n",
    "\n",
    "Input\n",
    "輸入兩的參數分別為圖形高度(int)與圖形代號(int)。\n",
    "\n",
    "\n",
    "Output\n",
    "輸出對應的文字圖形，必須有換行字元。"
   ]
  },
  {
   "cell_type": "code",
   "execution_count": 2,
   "metadata": {},
   "outputs": [
    {
     "name": "stdout",
     "output_type": "stream",
     "text": [
      "*****\n",
      "*   *\n",
      "*   *\n",
      "*   *\n",
      "*****\n"
     ]
    }
   ],
   "source": [
    "def fun_菱形(n):\n",
    "    for i in range(n+1):\n",
    "        print(' '*(n-i)+'*'*(2*i-1))\n",
    "    for i in range(n-1,0,-1):\n",
    "        print(' '*(n-i)+'*'*(2*i-1))\n",
    "def fun_三角形(n):\n",
    "    for i in range(n+1):\n",
    "        print(' '*(n-i)+'*'*(2*i-1))\n",
    "def fun_正方形(n):\n",
    "    print(\"*\"*n)\n",
    "    for i in range(n-2):\n",
    "        print(\"*\",\" \"*(n-4),\"*\")\n",
    "    print(\"*\"*n)\n",
    "if __name__==\"__main__\":\n",
    "    n=int(input())\n",
    "    x=int(input())\n",
    "    if x==1:\n",
    "        fun_三角形(n)\n",
    "    elif x==2:\n",
    "        fun_菱形(n)\n",
    "    elif x==3:\n",
    "        fun_正方形(n)\n"
   ]
  },
  {
   "attachments": {},
   "cell_type": "markdown",
   "metadata": {},
   "source": [
    "函式:格式校對\n",
    "Description\n",
    "\n",
    "撰寫一函式名為is_valid，該函式可輸入兩個參數分別為輸入字串(string)與校訂字串(string)，當輸入字串中出現不在校訂字串中的字元，則為格式錯誤回傳(return)False，反之如果都是在校訂字串中的字元，則回傳(return)True。\n",
    "\n",
    "例:\n",
    "\n",
    "校訂字串:”0123456789-”\n",
    "\n",
    "輸入字串:”1234-5678-9011-1111”，回傳True。\n",
    "\n",
    "輸入字串:”1234-5678-9011?1111”，回傳False。\n",
    "\n",
    "\n",
    "Input\n",
    "輸入被檢驗字串(string)與校對字串(string)。\n",
    "\n",
    "\n",
    "Output\n",
    "格式正確輸出True，格式錯誤輸出False，最後必須有換行字元。"
   ]
  },
  {
   "cell_type": "code",
   "execution_count": 1,
   "metadata": {},
   "outputs": [
    {
     "name": "stdout",
     "output_type": "stream",
     "text": [
      "True\n"
     ]
    }
   ],
   "source": [
    "def fun(a,b):\n",
    "    for i in a:\n",
    "        flag=False\n",
    "        for j in b:\n",
    "            if i == j:\n",
    "                flag = True\n",
    "        if flag ==False:\n",
    "            break\n",
    "    return flag\n",
    "if __name__=='__main__':\n",
    "    a=input()\n",
    "    b=input()\n",
    "    print(fun(a,b))"
   ]
  },
  {
   "attachments": {},
   "cell_type": "markdown",
   "metadata": {},
   "source": [
    "函式:停車費\n",
    "Description\n",
    "\n",
    "請撰寫一函式名為parking_fee，可輸入停車起始小時與分鐘(24小時制)、結束小時與分鐘，並撰寫另一函式名為countHour，用於計算從起始到結束經過多少小時(無條件捨去至整數)，並回傳(return)小時數，得到小時數後依據小時數分段收費，詳細收費情形如下。\n",
    "例:\n",
    "5小時 = 2*10+3*15=65元\n",
    "\n",
    "\n",
    "小時                    價格/小時\n",
    "\n",
    "大於等於6小時的部分 20元\n",
    "不足6小時的部分 15元\n",
    "不足3小時的部分 10元\n",
    "\n",
    " \n",
    "\n",
    "Input\n",
    "輸入停車起始小時與分鐘(24小時制)、結束小時與分鐘，假設不發生跨日數也就是結束時間大於起始時間。\n",
    "\n",
    "\n",
    "Output\n",
    "輸出停車費(int)，最後必須有換行字元。"
   ]
  },
  {
   "cell_type": "code",
   "execution_count": null,
   "metadata": {},
   "outputs": [],
   "source": [
    "def fun(a,b,c,d):\n",
    "    if d-b>=0:\n",
    "        return c-a\n",
    "    else:\n",
    "        return c-a-1\n",
    "\n",
    "if __name__=='__main__':\n",
    "    a,b=map(int,input().split())\n",
    "    c,d=map(int,input().split())\n",
    "if fun(a,b,c,d)<=3: \n",
    "    print(fun(a,b,c,d)*10)\n",
    "elif 3<=fun(a,b,c,d)<=5:\n",
    "    print((fun(a,b,c,d)-2)*15+20)\n",
    "else:\n",
    "    print((fun(a,b,c,d)-5)*20+65)"
   ]
  },
  {
   "attachments": {},
   "cell_type": "markdown",
   "metadata": {},
   "source": [
    "函式:平均單字字母數\n",
    "Description\n",
    "\n",
    "請撰寫一程式，輸入一句子(string)輸出該句子的平均單字字母數(總字母數/單字數)，該程式內需要撰寫三個函式分別名為letter_count、word_count、average_word_length，並利用這三個函式計算平均單字字母數。\n",
    "\n",
    "1.letter_count輸入一參數(string)計算該字串的字母數(不含空格)，回傳(return)字母數(int)。\n",
    "\n",
    "2.word_count輸入一參數(string)計算該字串的單字數(以空格切割)，回傳(return)單字數(int)。\n",
    "\n",
    "3.average_word_length輸入一參數(string)計算該字串的平均單字字母數，回傳(return)平均單字字母數(float)。\n",
    "\n",
    "\n",
    "Input\n",
    "輸入一句子(string)。\n",
    "\n",
    "\n",
    "Output\n",
    "輸出平均單字字母數，四捨五入制小數第二位，最後必須有換行字元。"
   ]
  },
  {
   "cell_type": "code",
   "execution_count": null,
   "metadata": {},
   "outputs": [],
   "source": [
    "def fun(a):\n",
    "    a=list(a)\n",
    "    b=0\n",
    "    for i in a:\n",
    "        if i !=' ':\n",
    "            b+=1\n",
    "    return b\n",
    "def fun2(a):\n",
    "    return len(a.split())\n",
    "def fun3(a):\n",
    "    return fun(a)/fun2(a)\n",
    "\n",
    "if __name__=='__main__':\n",
    "    a=input()\n",
    "    print('{:.2f}'.format(fun3(a)))"
   ]
  }
 ],
 "metadata": {
  "kernelspec": {
   "display_name": "learning-result-IeBDJMId",
   "language": "python",
   "name": "python3"
  },
  "language_info": {
   "codemirror_mode": {
    "name": "ipython",
    "version": 3
   },
   "file_extension": ".py",
   "mimetype": "text/x-python",
   "name": "python",
   "nbconvert_exporter": "python",
   "pygments_lexer": "ipython3",
   "version": "3.11.6"
  },
  "orig_nbformat": 4,
  "vscode": {
   "interpreter": {
    "hash": "7f6c5982b2b402dfe64d3392f57f1e59671f9ac0af9f20c2380775797ee06378"
   }
  }
 },
 "nbformat": 4,
 "nbformat_minor": 2
}

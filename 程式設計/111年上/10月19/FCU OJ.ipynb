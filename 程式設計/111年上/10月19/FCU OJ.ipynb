{
 "cells": [
  {
   "cell_type": "markdown",
   "metadata": {},
   "source": [
    "正負奇偶:\n",
    "Description\n",
    "判斷輸入的整數的正負與奇偶，當整數為正數且為奇數則印”Oddly positive”，當整數為正數且為偶數則印”Evenly positive”，當整數為負數且為奇數則印”Oddly negative”，當整數為負數且為偶數則印”Evenly negative”。\n",
    "\n",
    "Input\n",
    "輸入一整數(int)。\n",
    "\n",
    "Output\n",
    "輸出該整數對應的結果字串，最後必須有換行字元。"
   ]
  },
  {
   "cell_type": "code",
   "execution_count": 9,
   "metadata": {},
   "outputs": [
    {
     "name": "stdout",
     "output_type": "stream",
     "text": [
      "Evenly negative\n"
     ]
    }
   ],
   "source": [
    "x=int(int(input()))\n",
    "if x>0 and x%2==0:\n",
    "    print(\"Evenly positive\")\n",
    "elif x>0 and x%2!=0:\n",
    "    print(\"Oddly positive\")\n",
    "elif x<0 and x%2==0:\n",
    "    print(\"Evenly negative\")\n",
    "else:\n",
    "    print(\"Oddly negative\")"
   ]
  },
  {
   "cell_type": "markdown",
   "metadata": {},
   "source": [
    "Q2.七言對聯\n",
    "Description\n",
    "\n",
    "中文依照發音方式可以分為平聲與仄聲，假設我們把平聲標記為1而仄聲標記為0\n",
    "\n",
    "一個七言對聯包含兩個句子，每個句子包含恰好七個字。\n",
    "\n",
    "七言對聯有三個限制：\n",
    "\n",
    "A:二四不同二六同：每一句第二、四個字必須不同平仄，而第二、六個字必須相同平仄。\n",
    "\n",
    "例: 1011001\n",
    "\n",
    "B:仄起平收：第一句的結尾必須為仄聲，第二句的結尾必須為平聲。\n",
    "\n",
    "例:\n",
    "\n",
    "第一句:1011010，第二句:0110111\n",
    "\n",
    "C:上下相對：第一、二句的第二、四、六個字平仄必須不同。\n",
    "\n",
    "例:\n",
    "\n",
    "第一句:1011010，第二句:0110101\n",
    "\n",
    "\n",
    "Input\n",
    "輸入有2行(string)，每行有7個數字，數字不是0就是1。\n",
    "\n",
    "\n",
    "Output\n"
   ]
  },
  {
   "cell_type": "code",
   "execution_count": 8,
   "metadata": {},
   "outputs": [
    {
     "name": "stdout",
     "output_type": "stream",
     "text": [
      "ABC"
     ]
    }
   ],
   "source": [
    "x=input()\n",
    "y=input()\n",
    "z=True\n",
    "if x[1]==x[3] or x[1]!=x[5]:\n",
    "    print(\"A\",end=\"\")\n",
    "    z=False\n",
    "elif y[1]==y[3] or y[1]!=y[5]:\n",
    "    print(\"A\",end=\"\")\n",
    "    z=False\n",
    "if x[6]==\"1\" or y[6]==\"0\":\n",
    "    print(\"B\",end=\"\")\n",
    "    z=False\n",
    "if x[1]==y[1] or x[3]==y[3] or x[5]==y[5]:\n",
    "    print(\"C\",end=\"\")\n",
    "    z=False\n",
    "if z:\n",
    "    print(\"None\")"
   ]
  },
  {
   "cell_type": "markdown",
   "metadata": {},
   "source": [
    "Q10.超速罰單\n",
    "Description\n",
    "\n",
    "小明睡過頭為了不要遲到於是超速行駛，結果被測速照相照到，於是小明需要繳一筆罰單錢，請撰寫一程式幫小明計算他的超速罰單花費。\n",
    "\n",
    "罰單規則如下:\n",
    "\n",
    "1.超速罰1000元並且每超出速限1 km/h則多罰100元。\n",
    "\n",
    "2.如果超速在學校區域附近則罰金2倍。\n",
    "\n",
    "\n",
    "Input\n",
    "輸入超速時數(km/h)、速度限制(km/h)、與是否在學校區域附近(True or False)。\n",
    "\n",
    "\n",
    "Output\n",
    "輸出最終罰單所需罰金，如果未超速則罰金為0，最後必須有換行字元。"
   ]
  },
  {
   "cell_type": "code",
   "execution_count": null,
   "metadata": {},
   "outputs": [],
   "source": [
    "x=int(input())\n",
    "y=int(input())\n",
    "z=input()\n",
    "if z==\"True\":\n",
    "    if x<y:\n",
    "        print(0)\n",
    "    else:\n",
    "        print(2*(1000+(x-y)*100))\n",
    "elif z==\"False\":\n",
    "    if x<y:\n",
    "        print(0)\n",
    "    else:\n",
    "        print((1000+(x-y)*100))"
   ]
  },
  {
   "cell_type": "markdown",
   "metadata": {},
   "source": [
    "Q4.電影分級\n",
    "Description\n",
    "\n",
    "美國的電影分級制度，分為五種G、PG、PG-13、R、NC-17，今天有一對父母要帶小孩看電影，請依據電影分級與小孩年齡，撰寫程式判斷小孩是否能看此電影。\n",
    "\n",
    "電影分級規則如下:\n",
    "\n",
    "G:為所有小孩皆可以觀賞。\n",
    "\n",
    "PG:小孩須年滿8歲以上才可觀賞。\n",
    "\n",
    "PG-13:小孩須滿13歲以上才可觀賞。\n",
    "\n",
    "R:小孩須滿17歲以上才可觀賞。\n",
    "\n",
    "NC-17:為禁片不可觀看。\n",
    "\n",
    "\n",
    "Input\n",
    "輸入一字串為電影分級，一整數(int)為小孩年齡。\n",
    "\n",
    "\n",
    "Output\n",
    "小孩年齡不符合規範則輸出”You may not see that movie!”，符合規範則輸出”You may see that movie!”，最後必須要有換行字元。"
   ]
  },
  {
   "cell_type": "code",
   "execution_count": null,
   "metadata": {},
   "outputs": [],
   "source": [
    "x=input()\n",
    "y=int(input())\n",
    "if x==\"G\":\n",
    "    print(\"You may see that movie!\")\n",
    "elif x==\"PG\":\n",
    "    if y>=8:\n",
    "        print('You may see that movie!')\n",
    "    else:\n",
    "        print('You may not see that movie!')\n",
    "elif x==\"PG-13\":\n",
    "    if y>=13:\n",
    "        print('You may see that movie!')\n",
    "    else:\n",
    "        print('You may not see that movie!')\n",
    "elif x==\"R\":\n",
    "    if y>=17:\n",
    "        print('You may see that movie!')\n",
    "    else:\n",
    "        print('You may not see that movie!')\n",
    "elif x==\"NC-17\":\n",
    "    print('You may not see that movie!')"
   ]
  },
  {
   "cell_type": "code",
   "execution_count": 1,
   "metadata": {},
   "outputs": [
    {
     "name": "stdout",
     "output_type": "stream",
     "text": [
      "You may not see that movie!\n"
     ]
    }
   ],
   "source": [
    "x=input()\n",
    "y=int(input())\n",
    "if x==\"G\":\n",
    "    print(\"You may see that movie!\")\n",
    "elif x==\"PG\" and y>=8:\n",
    "        print('You may see that movie!')\n",
    "elif x==\"PG-13\" and y>=13:\n",
    "        print('You may see that movie!')\n",
    "elif x==\"R\" and y>=17:\n",
    "        print('You may see that movie!')\n",
    "else:\n",
    "    print('You may not see that movie!')"
   ]
  },
  {
   "cell_type": "markdown",
   "metadata": {},
   "source": [
    "Q7.帳號登入\n",
    "Description\n",
    "\n",
    "請撰寫一程式，模擬一登入系統，該登入系統認證密碼與使用者輸入密碼相同則通過輸出\"Login successful.\"，錯誤則失敗輸出\"Incorrect password.\"，而嘗試超過三次失敗則暫時無法登入輸出\"Tries exceeded.\"。\n",
    "\n",
    "\n",
    "Input\n",
    "輸入認證密碼(string)、使用者輸入密碼(string)、嘗試次數(int)。\n",
    "\n",
    "\n",
    "Output\n",
    "密碼相同輸出\"Login successful.\"，不同輸出\"Incorrect password.\"，嘗試次數超過則輸出\"Tries exceeded.\"，最後必須有換行字元。"
   ]
  },
  {
   "cell_type": "code",
   "execution_count": null,
   "metadata": {},
   "outputs": [],
   "source": [
    "x=input()\n",
    "y=input()\n",
    "z=int(input())\n",
    "if z<=3:\n",
    "    if x==y:\n",
    "        print('Login successful.')\n",
    "    else:\n",
    "        print('Incorrect password.')\n",
    "else:\n",
    "    print('Tries exceeded.')"
   ]
  },
  {
   "cell_type": "markdown",
   "metadata": {},
   "source": [
    "Q8.生肖\n",
    "Description\n",
    "\n",
    "十二生肖分為 Rat(鼠)、Ox(牛)、Tiger (虎)、Rabbit (兔)、Dragon (龍)、Snake (蛇)、Horse (馬)、Goat (羊)、Monkey (猴)、Rooster (雞)、Dog (狗)、Pig (豬)，十二生肖每十二年為一個週期，小明想算他的生肖是哪個動物，已知 1904 年為龍年。\n",
    "\n",
    "請撰寫一程式輸入西元年，輸出對應的生肖。\n",
    "\n",
    "\n",
    "Input\n",
    "輸入1904年後的西元年(int)。\n",
    "\n",
    "\n",
    "Output\n",
    "輸出該年對應的生肖(英文)，最後必須有換行字元。"
   ]
  },
  {
   "cell_type": "code",
   "execution_count": null,
   "metadata": {},
   "outputs": [],
   "source": [
    "x=int(input())\n",
    "if (x-1904)%12==0:\n",
    "    print(\"Dragon\")\n",
    "elif (x-1904)%12==1:\n",
    "    print('Snake')\n",
    "elif (x-1904)%12==2:\n",
    "    print('Horse')\n",
    "elif (x-1904)%12==3:\n",
    "    print('Goat')\n",
    "elif (x-1904)%12==4:\n",
    "    print('Monkey')\n",
    "elif (x-1904)%12==5:\n",
    "    print('Rooster')\n",
    "elif (x-1904)%12==6:\n",
    "    print('Dog')\n",
    "elif (x-1904)%12==7:\n",
    "    print('Pig')\n",
    "elif (x-1904)%12==8:\n",
    "    print('Rat')\n",
    "elif (x-1904)%12==9:\n",
    "    print('Ox')\n",
    "elif (x-1904)%12==10:\n",
    "    print('Tiger')\n",
    "elif (x-1904)%12==11:\n",
    "    print('Rabbit')"
   ]
  },
  {
   "cell_type": "markdown",
   "metadata": {},
   "source": [
    "Q6.籃球比賽\n",
    "Description\n",
    "\n",
    "兩籃球隊比賽後顯示哪隊獲勝的跑馬燈壞了，請撰寫一程式根據兩隊比賽分數，判斷哪隊獲勝或平手。\n",
    "\n",
    "\n",
    "Input\n",
    "輸入兩隊隊名(string)與其隊的比賽分數(int)。\n",
    "\n",
    "\n",
    "Output\n",
    "輸出格式為\"[贏隊] beat [輸隊] by [贏幾分]\"，如果為平手則輸出\"[隊伍1] played [隊伍2] and it was a tie\"，最後必須有換行字元。"
   ]
  },
  {
   "cell_type": "code",
   "execution_count": null,
   "metadata": {},
   "outputs": [],
   "source": [
    "x=input()\n",
    "a=int(input())\n",
    "y=input()\n",
    "b=int(input())\n",
    "if a>b:\n",
    "    print(x,\"beat\",y,\"by\",a-b,sep=\" \")\n",
    "elif a<b:\n",
    "    print(y,\"beat\",x,\"by\",b-a,sep=\" \")\n",
    "else:\n",
    "    print(x,\"played\",y,\"and it was a tie\",sep=\" \")"
   ]
  },
  {
   "cell_type": "markdown",
   "metadata": {},
   "source": [
    "Q5.買咖啡\n",
    "Description\n",
    "\n",
    "小明熬夜加班，想去買杯咖啡提提神，而到了咖啡店有五種咖啡可以選擇，但小明身上只有n元，請撰寫一程式幫小明判斷他選擇的咖啡，是否支付得起。\n",
    "\n",
    "咖啡價目表如下:\n",
    "\n",
    "Octane:$60\n",
    "\n",
    "Galloway:$50\n",
    "\n",
    "Starbucks:$40\n",
    "\n",
    "Revelator:$30\n",
    "\n",
    "Dunkin:$20\n",
    "\n",
    "\n",
    "Input\n",
    "輸入一字串為咖啡名稱，一整數(int)為小明身上的錢。\n",
    "\n",
    "\n",
    "Output\n",
    "如果支付得起則輸出”With [小明身上的錢] dollars,I can buy coffee at [咖啡名稱]”，如果支付不起則輸出”With [小明身上的錢] dollars,I cannot buy coffee at [咖啡名稱]”，最後必須有換行字元。"
   ]
  },
  {
   "cell_type": "code",
   "execution_count": null,
   "metadata": {},
   "outputs": [],
   "source": [
    "x=input()\n",
    "y=int(input())\n",
    "\n",
    "if x==\"Octane\":\n",
    "    if y>=60:\n",
    "        print('With',y,\"dollars, I can buy coffee at\",x,sep=\" \")\n",
    "    else:\n",
    "        print('With',y,\"dollars, I cannot buy coffee at\",x,sep=\" \")\n",
    "elif x==\"Galloway\":\n",
    "    if y>=50:\n",
    "        print('With',y,\"dollars, I can buy coffee at\",x,sep=\" \")\n",
    "    else:\n",
    "        print('With',y,\"dollars, I cannot buy coffee at\",x,sep=\" \")\n",
    "elif x==\"Starbucks\":\n",
    "    if y>=40:\n",
    "        print('With',y,\"dollars, I can buy coffee at\",x,sep=\" \")\n",
    "    else:\n",
    "        print('With',y,\"dollars, I cannot buy coffee at\",x,sep=\" \")\n",
    "elif x==\"Revelator\":\n",
    "    if y>=30:\n",
    "        print('With',y,\"dollars, I can buy coffee at\",x,sep=\" \")\n",
    "    else:\n",
    "        print('With',y,\"dollars, I cannot buy coffee at\",x,sep=\" \")\n",
    "elif x==\"Dunkin\":\n",
    "    if y>=20:\n",
    "        print('With',y,\"dollars, I can buy coffee at\",x,sep=\" \")\n",
    "    else:\n",
    "        print('With',y,\"dollars, I cannot buy coffee at\",x,sep=\" \")"
   ]
  },
  {
   "cell_type": "markdown",
   "metadata": {},
   "source": [
    "Q3.在學校嗎?\n",
    "Description\n",
    "\n",
    "某高中規定同學必須在7:30以前到校早自習，最後一堂課則在18:00下課。給你現在的時間，請判斷現在是不是必須在學校的時間。\n",
    "\n",
    "\n",
    "Input\n",
    "輸入小時(int)與分鐘(int)代表現在的時間(24小時制)。\n",
    "\n",
    "\n",
    "Output\n",
    "如果現在是上學時間，請輸出「At School」，否則請輸出「Off School」，最後必須有換行字元。"
   ]
  },
  {
   "cell_type": "code",
   "execution_count": null,
   "metadata": {},
   "outputs": [],
   "source": [
    "a=int(input())\n",
    "b=int(input())\n",
    "if 450<=a*60+b<1080:\n",
    "    print('At School')\n",
    "else:\n",
    "    print('Off School')"
   ]
  },
  {
   "cell_type": "markdown",
   "metadata": {},
   "source": [
    "Q9.宵夜去哪吃\n",
    "Description\n",
    "\n",
    "小明晚上上補習班的課打算吃個飯，於是想找家還有在營業的店吃，而小明現在想吃的店有四家，\n",
    "\n",
    "依照優先度分別為，咖哩屋(Curry)、麵食館(Noodle)、滷味店(Braiseddish)、麥當勞(McDonald's)，\n",
    "\n",
    "請寫一個程式幫小明選擇晚餐去哪吃。\n",
    "\n",
    "這四家店的關店時間:\n",
    "\n",
    "咖哩屋(Curry):下午 11:00\n",
    "\n",
    "麵食館(Noodle):上午 2:00\n",
    "\n",
    "滷味店(Braised dish):上午 3:00\n",
    "\n",
    "麥當勞(McDonald's):24 小時不打烊\n",
    "\n",
    "\n",
    "Input\n",
    "輸入兩整數分別為小時(int)與分鐘(int)，輸入範圍在下午 10:00 到上午 5:00 (12 小時制)。\n",
    "\n",
    "\n",
    "Output\n",
    "輸出店家名(英文)，當有複數店家營業則優先選擇優先度高的店家，最後必須要有換行字元。"
   ]
  },
  {
   "cell_type": "code",
   "execution_count": null,
   "metadata": {},
   "outputs": [],
   "source": [
    "a=int(input())\n",
    "b=int(input())\n",
    "if 600<=a*60+b<660:\n",
    "    print('Curry')\n",
    "elif 660<=a*60+b<=780 or 0<=a*60+b<120:\n",
    "    print('Noodle')\n",
    "elif 120<=a*60+b<180:\n",
    "    print('Braised dish')\n",
    "else:\n",
    "    print(\"McDonald's\")"
   ]
  }
 ],
 "metadata": {
  "kernelspec": {
   "display_name": "Python 3.10.6 64-bit",
   "language": "python",
   "name": "python3"
  },
  "language_info": {
   "codemirror_mode": {
    "name": "ipython",
    "version": 3
   },
   "file_extension": ".py",
   "mimetype": "text/x-python",
   "name": "python",
   "nbconvert_exporter": "python",
   "pygments_lexer": "ipython3",
   "version": "3.10.6"
  },
  "orig_nbformat": 4,
  "vscode": {
   "interpreter": {
    "hash": "f9f867c76b7971dad3b218056e1c03cd2c86e3d69cf13140757d5de8c1cc55da"
   }
  }
 },
 "nbformat": 4,
 "nbformat_minor": 2
}

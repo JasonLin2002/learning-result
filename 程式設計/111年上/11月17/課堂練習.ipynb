{
 "cells": [
  {
   "cell_type": "code",
   "execution_count": 2,
   "metadata": {},
   "outputs": [
    {
     "name": "stdout",
     "output_type": "stream",
     "text": [
      "0 國文\n",
      "1 英文\n",
      "2 專題實作\n",
      "3 人工智慧導論\n",
      "4 基礎程式設計\n"
     ]
    }
   ],
   "source": [
    "tup4=('國文','英文','專題實作','人工智慧導論','基礎程式設計')\n",
    "for idx, item in enumerate (tup4):\n",
    "    print(idx,item)"
   ]
  }
 ],
 "metadata": {
  "kernelspec": {
   "display_name": "Python 3.9.10 64-bit",
   "language": "python",
   "name": "python3"
  },
  "language_info": {
   "codemirror_mode": {
    "name": "ipython",
    "version": 3
   },
   "file_extension": ".py",
   "mimetype": "text/x-python",
   "name": "python",
   "nbconvert_exporter": "python",
   "pygments_lexer": "ipython3",
   "version": "3.9.10"
  },
  "orig_nbformat": 4,
  "vscode": {
   "interpreter": {
    "hash": "c5d269574d350b051d2fab1614ebbbf2fa09728239c894b53d63951c9539b734"
   }
  }
 },
 "nbformat": 4,
 "nbformat_minor": 2
}

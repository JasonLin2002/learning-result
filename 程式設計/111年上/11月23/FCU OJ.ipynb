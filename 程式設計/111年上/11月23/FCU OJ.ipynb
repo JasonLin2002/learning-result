{
 "cells": [
  {
   "cell_type": "markdown",
   "metadata": {},
   "source": [
    "對答案\n",
    "Description\n",
    "\n",
    "小豪助教在批學生們的考卷，而本次考試採用加分制，所以只計算答對的題目，請幫小豪助教撰寫一程式，計算學生考卷答對題數。\n",
    "\n",
    "\n",
    "Input\n",
    "輸入兩個List內容皆為字串且兩個List長度相同，第一個List為學生答案，第二個List為正確解答。\n",
    "\n",
    "\n",
    "Output\n",
    "輸出學生答對題數(int)，最後必須有換行字元。"
   ]
  },
  {
   "cell_type": "code",
   "execution_count": null,
   "metadata": {},
   "outputs": [],
   "source": [
    "x=list(input().split())\n",
    "y=list(input().split())\n",
    "z=0\n",
    "for i in range(len(x)):\n",
    "    if x[i]==y[i]:\n",
    "        z+=1\n",
    "print(z)"
   ]
  },
  {
   "cell_type": "markdown",
   "metadata": {},
   "source": [
    "平均心率\n",
    "Description\n",
    "\n",
    "小明想要計算他在跑步的運動平均心率，於是買了一個感測器，用來偵測心率，小明計算運動平均心率為從第一次測到心率在100以上，到心率降到100下時結束，並計算在這期間的平均心率。\n",
    "\n",
    "\n",
    "Input\n",
    "輸入一List為偵測到的心率，心率數直接為正整數。\n",
    "\n",
    "\n",
    "Output\n",
    "輸出平均心率(float)，四捨五入到小數第一位，最後必須有換行字元。"
   ]
  },
  {
   "cell_type": "code",
   "execution_count": null,
   "metadata": {},
   "outputs": [],
   "source": [
    "a=eval(input())\n",
    "b=0\n",
    "c=0\n",
    "for i in range(0,len(a)): \n",
    "    if a[i]>=100:\n",
    "        break\n",
    "for j in range(i,len(a)):\n",
    "    if a[j]<100:\n",
    "        break\n",
    "    else:\n",
    "        b+=a[j]\n",
    "        c+=1\n",
    "print(\"{:.1f}\".format(b/c))"
   ]
  },
  {
   "cell_type": "markdown",
   "metadata": {},
   "source": [
    "射飛鏢\n",
    "Description\n",
    "\n",
    "標靶大小:在一張20cm*20cm的紙上，以10cm,10cm為圓心，半徑10cm所框出的空間極為標靶大小，當飛鏢射中標靶內即可計分，射中標靶外則不計分。\n",
    "\n",
    "計分方式:從圓心開始可畫出半徑為1cm、2cm、3cm…9cm、10cm的同心圓。將圓心到半徑1cm所形成的同心圓(含邊)空間標定為A，而半徑1cm形成之同心圓(不含邊)與半徑2cm形成之同心圓(含邊)空間標定為B，以此類推可形成A至J共10個區域，飛鏢射中A區得10分，B區域9分，C區域8分，D區域7分，E區域6分，F區域5分，G區域4分，H區域3分，I區域2分，J區域1分，不在以上區域則為0分。\n",
    "\n",
    "\n",
    "Input\n",
    "輸入正整數n代表投了幾次飛鏢，再輸入n組浮點數x與浮點數y，代表飛鏢的座標(0<=x<=20,0<=y<=20)，x與y間用空白分隔。\n",
    "\n",
    "\n",
    "Output\n",
    "輸出每個區域間的飛鏢數，格式依照範例”[區域]:[飛鏢數]”，以及總得分(int)，格式依照範例”score:[總得分]”，最後必須有換行字元。"
   ]
  },
  {
   "cell_type": "code",
   "execution_count": 1,
   "metadata": {},
   "outputs": [
    {
     "ename": "NameError",
     "evalue": "name 'j' is not defined",
     "output_type": "error",
     "traceback": [
      "\u001b[1;31m---------------------------------------------------------------------------\u001b[0m",
      "\u001b[1;31mNameError\u001b[0m                                 Traceback (most recent call last)",
      "Cell \u001b[1;32mIn [1], line 10\u001b[0m\n\u001b[0;32m      8\u001b[0m flag\u001b[39m=\u001b[39m\u001b[39mTrue\u001b[39;00m\n\u001b[0;32m      9\u001b[0m \u001b[39mfor\u001b[39;00m i \u001b[39min\u001b[39;00m \u001b[39mrange\u001b[39m(\u001b[39m1\u001b[39m, \u001b[39m11\u001b[39m):\n\u001b[1;32m---> 10\u001b[0m     \u001b[39mif\u001b[39;00m j\u001b[39m>\u001b[39m\u001b[39m=\u001b[39m distance:\n\u001b[0;32m     11\u001b[0m         score[j\u001b[39m-\u001b[39m\u001b[39m1\u001b[39m] \u001b[39m+\u001b[39m\u001b[39m=\u001b[39m \u001b[39m1\u001b[39m\n\u001b[0;32m     12\u001b[0m         flag \u001b[39m=\u001b[39m \u001b[39mFalse\u001b[39;00m\n",
      "\u001b[1;31mNameError\u001b[0m: name 'j' is not defined"
     ]
    }
   ],
   "source": [
    "n=int(input())\n",
    "score=[0, 0, 0, 0, 0, 0, 0, 0, 0, 0, 0]\n",
    "for i in range(n):\n",
    "    x, y= map(float, input().split())\n",
    "    x-=10\n",
    "    y-=10\n",
    "    distance=(x*x+y*y)**(1/2)\n",
    "    flag=True\n",
    "    for j in range(1, 11):\n",
    "        if j>= distance:\n",
    "            score[j-1] += 1\n",
    "            flag = False\n",
    "            break\n",
    "    if flag:\n",
    "        score[10] += 1\n",
    "count1=65\n",
    "count2=10\n",
    "result1=0\n",
    "for i in score:\n",
    "    if count1 == 75:\n",
    "        print(\"OUT:{:d}\".format(i))\n",
    "        print(\"score:{:d}\".format(result1))\n",
    "    else:\n",
    "        print(\"{:s}:{:d}\" .format(chr(count1), i))\n",
    "        result1+=i*count2\n",
    "        count1+=1\n",
    "        count2-=1"
   ]
  },
  {
   "cell_type": "markdown",
   "metadata": {},
   "source": [
    "奇偶平均數\n",
    "Description\n",
    "\n",
    "請撰寫一程式輸入一List並計算其中奇數(int)的平均數與偶數(int)的平均數，輸出Tuple (偶數平均數,奇數平均數)。\n",
    "\n",
    "例:\n",
    "\n",
    "[1, 2,3, 4, \"cat\", \"tech\", 5, 6]\n",
    "\n",
    "奇數平均數= (1+3+5)/3=3.0\n",
    "\n",
    "偶數平均數= (2+4+6)/3=4.0\n",
    "\n",
    "輸出: (4.0,3.0)\n",
    "\n",
    "\n",
    "Input\n",
    "輸入一List其內容型態可包含String、Float、Int、Boolean。\n",
    "\n",
    "\n",
    "Output\n",
    "輸出Tuple([偶數平均數(float)],[奇數平均數(float)])，最後必須有換行字元。"
   ]
  },
  {
   "cell_type": "code",
   "execution_count": null,
   "metadata": {},
   "outputs": [],
   "source": [
    "a=eval(input())\n",
    "b=0\n",
    "c=0\n",
    "d=0\n",
    "e=0\n",
    "for i in a:\n",
    "    if type(i)==type(0):\n",
    "        if i%2==0:\n",
    "            b=b+i\n",
    "            d=d+1\n",
    "        else:\n",
    "            c=c+i\n",
    "            e=e+1\n",
    "f=(b/d,c/e)\n",
    "print(f)"
   ]
  },
  {
   "cell_type": "markdown",
   "metadata": {},
   "source": [
    "List元素\n",
    "Description\n",
    "\n",
    "請撰寫一程式將List裡的元素乘上其對應的index值。\n",
    "\n",
    "例:\n",
    "\n",
    "List:[1,2,3,4,5,6] -> [1*0, 2*1, 3*2, 4*3, 5*4, 6*5] ->[0,2,6,12,20,30]\n",
    "\n",
    "\n",
    "Input\n",
    "輸入一List，可使用eval()讀取使用者輸入的List。\n",
    "\n",
    "\n",
    "Output\n",
    "輸出運算後的List，最後必須有換行字元。"
   ]
  },
  {
   "cell_type": "code",
   "execution_count": null,
   "metadata": {},
   "outputs": [],
   "source": [
    "a=eval(input())\n",
    "for i in range(len(a)):\n",
    "    a[i]=a[i]*i\n",
    "print(a)"
   ]
  },
  {
   "cell_type": "markdown",
   "metadata": {},
   "source": [
    "幸運7\n",
    "Description\n",
    "\n",
    "請撰寫一程式，在List中尋找連續三個數字7，並輸出True or False代表是否找到。\n",
    "\n",
    "例:\n",
    "\n",
    "[4, 7, 8, 2, 7, 7, 7, 3, 4] -> True\n",
    "\n",
    "[4, 7, 7, 2, 8, 3, 7, 4, 3] -> False\n",
    "\n",
    "\n",
    "Input\n",
    "輸入一個List且裡面元素皆為整數。\n",
    "\n",
    "\n",
    "Output\n",
    "輸出True為找到List裡有連續三個7，False為沒有找到，最後必須有換行字元。"
   ]
  },
  {
   "cell_type": "code",
   "execution_count": null,
   "metadata": {},
   "outputs": [],
   "source": [
    "a=eval(input())\n",
    "flag=False\n",
    "for i in range(len(a)-2):\n",
    "    if a[i]==7 and a[i+1] ==7 and a[i+2] ==7:\n",
    "        flag=True\n",
    "        break\n",
    "if flag:\n",
    "    print('True')\n",
    "else:\n",
    "    print('False')"
   ]
  },
  {
   "cell_type": "markdown",
   "metadata": {},
   "source": [
    "曠課名單\n",
    "Description\n",
    "\n",
    "小豪助教想要知道課堂上有那些同學未到，可是現在他手邊只有全班名單與今天課堂同學的簽到單，請撰寫一程式幫小豪助教快速找到哪些同學沒來上課。\n",
    "\n",
    "\n",
    "Input\n",
    "輸入兩個List且裡面元素皆為字串，第一個List為全班名單，第二個List為簽到名單。\n",
    "\n",
    "\n",
    "Output\n",
    "輸出沒在簽到單裡的學生名單(List)，並且由小到大排序，最後必須有換行字元。"
   ]
  },
  {
   "cell_type": "code",
   "execution_count": null,
   "metadata": {},
   "outputs": [],
   "source": [
    "a=eval(input())\n",
    "b=eval(input())\n",
    "print(sorted(list(set(a)-set(b))))"
   ]
  },
  {
   "cell_type": "markdown",
   "metadata": {},
   "source": [
    "電影票價\n",
    "Description\n",
    "\n",
    "小明在拿到第一筆薪水後想要犒賞自己辛苦工作，於是要了電影院看一部最貴的電影，請撰寫一程式幫小明挑出電影院中最貴的電影。\n",
    "\n",
    "\n",
    "Input\n",
    "輸入一個List為電影名單，名單裡的電影以Tuple表示為(電影名稱,電影票價)。\n",
    "\n",
    "\n",
    "Output\n",
    "輸出票價最貴的電影名稱，最後必須有換行字元。"
   ]
  },
  {
   "cell_type": "code",
   "execution_count": null,
   "metadata": {},
   "outputs": [],
   "source": [
    "a=eval(input())\n",
    "b=a[0][1]\n",
    "c=a[0][0]\n",
    "for i in range(len(a)):\n",
    "    if a[i][1]>b:\n",
    "        b=a[i][1]\n",
    "        c=a[i][0]\n",
    "print(c)"
   ]
  },
  {
   "cell_type": "markdown",
   "metadata": {},
   "source": [
    "找貓找狗\n",
    "Description\n",
    "\n",
    "有一List由字串所組成，並從中尋找字串內含有指定關鍵字，輸出含有指定關鍵字的字串在List中的index值。\n",
    "\n",
    "\n",
    "Input\n",
    "輸入一List其元素皆為字串，與一關鍵字。\n",
    "\n",
    "\n",
    "Output\n",
    "輸出一List內容為包含關鍵字的字串index值，最後必須有換行字元。"
   ]
  },
  {
   "cell_type": "code",
   "execution_count": null,
   "metadata": {},
   "outputs": [],
   "source": [
    "a=eval(input())\n",
    "b=input()\n",
    "c = list()\n",
    "for i in range (len(a)):\n",
    "    if b in a[i] :\n",
    "        c.append(i)\n",
    "\n",
    "print(c)"
   ]
  },
  {
   "cell_type": "markdown",
   "metadata": {},
   "source": [
    "姓名格式\n",
    "Description\n",
    "\n",
    "小明要製作婚禮的邀請函，而在整理邀請名單時小明發現有些賓客的英文姓名格式不太一樣有兩種格式一種為[Firstname] [Middle name] [Last name]，請撰寫一程式幫小明把賓客的姓名格式都統一成[Last name],[First name] [Middle name]的格式。\n",
    "\n",
    "\n",
    "Input\n",
    "輸入一List為賓客英文姓名名單。\n",
    "\n",
    "\n",
    "Output\n",
    "輸出一List為調整後的賓客姓名名單，最後必須有換行字元。"
   ]
  },
  {
   "cell_type": "code",
   "execution_count": null,
   "metadata": {},
   "outputs": [],
   "source": [
    "n = eval(input())\n",
    "for i in range(len(n)):\n",
    "    if \",\" not in n[i]:\n",
    "        n1, n2, n3 = n[i].split()\n",
    "        n[i] = n3 + \", \" + n1 + \" \" + n2\n",
    "print(n)"
   ]
  }
 ],
 "metadata": {
  "kernelspec": {
   "display_name": "Python 3",
   "language": "python",
   "name": "python3"
  },
  "language_info": {
   "codemirror_mode": {
    "name": "ipython",
    "version": 3
   },
   "file_extension": ".py",
   "mimetype": "text/x-python",
   "name": "python",
   "nbconvert_exporter": "python",
   "pygments_lexer": "ipython3",
   "version": "3.9.12"
  },
  "orig_nbformat": 4,
  "vscode": {
   "interpreter": {
    "hash": "aee8b7b246df8f9039afb4144a1f6fd8d2ca17a180786b69acc140d282b71a49"
   }
  }
 },
 "nbformat": 4,
 "nbformat_minor": 2
}

{
 "cells": [
  {
   "cell_type": "code",
   "execution_count": null,
   "metadata": {},
   "outputs": [
    {
     "ename": "",
     "evalue": "",
     "output_type": "error",
     "traceback": [
      "\u001b[1;31m無法啟動 Kernel。 \n",
      "\u001b[1;31mJupyter server crashed. Unable to connect. \n",
      "\u001b[1;31mError code from Jupyter: 1\n",
      "\u001b[1;31musage: jupyter.py [-h] [--version] [--config-dir] [--data-dir] [--runtime-dir]\n",
      "\u001b[1;31m                  [--paths] [--json] [--debug]\n",
      "\u001b[1;31m                  [subcommand]\n",
      "\u001b[1;31m\n",
      "\u001b[1;31mJupyter: Interactive Computing\n",
      "\u001b[1;31m\n",
      "\u001b[1;31mpositional arguments:\n",
      "\u001b[1;31m  subcommand     the subcommand to launch\n",
      "\u001b[1;31m\n",
      "\u001b[1;31moptions:\n",
      "\u001b[1;31m  -h, --help     show this help message and exit\n",
      "\u001b[1;31m  --version      show the versions of core jupyter packages and exit\n",
      "\u001b[1;31m  --config-dir   show Jupyter config dir\n",
      "\u001b[1;31m  --data-dir     show Jupyter data dir\n",
      "\u001b[1;31m  --runtime-dir  show Jupyter runtime dir\n",
      "\u001b[1;31m  --paths        show all Jupyter paths. Add --json for machine-readable\n",
      "\u001b[1;31m                 format.\n",
      "\u001b[1;31m  --json         output paths as machine-readable json\n",
      "\u001b[1;31m  --debug        output debug information about paths\n",
      "\u001b[1;31m\n",
      "\u001b[1;31mAvailable subcommands:\n",
      "\u001b[1;31m\n",
      "\u001b[1;31mJupyter command `jupyter-notebook` not found. \n",
      "\u001b[1;31m如需詳細資料，請檢視 Jupyter <a href='command:jupyter.viewOutput'>記錄</a>。"
     ]
    }
   ],
   "source": [
    "class Book:\n",
    "    def __init__(self,bkTitle,authors1,ISBN1,publisher1,P):\n",
    "        self.title=bkTitle\n",
    "        self.authors=authors1\n",
    "        self.ISBN=ISBN1\n",
    "        self.publisher=publisher1\n",
    "        self.price=P #下面指定\n",
    "        #print('Hello')\n",
    "\n",
    "    def setTitle(self,newTitle):\n",
    "        self.tltle=newTitle\n",
    "\n",
    "    def showInfo(self):\n",
    "        print(self.title)\n",
    "        print(self.authors)\n",
    "        print(self.ISBN)\n",
    "        print(self.publisher)\n",
    "        print(self.price)\n",
    "\n",
    "\n",
    "if __name__=='__main__':\n",
    "    bkTitle=input()\n",
    "    P=int(input())\n",
    "    newTitle=input()\n",
    "    book1=Book(bkTitle,'dadwd','daddawd','dadwd',P)\n",
    "    book1.setTitle(newTitle)\n",
    "    book1.showInfo()\n",
    "\n",
    "\n",
    "    bkTitle=input()\n",
    "    P=int(input())\n",
    "    newTitle=input()\n",
    "    book2=Book(bkTitle,'dad13wd','daddaw313d','dad3123wd',P)\n",
    "    book1.setTitle(newTitle)\n",
    "    book2.showInfo()\n"
   ]
  }
 ],
 "metadata": {
  "kernelspec": {
   "display_name": "Python 3",
   "language": "python",
   "name": "python3"
  },
  "language_info": {
   "codemirror_mode": {
    "name": "ipython",
    "version": 3
   },
   "file_extension": ".py",
   "mimetype": "text/x-python",
   "name": "python",
   "nbconvert_exporter": "python",
   "pygments_lexer": "ipython3",
   "version": "3.9.16"
  },
  "orig_nbformat": 4,
  "vscode": {
   "interpreter": {
    "hash": "a665b5d41d17b532ea9890333293a1b812fa0b73c9c25c950b3cedf1bebd0438"
   }
  }
 },
 "nbformat": 4,
 "nbformat_minor": 2
}

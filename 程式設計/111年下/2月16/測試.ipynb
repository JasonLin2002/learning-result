{
 "cells": [
  {
   "cell_type": "code",
   "execution_count": 1,
   "metadata": {},
   "outputs": [
    {
     "name": "stdout",
     "output_type": "stream",
     "text": [
      ">_<\n",
      "dadwd\n",
      "daddawd\n",
      "dadwd\n",
      "3133\n",
      "12313\n",
      "dad13wd\n",
      "daddaw313d\n",
      "dad3123wd\n",
      "132\n"
     ]
    }
   ],
   "source": [
    "class Book:\n",
    "    def __init__(self,bkTitle,authors1,ISBN1,publisher1,P):\n",
    "        self.title=bkTitle\n",
    "        self.authors=authors1\n",
    "        self.ISBN=ISBN1\n",
    "        self.publisher=publisher1\n",
    "        self.price=P #下面指定\n",
    "        #print('Hello')\n",
    "\n",
    "    def setTitle(self,newTitle):\n",
    "        self.tltle=newTitle\n",
    "\n",
    "    def showInfo(self):\n",
    "        print(self.title)\n",
    "        print(self.authors)\n",
    "        print(self.ISBN)\n",
    "        print(self.publisher)\n",
    "        print(self.price)\n",
    "\n",
    "\n",
    "if __name__=='__main__':\n",
    "    bkTitle=input()\n",
    "    P=int(input())\n",
    "    newTitle=input()\n",
    "    book1=Book(bkTitle,'dadwd','daddawd','dadwd',P)\n",
    "    book1.setTitle(newTitle)\n",
    "    book1.showInfo()\n",
    "\n",
    "\n",
    "    bkTitle=input()\n",
    "    P=int(input())\n",
    "    newTitle=input()\n",
    "    book2=Book(bkTitle,'dad13wd','daddaw313d','dad3123wd',P)\n",
    "    book1.setTitle(newTitle)\n",
    "    book2.showInfo()\n"
   ]
  }
 ],
 "metadata": {
  "kernelspec": {
   "display_name": "Python 3",
   "language": "python",
   "name": "python3"
  },
  "language_info": {
   "codemirror_mode": {
    "name": "ipython",
    "version": 3
   },
   "file_extension": ".py",
   "mimetype": "text/x-python",
   "name": "python",
   "nbconvert_exporter": "python",
   "pygments_lexer": "ipython3",
   "version": "3.11.2"
  },
  "orig_nbformat": 4,
  "vscode": {
   "interpreter": {
    "hash": "b0fa6594d8f4cbf19f97940f81e996739fb7646882a419484c72d19e05852a7e"
   }
  }
 },
 "nbformat": 4,
 "nbformat_minor": 2
}

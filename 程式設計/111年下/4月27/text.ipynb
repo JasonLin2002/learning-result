{
 "cells": [
  {
   "cell_type": "code",
   "execution_count": 1,
   "metadata": {},
   "outputs": [
    {
     "name": "stdout",
     "output_type": "stream",
     "text": [
      "['J', 'c', 'k', ',', ' ', 'J', 'n', ',', ' ', 'D', 'v', 'd', ',', ' ', 'l', 'l', 'n', ',', ' ', 'T', 't', 'n', ',', ' ', 'K', 'v', 'n', ',', ' ', 'J', 'n', 'n', ',', ' ', 'W', 'n', 'g']\n"
     ]
    }
   ],
   "source": [
    "import re\n",
    "txt = 'Jack, Jone, David, Ellean, Titan, Kevin, Jannie, Wang'\n",
    "result = re.findall(r'[^aeiouAEIOU]', txt)\n",
    "print(result)"
   ]
  }
 ],
 "metadata": {
  "kernelspec": {
   "display_name": "Python 3",
   "language": "python",
   "name": "python3"
  },
  "language_info": {
   "codemirror_mode": {
    "name": "ipython",
    "version": 3
   },
   "file_extension": ".py",
   "mimetype": "text/x-python",
   "name": "python",
   "nbconvert_exporter": "python",
   "pygments_lexer": "ipython3",
   "version": "3.9.10 (tags/v3.9.10:f2f3f53, Jan 17 2022, 15:14:21) [MSC v.1929 64 bit (AMD64)]"
  },
  "orig_nbformat": 4,
  "vscode": {
   "interpreter": {
    "hash": "c5d269574d350b051d2fab1614ebbbf2fa09728239c894b53d63951c9539b734"
   }
  }
 },
 "nbformat": 4,
 "nbformat_minor": 2
}

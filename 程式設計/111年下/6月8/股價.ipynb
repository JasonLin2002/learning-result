{
 "cells": [
  {
   "cell_type": "code",
   "execution_count": 2,
   "metadata": {},
   "outputs": [
    {
     "data": {
      "text/plain": [
       "[498.0,\n",
       " 491.5,\n",
       " 493.5,\n",
       " 502.0,\n",
       " 501.0,\n",
       " 496.0,\n",
       " 498.0,\n",
       " 500.0,\n",
       " 504.0,\n",
       " 510.0,\n",
       " 503.0,\n",
       " 499.0,\n",
       " 496.0,\n",
       " 495.5,\n",
       " 505.0,\n",
       " 519.0,\n",
       " 530.0,\n",
       " 532.0,\n",
       " 531.0,\n",
       " 530.0,\n",
       " 525.0,\n",
       " 543.0,\n",
       " 566.0,\n",
       " 568.0,\n",
       " 566.0,\n",
       " 558.0,\n",
       " 551.0,\n",
       " 562.0,\n",
       " 555.0,\n",
       " 560.0,\n",
       " 568.0]"
      ]
     },
     "execution_count": 2,
     "metadata": {},
     "output_type": "execute_result"
    }
   ],
   "source": [
    "import twstock\n",
    "stock = twstock.Stock('2330')\n",
    "stock.price"
   ]
  },
  {
   "cell_type": "code",
   "execution_count": 3,
   "metadata": {},
   "outputs": [
    {
     "data": {
      "text/plain": [
       "[Data(date=datetime.datetime(2023, 4, 25, 0, 0), capacity=40916105, turnover=20495640143, open=504.0, high=505.0, low=498.0, close=498.0, change=-9.0, transaction=92009),\n",
       " Data(date=datetime.datetime(2023, 4, 26, 0, 0), capacity=33174539, turnover=16353670134, open=498.0, high=498.5, low=491.0, close=491.5, change=-6.5, transaction=58580),\n",
       " Data(date=datetime.datetime(2023, 4, 27, 0, 0), capacity=34149043, turnover=16816693302, open=491.0, high=495.0, low=489.0, close=493.5, change=2.0, transaction=47699),\n",
       " Data(date=datetime.datetime(2023, 4, 28, 0, 0), capacity=38812949, turnover=19433015577, open=498.5, high=502.0, low=498.0, close=502.0, change=8.5, transaction=23746),\n",
       " Data(date=datetime.datetime(2023, 5, 2, 0, 0), capacity=17142380, turnover=8572554842, open=500.0, high=502.0, low=496.5, close=501.0, change=-1.0, transaction=18247),\n",
       " Data(date=datetime.datetime(2023, 5, 3, 0, 0), capacity=12694698, turnover=6305914905, open=496.0, high=498.0, low=495.0, close=496.0, change=-5.0, transaction=25658),\n",
       " Data(date=datetime.datetime(2023, 5, 4, 0, 0), capacity=13699933, turnover=6818128036, open=497.0, high=499.5, low=496.0, close=498.0, change=2.0, transaction=14801),\n",
       " Data(date=datetime.datetime(2023, 5, 5, 0, 0), capacity=7898012, turnover=3949232374, open=500.0, high=502.0, low=498.5, close=500.0, change=2.0, transaction=10944),\n",
       " Data(date=datetime.datetime(2023, 5, 8, 0, 0), capacity=11737287, turnover=5932968954, open=509.0, high=509.0, low=502.0, close=504.0, change=4.0, transaction=13709),\n",
       " Data(date=datetime.datetime(2023, 5, 9, 0, 0), capacity=18762778, turnover=9530653802, open=507.0, high=510.0, low=505.0, close=510.0, change=6.0, transaction=17452),\n",
       " Data(date=datetime.datetime(2023, 5, 10, 0, 0), capacity=19385820, turnover=9753130414, open=508.0, high=508.0, low=500.0, close=503.0, change=-7.0, transaction=26320),\n",
       " Data(date=datetime.datetime(2023, 5, 11, 0, 0), capacity=13775130, turnover=6894746011, open=506.0, high=506.0, low=498.5, close=499.0, change=-4.0, transaction=20237),\n",
       " Data(date=datetime.datetime(2023, 5, 12, 0, 0), capacity=20746928, turnover=10313384387, open=496.0, high=500.0, low=495.0, close=496.0, change=-3.0, transaction=27989),\n",
       " Data(date=datetime.datetime(2023, 5, 15, 0, 0), capacity=15548031, turnover=7721867966, open=497.0, high=499.5, low=494.5, close=495.5, change=-0.5, transaction=16896),\n",
       " Data(date=datetime.datetime(2023, 5, 16, 0, 0), capacity=24052785, turnover=12131536763, open=503.0, high=508.0, low=500.0, close=505.0, change=9.5, transaction=22355),\n",
       " Data(date=datetime.datetime(2023, 5, 17, 0, 0), capacity=44352410, turnover=22870340267, open=508.0, high=521.0, low=506.0, close=519.0, change=14.0, transaction=52663),\n",
       " Data(date=datetime.datetime(2023, 5, 18, 0, 0), capacity=46107848, turnover=24437734052, open=533.0, high=536.0, low=526.0, close=530.0, change=11.0, transaction=50359),\n",
       " Data(date=datetime.datetime(2023, 5, 19, 0, 0), capacity=34742592, turnover=18476363730, open=535.0, high=535.0, low=529.0, close=532.0, change=2.0, transaction=39104),\n",
       " Data(date=datetime.datetime(2023, 5, 22, 0, 0), capacity=19037508, turnover=10100912410, open=532.0, high=533.0, low=529.0, close=531.0, change=-1.0, transaction=18796),\n",
       " Data(date=datetime.datetime(2023, 5, 23, 0, 0), capacity=20126817, turnover=10638352410, open=530.0, high=531.0, low=525.0, close=530.0, change=-1.0, transaction=15826),\n",
       " Data(date=datetime.datetime(2023, 5, 24, 0, 0), capacity=22621221, turnover=11888325332, open=527.0, high=528.0, low=524.0, close=525.0, change=-5.0, transaction=16339),\n",
       " Data(date=datetime.datetime(2023, 5, 25, 0, 0), capacity=68360924, turnover=36976525917, open=542.0, high=545.0, low=537.0, close=543.0, change=18.0, transaction=80930),\n",
       " Data(date=datetime.datetime(2023, 5, 26, 0, 0), capacity=104924623, turnover=59322536825, open=568.0, high=568.0, low=563.0, close=566.0, change=23.0, transaction=131612),\n",
       " Data(date=datetime.datetime(2023, 5, 29, 0, 0), capacity=58813792, turnover=33454887785, open=574.0, high=574.0, low=564.0, close=568.0, change=2.0, transaction=52250),\n",
       " Data(date=datetime.datetime(2023, 5, 30, 0, 0), capacity=47490594, turnover=26861389177, open=566.0, high=568.0, low=563.0, close=566.0, change=-2.0, transaction=32956),\n",
       " Data(date=datetime.datetime(2023, 5, 31, 0, 0), capacity=90675529, turnover=50573324515, open=560.0, high=562.0, low=551.0, close=558.0, change=-8.0, transaction=39679),\n",
       " Data(date=datetime.datetime(2023, 6, 1, 0, 0), capacity=25257673, turnover=13920836412, open=550.0, high=554.0, low=550.0, close=551.0, change=-7.0, transaction=25441),\n",
       " Data(date=datetime.datetime(2023, 6, 2, 0, 0), capacity=34705102, turnover=19460144774, open=559.0, high=564.0, low=557.0, close=562.0, change=11.0, transaction=30644),\n",
       " Data(date=datetime.datetime(2023, 6, 5, 0, 0), capacity=17483804, turnover=9730882750, open=560.0, high=560.0, low=555.0, close=555.0, change=-7.0, transaction=20211),\n",
       " Data(date=datetime.datetime(2023, 6, 6, 0, 0), capacity=21562088, turnover=12043550635, open=554.0, high=562.0, low=553.0, close=560.0, change=5.0, transaction=15551),\n",
       " Data(date=datetime.datetime(2023, 6, 7, 0, 0), capacity=29091913, turnover=16449319451, open=561.0, high=568.0, low=560.0, close=568.0, change=8.0, transaction=29548)]"
      ]
     },
     "execution_count": 3,
     "metadata": {},
     "output_type": "execute_result"
    }
   ],
   "source": [
    "result = stock.fetch_31()\n",
    "result"
   ]
  }
 ],
 "metadata": {
  "kernelspec": {
   "display_name": "Python 3",
   "language": "python",
   "name": "python3"
  },
  "language_info": {
   "codemirror_mode": {
    "name": "ipython",
    "version": 3
   },
   "file_extension": ".py",
   "mimetype": "text/x-python",
   "name": "python",
   "nbconvert_exporter": "python",
   "pygments_lexer": "ipython3",
   "version": "3.9.10"
  },
  "orig_nbformat": 4,
  "vscode": {
   "interpreter": {
    "hash": "c5d269574d350b051d2fab1614ebbbf2fa09728239c894b53d63951c9539b734"
   }
  }
 },
 "nbformat": 4,
 "nbformat_minor": 2
}

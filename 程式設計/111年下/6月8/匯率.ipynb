{
 "cells": [
  {
   "cell_type": "code",
   "execution_count": 5,
   "metadata": {},
   "outputs": [
    {
     "ename": "ValueError",
     "evalue": "'=' alignment not allowed in string format specifier",
     "output_type": "error",
     "traceback": [
      "\u001b[1;31m---------------------------------------------------------------------------\u001b[0m",
      "\u001b[1;31mValueError\u001b[0m                                Traceback (most recent call last)",
      "Cell \u001b[1;32mIn [5], line 3\u001b[0m\n\u001b[0;32m      1\u001b[0m \u001b[39mimport\u001b[39;00m \u001b[39mtwder\u001b[39;00m\n\u001b[0;32m      2\u001b[0m currency, y, m \u001b[39m=\u001b[39m \u001b[39minput\u001b[39m()\u001b[39m.\u001b[39msplit()\n\u001b[1;32m----> 3\u001b[0m result \u001b[39m=\u001b[39m twder\u001b[39m.\u001b[39;49mspecify_month(currency, year\u001b[39m=\u001b[39;49my, month\u001b[39m=\u001b[39;49mm)\n\u001b[0;32m      4\u001b[0m \u001b[39mprint\u001b[39m(\u001b[39mf\u001b[39m\u001b[39m'\u001b[39m\u001b[39m{\u001b[39;00mcurrency \u001b[39m}\u001b[39;00m\u001b[39m{\u001b[39;00my\u001b[39m}\u001b[39;00m\u001b[39m 年 \u001b[39m\u001b[39m{\u001b[39;00mm\u001b[39m}\u001b[39;00m\u001b[39m 月 匯率\u001b[39m\u001b[39m'\u001b[39m)\n\u001b[0;32m      5\u001b[0m \u001b[39mprint\u001b[39m(\u001b[39mf\u001b[39m\u001b[39m'\u001b[39m\u001b[39m日期\u001b[39m\u001b[39m\\t\u001b[39;00m\u001b[39m\\t\u001b[39;00m\u001b[39m現金買入\u001b[39m\u001b[39m\\t\u001b[39;00m\u001b[39m\\t\u001b[39;00m\u001b[39m現今賣出\u001b[39m\u001b[39m\\t\u001b[39;00m\u001b[39m\\t\u001b[39;00m\u001b[39m 即期買入\u001b[39m\u001b[39m\\t\u001b[39;00m\u001b[39m即期賣出\u001b[39m\u001b[39m'\u001b[39m)\n",
      "File \u001b[1;32mc:\\Users\\jk121\\AppData\\Local\\Programs\\Python\\Python39\\lib\\site-packages\\twder\\api.py:134\u001b[0m, in \u001b[0;36mspecify_month\u001b[1;34m(currency, year, month)\u001b[0m\n\u001b[0;32m    126\u001b[0m \u001b[39mdef\u001b[39;00m \u001b[39mspecify_month\u001b[39m(currency, year, month):\n\u001b[0;32m    127\u001b[0m     \u001b[39m\"\"\"取得指定月份的報價(包含貨幣名稱)\u001b[39;00m\n\u001b[0;32m    128\u001b[0m \n\u001b[0;32m    129\u001b[0m \u001b[39m    :param str currency: 貨幣代號\u001b[39;00m\n\u001b[1;32m   (...)\u001b[0m\n\u001b[0;32m    132\u001b[0m \u001b[39m    :rtype: list\u001b[39;00m\n\u001b[0;32m    133\u001b[0m \u001b[39m    \"\"\"\u001b[39;00m\n\u001b[1;32m--> 134\u001b[0m     month_str \u001b[39m=\u001b[39m \u001b[39m\"\u001b[39;49m\u001b[39m{}\u001b[39;49;00m\u001b[39m-\u001b[39;49m\u001b[39m{:02}\u001b[39;49;00m\u001b[39m\"\u001b[39;49m\u001b[39m.\u001b[39;49mformat(year, month)\n\u001b[0;32m    135\u001b[0m     \u001b[39mreturn\u001b[39;00m __parse_history_page(\n\u001b[0;32m    136\u001b[0m         __HISTORY_QUOTE_URL_PATTERN\u001b[39m.\u001b[39mformat(currency\u001b[39m=\u001b[39mcurrency, \u001b[39mrange\u001b[39m\u001b[39m=\u001b[39mmonth_str)\n\u001b[0;32m    137\u001b[0m     )\n",
      "\u001b[1;31mValueError\u001b[0m: '=' alignment not allowed in string format specifier"
     ]
    }
   ],
   "source": [
    "import twder\n",
    "currency, y, m = input().split()\n",
    "result = twder.specify_month(C_dict[currency], year=y, month=m)\n",
    "print(f'{currency }{y} 年 {m} 月 匯率')\n",
    "print(f'日期\\t\\t現金買入\\t\\t現今賣出\\t\\t 即期買入\\t即期賣出')\n",
    "for item in result:\n",
    "    print(f'{item[0]}\\t{item[1]}\\t\\t{item[2]}\\t\\t{item[3]}\\t\\t{item[4]}')"
   ]
  },
  {
   "cell_type": "code",
   "execution_count": 2,
   "metadata": {},
   "outputs": [
    {
     "name": "stdout",
     "output_type": "stream",
     "text": [
      "100 美金 -13998.00 日幣\n"
     ]
    }
   ],
   "source": [
    "from google_currency import convert\n",
    "import json\n",
    "\n",
    "samount = 100\n",
    "damount = convert('USD', 'JPY', samount)\n",
    "retdict = json.loads(damount)\n",
    "print(f'{samount} 美金 -{retdict[\"amount\"]} 日幣')"
   ]
  }
 ],
 "metadata": {
  "kernelspec": {
   "display_name": "Python 3",
   "language": "python",
   "name": "python3"
  },
  "language_info": {
   "codemirror_mode": {
    "name": "ipython",
    "version": 3
   },
   "file_extension": ".py",
   "mimetype": "text/x-python",
   "name": "python",
   "nbconvert_exporter": "python",
   "pygments_lexer": "ipython3",
   "version": "3.9.10"
  },
  "orig_nbformat": 4,
  "vscode": {
   "interpreter": {
    "hash": "c5d269574d350b051d2fab1614ebbbf2fa09728239c894b53d63951c9539b734"
   }
  }
 },
 "nbformat": 4,
 "nbformat_minor": 2
}

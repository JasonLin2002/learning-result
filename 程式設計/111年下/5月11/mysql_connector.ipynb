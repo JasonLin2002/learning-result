{
 "cells": [
  {
   "cell_type": "code",
   "execution_count": 8,
   "metadata": {},
   "outputs": [
    {
     "ename": "AttributeError",
     "evalue": "module 'mysql.connector' has no attribute 'connect'",
     "output_type": "error",
     "traceback": [
      "\u001b[1;31m---------------------------------------------------------------------------\u001b[0m",
      "\u001b[1;31mAttributeError\u001b[0m                            Traceback (most recent call last)",
      "Cell \u001b[1;32mIn [8], line 3\u001b[0m\n\u001b[0;32m      1\u001b[0m \u001b[39mimport\u001b[39;00m \u001b[39mmysql\u001b[39;00m\u001b[39m.\u001b[39;00m\u001b[39mconnector\u001b[39;00m \u001b[39mas\u001b[39;00m \u001b[39mmyconn\u001b[39;00m\n\u001b[1;32m----> 3\u001b[0m dbConn \u001b[39m=\u001b[39m myconn\u001b[39m.\u001b[39;49mconnect(\n\u001b[0;32m      4\u001b[0m     host \u001b[39m=\u001b[39m \u001b[39m\"\u001b[39m\u001b[39mlocalhost\u001b[39m\u001b[39m\"\u001b[39m,\n\u001b[0;32m      5\u001b[0m     user \u001b[39m=\u001b[39m \u001b[39m\"\u001b[39m\u001b[39mjk121519\u001b[39m\u001b[39m\"\u001b[39m,\n\u001b[0;32m      6\u001b[0m     password \u001b[39m=\u001b[39m \u001b[39m\"\u001b[39m\u001b[39m0980043\u001b[39m\u001b[39m\"\u001b[39m\n\u001b[0;32m      7\u001b[0m )\n\u001b[0;32m      9\u001b[0m my_cursor \u001b[39m=\u001b[39m dbConn\u001b[39m.\u001b[39mcursor()\n\u001b[0;32m     10\u001b[0m my_cursor\u001b[39m.\u001b[39mexecute(\u001b[39m\"\u001b[39m\u001b[39mSHOW DATABASES\u001b[39m\u001b[39m\"\u001b[39m)\n",
      "\u001b[1;31mAttributeError\u001b[0m: module 'mysql.connector' has no attribute 'connect'"
     ]
    }
   ],
   "source": [
    "import mysql.connector as myconn\n",
    "\n",
    "dbConn = myconn.connect(\n",
    "    host = \"localhost\",\n",
    "    user = \"jk121519\",\n",
    "    password = \"0980043\"\n",
    ")\n",
    "\n",
    "my_cursor = dbConn.cursor()\n",
    "my_cursor.execute(\"SHOW DATABASES\")\n",
    "print(my_cursor)\n",
    "for db in my_cursor:\n",
    "    print(db)"
   ]
  }
 ],
 "metadata": {
  "kernelspec": {
   "display_name": "Python 3",
   "language": "python",
   "name": "python3"
  },
  "language_info": {
   "codemirror_mode": {
    "name": "ipython",
    "version": 3
   },
   "file_extension": ".py",
   "mimetype": "text/x-python",
   "name": "python",
   "nbconvert_exporter": "python",
   "pygments_lexer": "ipython3",
   "version": "3.9.10 (tags/v3.9.10:f2f3f53, Jan 17 2022, 15:14:21) [MSC v.1929 64 bit (AMD64)]"
  },
  "orig_nbformat": 4,
  "vscode": {
   "interpreter": {
    "hash": "c5d269574d350b051d2fab1614ebbbf2fa09728239c894b53d63951c9539b734"
   }
  }
 },
 "nbformat": 4,
 "nbformat_minor": 2
}

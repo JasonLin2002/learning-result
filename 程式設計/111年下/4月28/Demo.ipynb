{
 "cells": [
  {
   "cell_type": "code",
   "execution_count": 7,
   "metadata": {},
   "outputs": [
    {
     "name": "stdout",
     "output_type": "stream",
     "text": [
      "4.0\n",
      "No words\n",
      "2.0\n",
      "3.0\n",
      "Not a string\n",
      "4.0\n",
      "4.0\n"
     ]
    }
   ],
   "source": [
    "def average_word_length(n):\n",
    "    check_list = []\n",
    "    for i in range(65, 91):\n",
    "        check_list.append(chr(i))\n",
    "    for i in range(97, 123):\n",
    "        check_list.append(chr(i))\n",
    "    \n",
    "    char_sum = 0\n",
    "    try:\n",
    "        for i in n:\n",
    "            if i in check_list:\n",
    "                char_sum += 1\n",
    "    \n",
    "        word_sum = 0\n",
    "        word_list = n.split(\" \")\n",
    "        for i in word_list:\n",
    "            for j in i:\n",
    "                if j in check_list:\n",
    "                    word_sum += 1\n",
    "                    break\n",
    "    except TypeError:\n",
    "        return \"Not a string\"\n",
    "    \n",
    "    try:\n",
    "        return char_sum/word_sum\n",
    "    except ZeroDivisionError:\n",
    "        return \"No words\"\n",
    "\n",
    "print(average_word_length(\"four words are here!\"))\n",
    "print(average_word_length(\"?!?!?! ...  !\"))\n",
    "print(average_word_length(\"Hi\"))\n",
    "print(average_word_length(\"Hi, Luck\"))\n",
    "print(average_word_length(True))\n",
    "print(average_word_length(\"   What   big spaces  you   have!\"))\n",
    "print(average_word_length(\"Four words are here!\"))"
   ]
  },
  {
   "cell_type": "code",
   "execution_count": 2,
   "metadata": {},
   "outputs": [
    {
     "name": "stdout",
     "output_type": "stream",
     "text": [
      "12 + 10 = 22\n",
      "12 - 10 = 2\n",
      "12 * 10 = 120\n",
      "12 / 10 = 1.2\n"
     ]
    }
   ],
   "source": [
    "path = 'number.txt'\n",
    "f = None\n",
    "a = []\n",
    "try:\n",
    "    f = open(path, 'r')\n",
    "    aa,bb = map(int,f.read().split('\\n'))\n",
    "    print(f'{aa} + {bb} = {aa+bb}')\n",
    "    print(f'{aa} - {bb} = {aa-bb}')\n",
    "    print(f'{aa} * {bb} = {aa*bb}')\n",
    "    print(f'{aa} / {bb} = {aa/bb}')\n",
    "except IOError:\n",
    "    print('ERROR: can not found !!')\n",
    "except ValueError:\n",
    "    print('not int !!')"
   ]
  }
 ],
 "metadata": {
  "kernelspec": {
   "display_name": "Python 3",
   "language": "python",
   "name": "python3"
  },
  "language_info": {
   "codemirror_mode": {
    "name": "ipython",
    "version": 3
   },
   "file_extension": ".py",
   "mimetype": "text/x-python",
   "name": "python",
   "nbconvert_exporter": "python",
   "pygments_lexer": "ipython3",
   "version": "3.9.10"
  },
  "orig_nbformat": 4,
  "vscode": {
   "interpreter": {
    "hash": "c5d269574d350b051d2fab1614ebbbf2fa09728239c894b53d63951c9539b734"
   }
  }
 },
 "nbformat": 4,
 "nbformat_minor": 2
}

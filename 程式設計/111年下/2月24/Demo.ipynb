{
 "cells": [
  {
   "cell_type": "code",
   "execution_count": 2,
   "metadata": {},
   "outputs": [
    {
     "name": "stdout",
     "output_type": "stream",
     "text": [
      "True\n",
      "True\n",
      "True\n",
      "True\n",
      "True\n",
      "True\n",
      "停車場名稱：A\n",
      "停車費：50\n",
      "剩餘停車位：1\n",
      "已使用停車位：4\n",
      "4\n"
     ]
    },
    {
     "ename": "AttributeError",
     "evalue": "'CarPark' object has no attribute '__name'",
     "output_type": "error",
     "traceback": [
      "\u001b[0;31m---------------------------------------------------------------------------\u001b[0m",
      "\u001b[0;31mAttributeError\u001b[0m                            Traceback (most recent call last)",
      "\u001b[0;32m/var/folders/dg/4r5n_xwj7vv678pz3skjj6d00000gn/T/ipykernel_15753/1957667615.py\u001b[0m in \u001b[0;36m<module>\u001b[0;34m\u001b[0m\n\u001b[1;32m     63\u001b[0m     \u001b[0mprint\u001b[0m\u001b[0;34m(\u001b[0m\u001b[0mCarPark\u001b[0m\u001b[0;34m.\u001b[0m\u001b[0mget_total_cars\u001b[0m\u001b[0;34m(\u001b[0m\u001b[0;34m)\u001b[0m\u001b[0;34m)\u001b[0m\u001b[0;34m\u001b[0m\u001b[0;34m\u001b[0m\u001b[0m\n\u001b[1;32m     64\u001b[0m \u001b[0;34m\u001b[0m\u001b[0m\n\u001b[0;32m---> 65\u001b[0;31m     \u001b[0mprint\u001b[0m\u001b[0;34m(\u001b[0m\u001b[0mparkingLot\u001b[0m\u001b[0;34m.\u001b[0m\u001b[0m__name\u001b[0m\u001b[0;34m)\u001b[0m\u001b[0;34m\u001b[0m\u001b[0;34m\u001b[0m\u001b[0m\n\u001b[0m\u001b[1;32m     66\u001b[0m     \u001b[0mparkingLot\u001b[0m\u001b[0;34m.\u001b[0m\u001b[0mname\u001b[0m \u001b[0;34m=\u001b[0m \u001b[0;34m\"B\"\u001b[0m\u001b[0;34m\u001b[0m\u001b[0;34m\u001b[0m\u001b[0m\n\u001b[1;32m     67\u001b[0m     \u001b[0mprint\u001b[0m\u001b[0;34m(\u001b[0m\u001b[0mparkingLot\u001b[0m\u001b[0;34m.\u001b[0m\u001b[0mname\u001b[0m\u001b[0;34m)\u001b[0m\u001b[0;34m\u001b[0m\u001b[0;34m\u001b[0m\u001b[0m\n",
      "\u001b[0;31mAttributeError\u001b[0m: 'CarPark' object has no attribute '__name'"
     ]
    }
   ],
   "source": [
    "class CarPark:\n",
    "    _total_cars = 0\n",
    "    \n",
    "    def __init__(self, name, fee, spaces):\n",
    "        self.__name = name\n",
    "        self.__fee = fee\n",
    "        self.__spaces = spaces\n",
    "    \n",
    "    @staticmethod\n",
    "    def get_total_cars():\n",
    "        return CarPark._total_cars\n",
    "    \n",
    "    def getName(self):\n",
    "        return self.__name\n",
    "    \n",
    "    def setName(self, name):\n",
    "        self.__name = name\n",
    "    \n",
    "    na=property(getName,setName)\n",
    "    \n",
    "    @property\n",
    "    def setFee(self):\n",
    "        self.fee='文修停車場'\n",
    "    \n",
    "    @property    \n",
    "    def getFee(self):\n",
    "        return self.__fee\n",
    "\n",
    "    def carIn(self):\n",
    "        for i, space in enumerate(self.__spaces):\n",
    "            if space == 0:\n",
    "                self.__spaces[i] = 1\n",
    "                CarPark._total_cars += 1\n",
    "                return True\n",
    "        return False\n",
    "    \n",
    "    def carOut(self):\n",
    "        for i, space in enumerate(self.__spaces):\n",
    "            if space == 1:\n",
    "                self.__spaces[i] = 0\n",
    "                CarPark._total_cars -= 1\n",
    "                return True\n",
    "        return False\n",
    "    \n",
    "    def showInfo(self):\n",
    "        print(f\"停車場名稱：{self.__name}\")\n",
    "        print(f\"停車費：{self.__fee}\")\n",
    "        print(f\"剩餘停車位：{self.__spaces.count(0)}\")\n",
    "        print(f\"已使用停車位：{self.__spaces.count(1)}\")\n",
    "\n",
    "if __name__ == \"__main__\":\n",
    "    parkingLot = CarPark(\"A\", 50, [0, 0, 0, 0, 0])\n",
    "    \n",
    "    print(parkingLot.carIn())  # True\n",
    "    print(parkingLot.carIn())  # True\n",
    "    print(parkingLot.carOut()) # True\n",
    "    print(parkingLot.carIn())  # True\n",
    "    print(parkingLot.carIn())  # True\n",
    "    print(parkingLot.carIn())  # False，停車場已經滿了\n",
    "    \n",
    "    parkingLot.showInfo()\n",
    "    \n",
    "    print(CarPark.get_total_cars())\n",
    "    \n",
    "    #print(parkingLot.__name)\n",
    "    #parkingLot.name = \"B\"\n",
    "    #print(parkingLot.name)\n",
    "    #print(parkingLot.fee)\n",
    "    #parkingLot.fee = 60\n",
    "    #print(parkingLot.fee)\n",
    "\n"
   ]
  },
  {
   "cell_type": "code",
   "execution_count": null,
   "metadata": {},
   "outputs": [],
   "source": [
    "from CarPark import CarPark\n",
    "\n",
    "if ___name__ == \"__main__\":\n",
    "    parkingLot = CarPark(\"A\", 50, [0, 0, 0, 0, 0])\n",
    "    \n",
    "    print(parkingLot.carIn())  # True\n",
    "    print(parkingLot.carIn())  # True\n",
    "    print(parkingLot.carOut()) # True\n",
    "    print(parkingLot.carIn())  # True\n",
    "    print(parkingLot.carIn())  # True\n",
    "    print(parkingLot.carIn())  # False，停車場已經滿了\n",
    "    \n",
    "    parkingLot.showInfo()\n",
    "    \n",
    "    print(CarPark.get_total_cars())\n",
    "    \n",
    "    print(parkingLot.name)\n",
    "    parkingLot.name = \"B\"\n",
    "    print(parkingLot.name)\n",
    "    print(parkingLot.fee)\n",
    "    parkingLot.fee = 60\n",
    "    print(parkingLot.fee)\n"
   ]
  }
 ],
 "metadata": {
  "kernelspec": {
   "display_name": "base",
   "language": "python",
   "name": "python3"
  },
  "language_info": {
   "codemirror_mode": {
    "name": "ipython",
    "version": 3
   },
   "file_extension": ".py",
   "mimetype": "text/x-python",
   "name": "python",
   "nbconvert_exporter": "python",
   "pygments_lexer": "ipython3",
   "version": "3.9.13"
  },
  "orig_nbformat": 4,
  "vscode": {
   "interpreter": {
    "hash": "4d223343f8cdee3acf2c97fc55b879b24d16caf7f29d26a9f21dcadce241f6dd"
   }
  }
 },
 "nbformat": 4,
 "nbformat_minor": 2
}

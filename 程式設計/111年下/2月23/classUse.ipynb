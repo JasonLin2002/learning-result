{
 "cells": [
  {
   "cell_type": "code",
   "execution_count": null,
   "metadata": {},
   "outputs": [],
   "source": [
    "class Book:\n",
    "    def __init__(self,bkTitle,authors1,ISBN1,publisher1,P):\n",
    "        self.title=bkTitle\n",
    "        self.authors=authors1\n",
    "        self.ISBN=ISBN1\n",
    "        self.publisher=publisher1\n",
    "        self.price=P #下面指定\n",
    "        #print('Hello')\n",
    "\n",
    "    def setTitle(self,newTitle):\n",
    "        self.tltle=newTitle\n",
    "\n",
    "    def showInfo(self):\n",
    "        print(self.title)\n",
    "        print(self.authors)\n",
    "        print(self.ISBN)\n",
    "        print(self.publisher)\n",
    "        print(self.price)\n",
    "    bk=property(setTitle)\n",
    "\n",
    "\n",
    "if __name__=='__main__':\n",
    "    bkTitle='The lord of the ring'\n",
    "    P=600\n",
    "    book1=Book(bkTitle,'dadwd','daddawd','dadwd',P)\n",
    "    book1.showInfo()\n",
    "    "
   ]
  }
 ],
 "metadata": {
  "kernelspec": {
   "display_name": "base",
   "language": "python",
   "name": "python3"
  },
  "language_info": {
   "name": "python",
   "version": "3.9.13"
  },
  "orig_nbformat": 4,
  "vscode": {
   "interpreter": {
    "hash": "4d223343f8cdee3acf2c97fc55b879b24d16caf7f29d26a9f21dcadce241f6dd"
   }
  }
 },
 "nbformat": 4,
 "nbformat_minor": 2
}

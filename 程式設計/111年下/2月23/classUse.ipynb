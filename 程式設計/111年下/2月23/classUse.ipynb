{
 "cells": [
  {
   "cell_type": "code",
   "execution_count": null,
   "metadata": {},
   "outputs": [],
   "source": [
    "class Book:\n",
    "    def __init__(self,bkTitle,authors1,ISBN1,publisher1,P):\n",
    "        self.title=bkTitle\n",
    "        self.authors=authors1\n",
    "        self.ISBN=ISBN1\n",
    "        self.publisher=publisher1\n",
    "        self.price=P #下面指定\n",
    "        #print('Hello')\n",
    "\n",
    "    def setTitle(self,newTitle):\n",
    "        self.tltle=newTitle\n",
    "\n",
    "    def showInfo(self):\n",
    "        print(self.title)\n",
    "        print(self.authors)\n",
    "        print(self.ISBN)\n",
    "        print(self.publisher)\n",
    "        print(self.price)\n",
    "    bk=property(setTitle)\n",
    "\n",
    "\n",
    "if __name__=='__main__':\n",
    "    bkTitle='The lord of the ring'\n",
    "    P=600\n",
    "    book1=Book(bkTitle,'dadwd','daddawd','dadwd',P)\n",
    "    book1.showInfo()\n",
    "    "
   ]
  }
 ],
 "metadata": {
  "kernelspec": {
   "display_name": "Python 3",
   "language": "python",
   "name": "python3"
  },
  "language_info": {
   "name": "python",
   "version": "3.9.10 (tags/v3.9.10:f2f3f53, Jan 17 2022, 15:14:21) [MSC v.1929 64 bit (AMD64)]"
  },
  "orig_nbformat": 4,
  "vscode": {
   "interpreter": {
    "hash": "c5d269574d350b051d2fab1614ebbbf2fa09728239c894b53d63951c9539b734"
   }
  }
 },
 "nbformat": 4,
 "nbformat_minor": 2
}

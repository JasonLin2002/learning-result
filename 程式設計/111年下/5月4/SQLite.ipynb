{
 "cells": [
  {
   "cell_type": "code",
   "execution_count": 4,
   "metadata": {},
   "outputs": [
    {
     "ename": "TypeError",
     "evalue": "'module' object is not callable",
     "output_type": "error",
     "traceback": [
      "\u001b[1;31m---------------------------------------------------------------------------\u001b[0m",
      "\u001b[1;31mTypeError\u001b[0m                                 Traceback (most recent call last)",
      "Cell \u001b[1;32mIn [4], line 2\u001b[0m\n\u001b[0;32m      1\u001b[0m \u001b[39mimport\u001b[39;00m \u001b[39msqlite3\u001b[39;00m\n\u001b[1;32m----> 2\u001b[0m conn \u001b[39m=\u001b[39m sqlite3(\u001b[39m\"\u001b[39;49m\u001b[39mDB_Test.db\u001b[39;49m\u001b[39m\"\u001b[39;49m)\n\u001b[0;32m      3\u001b[0m cour \u001b[39m=\u001b[39m conn\u001b[39m.\u001b[39mcursor()\n\u001b[0;32m      4\u001b[0m cour\u001b[39m.\u001b[39mexecute(\u001b[39m'''\u001b[39m\u001b[39mSELECT count(name)\u001b[39m\n\u001b[0;32m      5\u001b[0m \u001b[39m                FROM sqlite_master\u001b[39m\n\u001b[0;32m      6\u001b[0m \u001b[39m                WHERE type=\u001b[39m\u001b[39m'\u001b[39m\u001b[39mtable\u001b[39m\u001b[39m'\u001b[39m\u001b[39m AND name = \u001b[39m\u001b[39m'\u001b[39m\u001b[39mstudent\u001b[39m\u001b[39m'\u001b[39m\u001b[39m \u001b[39m\u001b[39m'''\u001b[39m)\n",
      "\u001b[1;31mTypeError\u001b[0m: 'module' object is not callable"
     ]
    }
   ],
   "source": [
    "import sqlite3\n",
    "conn = sqlite3(\"DB_Test.db\")\n",
    "cour = conn.cursor()\n",
    "cour.execute('''SELECT count(name)\n",
    "                FROM sqlite_master\n",
    "                WHERE type='table' AND name = 'student' ''')\n",
    "if cour.fetchone()[0] == 1:\n",
    "    print('Table students is exists.')\n",
    "else:\n",
    "    sql = '''create table students(\n",
    "        id INTEGER PRIMARY KEY AUTOINCREMENT,\n",
    "        stundetID TEXT NOT NULL,\n",
    "        name TEXT NOT NULL,\n",
    "        gender TEXT NOT NULL,\n",
    "        department TEXT NOT NULL)'''\n"
   ]
  },
  {
   "cell_type": "code",
   "execution_count": null,
   "metadata": {},
   "outputs": [],
   "source": [
    "cursor = conn.execute(sql)\n",
    "print('creating table student done!')"
   ]
  },
  {
   "cell_type": "code",
   "execution_count": null,
   "metadata": {},
   "outputs": [],
   "source": [
    "cursor = conn.execute('select * from students')\n",
    "name = list(map(lambda x: x[0], cursor.description))\n",
    "print(names)"
   ]
  },
  {
   "cell_type": "code",
   "execution_count": null,
   "metadata": {},
   "outputs": [],
   "source": [
    "cour.execute('''SELECT count(name) FROM sqlite_master WHERE type='table' AND name = 'students' ''')\n",
    "if cour.fetchone()[0] == 1:\n",
    "    op = input('Delete table of students? (Y/N)')\n",
    "    if op.capitalize() == \"Y\":\n",
    "        cour.execute('''Drop table students;''')\n",
    "cour.execute('''SELECT count(name) FROM sqlite_master WHERE type='table AND name = 'students' ''')\n",
    "if cour.fetchone()[0] == 1:\n",
    "    print('Table students still alive.')\n",
    "else:\n",
    "    print('The table students is gone!')"
   ]
  },
  {
   "cell_type": "code",
   "execution_count": null,
   "metadata": {},
   "outputs": [],
   "source": [
    "import sqlite3\n",
    "conn = sqlite3.connect('DB_Test.db')\n",
    "cour = conn.cursor()\n",
    "while True:\n",
    "    new_studentID = input(\"New student ID: \")\n",
    "    new_name = input('Student Name: ')\n",
    "    new_gender = input('Gender: ')\n",
    "    new_department = input( 'Department: ')\n",
    "    x = ( new_studentID, new_name, new_gender, new_department)\n",
    "    insSQL = '''insert into students (studentID, name, gender, department) values (?, ?, ?, ?)''' \n",
    "    cour.execute( insSQL, x)\n",
    "    conn.commit()\n",
    "    again = input('continue? (Y/N)') \n",
    "    if again[ 0 ].lower() == 'n':\n",
    "        break\n",
    "cour.close()\n",
    "conn.close()"
   ]
  },
  {
   "cell_type": "code",
   "execution_count": null,
   "metadata": {},
   "outputs": [],
   "source": [
    "import sqlite3\n",
    "conn = sqlite3.connect('DB_Test.db')\n",
    "cour = conn.cursor()\n",
    "studentID = input( 'student id: ')\n",
    "sql = f'''select * from students WHERE studentID = \"{studentID}\" '''\n",
    "result = cour.execute( sql )\n",
    "allstudents = result.fetchall()\n",
    "for student in allstudents: \n",
    "    print(student)\n",
    "cour.close()\n",
    "conn.close()"
   ]
  }
 ],
 "metadata": {
  "kernelspec": {
   "display_name": "Python 3",
   "language": "python",
   "name": "python3"
  },
  "language_info": {
   "codemirror_mode": {
    "name": "ipython",
    "version": 3
   },
   "file_extension": ".py",
   "mimetype": "text/x-python",
   "name": "python",
   "nbconvert_exporter": "python",
   "pygments_lexer": "ipython3",
   "version": "3.9.10"
  },
  "orig_nbformat": 4,
  "vscode": {
   "interpreter": {
    "hash": "c5d269574d350b051d2fab1614ebbbf2fa09728239c894b53d63951c9539b734"
   }
  }
 },
 "nbformat": 4,
 "nbformat_minor": 2
}

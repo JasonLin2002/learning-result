{
 "cells": [
  {
   "cell_type": "code",
   "execution_count": 4,
   "metadata": {},
   "outputs": [
    {
     "ename": "Exception",
     "evalue": "The length of new password \"wddw\" is too short.\"",
     "output_type": "error",
     "traceback": [
      "\u001b[1;31m---------------------------------------------------------------------------\u001b[0m",
      "\u001b[1;31mException\u001b[0m                                 Traceback (most recent call last)",
      "Cell \u001b[1;32mIn [4], line 10\u001b[0m\n\u001b[0;32m      8\u001b[0m         pw\u001b[39m=\u001b[39mnewPW\n\u001b[0;32m      9\u001b[0m testPW \u001b[39m=\u001b[39m \u001b[39minput\u001b[39m(\u001b[39m\"\u001b[39m\u001b[39mnew password\u001b[39m\u001b[39m\"\u001b[39m)\n\u001b[1;32m---> 10\u001b[0m setPW(testPW)\n",
      "Cell \u001b[1;32mIn [4], line 4\u001b[0m, in \u001b[0;36msetPW\u001b[1;34m(newPW)\u001b[0m\n\u001b[0;32m      2\u001b[0m \u001b[39mdef\u001b[39;00m \u001b[39msetPW\u001b[39m (newPW):\n\u001b[0;32m      3\u001b[0m     \u001b[39mif\u001b[39;00m \u001b[39mlen\u001b[39m(newPW) \u001b[39m<\u001b[39m \u001b[39m8\u001b[39m:\n\u001b[1;32m----> 4\u001b[0m         \u001b[39mraise\u001b[39;00m \u001b[39mException\u001b[39;00m(\u001b[39mf\u001b[39m\u001b[39m'\u001b[39m\u001b[39mThe length of new password \u001b[39m\u001b[39m\"\u001b[39m\u001b[39m{\u001b[39;00mnewPW\u001b[39m}\u001b[39;00m\u001b[39m\"\u001b[39m\u001b[39m is too short.\u001b[39m\u001b[39m\"\u001b[39m\u001b[39m'\u001b[39m)\n\u001b[0;32m      5\u001b[0m     \u001b[39melif\u001b[39;00m \u001b[39mlen\u001b[39m(newPW)\u001b[39m>\u001b[39m\u001b[39m20\u001b[39m:\n\u001b[0;32m      6\u001b[0m         \u001b[39mraise\u001b[39;00m \u001b[39mException\u001b[39;00m(\u001b[39mf\u001b[39m\u001b[39m'\u001b[39m\u001b[39mThe length of new password \u001b[39m\u001b[39m\"\u001b[39m\u001b[39m{\u001b[39;00mnewPW\u001b[39m}\u001b[39;00m\u001b[39m\"\u001b[39m\u001b[39m is over 20 characters.\u001b[39m\u001b[39m\"\u001b[39m\u001b[39m'\u001b[39m)\n",
      "\u001b[1;31mException\u001b[0m: The length of new password \"wddw\" is too short.\""
     ]
    }
   ],
   "source": [
    "pw=''\n",
    "def setPW (newPW):\n",
    "    if len(newPW) < 8:\n",
    "        raise Exception(f'The length of new password \"{newPW}\" is too short.\"')\n",
    "    elif len(newPW)>20:\n",
    "        raise Exception(f'The length of new password \"{newPW}\" is over 20 characters.\"')\n",
    "    else:\n",
    "        pw=newPW\n",
    "testPW = input(\"new password\")\n",
    "setPW(testPW)"
   ]
  },
  {
   "cell_type": "code",
   "execution_count": 1,
   "metadata": {},
   "outputs": [
    {
     "ename": "NameError",
     "evalue": "name 'testPW' is not defined",
     "output_type": "error",
     "traceback": [
      "\u001b[1;31m---------------------------------------------------------------------------\u001b[0m",
      "\u001b[1;31mNameError\u001b[0m                                 Traceback (most recent call last)",
      "Cell \u001b[1;32mIn [1], line 13\u001b[0m\n\u001b[0;32m     11\u001b[0m             \u001b[39mprint\u001b[39m(\u001b[39m'\u001b[39m\u001b[39mpassword is nice!\u001b[39m\u001b[39m'\u001b[39m)\n\u001b[0;32m     12\u001b[0m             \u001b[39mbreak\u001b[39;00m\n\u001b[1;32m---> 13\u001b[0m setPW(testPW)\n",
      "\u001b[1;31mNameError\u001b[0m: name 'testPW' is not defined"
     ]
    }
   ],
   "source": [
    "class Error(Exception):\n",
    "    \"\"\"Base class for other exceptions\"\"\"\n",
    "    pass\n",
    "class ValueTooSmallError(Error):\n",
    "    \"\"\"Raised when the input value is too small\"\"\"\n",
    "    pass\n",
    "class ValueTooLargeError(Error):\n",
    "    pass\n",
    "\n",
    "number = 10\n",
    "\n",
    "while True:\n",
    "    try:\n",
    "        i_num = "
   ]
  },
  {
   "cell_type": "code",
   "execution_count": 5,
   "metadata": {},
   "outputs": [
    {
     "name": "stdout",
     "output_type": "stream",
     "text": [
      "Yes, you phone number is 0966-489-384\n"
     ]
    }
   ],
   "source": [
    "while True:\n",
    "    phone_number = input()\n",
    "    if phone_number[0:4].isdecimal() and phone_number[5:8].isdecimal() and phone_number[9:].isdecimal():\n",
    "        print(f'Yes, you phone number is {phone_number}')\n",
    "        break\n",
    "    else:\n",
    "        print(\"This is no the phone number!\")\n",
    "#.isdecimal()判斷是否為數字"
   ]
  },
  {
   "cell_type": "code",
   "execution_count": null,
   "metadata": {},
   "outputs": [],
   "source": [
    "str='在這種困難的抉擇下，本人思來想去，寢食難安。威瑟曾提出，熱得快的愛情，冷得也快。這句話令我不禁感慨問題的迫切性。探討0966-391-473時，如果發現非常複雜，那麼想必不簡單。'\n",
    "for i in range(len(str)):\n",
    "    if str[i::12].isdecimal():\n",
    "        print(str[i::12])"
   ]
  }
 ],
 "metadata": {
  "kernelspec": {
   "display_name": "Python 3",
   "language": "python",
   "name": "python3"
  },
  "language_info": {
   "codemirror_mode": {
    "name": "ipython",
    "version": 3
   },
   "file_extension": ".py",
   "mimetype": "text/x-python",
   "name": "python",
   "nbconvert_exporter": "python",
   "pygments_lexer": "ipython3",
   "version": "3.9.10 (tags/v3.9.10:f2f3f53, Jan 17 2022, 15:14:21) [MSC v.1929 64 bit (AMD64)]"
  },
  "orig_nbformat": 4,
  "vscode": {
   "interpreter": {
    "hash": "c5d269574d350b051d2fab1614ebbbf2fa09728239c894b53d63951c9539b734"
   }
  }
 },
 "nbformat": 4,
 "nbformat_minor": 2
}

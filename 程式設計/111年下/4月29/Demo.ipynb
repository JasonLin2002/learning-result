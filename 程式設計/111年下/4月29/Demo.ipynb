{
 "cells": [
  {
   "cell_type": "code",
   "execution_count": null,
   "metadata": {},
   "outputs": [],
   "source": [
    "def average_word_length(n):\n",
    "    check_list = []\n",
    "    for i in range(65, 91):\n",
    "        check_list.append(chr(i))\n",
    "    for i in range(97, 123):\n",
    "        check_list.append(chr(i))\n",
    "    \n",
    "    char_sum = 0\n",
    "    try:\n",
    "        for i in n:\n",
    "            if i in check_list:\n",
    "                char_sum += 1\n",
    "    \n",
    "        word_sum = 0\n",
    "        word_list = n.split(\" \")\n",
    "        for i in word_list:\n",
    "            for j in i:\n",
    "                if j in check_list:\n",
    "                    word_sum += 1\n",
    "                    break\n",
    "    except TypeError:\n",
    "        return \"Not a string\"\n",
    "    \n",
    "    try:\n",
    "        return char_sum/word_sum\n",
    "    except ZeroDivisionError:\n",
    "        return \"No words\"\n",
    "\n",
    "\n",
    "\n",
    "print(average_word_length(\"four words are here!\"))\n",
    "print(average_word_length(\"?!?!?! ...  !\"))\n",
    "print(average_word_length(\"Hi\"))\n",
    "print(average_word_length(\"Hi, Luck\"))\n",
    "print(average_word_length(True))\n",
    "print(average_word_length(\"   What   big spaces  you   have!\"))\n",
    "print(average_word_length(\"Four words are here!\"))"
   ]
  },
  {
   "cell_type": "code",
   "execution_count": null,
   "metadata": {},
   "outputs": [],
   "source": [
    "path = 'number.txt'\n",
    "f = None\n",
    "a = []\n",
    "try:\n",
    "    f = open(path, 'r')\n",
    "    aa,bb = map(int,f.read().split('\\n'))\n",
    "    print(f'{aa} + {bb} = {aa+bb}')\n",
    "    print(f'{aa} - {bb} = {aa-bb}')\n",
    "    print(f'{aa} * {bb} = {aa*bb}')\n",
    "    print(f'{aa} / {bb} = {aa/bb}')\n",
    "except IOError:\n",
    "    print('ERROR: can not found !!')\n",
    "except ValueError:\n",
    "    print('not int !!')"
   ]
  }
 ],
 "metadata": {
  "language_info": {
   "name": "python"
  },
  "orig_nbformat": 4
 },
 "nbformat": 4,
 "nbformat_minor": 2
}

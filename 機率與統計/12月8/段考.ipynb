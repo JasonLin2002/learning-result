{
 "cells": [
  {
   "cell_type": "code",
   "execution_count": null,
   "metadata": {},
   "outputs": [],
   "source": [
    "import scipy.stats as stats\n",
    "import pandas as pd\n",
    "\n",
    "data = pd.read_excel('FedEmail.xlsx')\n",
    "\n",
    "delivery_time = data['Email Sent and Received']\n",
    "\n",
    "sample_mean = delivery_time.mean()\n",
    "sample_std = delivery_time.std(ddof=1)  # 使用 Bessel's correction\n",
    "\n",
    "# 假設檢定的虛無假設（Null Hypothesis）：mu <= 100\n",
    "# 選擇備择假設（Alternative Hypothesis）：mu > 100\n",
    "# 假設水準（Significance Level）通常選擇 0.05\n",
    "alpha = 0.05\n",
    "\n",
    "t_statistic, p_value = stats.ttest_1samp(delivery_time, 35)\n",
    "\n",
    "print(f'T-statistic: {t_statistic}')\n",
    "print(f'P-value: {p_value}')\n",
    "\n",
    "# 判斷是否拒絕虛無假設\n",
    "if p_value < alpha:\n",
    "    print('拒絕零假設，有足夠的證據支持備擇假設：平均時間大於100小時。 ')\n",
    "else:\n",
    "    print('未拒絕虛無假設，沒有足夠的證據支持備擇假設：平均時間大於100小時。 ')"
   ]
  },
  {
   "cell_type": "code",
   "execution_count": 20,
   "metadata": {},
   "outputs": [
    {
     "name": "stdout",
     "output_type": "stream",
     "text": [
      "Z分數: 2.958039891549808\n",
      "P分數: 0.0030960205499590172\n",
      "在 0.05 的顯著水準下，拒絕虛無假設 H0。\n"
     ]
    }
   ],
   "source": [
    "from scipy.stats import norm\n",
    "import numpy as np\n",
    "import pandas as pd\n",
    "\n",
    "data = pd.read_excel('fowle.xlsx')\n",
    "\n",
    "mu_0 = 15\n",
    "sigma = 4\n",
    "alpha = 0.01\n",
    "\n",
    "sample_mean = data['Time'].mean()\n",
    "sample_size = len(data)\n",
    "\n",
    "z_score = (sample_mean - mu_0) / (sigma / np.sqrt(sample_size))\n",
    "\n",
    "p_value = norm.sf(abs(z_score))*2\n",
    "\n",
    "print(f'Z分數: {z_score}')\n",
    "print(f'P分數: {p_value}')\n",
    "\n",
    "if alpha < p_value < 0.1:\n",
    "    print(\"在 0.05 的顯著水準下，不能拒絕虛無假設 H0。\")\n",
    "else:\n",
    "    print(\"在 0.05 的顯著水準下，拒絕虛無假設 H0。\")\n",
    "\n"
   ]
  },
  {
   "attachments": {},
   "cell_type": "markdown",
   "metadata": {},
   "source": [
    "1"
   ]
  },
  {
   "cell_type": "code",
   "execution_count": 21,
   "metadata": {},
   "outputs": [
    {
     "name": "stdout",
     "output_type": "stream",
     "text": [
      "樣本平均數: 7.0\n",
      "P分數: 0.12609631502561697\n"
     ]
    }
   ],
   "source": [
    "from scipy import stats\n",
    "import pandas as pd\n",
    "\n",
    "childcare_data = pd.read_excel('childcare.xlsx')\n",
    "\n",
    "sample_mean = childcare_data['Hours Spent in Child Care'].mean()\n",
    "\n",
    "alpha = 0.05\n",
    "\n",
    "population_mean = 6.4\n",
    "t_statistic, p_value = stats.ttest_1samp(childcare_data['Hours Spent in Child Care'], population_mean)\n",
    "\n",
    "print(f'樣本平均數: {sample_mean}')\n",
    "print(f'P分數: {p_value}')\n"
   ]
  },
  {
   "attachments": {},
   "cell_type": "markdown",
   "metadata": {},
   "source": [
    "2"
   ]
  },
  {
   "cell_type": "code",
   "execution_count": 11,
   "metadata": {},
   "outputs": [
    {
     "name": "stdout",
     "output_type": "stream",
     "text": [
      "Z分數: -1.8590482051226216\n",
      "P分數: 0.06302030589724837\n",
      "在 0.05 的顯著水準下，不能拒絕虛無假設 H0。\n"
     ]
    }
   ],
   "source": [
    "from scipy.stats import norm\n",
    "import numpy as np\n",
    "\n",
    "data = pd.read_excel('hotel.xlsx')\n",
    "Hotel_a = data['Atlanta']\n",
    "Hotel_b = data['Houston']\n",
    "\n",
    "sigma_a = 20\n",
    "sigma_b = 25\n",
    "alpha = 0.05\n",
    "\n",
    "mean_a = np.mean(Hotel_a)\n",
    "mean_b = np.mean(Hotel_b)\n",
    "n_a = len(Hotel_a)\n",
    "n_b = len(Hotel_b)\n",
    "\n",
    "z_score = (mean_a - mean_b) / np.sqrt((sigma_a**2 / n_a) + (sigma_b**2 / n_b))\n",
    "\n",
    "p_value = norm.sf(abs(z_score))*2\n",
    "\n",
    "print(f'Z分數: {z_score}')\n",
    "print(f'P分數: {p_value}')\n",
    "\n",
    "if alpha < p_value < 0.1:\n",
    "    print(\"在 0.05 的顯著水準下，不能拒絕虛無假設 H0。\")\n",
    "else:\n",
    "    print(\"在 0.05 的顯著水準下，拒絕虛無假設 H0。\")\n"
   ]
  },
  {
   "attachments": {},
   "cell_type": "markdown",
   "metadata": {},
   "source": [
    "3"
   ]
  },
  {
   "cell_type": "code",
   "execution_count": 23,
   "metadata": {},
   "outputs": [
    {
     "name": "stdout",
     "output_type": "stream",
     "text": [
      "樣本平均數_1: 50.6\n",
      "樣本平均數: 52.8\n",
      "P分數: 0.7534837822916829\n"
     ]
    }
   ],
   "source": [
    "import pandas as pd\n",
    "\n",
    "lateflights_data = pd.read_excel('lateflights.xlsx')\n",
    "\n",
    "delta_mean = lateflights_data['Delta'].mean()\n",
    "southwest_mean = lateflights_data['Southwest'].mean()\n",
    "\n",
    "alpha = 0.05\n",
    "\n",
    "t_statistic, p_value = stats.ttest_ind(lateflights_data['Delta'], lateflights_data['Southwest'], equal_var=False, nan_policy='omit')\n",
    "\n",
    "print(f'樣本平均數_1: {delta_mean}')\n",
    "print(f'樣本平均數_2: {southwest_mean}')\n",
    "print(f'P分數: {p_value}')"
   ]
  },
  {
   "attachments": {},
   "cell_type": "markdown",
   "metadata": {},
   "source": [
    "4"
   ]
  },
  {
   "cell_type": "code",
   "execution_count": null,
   "metadata": {},
   "outputs": [],
   "source": []
  }
 ],
 "metadata": {
  "kernelspec": {
   "display_name": "Python 3",
   "language": "python",
   "name": "python3"
  },
  "language_info": {
   "codemirror_mode": {
    "name": "ipython",
    "version": 3
   },
   "file_extension": ".py",
   "mimetype": "text/x-python",
   "name": "python",
   "nbconvert_exporter": "python",
   "pygments_lexer": "ipython3",
   "version": "3.9.10 (tags/v3.9.10:f2f3f53, Jan 17 2022, 15:14:21) [MSC v.1929 64 bit (AMD64)]"
  },
  "orig_nbformat": 4,
  "vscode": {
   "interpreter": {
    "hash": "c5d269574d350b051d2fab1614ebbbf2fa09728239c894b53d63951c9539b734"
   }
  }
 },
 "nbformat": 4,
 "nbformat_minor": 2
}

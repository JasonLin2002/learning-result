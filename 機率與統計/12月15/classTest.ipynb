{
 "cells": [
  {
   "cell_type": "code",
   "execution_count": 2,
   "metadata": {},
   "outputs": [
    {
     "name": "stdout",
     "output_type": "stream",
     "text": [
      "                            OLS Regression Results                            \n",
      "==============================================================================\n",
      "Dep. Variable:           DependentVar   R-squared:                       1.000\n",
      "Model:                            OLS   Adj. R-squared:                  1.000\n",
      "Method:                 Least Squares   F-statistic:                 6.085e+32\n",
      "Date:                Fri, 15 Dec 2023   Prob (F-statistic):           1.47e-49\n",
      "Time:                        15:20:50   Log-Likelihood:                 177.15\n",
      "No. Observations:                   5   AIC:                            -350.3\n",
      "Df Residuals:                       3   BIC:                            -351.1\n",
      "Df Model:                           1                                         \n",
      "Covariance Type:            nonrobust                                         \n",
      "==================================================================================\n",
      "                     coef    std err          t      P>|t|      [0.025      0.975]\n",
      "----------------------------------------------------------------------------------\n",
      "const              1.0000   1.34e-16   7.44e+15      0.000       1.000       1.000\n",
      "IndependentVar     1.0000   4.05e-17   2.47e+16      0.000       1.000       1.000\n",
      "==============================================================================\n",
      "Omnibus:                          nan   Durbin-Watson:                   1.000\n",
      "Prob(Omnibus):                    nan   Jarque-Bera (JB):                1.888\n",
      "Skew:                           1.500   Prob(JB):                        0.389\n",
      "Kurtosis:                       3.250   Cond. No.                         8.37\n",
      "==============================================================================\n",
      "\n",
      "Notes:\n",
      "[1] Standard Errors assume that the covariance matrix of the errors is correctly specified.\n"
     ]
    },
    {
     "name": "stderr",
     "output_type": "stream",
     "text": [
      "c:\\Users\\jk121\\AppData\\Local\\Programs\\Python\\Python39\\lib\\site-packages\\statsmodels\\stats\\stattools.py:74: ValueWarning: omni_normtest is not valid with less than 8 observations; 5 samples were given.\n",
      "  warn(\"omni_normtest is not valid with less than 8 observations; %i \"\n"
     ]
    }
   ],
   "source": [
    "import pandas as pd\n",
    "import statsmodels.api as sm\n",
    "\n",
    "# Replace 'data' with your actual DataFrame\n",
    "# Assuming 'data' has two columns: 'IndependentVar' and 'DependentVar'\n",
    "\n",
    "# Sample data creation for demonstration (please use your actual data instead)\n",
    "data = pd.DataFrame({\n",
    "    'IndependentVar': [1, 2, 3, 4, 5],  # Independent variable (e.g., time, temperature)\n",
    "    'DependentVar': [2, 3, 4, 5, 6]     # Dependent variable (e.g., sales, pressure)\n",
    "})\n",
    "\n",
    "# Ordinary Least Squares (OLS) regression\n",
    "# Add a constant to the independent variable to represent the intercept\n",
    "X = sm.add_constant(data['IndependentVar'])\n",
    "y = data['DependentVar']\n",
    "\n",
    "# Fit the regression model\n",
    "model = sm.OLS(y, X).fit()\n",
    "\n",
    "# Print out the statistics\n",
    "model_summary = model.summary()\n",
    "print(model_summary)\n"
   ]
  }
 ],
 "metadata": {
  "kernelspec": {
   "display_name": "learning-result-IeBDJMId",
   "language": "python",
   "name": "python3"
  },
  "language_info": {
   "codemirror_mode": {
    "name": "ipython",
    "version": 3
   },
   "file_extension": ".py",
   "mimetype": "text/x-python",
   "name": "python",
   "nbconvert_exporter": "python",
   "pygments_lexer": "ipython3",
   "version": "3.11.6 (tags/v3.11.6:8b6ee5b, Oct  2 2023, 14:57:12) [MSC v.1935 64 bit (AMD64)]"
  },
  "orig_nbformat": 4,
  "vscode": {
   "interpreter": {
    "hash": "7f6c5982b2b402dfe64d3392f57f1e59671f9ac0af9f20c2380775797ee06378"
   }
  }
 },
 "nbformat": 4,
 "nbformat_minor": 2
}

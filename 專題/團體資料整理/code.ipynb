{
 "cells": [
  {
   "cell_type": "markdown",
   "metadata": {},
   "source": [
    "### 資料整理"
   ]
  },
  {
   "cell_type": "code",
   "execution_count": 5,
   "metadata": {},
   "outputs": [
    {
     "name": "stdout",
     "output_type": "stream",
     "text": [
      "JSONDecodeError in line: {\"WEB\": \"https://travel.liontravel.com/detail?NormGroupID=cad20e77-1ca1-42db-a22f-15cf5be9823f&mtl=feebee&utm_source=feebee&utm_medium=referral&utm_campaign=tour\", \"B2C_LOW_PRICE\": 19800.0, \"PROD_DESC\": \"※報價不含：機票、門票、浮\"https://travel.liontravel.com/detail?NormGroupID=751ef512-6914-45fd-b060-a8acef3c96c7&mtl=feebee&utm_source=feebee&utm_medium=referral&utm_campaign=tour\", \"B2C_LOW_PRICE\": 25499.0, \"PROD_DESC\": \":snowman::snowman::snowman: 慢遊首爾滑雪半自助好好玩 :snowman::snowman::snowman::eight-spoked_asterisk::eight-spoked_asterisk: 一日自由活動｜不受拘束．無時間壓力．想逛哪裡就逛哪裡！ :eight-spoked_asterisk::eight-spoked_asterisk::eight-spoked_asterisk::eight-spoked_asterisk: 安排入住近明洞飯店兩晚｜充份的自由逛街時間．想買什麼就買什麼！ :eight-spoked_asterisk::eight-spoked_asterisk::eight-spoked_asterisk::eight-spoked_asterisk: 冬季限定滑雪體驗｜銀白雪世界．浪漫追雪趣．滑雪會上癮！ :eight-spoked_asterisk::eight-spoked_asterisk::eight-spoked_asterisk::eight-spoked_asterisk: 結合當地文化與美食｜讓旅程更加豐富多彩！ :eight-spoked_asterisk::eight-spoked_asterisk:冬季限定滑雪包含雪具：雪鞋、雪杖、雪橇滑雪體驗【 ELYSIAN 江村滑雪場 】或【 洪川SONO滑雪場 】在導遊及領隊的協助下，穿上合適的滑雪裝備。接著到初學者練習場，學習走動、滑行、轉彎及停止的動作，讓您嘗試前所未有的滑雪之樂，當您熟悉這些動作後就可開始自己享受滑雪的樂趣。如果滑累了，您還可在此堆雪人或是打雪仗，也是一種不同的感受。※ 其餘的滑雪用具及裝備請自費租用或自行購買 ※穿韓服遊北村韓屋村米其林綠色指南推薦在此可感受到融合現代與傳統的美，體驗不同魅力的傳統文化，深受外國觀光客們喜愛。北村韓屋村為擁有600年歷史的傳統居住地區，完整保持著朝鮮時代上流社會曾居住的瓦房與舊巷道，依據米其林旅遊指南描述，令人聯想到從中世紀開始王公貴族們住宅聚集的巴黎左岸的貴族資本主義傳統。換上古代傳統的禮服，您可成為最佳男女主角，於北村韓屋村捕捉美麗的倩影。※預計停留時間：從換裝開始到結束大約2小時※※若遇雨天，則改由室內韓服體驗替代※【近明洞】Sollago Myeongdong Hotel & Residence 或 Travelodge Myeongdong Euljiro 或 Travelodge Myeongdong Namsan 或 同級安排入住．Hotel Marinabay Seoul 或 Ramada Encore by Wyndham Gimpo Han River Hotel 或 同級Ramada Encore by Wyndham Gimpo Han River HotelRamada Encore by Wyndham Gimpo Han River HotelRamada Encore by Wyndham Gimpo Han River HotelHotel Marinabay SeoulHotel Marinabay SeoulHotel Marinabay SeoulTravelodge Myeongdong EuljiroTravelodge Myeongdong EuljiroTravelodge Myeongdong NamsanSollago Myeongdong Hotel & ResidenceSollago Myeongdong Hotel & ResidenceTravelodge Myeongdong Namsan江華斜坡滑車速度感與刺激感（含乙次券）江華島．故事小路～韓屋聖堂融名東西洋建築風格南怡島雪境＋水杉林道四季皆美江華景觀纜車速度感與刺激感青瓦臺含入內參觀（照片來源：韓國觀光公社）三清洞藝文巷弄古今融合弘大商圈全日自由活動建議可自行安排前往首爾市的年輕人，在選定約會場所時，最常選擇的就是弘大、梨大、江南等地方。以美術大學聞名的弘益大學一帶，附近有許多外國人聚集的咖啡廳和PUB，是結合青春與藝術的空間，又被譽為畢卡索街。這裡有許多風格獨特的咖啡廳，融合成異國情調，光在這裡散步就能讓人完全沉浸到藝術的氣氛中。首爾明洞商圈全日自由活動建議可自行安排前往來到了流行時尚物品與化妝品的天堂《首爾明洞》。可解散自由玩樂逛街去。位於首爾市中心，是韓國代表性的購物街，不僅可以購買飾品、鞋類、服裝，雜貨和化妝品，中高價的商品在明洞也都可以找得到。雖然大型有名的賣場就在主要大馬路邊，但是只要再走進去兩側的小巷裡，就會發現也有不少打折拍賣的店家喔！明洞最大的優點就是能夠享受在戶外逛街購物的休閒自在，而且各種款式和尺寸的商品應有盡有，使它成為逛街的首選，必去的景點，並讓購物客都能留下美好的記憶。東大門綜合市場全日自由活動建議自行安排此地聚集有百貨、食品、書籍、家電用品…等生活必需品，為一整體性的批發市場，商品眾多豐富且價格優惠。在廣場的大帳棚內的「帳棚攤子」，有許多韓國的風味小吃，令人垂涎三尺，您可在此享用美食及享受購物樂趣。LOTTE Mart全日自由活動建議可自行安排前往最後衝刺血拼去【樂天超市LotteMart】～韓國三大連鎖超市之一，屬樂天集團旗下的品牌，是以平實的價格販售食品、加工食品、生活用品、服飾配件、電子用品等各式生活必需品的大型商場。時尚彩妝店購物站 停留40分鐘~1小時◆ 米其林推薦【百年土種】蔘雞湯（餐標：韓幣14,000/人）◆ 嚴選韓式風味1．【澤家】澎湃海鮮餐（餐標：韓幣20,000/人）2．【明倫進士】韓式碳烤豬排吃到飽（餐標：韓幣19,900/人）3．【名品】石鍋拌飯+涮涮鍋（餐標：韓幣12,000/人）◆ 美食100選【湖原】春川辣炒雞+炒年糕+金玉炒飯（餐標：韓幣9,000/人）人蔘雞風味餐碳烤豬排吃到飽春川辣炒雞+炒年糕+金玉炒飯澎湃海鮮餐其他備註行程費用不包含以下項1. 個人新辦護照費用。2. 旅遊平安保險及旅遊不便險。3. 韓國電子旅行許可（K-ETA）或韓國簽證代辦費用。(為慶祝韓國旅遊年潛相關費用（若需要請另詢報價）【出發日期】天天出發※出發日期皆可調整，可先下單或加入LINE好友，由專業服務人員協助調整【建議航班】 【去程】 CI120 桃園機場 08:15 :airplane: 那霸機場 10:45 或 【去程】 JX870 桃園機場 12:00 :airplane: 那霸機場 14:25 【回程】 CI121 那霸機場 11:55 :airplane: 桃園機場 12:35 【回程】 JX871 那霸機場 15:35 :airplane: 桃園機場 16:20 （設定航班僅供參考，您可自行選擇航空公司跟航班，由專業服務人員另行報價） ◎航班時間若有變動請依航空公司公佈為準 【飯店設定】以交通方便地理位置佳或是CP值高價格優惠的商務旅館為優先首選【車款說明】ハイエースHIACEハイエースHIACE車款基本為10人左右車款，考慮座位舒適與行李問題，以６人一車乘坐為主。如有人數不同，可詢問其他車款報價，歡迎洽詢專員：※ALPHARD車款，以4人一車乘坐為主※MICRO BUS車款，以13人一車乘坐為主~圖片車款僅供參考，實際以旅行社最後調派確認為主，還請多多包涵。~❖戀之島：古宇利島~古宇利大橋、心型岩、海洋塔~位於沖繩本部半島北面海域的古宇利島是座美麗的珊瑚礁島，有「戀之島」的美名，島上流傳一神話，在古代有一男一女從天而降來到此座島嶼，彼此裸身在此生活，在一次出海捕魚見到儒艮交配而意識到男女有別，才以葉遮住重要部位，兩人後來便相戀生子，其後代即是琉球人的祖先，有如沖繩版的亞當與夏娃，戀之島的美名也自此傳開。 來到古宇利島，可以體驗到蔚藍的海景、美味的海膽、浪漫的戀愛氣氛，驅車馳騁古宇利橋上，兩側海水深淺濃淡的漸層色彩美得令人驚嘆，沿著海濱繞行島嶼一圈車程僅約15分鐘，但別忘了停下來休憩玩樂，島的南側有不少食堂、咖啡廳，夏季來訪時千萬別錯過新鮮的海膽蓋飯，而東側的古宇利海洋塔還能享用到熱騰騰的烘烤披薩，北海岸則擁有細白的沙灘，其中Tiinu海灘（ティーヌ浜）上有顆心型的海蝕岩，日本偶像團體「嵐」也曾為JAL拍攝宣傳廣告到此取景，因而吸引許多戀人和遊客前來。❖美麗海水族館沖繩美麗海水族館座落在本部半島的沿海地帶，為沖繩海洋博公園所屬的館區，館內設有亞洲地區規模數一數二的巨大水族觀賞槽，並且成功復育鯨鯊、飼育珊瑚等海洋生物，兼具研究與觀賞職能，是園區最受歡迎的觀光景點，來到這裡可以享受漫步在海底隧道的美妙感覺，獲得前所未有的海洋探索體驗。 水族館展現沖繩海域美麗的海洋生態，館內飼育800多種海洋生物，並規劃大海的召喚、珊瑚礁之旅、黑潮之旅、深海之旅4大主題，營造出十足的海洋氛圍，由上至下的參觀動線，帶領遊客穿過海底隧道進入深海情境中。 漫步海洋觀賞區，抬頭仰望便能見到魚群悠游，而在「黑潮之旅」展區的水族觀賞槽，長27公尺、寬35公尺、高10公尺，總容積為7500立方公尺，規模乃亞洲最大，水槽內育養70多種生物，鯨鯊和鬼蝠魟則是最受注目的水族明星，遊客可以站在觀賞槽前一邊欣賞他們氣勢萬千的悠游英姿，一邊感受海洋的壯麗。❖波上宮波上宮為琉球八社之一，也是八社中唯一被列為官幣小社（接受官方奉獻的官社）的神社。神社座落在那霸海岸、矗立於崖上，其所處的崖下就是波之上海灘，紅瓦神社傍著沙灘浪濤，這樣的景觀顯得格外特別。 作為琉球八社中最高社格的神社，波上宮被視為沖繩總鎮守，過往是為祈求風調雨順、漁獲豐收而在臨海的珊瑚礁岩上建立，其後國王也會於每年正月到此參拜，現今神社受日本神道和熊野信仰影響，主祭神為伊邪那美大神和熊野大神。 神社背海而座，赤紅的木造建築高築在崖上，遊客前往參拜，順著高升的地勢攀上石階會先通過兩座鳥居再至拜殿，拜殿前有一對沖繩風獅爺會迎接參拜者，而拜殿後即為本殿。來到這裡不但能觀賞建築藝術，遊客也可求籤、寫繪馬祈福，或者購買御守，而後還能到崖下的波之上海灘玩水遊憩。❖全日本最大的鐘乳石洞：玉泉洞全日本最大的鐘乳石洞「玉泉洞」位於沖繩世界文化王國內，進入園區後就能看到入口。規劃完善的參觀步道帶領遊客走入這擁有30萬年歷史的自然奇蹟，這裡擁有超過100萬支鐘乳石，許多鐘乳石都有千百前的歷史，遊客可欣賞各式各樣奇形怪狀的鐘乳石，有的旁邊還立有牌子，上面寫著它們的名字呢。 玉泉洞全長雖然有5000公尺，但目前僅開放其中的890公尺供人參觀，其他部分皆做學術研究之用；這個洞穴由珊瑚及琉球石灰岩構成，再加上多雨的熱帶氣候，鐘乳石生長速度算是很快的，3年時間就能長出1釐米，現在也持續成長中。按此加入LINE好友\", \"PROD_NAME\": \"客製｜沖繩青之洞窟浮潛.貓島奧武島.古宇利.波上宮.美麗海水族館.迷你小團四日【專屬包車】※不含機票\", \"IMAGEURL\": \"https://static.liontech.com.tw/cmspic/PIC2303-000735/M_PIC2303-000735.jpg\", \"PROVIDER\": \"\", \"SHIP_PRICE\": 0}. Error: Expecting ',' delimiter: line 1 column 219 (char 218)\n",
      "JSONDecodeError in line: {\"WEB\": 自2023/04/01~2024/12/31，包含中華民國護照在內22個國家暫免K-ETA。)查詢網站：https://www.k-eta.go.kr/portal/board/viewboarddetail.do?bbsSn=1498994. 純係私人之消費：如行李超重費、自購商品、飲料酒類、洗衣、電話、電報及私人交通費。5. 一經確認後如個人因素取消或被拒絕入境韓國，將無法申請退費。6. 單人房差4晚，請洽業務確認加價費用。7. 為維護旅客本人及其它團員之旅遊權益，如一位大人帶一位小孩參團者，小孩請選擇為佔床；如一位大人帶一位嬰兒參團者，請需求指定單人房。其他備註◆入境資訊1、自2022年8月4日起，持中華民國台灣護照者可以申請電子旅遊許可（K-ETA）免簽證入境韓國，入境者須自行最遲於搭機72小時前完成線上申請。K-ETA乙次申請的使用效期為兩年，可多次使用。(為慶祝韓國旅遊年自2023/04/01~2024/12/31，包含中華民國護照在內22個國家暫免K-ETA。)查詢網站：https://www.k-eta.go.kr/portal/board/viewboarddetail.do?bbsSn=1498992、韓國政府為防止傳染病傳播，自2024年1月1日起恢復入境前填寫「Q-CODE」系統之措施，自台灣入境韓國之民眾須在入境時填寫「紙本健康狀態問卷」，或事先在Q-CODE網頁填寫個人資料及健康狀況等資訊。（網址：https://cov19ent. kdca.go.kr）。3、不論有無接種疫苗，皆免隔離，也免提交入境前及入境1日內PCR報告。K-ETA申請連結K-ETA申請連結K-ETA申請連結請點韓國入境須知請點韓國入境須知請點韓國入境須知請點Q CODE申請中文Q CODE申請中文Q CODE申請中文影片說明請點◆台灣入境規範及台灣-隔離政策★【特別說明】有關飛機上之特殊餐食(例如：兒童餐、素食餐...等)，請於航班起飛時間2個工作日前向您的業務員提出需求，航班起飛2個工作日以內(包含機場CHECK-IN手續時)，因航空公司作業因素，恕無法接受變更，敬請了解。★【特別說明】座位安排係由航空公司調度，同行者座位不一定能相鄰，敬請了解。\", \"PROD_NAME\": \"慢遊首爾半自助｜韓冬滑雪.一日自由活動.連住近明洞兩晚自由逛.南怡島雪境.江華斜坡滑車.穿韓服遊韓屋(一站彩妝購物)五日\", \"IMAGEURL\": \"https://static.liontech.com.tw/cmspic/PIC1710-005047/M_PIC1710-005047.jpg\", \"PROVIDER\": \"\", \"SHIP_PRICE\": 0}. Error: Expecting value: line 1 column 9 (char 8)\n",
      "數據清理完成，已儲存至 ./cleaned_data.json\n",
      "未清理資料筆數: 4189，清理後資料筆數: 4189\n"
     ]
    }
   ],
   "source": [
    "import json\n",
    "import re\n",
    "from collections import OrderedDict\n",
    "\n",
    "# 載入 JSON 檔案（逐行讀取 JSON 物件）\n",
    "def load_json(file_path):\n",
    "    data = []\n",
    "    with open(file_path, 'r', encoding='utf-8') as file:\n",
    "        for line in file:\n",
    "            line = line.strip()\n",
    "            if not line:\n",
    "                continue  # 跳過空行\n",
    "            try:\n",
    "                json_obj = json.loads(line)\n",
    "                data.append(json_obj)\n",
    "            except json.JSONDecodeError as e:\n",
    "                print(f\"JSONDecodeError in line: {line}. Error: {e}\")\n",
    "    return data\n",
    "\n",
    "# 數據清理的主函數\n",
    "def clean_data(data):\n",
    "    cleaned_data = []\n",
    "    for item in data:\n",
    "        cleaned_item = OrderedDict()\n",
    "        # 清理網頁 URL\n",
    "        cleaned_item['WEB'] = item.get('WEB', '').strip()\n",
    "        \n",
    "        # 清理價格欄位，轉為 float 類型，並確保有兩位小數\n",
    "        try:\n",
    "            cleaned_item['B2C_LOW_PRICE'] = round(float(item.get('B2C_LOW_PRICE', 0)), 2)\n",
    "        except ValueError:\n",
    "            cleaned_item['B2C_LOW_PRICE'] = 0.0\n",
    "        \n",
    "        # 清理產品描述，去除多餘空格、標點符號、重複內容等\n",
    "        cleaned_item['PROD_DESC'] = clean_text(item.get('PROD_DESC', ''))\n",
    "        \n",
    "        # 清理產品名稱，確保首字母大寫，去除多餘空格\n",
    "        cleaned_item['PROD_NAME'] = item.get('PROD_NAME', '').strip().title()\n",
    "        \n",
    "        # 清理其他可用字段並去除多餘空格\n",
    "        cleaned_item['PROVIDER'] = item.get('PROVIDER', '').strip()\n",
    "        try:\n",
    "            cleaned_item['SHIP_PRICE'] = round(float(item.get('SHIP_PRICE', 0)), 2)\n",
    "        except ValueError:\n",
    "            cleaned_item['SHIP_PRICE'] = 0.0\n",
    "        \n",
    "        # 將清理後的資料加入結果清單\n",
    "        cleaned_data.append(cleaned_item)\n",
    "    return cleaned_data\n",
    "\n",
    "# 文字清理函數：去除特殊符號、多餘空格、重複的文字片段等\n",
    "def clean_text(text):\n",
    "    # 去除重複段落（可按具體需求定制）\n",
    "    text = re.sub(r'(\\b\\w+\\b)(\\s+\\1\\b)+', r'\\1', text)\n",
    "    # 去除多餘的空格\n",
    "    text = ' '.join(text.split())\n",
    "    return text.strip()\n",
    "\n",
    "# 儲存清理後的 JSON\n",
    "def save_json(data, output_path):\n",
    "    with open(output_path, 'w', encoding='utf-8') as file:\n",
    "        json.dump(data, file, indent=4, ensure_ascii=False)\n",
    "\n",
    "# 主程式執行流程\n",
    "def main():\n",
    "    input_file = './etkt-20240919(1).json'  # 請換成您的 JSON 檔案路徑\n",
    "    output_file = './cleaned_data.json'\n",
    "    \n",
    "    data = load_json(input_file)\n",
    "    if data:  # 確保資料正確載入\n",
    "        cleaned_data = clean_data(data)\n",
    "        save_json(cleaned_data, output_file)\n",
    "        print(f'數據清理完成，已儲存至 {output_file}')\n",
    "        print(f'未清理資料筆數: {len(data)}，清理後資料筆數: {len(cleaned_data)}')\n",
    "    else:\n",
    "        print('無法載入資料，請檢查 JSON 檔案格式。')\n",
    "\n",
    "if __name__ == \"__main__\":\n",
    "    main()"
   ]
  },
  {
   "cell_type": "markdown",
   "metadata": {},
   "source": [
    "### 資料清洗"
   ]
  },
  {
   "cell_type": "markdown",
   "metadata": {},
   "source": [
    "#去除重複項目"
   ]
  },
  {
   "cell_type": "code",
   "execution_count": 6,
   "metadata": {},
   "outputs": [
    {
     "name": "stdout",
     "output_type": "stream",
     "text": [
      "原始資料筆數: 4189\n",
      "清理後資料筆數: 4100\n",
      "刪除了 89 筆重複資料\n",
      "重複項目已去除，清理後的資料已存檔。\n"
     ]
    }
   ],
   "source": [
    "import json\n",
    "\n",
    "# 讀取JSON檔案\n",
    "with open('./cleaned_data.json', 'r', encoding='utf-8') as file:\n",
    "    data = json.load(file)\n",
    "\n",
    "# 顯示原始資料筆數\n",
    "original_count = len(data)\n",
    "print(f\"原始資料筆數: {original_count}\")\n",
    "\n",
    "# 使用set來去除重複項，並保持資料結構\n",
    "seen = set()\n",
    "cleaned_data = []\n",
    "for item in data:\n",
    "    # 將每個項目轉換為字串進行比較，因為set無法直接處理字典\n",
    "    item_tuple = tuple(sorted(item.items()))\n",
    "    if item_tuple not in seen:\n",
    "        seen.add(item_tuple)\n",
    "        cleaned_data.append(item)\n",
    "\n",
    "# 顯示清理後的資料筆數\n",
    "cleaned_count = len(cleaned_data)\n",
    "print(f\"清理後資料筆數: {cleaned_count}\")\n",
    "print(f\"刪除了 {original_count - cleaned_count} 筆重複資料\")\n",
    "\n",
    "# 將清理後的資料寫回新的JSON檔案\n",
    "with open('./cleaned_data 2.json', 'w', encoding='utf-8') as file:\n",
    "    json.dump(cleaned_data, file, ensure_ascii=False, indent=4)\n",
    "\n",
    "print(\"重複項目已去除，清理後的資料已存檔。\")"
   ]
  },
  {
   "cell_type": "markdown",
   "metadata": {},
   "source": [
    "#刪除缺失值"
   ]
  },
  {
   "cell_type": "code",
   "execution_count": 7,
   "metadata": {},
   "outputs": [
    {
     "name": "stdout",
     "output_type": "stream",
     "text": [
      "處理後資料筆數: 4100\n",
      "已根據條件清理資料並儲存至新檔案。\n"
     ]
    }
   ],
   "source": [
    "import json\n",
    "\n",
    "# 讀取JSON檔案\n",
    "with open('./cleaned_data 2.json', 'r', encoding='utf-8') as file:\n",
    "    data = json.load(file)\n",
    "\n",
    "# 遍歷每個物件，進行條件檢查和刪除\n",
    "for item in data:\n",
    "    if item.get(\"PROVIDER\") == \"\" and item.get(\"SHIP_PRICE\") == 0.0:\n",
    "        # 如果 PROVIDER 為空字串，SHIP_PRICE 為0.0，則刪除這兩個鍵\n",
    "        del item[\"PROVIDER\"]\n",
    "        del item[\"SHIP_PRICE\"]\n",
    "\n",
    "# 顯示處理後的資料筆數\n",
    "print(f\"處理後資料筆數: {len(data)}\")\n",
    "\n",
    "# 將處理後的資料寫回新的JSON檔案\n",
    "with open('./cleaned_data 3.json', 'w', encoding='utf-8') as file:\n",
    "    json.dump(data, file, ensure_ascii=False, indent=4)\n",
    "\n",
    "print(\"已根據條件清理資料並儲存至新檔案。\")\n"
   ]
  }
 ],
 "metadata": {
  "kernelspec": {
   "display_name": "113-DL",
   "language": "python",
   "name": "python3"
  },
  "language_info": {
   "codemirror_mode": {
    "name": "ipython",
    "version": 3
   },
   "file_extension": ".py",
   "mimetype": "text/x-python",
   "name": "python",
   "nbconvert_exporter": "python",
   "pygments_lexer": "ipython3",
   "version": "3.11.9"
  }
 },
 "nbformat": 4,
 "nbformat_minor": 2
}

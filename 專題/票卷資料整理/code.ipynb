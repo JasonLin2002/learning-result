{
 "cells": [
  {
   "cell_type": "markdown",
   "metadata": {},
   "source": [
    "### 資料整理"
   ]
  },
  {
   "cell_type": "code",
   "execution_count": 9,
   "metadata": {},
   "outputs": [
    {
     "name": "stdout",
     "output_type": "stream",
     "text": [
      "數據清理完成，已儲存至 ./cleaned_data.json\n",
      "未清理資料筆數: 1039，清理後資料筆數: 1039\n"
     ]
    }
   ],
   "source": [
    "import json\n",
    "import re\n",
    "from collections import OrderedDict\n",
    "\n",
    "# 載入 JSON 檔案（逐行讀取 JSON 物件）\n",
    "def load_json(file_path):\n",
    "    data = []\n",
    "    with open(file_path, 'r', encoding='utf-8') as file:\n",
    "        for line in file:\n",
    "            line = line.strip()\n",
    "            if not line:\n",
    "                continue  # 跳過空行\n",
    "            try:\n",
    "                json_obj = json.loads(line)\n",
    "                data.append(json_obj)\n",
    "            except json.JSONDecodeError as e:\n",
    "                print(f\"JSONDecodeError in line: {line}. Error: {e}\")\n",
    "    return data\n",
    "\n",
    "# 數據清理的主函數\n",
    "def clean_data(data):\n",
    "    cleaned_data = []\n",
    "    for item in data:\n",
    "        cleaned_item = OrderedDict()\n",
    "        # 清理網頁 URL\n",
    "        cleaned_item['WEB'] = item.get('WEB', '').strip()\n",
    "        \n",
    "        # 清理價格欄位，轉為 float 類型，並確保有兩位小數\n",
    "        try:\n",
    "            cleaned_item['B2C_LOW_PRICE'] = round(float(item.get('B2C_LOW_PRICE', 0)), 2)\n",
    "        except ValueError:\n",
    "            cleaned_item['B2C_LOW_PRICE'] = 0.0\n",
    "        \n",
    "        # 清理產品描述，去除多餘空格、標點符號、重複內容等\n",
    "        cleaned_item['PROD_DESC'] = clean_text(item.get('PROD_DESC', ''))\n",
    "        \n",
    "        # 清理產品名稱，確保首字母大寫，去除多餘空格\n",
    "        cleaned_item['PROD_NAME'] = item.get('PROD_NAME', '').strip().title()\n",
    "        \n",
    "        # 清理其他可用字段並去除多餘空格\n",
    "        cleaned_item['PROVIDER'] = item.get('PROVIDER', '').strip()\n",
    "        try:\n",
    "            cleaned_item['SHIP_PRICE'] = round(float(item.get('SHIP_PRICE', 0)), 2)\n",
    "        except ValueError:\n",
    "            cleaned_item['SHIP_PRICE'] = 0.0\n",
    "        \n",
    "        # 將清理後的資料加入結果清單\n",
    "        cleaned_data.append(cleaned_item)\n",
    "    return cleaned_data\n",
    "\n",
    "# 文字清理函數：去除特殊符號、多餘空格、重複的文字片段等\n",
    "def clean_text(text):\n",
    "    # 去除重複段落（可按具體需求定制）\n",
    "    text = re.sub(r'(\\b\\w+\\b)(\\s+\\1\\b)+', r'\\1', text)\n",
    "    # 去除多餘的空格\n",
    "    text = ' '.join(text.split())\n",
    "    return text.strip()\n",
    "\n",
    "# 儲存清理後的 JSON\n",
    "def save_json(data, output_path):\n",
    "    with open(output_path, 'w', encoding='utf-8') as file:\n",
    "        json.dump(data, file, indent=4, ensure_ascii=False)\n",
    "\n",
    "# 主程式執行流程\n",
    "def main():\n",
    "    input_file = './etkt-20240919(1).json'  # 請換成您的 JSON 檔案路徑\n",
    "    output_file = './cleaned_data.json'\n",
    "    \n",
    "    data = load_json(input_file)\n",
    "    if data:  # 確保資料正確載入\n",
    "        cleaned_data = clean_data(data)\n",
    "        save_json(cleaned_data, output_file)\n",
    "        print(f'數據清理完成，已儲存至 {output_file}')\n",
    "        print(f'未清理資料筆數: {len(data)}，清理後資料筆數: {len(cleaned_data)}')\n",
    "    else:\n",
    "        print('無法載入資料，請檢查 JSON 檔案格式。')\n",
    "\n",
    "if __name__ == \"__main__\":\n",
    "    main()"
   ]
  },
  {
   "cell_type": "markdown",
   "metadata": {},
   "source": [
    "### 資料清洗"
   ]
  },
  {
   "cell_type": "markdown",
   "metadata": {},
   "source": [
    "#去除重複項目"
   ]
  },
  {
   "cell_type": "code",
   "execution_count": 10,
   "metadata": {},
   "outputs": [
    {
     "name": "stdout",
     "output_type": "stream",
     "text": [
      "原始資料筆數: 1039\n",
      "清理後資料筆數: 1039\n",
      "刪除了 0 筆重複資料\n",
      "重複項目已去除，清理後的資料已存檔。\n"
     ]
    }
   ],
   "source": [
    "import json\n",
    "\n",
    "# 讀取JSON檔案\n",
    "with open('./cleaned_data.json', 'r', encoding='utf-8') as file:\n",
    "    data = json.load(file)\n",
    "\n",
    "# 顯示原始資料筆數\n",
    "original_count = len(data)\n",
    "print(f\"原始資料筆數: {original_count}\")\n",
    "\n",
    "# 使用set來去除重複項，並保持資料結構\n",
    "seen = set()\n",
    "cleaned_data = []\n",
    "for item in data:\n",
    "    # 將每個項目轉換為字串進行比較，因為set無法直接處理字典\n",
    "    item_tuple = tuple(sorted(item.items()))\n",
    "    if item_tuple not in seen:\n",
    "        seen.add(item_tuple)\n",
    "        cleaned_data.append(item)\n",
    "\n",
    "# 顯示清理後的資料筆數\n",
    "cleaned_count = len(cleaned_data)\n",
    "print(f\"清理後資料筆數: {cleaned_count}\")\n",
    "print(f\"刪除了 {original_count - cleaned_count} 筆重複資料\")\n",
    "\n",
    "# 將清理後的資料寫回新的JSON檔案\n",
    "with open('./cleaned_data 2.json', 'w', encoding='utf-8') as file:\n",
    "    json.dump(cleaned_data, file, ensure_ascii=False, indent=4)\n",
    "\n",
    "print(\"重複項目已去除，清理後的資料已存檔。\")"
   ]
  },
  {
   "cell_type": "markdown",
   "metadata": {},
   "source": [
    "#刪除缺失值"
   ]
  },
  {
   "cell_type": "code",
   "execution_count": 11,
   "metadata": {},
   "outputs": [
    {
     "name": "stdout",
     "output_type": "stream",
     "text": [
      "處理後資料筆數: 1039\n",
      "已根據條件清理資料並儲存至新檔案。\n"
     ]
    }
   ],
   "source": [
    "import json\n",
    "\n",
    "# 讀取JSON檔案\n",
    "with open('./cleaned_data.json', 'r', encoding='utf-8') as file:\n",
    "    data = json.load(file)\n",
    "\n",
    "# 遍歷每個物件，進行條件檢查和刪除\n",
    "for item in data:\n",
    "    if item.get(\"PROVIDER\") == \"\" and item.get(\"SHIP_PRICE\") == 0.0:\n",
    "        # 如果 PROVIDER 為空字串，SHIP_PRICE 為0.0，則刪除這兩個鍵\n",
    "        del item[\"PROVIDER\"]\n",
    "        del item[\"SHIP_PRICE\"]\n",
    "\n",
    "# 顯示處理後的資料筆數\n",
    "print(f\"處理後資料筆數: {len(data)}\")\n",
    "\n",
    "# 將處理後的資料寫回新的JSON檔案\n",
    "with open('./cleaned_data 3.json', 'w', encoding='utf-8') as file:\n",
    "    json.dump(data, file, ensure_ascii=False, indent=4)\n",
    "\n",
    "print(\"已根據條件清理資料並儲存至新檔案。\")\n"
   ]
  }
 ],
 "metadata": {
  "kernelspec": {
   "display_name": "DL-113",
   "language": "python",
   "name": "python3"
  },
  "language_info": {
   "codemirror_mode": {
    "name": "ipython",
    "version": 3
   },
   "file_extension": ".py",
   "mimetype": "text/x-python",
   "name": "python",
   "nbconvert_exporter": "python",
   "pygments_lexer": "ipython3",
   "version": "3.10.13"
  }
 },
 "nbformat": 4,
 "nbformat_minor": 2
}

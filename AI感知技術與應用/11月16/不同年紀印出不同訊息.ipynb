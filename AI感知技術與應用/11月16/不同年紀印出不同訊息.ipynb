{
 "cells": [
  {
   "cell_type": "code",
   "execution_count": 1,
   "metadata": {},
   "outputs": [
    {
     "name": "stdout",
     "output_type": "stream",
     "text": [
      " young\n"
     ]
    }
   ],
   "source": [
    "age = int(input( 'How old are you ?'))\n",
    "if age%2 != 0 or age < 1:\n",
    "    print(' young')\n",
    "elif age2 == 0 and age>=2 and age<=5:\n",
    "    print(' not young')\n",
    "elif age2 == 0 and age>=6 and age<=20:\n",
    "    print('young')\n",
    "elif ageg2 == 0 and age>20 and age<30:\n",
    "    print(' not young')\n",
    "else:\n",
    "    print(' not found')"
   ]
  }
 ],
 "metadata": {
  "kernelspec": {
   "display_name": "Python 3",
   "language": "python",
   "name": "python3"
  },
  "language_info": {
   "codemirror_mode": {
    "name": "ipython",
    "version": 3
   },
   "file_extension": ".py",
   "mimetype": "text/x-python",
   "name": "python",
   "nbconvert_exporter": "python",
   "pygments_lexer": "ipython3",
   "version": "3.9.10"
  },
  "orig_nbformat": 4,
  "vscode": {
   "interpreter": {
    "hash": "c5d269574d350b051d2fab1614ebbbf2fa09728239c894b53d63951c9539b734"
   }
  }
 },
 "nbformat": 4,
 "nbformat_minor": 2
}

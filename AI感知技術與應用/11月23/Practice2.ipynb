{
 "cells": [
  {
   "cell_type": "code",
   "execution_count": null,
   "metadata": {},
   "outputs": [],
   "source": [
    "import pandas as pd\n",
    "data = pd.read_csv('train.csv')\n",
    "data = data.drop(columns=['Name', 'Ticket', 'Cabin'])\n",
    "\n",
    "typeEmbarked = list(set(data['Embarked']))\n",
    "\n",
    "for i in range(len(typeEmbarked)):\n",
    "    print(typeEmbarked[i])\n",
    "    row = data['Embarked'] == typeEmbarked[i]\n",
    "    data.loc[row, 'Embarked'] = i\n",
    "\n",
    "typeSex = list(set(data['Sex']))\n",
    "\n",
    "for i in range(len(typeSex)):\n",
    "    print(typeSex[i])\n",
    "    rows = data['Sex'] == typeSex[i]\n",
    "    data.loc[rows, 'Sex'] = i\n",
    "\n",
    "data = data.fillna(999)\n",
    "\n",
    "X_train = data[:750]\n",
    "X_test = data[750:]\n",
    "\n",
    "y_train = X_train.pop('Survived')\n",
    "\n",
    "clf = tree.DecisionTreeClassifier()\n",
    "\n",
    "# Train the classifier\n",
    "clf.fit(X_train, y_train)\n",
    "\n",
    "from sklearn.metrics import accuracy_score, recall_score\n",
    "\n",
    "y_test = X_test.pop('Survived')\n",
    "\n",
    "y_pred = clf.predict(X_test)\n",
    "\n",
    "print(accuracy_score(y_test, y_pred))\n",
    "print(recall_score(y_test, y_pred))"
   ]
  },
  {
   "attachments": {},
   "cell_type": "markdown",
   "metadata": {},
   "source": [
    "Q:如何進一步改善原先預測值，提高準確率和召回率？\n",
    "A:\n",
    "新增特徵：考慮是否有其他可能有助於預測的特徵。例如，在鐵達尼號數據集中，可以從姓名中提取稱謂（如Mr., Mrs., Miss）作為一個新特徵。\n",
    "特徵選擇：移除不重要或冗餘的特徵。可以利用特徵重要性評分來識別和移除不顯著的特徵。"
   ]
  }
 ],
 "metadata": {
  "kernelspec": {
   "display_name": "Python 3",
   "language": "python",
   "name": "python3"
  },
  "language_info": {
   "codemirror_mode": {
    "name": "ipython",
    "version": 3
   },
   "file_extension": ".py",
   "mimetype": "text/x-python",
   "name": "python",
   "nbconvert_exporter": "python",
   "pygments_lexer": "ipython3",
   "version": "3.9.10 (tags/v3.9.10:f2f3f53, Jan 17 2022, 15:14:21) [MSC v.1929 64 bit (AMD64)]"
  },
  "orig_nbformat": 4,
  "vscode": {
   "interpreter": {
    "hash": "c5d269574d350b051d2fab1614ebbbf2fa09728239c894b53d63951c9539b734"
   }
  }
 },
 "nbformat": 4,
 "nbformat_minor": 2
}
